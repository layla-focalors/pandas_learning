{
 "cells": [
  {
   "cell_type": "code",
   "execution_count": 1,
   "id": "08684145",
   "metadata": {},
   "outputs": [],
   "source": [
    "text = \"레일라\""
   ]
  },
  {
   "cell_type": "code",
   "execution_count": 2,
   "id": "94b492f3",
   "metadata": {},
   "outputs": [],
   "source": [
    "import re"
   ]
  },
  {
   "cell_type": "code",
   "execution_count": 3,
   "id": "75839978",
   "metadata": {},
   "outputs": [
    {
     "data": {
      "text/plain": [
       "<re.Match object; span=(0, 3), match='레일라'>"
      ]
     },
     "execution_count": 3,
     "metadata": {},
     "output_type": "execute_result"
    }
   ],
   "source": [
    "re.match(pattern='\\D{3}', string = '레일라')"
   ]
  },
  {
   "cell_type": "code",
   "execution_count": 5,
   "id": "38d1ab7b",
   "metadata": {},
   "outputs": [
    {
     "data": {
      "text/plain": [
       "<re.Match object; span=(0, 13), match='Layla us Cute'>"
      ]
     },
     "execution_count": 5,
     "metadata": {},
     "output_type": "execute_result"
    }
   ],
   "source": [
    "re.search(pattern='\\D{5}\\s\\D{2}\\s\\D{4}', string = 'Layla us Cute')"
   ]
  },
  {
   "cell_type": "code",
   "execution_count": 6,
   "id": "e67de7f8",
   "metadata": {},
   "outputs": [
    {
     "data": {
      "text/plain": [
       "<re.Match object; span=(0, 13), match='Layla us Cute'>"
      ]
     },
     "execution_count": 6,
     "metadata": {},
     "output_type": "execute_result"
    }
   ],
   "source": [
    "re.match(pattern='\\D{5}\\s\\D{2}\\s\\D{4}', string = 'Layla us Cute')"
   ]
  },
  {
   "cell_type": "code",
   "execution_count": 7,
   "id": "e28ee654",
   "metadata": {},
   "outputs": [
    {
     "data": {
      "text/plain": [
       "<re.Match object; span=(0, 13), match='Layla us Cute'>"
      ]
     },
     "execution_count": 7,
     "metadata": {},
     "output_type": "execute_result"
    }
   ],
   "source": [
    "re.fullmatch(pattern='\\D{5}\\s\\D{2}\\s\\D{4}', string = 'Layla us Cute')"
   ]
  },
  {
   "cell_type": "code",
   "execution_count": 8,
   "id": "bbed7905",
   "metadata": {},
   "outputs": [
    {
     "data": {
      "text/plain": [
       "['Layla us Cute']"
      ]
     },
     "execution_count": 8,
     "metadata": {},
     "output_type": "execute_result"
    }
   ],
   "source": [
    "re.findall(pattern='\\D{5}\\s\\D{2}\\s\\D{4}', string = 'Layla us Cute')"
   ]
  },
  {
   "cell_type": "code",
   "execution_count": 9,
   "id": "d1516ed4",
   "metadata": {},
   "outputs": [
    {
     "data": {
      "text/plain": [
       "['', '']"
      ]
     },
     "execution_count": 9,
     "metadata": {},
     "output_type": "execute_result"
    }
   ],
   "source": [
    "re.split(pattern='\\D{5}\\s\\D{2}\\s\\D{4}', string = 'Layla us Cute')"
   ]
  },
  {
   "cell_type": "code",
   "execution_count": 10,
   "id": "00f0b1fb",
   "metadata": {},
   "outputs": [
    {
     "data": {
      "text/plain": [
       "<callable_iterator at 0x24ae33173d0>"
      ]
     },
     "execution_count": 10,
     "metadata": {},
     "output_type": "execute_result"
    }
   ],
   "source": [
    "re.finditer(pattern='\\D{5}\\s\\D{2}\\s\\D{4}', string = 'Layla us Cute')"
   ]
  },
  {
   "cell_type": "code",
   "execution_count": 11,
   "id": "cab0d34d",
   "metadata": {},
   "outputs": [
    {
     "data": {
      "text/plain": [
       "'-'"
      ]
     },
     "execution_count": 11,
     "metadata": {},
     "output_type": "execute_result"
    }
   ],
   "source": [
    "re.sub('\\D{5}\\s\\D{2}\\s\\D{4}', '-', string = 'Layla us Cute')"
   ]
  },
  {
   "cell_type": "code",
   "execution_count": 12,
   "id": "ae103e2d",
   "metadata": {},
   "outputs": [],
   "source": [
    "import pandas as pd"
   ]
  },
  {
   "cell_type": "code",
   "execution_count": 13,
   "id": "afc0ca9d",
   "metadata": {},
   "outputs": [],
   "source": [
    "df = pd.read_csv('../data/phone.csv')"
   ]
  },
  {
   "cell_type": "code",
   "execution_count": 14,
   "id": "e49250d5",
   "metadata": {},
   "outputs": [
    {
     "data": {
      "text/html": [
       "<div>\n",
       "<style scoped>\n",
       "    .dataframe tbody tr th:only-of-type {\n",
       "        vertical-align: middle;\n",
       "    }\n",
       "\n",
       "    .dataframe tbody tr th {\n",
       "        vertical-align: top;\n",
       "    }\n",
       "\n",
       "    .dataframe thead th {\n",
       "        text-align: right;\n",
       "    }\n",
       "</style>\n",
       "<table border=\"1\" class=\"dataframe\">\n",
       "  <thead>\n",
       "    <tr style=\"text-align: right;\">\n",
       "      <th></th>\n",
       "      <th>Phone</th>\n",
       "    </tr>\n",
       "  </thead>\n",
       "  <tbody>\n",
       "    <tr>\n",
       "      <th>0</th>\n",
       "      <td>010-6256-3768</td>\n",
       "    </tr>\n",
       "    <tr>\n",
       "      <th>1</th>\n",
       "      <td>010.4356.3456</td>\n",
       "    </tr>\n",
       "    <tr>\n",
       "      <th>2</th>\n",
       "      <td>+82  (031) 539 1280</td>\n",
       "    </tr>\n",
       "    <tr>\n",
       "      <th>3</th>\n",
       "      <td>02-1111-2222</td>\n",
       "    </tr>\n",
       "    <tr>\n",
       "      <th>4</th>\n",
       "      <td>010 7657 3022</td>\n",
       "    </tr>\n",
       "    <tr>\n",
       "      <th>5</th>\n",
       "      <td>+82  (02) 456-4444</td>\n",
       "    </tr>\n",
       "    <tr>\n",
       "      <th>6</th>\n",
       "      <td>02 756 4566</td>\n",
       "    </tr>\n",
       "    <tr>\n",
       "      <th>7</th>\n",
       "      <td>064 245 2345</td>\n",
       "    </tr>\n",
       "  </tbody>\n",
       "</table>\n",
       "</div>"
      ],
      "text/plain": [
       "                 Phone\n",
       "0        010-6256-3768\n",
       "1        010.4356.3456\n",
       "2  +82  (031) 539 1280\n",
       "3         02-1111-2222\n",
       "4        010 7657 3022\n",
       "5   +82  (02) 456-4444\n",
       "6          02 756 4566\n",
       "7         064 245 2345"
      ]
     },
     "execution_count": 14,
     "metadata": {},
     "output_type": "execute_result"
    }
   ],
   "source": [
    "df"
   ]
  },
  {
   "cell_type": "code",
   "execution_count": 15,
   "id": "b1346414",
   "metadata": {},
   "outputs": [],
   "source": [
    "star = list(df['Phone'])"
   ]
  },
  {
   "cell_type": "code",
   "execution_count": 16,
   "id": "2fe39ad0",
   "metadata": {},
   "outputs": [
    {
     "data": {
      "text/plain": [
       "['010-6256-3768',\n",
       " '010.4356.3456',\n",
       " '+82  (031) 539 1280',\n",
       " '02-1111-2222',\n",
       " '010 7657 3022',\n",
       " '+82  (02) 456-4444',\n",
       " '02 756 4566',\n",
       " '064 245 2345']"
      ]
     },
     "execution_count": 16,
     "metadata": {},
     "output_type": "execute_result"
    }
   ],
   "source": [
    "star"
   ]
  },
  {
   "cell_type": "code",
   "execution_count": 22,
   "id": "2cab350c",
   "metadata": {},
   "outputs": [
    {
     "name": "stdout",
     "output_type": "stream",
     "text": [
      "010-6256-3768\n",
      "010.4356.3456\n",
      "+82  (031) 539 1280\n",
      "02-1111-2222\n",
      "010 7657 3022\n",
      "+82  (02) 456-4444\n",
      "02 756 4566\n",
      "064 245 2345\n"
     ]
    }
   ],
   "source": [
    "for i in star:\n",
    "    ax = re.match(pattern='(\\+)?\\d{2,3}[-.\\s](\\s\\(\\d{2,3}\\)\\s)?\\d{3,4}[-.\\s]\\d{4}', string = str(i))\n",
    "    print(i if bool(ax) else \"error\")"
   ]
  },
  {
   "cell_type": "code",
   "execution_count": 27,
   "id": "faa5c8a9",
   "metadata": {},
   "outputs": [
    {
     "name": "stdout",
     "output_type": "stream",
     "text": [
      "error\n",
      "error\n",
      "error\n",
      "error\n",
      "error\n",
      "error\n",
      "error\n",
      "error\n"
     ]
    }
   ],
   "source": [
    "for i in star:\n",
    "    ax = re.match(pattern='(\\+)?\\d{2,3}[-.\\s](\\s\\(\\d{2,3}\\)\\s)?\\d{3,4}[-.\\s]\\d{4}', string = str(i))\n",
    "#     test\n",
    "    ax = False\n",
    "    print(i if bool(ax) else \"error\")"
   ]
  },
  {
   "cell_type": "code",
   "execution_count": 23,
   "id": "3d882b71",
   "metadata": {},
   "outputs": [],
   "source": [
    "loa = str(star)"
   ]
  },
  {
   "cell_type": "code",
   "execution_count": 26,
   "id": "f18b63c6",
   "metadata": {},
   "outputs": [
    {
     "data": {
      "text/plain": [
       "[('', ''),\n",
       " ('', ''),\n",
       " ('+', ' (031) '),\n",
       " ('', ''),\n",
       " ('', ''),\n",
       " ('+', ' (02) '),\n",
       " ('', ''),\n",
       " ('', '')]"
      ]
     },
     "execution_count": 26,
     "metadata": {},
     "output_type": "execute_result"
    }
   ],
   "source": [
    "re.findall(pattern='(\\+)?\\d{2,3}[-.\\s](\\s\\(\\d{2,3}\\)\\s)?\\d{3,4}[-.\\s]\\d{4}', string = loa)"
   ]
  },
  {
   "cell_type": "code",
   "execution_count": 25,
   "id": "e8010037",
   "metadata": {},
   "outputs": [],
   "source": [
    "for i in loa:\n",
    "    re.findall(pattern='(\\+)?\\d{2,3}[-.\\s](\\s\\(\\d{2,3}\\)\\s)?\\d{3,4}[-.\\s]\\d{4}', string = loa)"
   ]
  }
 ],
 "metadata": {
  "kernelspec": {
   "display_name": "Python 3 (ipykernel)",
   "language": "python",
   "name": "python3"
  },
  "language_info": {
   "codemirror_mode": {
    "name": "ipython",
    "version": 3
   },
   "file_extension": ".py",
   "mimetype": "text/x-python",
   "name": "python",
   "nbconvert_exporter": "python",
   "pygments_lexer": "ipython3",
   "version": "3.11.4"
  }
 },
 "nbformat": 4,
 "nbformat_minor": 5
}
