{
 "cells": [
  {
   "cell_type": "code",
   "execution_count": 1,
   "id": "4152bf8b",
   "metadata": {},
   "outputs": [],
   "source": [
    "text = \"레일라\""
   ]
  },
  {
   "cell_type": "code",
   "execution_count": 2,
   "id": "c7d1d535",
   "metadata": {},
   "outputs": [],
   "source": [
    "import re"
   ]
  },
  {
   "cell_type": "code",
   "execution_count": 3,
   "id": "40cfbf5a",
   "metadata": {},
   "outputs": [
    {
     "data": {
      "text/plain": [
       "<re.Match object; span=(0, 3), match='레일라'>"
      ]
     },
     "execution_count": 3,
     "metadata": {},
     "output_type": "execute_result"
    }
   ],
   "source": [
    "re.match(pattern='\\D{3}', string = '레일라')"
   ]
  },
  {
   "cell_type": "code",
   "execution_count": 5,
   "id": "52c7e372",
   "metadata": {},
   "outputs": [
    {
     "data": {
      "text/plain": [
       "<re.Match object; span=(0, 13), match='Layla us Cute'>"
      ]
     },
     "execution_count": 5,
     "metadata": {},
     "output_type": "execute_result"
    }
   ],
   "source": [
    "re.search(pattern='\\D{5}\\s\\D{2}\\s\\D{4}', string = 'Layla us Cute')"
   ]
  },
  {
   "cell_type": "code",
   "execution_count": 6,
   "id": "270240a2",
   "metadata": {},
   "outputs": [
    {
     "data": {
      "text/plain": [
       "<re.Match object; span=(0, 13), match='Layla us Cute'>"
      ]
     },
     "execution_count": 6,
     "metadata": {},
     "output_type": "execute_result"
    }
   ],
   "source": [
    "re.match(pattern='\\D{5}\\s\\D{2}\\s\\D{4}', string = 'Layla us Cute')"
   ]
  },
  {
   "cell_type": "code",
   "execution_count": 7,
   "id": "2be61758",
   "metadata": {},
   "outputs": [
    {
     "data": {
      "text/plain": [
       "<re.Match object; span=(0, 13), match='Layla us Cute'>"
      ]
     },
     "execution_count": 7,
     "metadata": {},
     "output_type": "execute_result"
    }
   ],
   "source": [
    "re.fullmatch(pattern='\\D{5}\\s\\D{2}\\s\\D{4}', string = 'Layla us Cute')"
   ]
  },
  {
   "cell_type": "code",
   "execution_count": 8,
   "id": "e59d7a40",
   "metadata": {},
   "outputs": [
    {
     "data": {
      "text/plain": [
       "['Layla us Cute']"
      ]
     },
     "execution_count": 8,
     "metadata": {},
     "output_type": "execute_result"
    }
   ],
   "source": [
    "re.findall(pattern='\\D{5}\\s\\D{2}\\s\\D{4}', string = 'Layla us Cute')"
   ]
  },
  {
   "cell_type": "code",
   "execution_count": 9,
   "id": "2ed8011c",
   "metadata": {},
   "outputs": [
    {
     "data": {
      "text/plain": [
       "['', '']"
      ]
     },
     "execution_count": 9,
     "metadata": {},
     "output_type": "execute_result"
    }
   ],
   "source": [
    "re.split(pattern='\\D{5}\\s\\D{2}\\s\\D{4}', string = 'Layla us Cute')"
   ]
  },
  {
   "cell_type": "code",
   "execution_count": 10,
   "id": "932f78a0",
   "metadata": {},
   "outputs": [
    {
     "data": {
      "text/plain": [
       "<callable_iterator at 0x24ae33173d0>"
      ]
     },
     "execution_count": 10,
     "metadata": {},
     "output_type": "execute_result"
    }
   ],
   "source": [
    "re.finditer(pattern='\\D{5}\\s\\D{2}\\s\\D{4}', string = 'Layla us Cute')"
   ]
  },
  {
   "cell_type": "code",
   "execution_count": 11,
   "id": "dc24b699",
   "metadata": {},
   "outputs": [
    {
     "data": {
      "text/plain": [
       "'-'"
      ]
     },
     "execution_count": 11,
     "metadata": {},
     "output_type": "execute_result"
    }
   ],
   "source": [
    "re.sub('\\D{5}\\s\\D{2}\\s\\D{4}', '-', string = 'Layla us Cute')"
   ]
  }
 ],
 "metadata": {
  "kernelspec": {
   "display_name": "Python 3 (ipykernel)",
   "language": "python",
   "name": "python3"
  },
  "language_info": {
   "codemirror_mode": {
    "name": "ipython",
    "version": 3
   },
   "file_extension": ".py",
   "mimetype": "text/x-python",
   "name": "python",
   "nbconvert_exporter": "python",
   "pygments_lexer": "ipython3",
   "version": "3.11.4"
  }
 },
 "nbformat": 4,
 "nbformat_minor": 5
}
