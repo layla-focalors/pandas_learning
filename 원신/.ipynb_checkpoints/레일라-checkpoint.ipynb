{
 "cells": [
  {
   "cell_type": "markdown",
   "id": "5a36d60b",
   "metadata": {},
   "source": [
    "### Desc for Layla\n",
    "\n",
    "레일라는 원신 게임의 캐릭터 중 하나로, 수메르 지역에 속해 있습니다¹. 그녀는 얼음 원소를 사용하는 캐릭터로, 한손검을 무기로 사용합니다³⁵. 그녀의 생일은 12월 19일이며, 그녀의 운명의 자리는 밤꾀꼬리자리입니다³⁵. 또한, 그녀는 르타와히스트 학부에 속해 있습니다³⁵.\n",
    "\n",
    "레일라는 내성적이고 수줍음이 많은 캐릭터로, 약간 졸린 눈을 가지고 있어 매력적인 아이입니다⁴. 그녀의 원소 전투 E스킬은 종려의 E스킬처럼 피해를 흡수하는 방어막을 활성화하며, Q스킬 원소 폭발, 별이 흐르는 요람의 꿈은 범위 내에 있는 적들에게 얼음 원소 피해를 지속적으로 입히는 설치물을 소환합니다⁴.\n",
    "\n",
    "레일라의 성유물 종결 스펙에 대한 가이드는 다음과 같습니다²:\n",
    "- 무기: 페보니우스 검\n",
    "- 성유물: 견고한 천암 세트\n",
    "- 주 옵션: 체력"
   ]
  },
  {
   "cell_type": "code",
   "execution_count": 1,
   "id": "e36243c8",
   "metadata": {},
   "outputs": [],
   "source": [
    "import datetime"
   ]
  },
  {
   "cell_type": "code",
   "execution_count": 2,
   "id": "2ec97ec0",
   "metadata": {},
   "outputs": [],
   "source": [
    "now = datetime.datetime.now()"
   ]
  },
  {
   "cell_type": "code",
   "execution_count": 3,
   "id": "fa4d6734",
   "metadata": {},
   "outputs": [
    {
     "data": {
      "text/plain": [
       "datetime.datetime(2023, 12, 17, 18, 4, 13, 694790)"
      ]
     },
     "execution_count": 3,
     "metadata": {},
     "output_type": "execute_result"
    }
   ],
   "source": [
    "now"
   ]
  },
  {
   "cell_type": "code",
   "execution_count": 4,
   "id": "f76f42a4",
   "metadata": {},
   "outputs": [
    {
     "name": "stdout",
     "output_type": "stream",
     "text": [
      "2023-12-17 18:04:13.694790\n"
     ]
    }
   ],
   "source": [
    "print(now)"
   ]
  },
  {
   "cell_type": "code",
   "execution_count": 5,
   "id": "4afa3118",
   "metadata": {},
   "outputs": [
    {
     "data": {
      "text/plain": [
       "'Sun Dec 17 18:04:13 2023'"
      ]
     },
     "execution_count": 5,
     "metadata": {},
     "output_type": "execute_result"
    }
   ],
   "source": [
    "now.strftime('%c')"
   ]
  },
  {
   "cell_type": "code",
   "execution_count": 6,
   "id": "0724383c",
   "metadata": {},
   "outputs": [
    {
     "data": {
      "text/plain": [
       "'06:04:13 PM'"
      ]
     },
     "execution_count": 6,
     "metadata": {},
     "output_type": "execute_result"
    }
   ],
   "source": [
    "now.strftime('%r')"
   ]
  },
  {
   "cell_type": "code",
   "execution_count": 7,
   "id": "f9a5a4a5",
   "metadata": {},
   "outputs": [
    {
     "data": {
      "text/plain": [
       "'Sun'"
      ]
     },
     "execution_count": 7,
     "metadata": {},
     "output_type": "execute_result"
    }
   ],
   "source": [
    "now.strftime('%a')"
   ]
  },
  {
   "cell_type": "code",
   "execution_count": 8,
   "id": "85dd87bd",
   "metadata": {},
   "outputs": [
    {
     "data": {
      "text/plain": [
       "'Sunday'"
      ]
     },
     "execution_count": 8,
     "metadata": {},
     "output_type": "execute_result"
    }
   ],
   "source": [
    "now.strftime('%A')"
   ]
  },
  {
   "cell_type": "code",
   "execution_count": 10,
   "id": "bde6bc97",
   "metadata": {},
   "outputs": [
    {
     "data": {
      "text/plain": [
       "'0'"
      ]
     },
     "execution_count": 10,
     "metadata": {},
     "output_type": "execute_result"
    }
   ],
   "source": [
    "now.strftime('%w')"
   ]
  },
  {
   "cell_type": "code",
   "execution_count": 11,
   "id": "4883d3e7",
   "metadata": {},
   "outputs": [
    {
     "data": {
      "text/plain": [
       "'17'"
      ]
     },
     "execution_count": 11,
     "metadata": {},
     "output_type": "execute_result"
    }
   ],
   "source": [
    "now.strftime('%d')"
   ]
  },
  {
   "cell_type": "code",
   "execution_count": 12,
   "id": "925d4c21",
   "metadata": {},
   "outputs": [
    {
     "data": {
      "text/plain": [
       "'Dec'"
      ]
     },
     "execution_count": 12,
     "metadata": {},
     "output_type": "execute_result"
    }
   ],
   "source": [
    "now.strftime('%b')"
   ]
  },
  {
   "cell_type": "code",
   "execution_count": 13,
   "id": "c1cd654d",
   "metadata": {},
   "outputs": [
    {
     "data": {
      "text/plain": [
       "'December'"
      ]
     },
     "execution_count": 13,
     "metadata": {},
     "output_type": "execute_result"
    }
   ],
   "source": [
    "now.strftime('%B')"
   ]
  },
  {
   "cell_type": "code",
   "execution_count": 14,
   "id": "4e1087aa",
   "metadata": {},
   "outputs": [
    {
     "data": {
      "text/plain": [
       "'12'"
      ]
     },
     "execution_count": 14,
     "metadata": {},
     "output_type": "execute_result"
    }
   ],
   "source": [
    "now.strftime('%m')"
   ]
  },
  {
   "cell_type": "code",
   "execution_count": 15,
   "id": "9c58828b",
   "metadata": {},
   "outputs": [
    {
     "data": {
      "text/plain": [
       "'23'"
      ]
     },
     "execution_count": 15,
     "metadata": {},
     "output_type": "execute_result"
    }
   ],
   "source": [
    "now.strftime('%y')"
   ]
  },
  {
   "cell_type": "code",
   "execution_count": 16,
   "id": "4643e539",
   "metadata": {},
   "outputs": [
    {
     "data": {
      "text/plain": [
       "'2023'"
      ]
     },
     "execution_count": 16,
     "metadata": {},
     "output_type": "execute_result"
    }
   ],
   "source": [
    "now.strftime('%Y')"
   ]
  },
  {
   "cell_type": "code",
   "execution_count": 17,
   "id": "faa32354",
   "metadata": {},
   "outputs": [
    {
     "data": {
      "text/plain": [
       "'18'"
      ]
     },
     "execution_count": 17,
     "metadata": {},
     "output_type": "execute_result"
    }
   ],
   "source": [
    "now.strftime('%H')"
   ]
  },
  {
   "cell_type": "code",
   "execution_count": 18,
   "id": "5b66817a",
   "metadata": {},
   "outputs": [
    {
     "data": {
      "text/plain": [
       "'06'"
      ]
     },
     "execution_count": 18,
     "metadata": {},
     "output_type": "execute_result"
    }
   ],
   "source": [
    "now.strftime('%I')"
   ]
  },
  {
   "cell_type": "code",
   "execution_count": 19,
   "id": "6aa10b63",
   "metadata": {},
   "outputs": [
    {
     "data": {
      "text/plain": [
       "'PM'"
      ]
     },
     "execution_count": 19,
     "metadata": {},
     "output_type": "execute_result"
    }
   ],
   "source": [
    "now.strftime('%p')"
   ]
  },
  {
   "cell_type": "code",
   "execution_count": 23,
   "id": "0cec4307",
   "metadata": {},
   "outputs": [],
   "source": [
    "now = datetime.datetime.now()"
   ]
  },
  {
   "cell_type": "code",
   "execution_count": 24,
   "id": "887abd98",
   "metadata": {},
   "outputs": [
    {
     "data": {
      "text/plain": [
       "'14'"
      ]
     },
     "execution_count": 24,
     "metadata": {},
     "output_type": "execute_result"
    }
   ],
   "source": [
    "now.strftime('%M')"
   ]
  },
  {
   "cell_type": "code",
   "execution_count": 26,
   "id": "24442b2a",
   "metadata": {},
   "outputs": [],
   "source": [
    "now = datetime.datetime.now()"
   ]
  },
  {
   "cell_type": "code",
   "execution_count": 27,
   "id": "be28528a",
   "metadata": {},
   "outputs": [
    {
     "data": {
      "text/plain": [
       "'25'"
      ]
     },
     "execution_count": 27,
     "metadata": {},
     "output_type": "execute_result"
    }
   ],
   "source": [
    "now.strftime('%S')"
   ]
  },
  {
   "cell_type": "code",
   "execution_count": 30,
   "id": "7e4eea2f",
   "metadata": {},
   "outputs": [
    {
     "data": {
      "text/plain": [
       "'351'"
      ]
     },
     "execution_count": 30,
     "metadata": {},
     "output_type": "execute_result"
    }
   ],
   "source": [
    "now.strftime('%j')"
   ]
  },
  {
   "cell_type": "code",
   "execution_count": 35,
   "id": "d3cebe20",
   "metadata": {},
   "outputs": [
    {
     "data": {
      "text/plain": [
       "'51'"
      ]
     },
     "execution_count": 35,
     "metadata": {},
     "output_type": "execute_result"
    }
   ],
   "source": [
    "now.strftime('%U')"
   ]
  },
  {
   "cell_type": "code",
   "execution_count": 36,
   "id": "149a176f",
   "metadata": {},
   "outputs": [
    {
     "data": {
      "text/plain": [
       "'Sun Dec 17 18:14:25 2023'"
      ]
     },
     "execution_count": 36,
     "metadata": {},
     "output_type": "execute_result"
    }
   ],
   "source": [
    "now.strftime('%c')"
   ]
  },
  {
   "cell_type": "code",
   "execution_count": 37,
   "id": "a72a22cd",
   "metadata": {},
   "outputs": [
    {
     "data": {
      "text/plain": [
       "'12/17/23'"
      ]
     },
     "execution_count": 37,
     "metadata": {},
     "output_type": "execute_result"
    }
   ],
   "source": [
    "now.strftime('%x')"
   ]
  },
  {
   "cell_type": "code",
   "execution_count": 38,
   "id": "bf5add6c",
   "metadata": {},
   "outputs": [
    {
     "data": {
      "text/plain": [
       "'06:14:25 PM'"
      ]
     },
     "execution_count": 38,
     "metadata": {},
     "output_type": "execute_result"
    }
   ],
   "source": [
    "now.strftime('%r')"
   ]
  },
  {
   "cell_type": "code",
   "execution_count": 39,
   "id": "286b7395",
   "metadata": {},
   "outputs": [
    {
     "data": {
      "text/plain": [
       "'18:14:25'"
      ]
     },
     "execution_count": 39,
     "metadata": {},
     "output_type": "execute_result"
    }
   ],
   "source": [
    "now.strftime('%X')"
   ]
  },
  {
   "cell_type": "code",
   "execution_count": 40,
   "id": "0b24c682",
   "metadata": {},
   "outputs": [
    {
     "data": {
      "text/plain": [
       "'2023'"
      ]
     },
     "execution_count": 40,
     "metadata": {},
     "output_type": "execute_result"
    }
   ],
   "source": [
    "now.strftime('%G')"
   ]
  },
  {
   "cell_type": "code",
   "execution_count": 41,
   "id": "7d95a085",
   "metadata": {},
   "outputs": [
    {
     "data": {
      "text/plain": [
       "'7'"
      ]
     },
     "execution_count": 41,
     "metadata": {},
     "output_type": "execute_result"
    }
   ],
   "source": [
    "now.strftime('%u')"
   ]
  },
  {
   "cell_type": "code",
   "execution_count": 42,
   "id": "972fc007",
   "metadata": {},
   "outputs": [
    {
     "data": {
      "text/plain": [
       "'50'"
      ]
     },
     "execution_count": 42,
     "metadata": {},
     "output_type": "execute_result"
    }
   ],
   "source": [
    "now.strftime('%V')"
   ]
  },
  {
   "cell_type": "code",
   "execution_count": 43,
   "id": "00cdfd76",
   "metadata": {},
   "outputs": [
    {
     "data": {
      "text/plain": [
       "'711943'"
      ]
     },
     "execution_count": 43,
     "metadata": {},
     "output_type": "execute_result"
    }
   ],
   "source": [
    "now.strftime('%f')"
   ]
  }
 ],
 "metadata": {
  "kernelspec": {
   "display_name": "Python 3 (ipykernel)",
   "language": "python",
   "name": "python3"
  },
  "language_info": {
   "codemirror_mode": {
    "name": "ipython",
    "version": 3
   },
   "file_extension": ".py",
   "mimetype": "text/x-python",
   "name": "python",
   "nbconvert_exporter": "python",
   "pygments_lexer": "ipython3",
   "version": "3.11.4"
  }
 },
 "nbformat": 4,
 "nbformat_minor": 5
}
