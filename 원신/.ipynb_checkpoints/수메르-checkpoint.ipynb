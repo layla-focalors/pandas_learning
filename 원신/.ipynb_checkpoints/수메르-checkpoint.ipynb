{
 "cells": [
  {
   "cell_type": "markdown",
   "id": "e6c82ccc",
   "metadata": {},
   "source": [
    "### 수메르\n",
    "\n",
    "원신의 수메르는 게임 내에서 다양한 임무와 이벤트가 진행되는 지역입니다. 월드 임무, 평판 임무, 히든 업적 등 다양한 콘텐츠를 경험할 수 있습니다¹²³⁴. 또한, 수메르 지역에는 낚시터도 있어서 물고기를 잡는 미션을 수행할 수 있습니다⁵. 이 외에도 수메르 지역에는 많은 비밀과 이야기가 숨겨져 있으니, 직접 탐험해보시는 것을 추천하는 지역이다"
   ]
  },
  {
   "cell_type": "code",
   "execution_count": 1,
   "id": "e2b843c8",
   "metadata": {},
   "outputs": [
    {
     "data": {
      "text/plain": [
       "'Layla is very cute'"
      ]
     },
     "execution_count": 1,
     "metadata": {},
     "output_type": "execute_result"
    }
   ],
   "source": [
    "'Layla is very cute'.capitalize()"
   ]
  },
  {
   "cell_type": "code",
   "execution_count": 2,
   "id": "1060b53e",
   "metadata": {},
   "outputs": [
    {
     "data": {
      "text/plain": [
       "2"
      ]
     },
     "execution_count": 2,
     "metadata": {},
     "output_type": "execute_result"
    }
   ],
   "source": [
    "'레일라나히다유라레일라레나이다'.count(\"레일라\")"
   ]
  },
  {
   "cell_type": "code",
   "execution_count": 3,
   "id": "636a8b05",
   "metadata": {},
   "outputs": [
    {
     "data": {
      "text/plain": [
       "True"
      ]
     },
     "execution_count": 3,
     "metadata": {},
     "output_type": "execute_result"
    }
   ],
   "source": [
    "'유라야 반가워!'.startswith('유라')"
   ]
  },
  {
   "cell_type": "code",
   "execution_count": 4,
   "id": "f3cf5719",
   "metadata": {},
   "outputs": [
    {
     "data": {
      "text/plain": [
       "True"
      ]
     },
     "execution_count": 4,
     "metadata": {},
     "output_type": "execute_result"
    }
   ],
   "source": [
    "'레일라는 닐루가 좋은 거 같아. 왜냐하면 닐루는 닐루'.endswith(\"닐루\")"
   ]
  },
  {
   "cell_type": "code",
   "execution_count": 5,
   "id": "e3798078",
   "metadata": {},
   "outputs": [
    {
     "data": {
      "text/plain": [
       "4"
      ]
     },
     "execution_count": 5,
     "metadata": {},
     "output_type": "execute_result"
    }
   ],
   "source": [
    "\"노아랑 레일라, 그리고 우타하\".find('레')"
   ]
  },
  {
   "cell_type": "code",
   "execution_count": 6,
   "id": "ebc11db1",
   "metadata": {},
   "outputs": [
    {
     "data": {
      "text/plain": [
       "4"
      ]
     },
     "execution_count": 6,
     "metadata": {},
     "output_type": "execute_result"
    }
   ],
   "source": [
    "\"노아랑 레일라, 그리고 우타하\".index(\"레\")"
   ]
  },
  {
   "cell_type": "code",
   "execution_count": 7,
   "id": "0de8cb72",
   "metadata": {},
   "outputs": [
    {
     "data": {
      "text/plain": [
       "False"
      ]
     },
     "execution_count": 7,
     "metadata": {},
     "output_type": "execute_result"
    }
   ],
   "source": [
    "'Layla is my god'.isalpha()"
   ]
  },
  {
   "cell_type": "code",
   "execution_count": 9,
   "id": "980d290e",
   "metadata": {},
   "outputs": [
    {
     "data": {
      "text/plain": [
       "True"
      ]
     },
     "execution_count": 9,
     "metadata": {},
     "output_type": "execute_result"
    }
   ],
   "source": [
    "'1219'.isdecimal()\n",
    "# 해당 문자열이 숫자인지 검증"
   ]
  },
  {
   "cell_type": "code",
   "execution_count": 10,
   "id": "2be642fe",
   "metadata": {},
   "outputs": [
    {
     "data": {
      "text/plain": [
       "True"
      ]
     },
     "execution_count": 10,
     "metadata": {},
     "output_type": "execute_result"
    }
   ],
   "source": [
    "'Laylabirth1219'.isalnum()"
   ]
  },
  {
   "cell_type": "code",
   "execution_count": 11,
   "id": "7d1fc706",
   "metadata": {},
   "outputs": [
    {
     "data": {
      "text/plain": [
       "'the layla is very cute girl'"
      ]
     },
     "execution_count": 11,
     "metadata": {},
     "output_type": "execute_result"
    }
   ],
   "source": [
    "'The layla is Very Cute Girl'.lower()"
   ]
  },
  {
   "cell_type": "code",
   "execution_count": 12,
   "id": "41077282",
   "metadata": {},
   "outputs": [
    {
     "data": {
      "text/plain": [
       "'THE LAYLA IS VERY CUTE GIRL'"
      ]
     },
     "execution_count": 12,
     "metadata": {},
     "output_type": "execute_result"
    }
   ],
   "source": [
    "'The Layla is Very Cute Girl'.upper()"
   ]
  }
 ],
 "metadata": {
  "kernelspec": {
   "display_name": "Python 3 (ipykernel)",
   "language": "python",
   "name": "python3"
  },
  "language_info": {
   "codemirror_mode": {
    "name": "ipython",
    "version": 3
   },
   "file_extension": ".py",
   "mimetype": "text/x-python",
   "name": "python",
   "nbconvert_exporter": "python",
   "pygments_lexer": "ipython3",
   "version": "3.11.4"
  }
 },
 "nbformat": 4,
 "nbformat_minor": 5
}
