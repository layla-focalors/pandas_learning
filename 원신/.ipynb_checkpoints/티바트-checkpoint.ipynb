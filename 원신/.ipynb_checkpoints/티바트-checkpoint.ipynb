{
 "cells": [
  {
   "cell_type": "markdown",
   "id": "2844e602",
   "metadata": {},
   "source": [
    "### layla"
   ]
  },
  {
   "cell_type": "code",
   "execution_count": 2,
   "id": "0dc8ee45",
   "metadata": {},
   "outputs": [],
   "source": [
    "word = 'Layla'\n",
    "sent = 'Layla is Cute'"
   ]
  },
  {
   "cell_type": "code",
   "execution_count": 3,
   "id": "9687c8dc",
   "metadata": {},
   "outputs": [
    {
     "data": {
      "text/plain": [
       "'L'"
      ]
     },
     "execution_count": 3,
     "metadata": {},
     "output_type": "execute_result"
    }
   ],
   "source": [
    "word[0]"
   ]
  },
  {
   "cell_type": "code",
   "execution_count": 4,
   "id": "54dc239e",
   "metadata": {},
   "outputs": [
    {
     "data": {
      "text/plain": [
       "'L'"
      ]
     },
     "execution_count": 4,
     "metadata": {},
     "output_type": "execute_result"
    }
   ],
   "source": [
    "sent[0]"
   ]
  },
  {
   "cell_type": "code",
   "execution_count": 5,
   "id": "1631ac7b",
   "metadata": {},
   "outputs": [
    {
     "data": {
      "text/plain": [
       "'Layla'"
      ]
     },
     "execution_count": 5,
     "metadata": {},
     "output_type": "execute_result"
    }
   ],
   "source": [
    "sent[0:5]"
   ]
  },
  {
   "cell_type": "code",
   "execution_count": 6,
   "id": "cabf0a1f",
   "metadata": {},
   "outputs": [],
   "source": [
    "text = 'The layla is cute because she was cute'"
   ]
  },
  {
   "cell_type": "code",
   "execution_count": 7,
   "id": "8bbeb2a8",
   "metadata": {},
   "outputs": [
    {
     "data": {
      "text/plain": [
       "'The layla is cute because she was cute'"
      ]
     },
     "execution_count": 7,
     "metadata": {},
     "output_type": "execute_result"
    }
   ],
   "source": [
    "text[:len(text)]"
   ]
  },
  {
   "cell_type": "code",
   "execution_count": 8,
   "id": "deb2609e",
   "metadata": {},
   "outputs": [
    {
     "data": {
      "text/plain": [
       "'The layla is cute because she was cute'"
      ]
     },
     "execution_count": 8,
     "metadata": {},
     "output_type": "execute_result"
    }
   ],
   "source": [
    "text[:]"
   ]
  },
  {
   "cell_type": "code",
   "execution_count": 9,
   "id": "d38e70e5",
   "metadata": {},
   "outputs": [
    {
     "data": {
      "text/plain": [
       "'The layla is cute because she was cute'"
      ]
     },
     "execution_count": 9,
     "metadata": {},
     "output_type": "execute_result"
    }
   ],
   "source": [
    "text[0:len(text)]"
   ]
  },
  {
   "cell_type": "code",
   "execution_count": 10,
   "id": "51166fe4",
   "metadata": {},
   "outputs": [
    {
     "data": {
      "text/plain": [
       "'output = 0.000103108'"
      ]
     },
     "execution_count": 10,
     "metadata": {},
     "output_type": "execute_result"
    }
   ],
   "source": [
    "'output = {0:4.6}'.format(7/67890)"
   ]
  },
  {
   "cell_type": "code",
   "execution_count": 11,
   "id": "4fc639b2",
   "metadata": {},
   "outputs": [
    {
     "data": {
      "text/plain": [
       "'ute'"
      ]
     },
     "execution_count": 11,
     "metadata": {},
     "output_type": "execute_result"
    }
   ],
   "source": [
    "sent[-3:]"
   ]
  },
  {
   "cell_type": "code",
   "execution_count": 14,
   "id": "60fd474c",
   "metadata": {},
   "outputs": [
    {
     "data": {
      "text/plain": [
       "'Cut'"
      ]
     },
     "execution_count": 14,
     "metadata": {},
     "output_type": "execute_result"
    }
   ],
   "source": [
    "sent[-4:-1]"
   ]
  },
  {
   "cell_type": "code",
   "execution_count": 15,
   "id": "394c0163",
   "metadata": {},
   "outputs": [
    {
     "data": {
      "text/plain": [
       "'Lay'"
      ]
     },
     "execution_count": 15,
     "metadata": {},
     "output_type": "execute_result"
    }
   ],
   "source": [
    "word[:3]"
   ]
  },
  {
   "cell_type": "code",
   "execution_count": 16,
   "id": "3582617f",
   "metadata": {},
   "outputs": [
    {
     "data": {
      "text/plain": [
       "'Lay'"
      ]
     },
     "execution_count": 16,
     "metadata": {},
     "output_type": "execute_result"
    }
   ],
   "source": [
    "word[0:3]"
   ]
  },
  {
   "cell_type": "code",
   "execution_count": 17,
   "id": "fbbf215c",
   "metadata": {},
   "outputs": [
    {
     "data": {
      "text/plain": [
       "'a is Cute'"
      ]
     },
     "execution_count": 17,
     "metadata": {},
     "output_type": "execute_result"
    }
   ],
   "source": [
    "sent[4:]"
   ]
  },
  {
   "cell_type": "code",
   "execution_count": 18,
   "id": "5971aac9",
   "metadata": {},
   "outputs": [
    {
     "data": {
      "text/plain": [
       "'Layla is Cute'"
      ]
     },
     "execution_count": 18,
     "metadata": {},
     "output_type": "execute_result"
    }
   ],
   "source": [
    "sent[:]"
   ]
  },
  {
   "cell_type": "code",
   "execution_count": 19,
   "id": "fe126fcd",
   "metadata": {},
   "outputs": [
    {
     "data": {
      "text/plain": [
       "'Lyai ue'"
      ]
     },
     "execution_count": 19,
     "metadata": {},
     "output_type": "execute_result"
    }
   ],
   "source": [
    "sent[::2]"
   ]
  },
  {
   "cell_type": "code",
   "execution_count": 20,
   "id": "c5690035",
   "metadata": {},
   "outputs": [],
   "source": [
    "a = 'Name : Layla'\n",
    "b = 'StudentID : 20231111'\n",
    "c = 'Hobby : Study'\n",
    "d = 'Comment : cute'"
   ]
  },
  {
   "cell_type": "code",
   "execution_count": 21,
   "id": "c1332d5b",
   "metadata": {},
   "outputs": [
    {
     "data": {
      "text/plain": [
       "'Name : Layla StudentID : 20231111 Hobby : Study Comment : cute'"
      ]
     },
     "execution_count": 21,
     "metadata": {},
     "output_type": "execute_result"
    }
   ],
   "source": [
    "\" \".join([a, b, c, d])"
   ]
  },
  {
   "cell_type": "code",
   "execution_count": 24,
   "id": "60b4b09f",
   "metadata": {},
   "outputs": [
    {
     "data": {
      "text/plain": [
       "'Name : Layla StudentID : 20231111 Hobby : Study Comment : cute'"
      ]
     },
     "execution_count": 24,
     "metadata": {},
     "output_type": "execute_result"
    }
   ],
   "source": [
    "\" \".join([a, b, c, d])"
   ]
  },
  {
   "cell_type": "code",
   "execution_count": 25,
   "id": "093aa11e",
   "metadata": {},
   "outputs": [],
   "source": [
    "strs = \"\"\"Guard: What? Ridden en a horse?\n",
    "Queen Raiden: Yes!\n",
    "Guard: You're using cocnuts!\n",
    "Queen Raiden: What?\n",
    "Guard: You've Got ... coconutes[s] and you're banagin em toghter\"\"\""
   ]
  },
  {
   "cell_type": "code",
   "execution_count": 27,
   "id": "29c53d88",
   "metadata": {},
   "outputs": [
    {
     "data": {
      "text/plain": [
       "['Guard: What? Ridden en a horse?',\n",
       " \"Guard: You're using cocnuts!\",\n",
       " \"Guard: You've Got ... coconutes[s] and you're banagin em toghter\"]"
      ]
     },
     "execution_count": 27,
     "metadata": {},
     "output_type": "execute_result"
    }
   ],
   "source": [
    "strs.splitlines()[::2]"
   ]
  },
  {
   "cell_type": "code",
   "execution_count": 29,
   "id": "45afd815",
   "metadata": {},
   "outputs": [
    {
     "data": {
      "text/plain": [
       "['Yae Miko: What? Ridden en a horse?',\n",
       " \"Yae Miko: You're using cocnuts!\",\n",
       " \"Yae Miko: You've Got ... coconutes[s] and you're banagin em toghter\"]"
      ]
     },
     "execution_count": 29,
     "metadata": {},
     "output_type": "execute_result"
    }
   ],
   "source": [
    "strs.replace('Guard', 'Yae Miko').splitlines()[::2]"
   ]
  },
  {
   "cell_type": "code",
   "execution_count": 30,
   "id": "bbad0bca",
   "metadata": {},
   "outputs": [
    {
     "data": {
      "text/plain": [
       "'Layla is very cute!'"
      ]
     },
     "execution_count": 30,
     "metadata": {},
     "output_type": "execute_result"
    }
   ],
   "source": [
    "'{} is very cute!'.format('Layla')"
   ]
  },
  {
   "cell_type": "code",
   "execution_count": 31,
   "id": "8f51e778",
   "metadata": {},
   "outputs": [
    {
     "data": {
      "text/plain": [
       "'레일라은 매우매우 착하고 귀엽고 사랑스럽습니다.\\n이 사악한 나히다은 레일라을 괴롭히는 원인 중 하나입니다.'"
      ]
     },
     "execution_count": 31,
     "metadata": {},
     "output_type": "execute_result"
    }
   ],
   "source": [
    "\"\"\"{0}은 매우매우 착하고 귀엽고 사랑스럽습니다.\n",
    "이 사악한 {1}은 {0}을 괴롭히는 원인 중 하나입니다.\"\"\".format('레일라','나히다')"
   ]
  },
  {
   "cell_type": "code",
   "execution_count": 32,
   "id": "4b6994bf",
   "metadata": {},
   "outputs": [
    {
     "data": {
      "text/plain": [
       "'나히다는 500 살 이상이다.'"
      ]
     },
     "execution_count": 32,
     "metadata": {},
     "output_type": "execute_result"
    }
   ],
   "source": [
    "'나히다는 {age} 살 이상이다.'.format(age = 500)"
   ]
  },
  {
   "cell_type": "code",
   "execution_count": 35,
   "id": "42604aaa",
   "metadata": {},
   "outputs": [
    {
     "data": {
      "text/plain": [
       "'루미네는 귀엽고 이고, 레일라는 귀엽고 사랑스럽다이다.'"
      ]
     },
     "execution_count": 35,
     "metadata": {},
     "output_type": "execute_result"
    }
   ],
   "source": [
    "'루미네는 {action} 이고, 레일라는 {model}이다.'.format(action = \"귀엽고\",model = '귀엽고 사랑스럽다')"
   ]
  },
  {
   "cell_type": "code",
   "execution_count": 36,
   "id": "f81d59b4",
   "metadata": {},
   "outputs": [
    {
     "data": {
      "text/plain": [
       "'내 통장 잔고가 999,999,999,999,999,999,999,999,999,999,999,999,999 원이면 좋겠다'"
      ]
     },
     "execution_count": 36,
     "metadata": {},
     "output_type": "execute_result"
    }
   ],
   "source": [
    "'내 통장 잔고가 {:,} 원이면 좋겠다'.format(999999999999999999999999999999999999999)"
   ]
  },
  {
   "cell_type": "code",
   "execution_count": 38,
   "id": "f1d21d6b",
   "metadata": {},
   "outputs": [
    {
     "data": {
      "text/plain": [
       "'first out : 0.000103, second out : 0.010%'"
      ]
     },
     "execution_count": 38,
     "metadata": {},
     "output_type": "execute_result"
    }
   ],
   "source": [
    "'first out : {0:.3}, second out : {0:.3%}'.format(7/67890)"
   ]
  },
  {
   "cell_type": "code",
   "execution_count": 39,
   "id": "b53529e7",
   "metadata": {},
   "outputs": [
    {
     "data": {
      "text/plain": [
       "'My id code is 000012'"
      ]
     },
     "execution_count": 39,
     "metadata": {},
     "output_type": "execute_result"
    }
   ],
   "source": [
    "'My id code is {0:06d}'.format(12)"
   ]
  },
  {
   "cell_type": "code",
   "execution_count": 40,
   "id": "bb1284b7",
   "metadata": {},
   "outputs": [
    {
     "data": {
      "text/plain": [
       "'My love number is 10'"
      ]
     },
     "execution_count": 40,
     "metadata": {},
     "output_type": "execute_result"
    }
   ],
   "source": [
    "'My love number is %d' % 10"
   ]
  },
  {
   "cell_type": "code",
   "execution_count": 41,
   "id": "3ccc3fca",
   "metadata": {},
   "outputs": [
    {
     "data": {
      "text/plain": [
       "'레일라 는 귀엽고 사랑스럽습니다. 그러나 그녀의 수면 시간은 고작 1.16 입니다.'"
      ]
     },
     "execution_count": 41,
     "metadata": {},
     "output_type": "execute_result"
    }
   ],
   "source": [
    "'%(name)s 는 귀엽고 사랑스럽습니다. 그러나 그녀의 수면 시간은 고작 %(time).2f 입니다.' % ({'name':'레일라','time':1.1631212})"
   ]
  },
  {
   "cell_type": "code",
   "execution_count": 42,
   "id": "eaa618f0",
   "metadata": {},
   "outputs": [],
   "source": [
    "name = '레일라'\n",
    "month = 12\n",
    "day = 19"
   ]
  },
  {
   "cell_type": "code",
   "execution_count": 43,
   "id": "50b0dacb",
   "metadata": {},
   "outputs": [
    {
     "name": "stdout",
     "output_type": "stream",
     "text": [
      "12/19! 생일 축하해 레일라!\n"
     ]
    }
   ],
   "source": [
    "print(f\"{month}/{day}! 생일 축하해 레일라!\")"
   ]
  },
  {
   "cell_type": "code",
   "execution_count": 44,
   "id": "ddd252c9",
   "metadata": {},
   "outputs": [],
   "source": [
    "import datetime"
   ]
  },
  {
   "cell_type": "code",
   "execution_count": 46,
   "id": "09c088b4",
   "metadata": {},
   "outputs": [
    {
     "name": "stdout",
     "output_type": "stream",
     "text": [
      "t1 : 2023-12-16 18:30:28.543469\n"
     ]
    }
   ],
   "source": [
    "print(\"t1 : \" + str(datetime.datetime.now()))"
   ]
  },
  {
   "cell_type": "code",
   "execution_count": 48,
   "id": "707436de",
   "metadata": {},
   "outputs": [
    {
     "name": "stdout",
     "output_type": "stream",
     "text": [
      "t1 : 2023-12-16 18:31:22.279883\n",
      "t2 : 1970-01-01 00:00:00\n",
      "t3 : 1970-12-12 13:24:34\n"
     ]
    }
   ],
   "source": [
    "print(\"t1 : \" + str(datetime.datetime.now()))\n",
    "print(\"t2 : \" + str(datetime.datetime(1970, 1, 1)))\n",
    "print(\"t3 : \" + str(datetime.datetime(1970, 12, 12, 13, 24, 34)))"
   ]
  },
  {
   "cell_type": "code",
   "execution_count": 49,
   "id": "c85cdb0f",
   "metadata": {},
   "outputs": [],
   "source": [
    "import re"
   ]
  },
  {
   "cell_type": "code",
   "execution_count": 51,
   "id": "ffb3785c",
   "metadata": {},
   "outputs": [
    {
     "data": {
      "text/plain": [
       "<re.Match object; span=(0, 10), match='1234567890'>"
      ]
     },
     "execution_count": 51,
     "metadata": {},
     "output_type": "execute_result"
    }
   ],
   "source": [
    "ax = re.match(pattern='\\d{10}', string = '1234567890')\n",
    "ax"
   ]
  },
  {
   "cell_type": "code",
   "execution_count": 52,
   "id": "273f228a",
   "metadata": {},
   "outputs": [
    {
     "data": {
      "text/plain": [
       "'match'"
      ]
     },
     "execution_count": 52,
     "metadata": {},
     "output_type": "execute_result"
    }
   ],
   "source": [
    "\"match\" if bool(ax) else \"Un matched\""
   ]
  },
  {
   "cell_type": "code",
   "execution_count": 53,
   "id": "5ca944bc",
   "metadata": {},
   "outputs": [
    {
     "data": {
      "text/plain": [
       "0"
      ]
     },
     "execution_count": 53,
     "metadata": {},
     "output_type": "execute_result"
    }
   ],
   "source": [
    "ax.start()"
   ]
  },
  {
   "cell_type": "code",
   "execution_count": 58,
   "id": "34b9403e",
   "metadata": {},
   "outputs": [
    {
     "data": {
      "text/plain": [
       "'1'"
      ]
     },
     "execution_count": 58,
     "metadata": {},
     "output_type": "execute_result"
    }
   ],
   "source": [
    "ax.group()[ax.start()]"
   ]
  },
  {
   "cell_type": "code",
   "execution_count": 59,
   "id": "50a1be5e",
   "metadata": {},
   "outputs": [
    {
     "data": {
      "text/plain": [
       "10"
      ]
     },
     "execution_count": 59,
     "metadata": {},
     "output_type": "execute_result"
    }
   ],
   "source": [
    "ax.end()"
   ]
  },
  {
   "cell_type": "code",
   "execution_count": 60,
   "id": "5070b034",
   "metadata": {},
   "outputs": [
    {
     "data": {
      "text/plain": [
       "'0'"
      ]
     },
     "execution_count": 60,
     "metadata": {},
     "output_type": "execute_result"
    }
   ],
   "source": [
    "ax.group()[ax.end() - 1]"
   ]
  },
  {
   "cell_type": "code",
   "execution_count": 61,
   "id": "2434ecb8",
   "metadata": {},
   "outputs": [
    {
     "data": {
      "text/plain": [
       "(0, 10)"
      ]
     },
     "execution_count": 61,
     "metadata": {},
     "output_type": "execute_result"
    }
   ],
   "source": [
    "ax.span()"
   ]
  },
  {
   "cell_type": "code",
   "execution_count": 62,
   "id": "959c655c",
   "metadata": {},
   "outputs": [
    {
     "data": {
      "text/plain": [
       "'1234567890'"
      ]
     },
     "execution_count": 62,
     "metadata": {},
     "output_type": "execute_result"
    }
   ],
   "source": [
    "ax.group()"
   ]
  },
  {
   "cell_type": "code",
   "execution_count": 63,
   "id": "34f9cc85",
   "metadata": {},
   "outputs": [
    {
     "data": {
      "text/plain": [
       "<re.Match object; span=(0, 13), match='123 4567 8901'>"
      ]
     },
     "execution_count": 63,
     "metadata": {},
     "output_type": "execute_result"
    }
   ],
   "source": [
    "re.match(pattern='\\d{3}\\s\\d{4}\\s\\d{4}', string = '123 4567 8901')"
   ]
  },
  {
   "cell_type": "code",
   "execution_count": 64,
   "id": "e7f31aa0",
   "metadata": {},
   "outputs": [
    {
     "data": {
      "text/plain": [
       "<re.Match object; span=(0, 14), match='(123) 456-7890'>"
      ]
     },
     "execution_count": 64,
     "metadata": {},
     "output_type": "execute_result"
    }
   ],
   "source": [
    "re.match(pattern='\\(\\d{3}\\)\\s\\d{3}\\-\\d{4}', string = '(123) 456-7890')"
   ]
  },
  {
   "cell_type": "code",
   "execution_count": 65,
   "id": "08a2fca1",
   "metadata": {},
   "outputs": [
    {
     "data": {
      "text/plain": [
       "<re.Match object; span=(0, 17), match='+1 (123) 456-7890'>"
      ]
     },
     "execution_count": 65,
     "metadata": {},
     "output_type": "execute_result"
    }
   ],
   "source": [
    "re.match(pattern='\\+\\d\\s\\(\\d{3}\\)\\s\\d{3}\\-\\d{4}', string ='+1 (123) 456-7890')"
   ]
  },
  {
   "cell_type": "code",
   "execution_count": 66,
   "id": "5c637117",
   "metadata": {},
   "outputs": [],
   "source": [
    "number = ['123 456 7890', '(123) 456-7890', '+1 (123) 456-7890']"
   ]
  },
  {
   "cell_type": "code",
   "execution_count": 78,
   "id": "281bee67",
   "metadata": {},
   "outputs": [
    {
     "name": "stdout",
     "output_type": "stream",
     "text": [
      "123 456 7890\n",
      "(123) 456-7890\n",
      "+1 (123) 456-7890\n"
     ]
    }
   ],
   "source": [
    "for i in number:\n",
    "    ax = re.match(pattern='(\\+\\d{1,3}\\s)?(\\()?\\d{3}(\\))?\\s\\d{3}[-.\\s]\\d{4}', string = str(i))\n",
    "    print(i if bool(ax) else \"unmatch\")"
   ]
  }
 ],
 "metadata": {
  "kernelspec": {
   "display_name": "Python 3 (ipykernel)",
   "language": "python",
   "name": "python3"
  },
  "language_info": {
   "codemirror_mode": {
    "name": "ipython",
    "version": 3
   },
   "file_extension": ".py",
   "mimetype": "text/x-python",
   "name": "python",
   "nbconvert_exporter": "python",
   "pygments_lexer": "ipython3",
   "version": "3.11.4"
  }
 },
 "nbformat": 4,
 "nbformat_minor": 5
}
