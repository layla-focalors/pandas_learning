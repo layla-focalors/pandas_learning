{
 "cells": [
  {
   "cell_type": "markdown",
   "id": "9d72764a",
   "metadata": {},
   "source": [
    "### 리월\n",
    "\n",
    "\"리월\"은 원신 게임에서 탐험할 수 있는 판타지 세계인 \"티바트\"의 일부입니다². 리월은 일곱 나라 중 하나로, 바위의 신 모라스가 지배하는 곳입니다². 이 도시는 번영과 번창의 상징이며, 바위의 힘이 가장 강하게 느껴지는 곳입니다². 리월은 동양적인 풍경과 아름다운 건축물로 유명하며, 다양한 퀘스트와 이벤트를 제공합니다¹². 이곳에서는 다양한 성격과 독특한 능력을 지닌 동료들을 만나고 강력한 적을 함께 무찌르는 여정을 나서게 됩니다². "
   ]
  },
  {
   "cell_type": "code",
   "execution_count": 1,
   "id": "8ffe6e03",
   "metadata": {},
   "outputs": [],
   "source": [
    "import pandas as pd"
   ]
  },
  {
   "cell_type": "code",
   "execution_count": 2,
   "id": "e2588cd2",
   "metadata": {},
   "outputs": [
    {
     "data": {
      "text/html": [
       "<div>\n",
       "<style scoped>\n",
       "    .dataframe tbody tr th:only-of-type {\n",
       "        vertical-align: middle;\n",
       "    }\n",
       "\n",
       "    .dataframe tbody tr th {\n",
       "        vertical-align: top;\n",
       "    }\n",
       "\n",
       "    .dataframe thead th {\n",
       "        text-align: right;\n",
       "    }\n",
       "</style>\n",
       "<table border=\"1\" class=\"dataframe\">\n",
       "  <thead>\n",
       "    <tr style=\"text-align: right;\">\n",
       "      <th></th>\n",
       "      <th>Phone</th>\n",
       "    </tr>\n",
       "  </thead>\n",
       "  <tbody>\n",
       "    <tr>\n",
       "      <th>0</th>\n",
       "      <td>010-6256-3768</td>\n",
       "    </tr>\n",
       "    <tr>\n",
       "      <th>1</th>\n",
       "      <td>010.4356.3456</td>\n",
       "    </tr>\n",
       "    <tr>\n",
       "      <th>2</th>\n",
       "      <td>+82  (031) 539 1280</td>\n",
       "    </tr>\n",
       "    <tr>\n",
       "      <th>3</th>\n",
       "      <td>02-1111-2222</td>\n",
       "    </tr>\n",
       "    <tr>\n",
       "      <th>4</th>\n",
       "      <td>010 7657 3022</td>\n",
       "    </tr>\n",
       "    <tr>\n",
       "      <th>5</th>\n",
       "      <td>+82  (02) 456-4444</td>\n",
       "    </tr>\n",
       "    <tr>\n",
       "      <th>6</th>\n",
       "      <td>02 756 4566</td>\n",
       "    </tr>\n",
       "    <tr>\n",
       "      <th>7</th>\n",
       "      <td>064 245 2345</td>\n",
       "    </tr>\n",
       "  </tbody>\n",
       "</table>\n",
       "</div>"
      ],
      "text/plain": [
       "                 Phone\n",
       "0        010-6256-3768\n",
       "1        010.4356.3456\n",
       "2  +82  (031) 539 1280\n",
       "3         02-1111-2222\n",
       "4        010 7657 3022\n",
       "5   +82  (02) 456-4444\n",
       "6          02 756 4566\n",
       "7         064 245 2345"
      ]
     },
     "execution_count": 2,
     "metadata": {},
     "output_type": "execute_result"
    }
   ],
   "source": [
    "df = pd.read_csv('../data/phone.csv')\n",
    "df"
   ]
  },
  {
   "cell_type": "code",
   "execution_count": 3,
   "id": "7d7e5f16",
   "metadata": {},
   "outputs": [],
   "source": [
    "layla = list(df['Phone'])"
   ]
  },
  {
   "cell_type": "code",
   "execution_count": 4,
   "id": "76a02d23",
   "metadata": {},
   "outputs": [
    {
     "data": {
      "text/plain": [
       "['010-6256-3768',\n",
       " '010.4356.3456',\n",
       " '+82  (031) 539 1280',\n",
       " '02-1111-2222',\n",
       " '010 7657 3022',\n",
       " '+82  (02) 456-4444',\n",
       " '02 756 4566',\n",
       " '064 245 2345']"
      ]
     },
     "execution_count": 4,
     "metadata": {},
     "output_type": "execute_result"
    }
   ],
   "source": [
    "layla"
   ]
  },
  {
   "cell_type": "code",
   "execution_count": 6,
   "id": "c07f18ca",
   "metadata": {},
   "outputs": [],
   "source": [
    "import re"
   ]
  },
  {
   "cell_type": "code",
   "execution_count": 13,
   "id": "9f449a58",
   "metadata": {},
   "outputs": [
    {
     "name": "stdout",
     "output_type": "stream",
     "text": [
      "010-6256-3768\n",
      "010.4356.3456\n",
      "+82  (031) 539 1280\n",
      "02-1111-2222\n",
      "010 7657 3022\n",
      "+82  (02) 456-4444\n",
      "02 756 4566\n",
      "064 245 2345\n"
     ]
    }
   ],
   "source": [
    "for i in layla:\n",
    "    ax = re.match(pattern='(\\+)?\\d{2,3}[-.\\s](\\s\\(\\d{2,3}\\)\\s)?\\d{3,4}[-.\\s]\\d{4}', string = str(i))\n",
    "    print(i if bool(ax) else \"Unmatched\")"
   ]
  },
  {
   "cell_type": "code",
   "execution_count": 19,
   "id": "f7a81c7b",
   "metadata": {},
   "outputs": [
    {
     "name": "stdout",
     "output_type": "stream",
     "text": [
      "010-6256-3768\n",
      "010.4356.3456\n",
      "+82  (031) 539 1280\n",
      "02-1111-2222\n",
      "010 7657 3022\n",
      "+82  (02) 456-4444\n",
      "02 756 4566\n",
      "064 245 2345\n"
     ]
    }
   ],
   "source": [
    "for i in layla:\n",
    "    ax = re.match(pattern='(\\+)?\\d{2,3}[-.\\s](\\s\\(\\d{2,3}\\)\\s)?\\d{3,4}[-.\\s]\\d{4}', string = str(i))\n",
    "    print(i if bool(ax) else \"Unmatched\")"
   ]
  }
 ],
 "metadata": {
  "kernelspec": {
   "display_name": "Python 3 (ipykernel)",
   "language": "python",
   "name": "python3"
  },
  "language_info": {
   "codemirror_mode": {
    "name": "ipython",
    "version": 3
   },
   "file_extension": ".py",
   "mimetype": "text/x-python",
   "name": "python",
   "nbconvert_exporter": "python",
   "pygments_lexer": "ipython3",
   "version": "3.11.4"
  }
 },
 "nbformat": 4,
 "nbformat_minor": 5
}
