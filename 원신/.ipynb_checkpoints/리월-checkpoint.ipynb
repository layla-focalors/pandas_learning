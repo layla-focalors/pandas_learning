{
 "cells": [
  {
   "cell_type": "markdown",
   "id": "9be9130d",
   "metadata": {},
   "source": [
    "### 리월\n",
    "\n",
    "\"리월\"은 원신 게임에서 탐험할 수 있는 판타지 세계인 \"티바트\"의 일부입니다². 리월은 일곱 나라 중 하나로, 바위의 신 모라스가 지배하는 곳입니다². 이 도시는 번영과 번창의 상징이며, 바위의 힘이 가장 강하게 느껴지는 곳입니다². 리월은 동양적인 풍경과 아름다운 건축물로 유명하며, 다양한 퀘스트와 이벤트를 제공합니다¹². 이곳에서는 다양한 성격과 독특한 능력을 지닌 동료들을 만나고 강력한 적을 함께 무찌르는 여정을 나서게 됩니다². "
   ]
  },
  {
   "cell_type": "code",
   "execution_count": null,
   "id": "cc7a6988",
   "metadata": {},
   "outputs": [],
   "source": []
  }
 ],
 "metadata": {
  "kernelspec": {
   "display_name": "Python 3 (ipykernel)",
   "language": "python",
   "name": "python3"
  },
  "language_info": {
   "codemirror_mode": {
    "name": "ipython",
    "version": 3
   },
   "file_extension": ".py",
   "mimetype": "text/x-python",
   "name": "python",
   "nbconvert_exporter": "python",
   "pygments_lexer": "ipython3",
   "version": "3.11.4"
  }
 },
 "nbformat": 4,
 "nbformat_minor": 5
}
