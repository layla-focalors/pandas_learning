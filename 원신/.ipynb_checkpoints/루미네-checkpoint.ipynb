{
 "cells": [
  {
   "cell_type": "code",
   "execution_count": 2,
   "id": "b494ee59",
   "metadata": {},
   "outputs": [
    {
     "data": {
      "text/plain": [
       "'Layla is very cute'"
      ]
     },
     "execution_count": 2,
     "metadata": {},
     "output_type": "execute_result"
    }
   ],
   "source": [
    "'Layla is very cute'.capitalize()"
   ]
  },
  {
   "cell_type": "code",
   "execution_count": 3,
   "id": "a188178e",
   "metadata": {},
   "outputs": [
    {
     "data": {
      "text/plain": [
       "2"
      ]
     },
     "execution_count": 3,
     "metadata": {},
     "output_type": "execute_result"
    }
   ],
   "source": [
    "'레일라나히다유라레일라에나이다'.count('레일라')"
   ]
  },
  {
   "cell_type": "code",
   "execution_count": 4,
   "id": "5dedf6b0",
   "metadata": {},
   "outputs": [
    {
     "data": {
      "text/plain": [
       "True"
      ]
     },
     "execution_count": 4,
     "metadata": {},
     "output_type": "execute_result"
    }
   ],
   "source": [
    "'유라야! 반가워!'.startswith(\"유라\")"
   ]
  },
  {
   "cell_type": "code",
   "execution_count": 5,
   "id": "48cdb941",
   "metadata": {},
   "outputs": [
    {
     "data": {
      "text/plain": [
       "True"
      ]
     },
     "execution_count": 5,
     "metadata": {},
     "output_type": "execute_result"
    }
   ],
   "source": [
    "\"레일라는 닐루가 좋은 거 같아! 왜냐하면 닐루는 닐루\".endswith(\"닐루\")"
   ]
  },
  {
   "cell_type": "code",
   "execution_count": 6,
   "id": "168a0fc6",
   "metadata": {},
   "outputs": [
    {
     "data": {
      "text/plain": [
       "4"
      ]
     },
     "execution_count": 6,
     "metadata": {},
     "output_type": "execute_result"
    }
   ],
   "source": [
    "\"노아랑 레일라, 그리고 우타하\".find('레')"
   ]
  },
  {
   "cell_type": "code",
   "execution_count": 7,
   "id": "b7f60ffc",
   "metadata": {},
   "outputs": [
    {
     "data": {
      "text/plain": [
       "4"
      ]
     },
     "execution_count": 7,
     "metadata": {},
     "output_type": "execute_result"
    }
   ],
   "source": [
    "\"노아랑 레일라, 그리고 우타하\".index(\"레\")"
   ]
  },
  {
   "cell_type": "code",
   "execution_count": 9,
   "id": "a2d20699",
   "metadata": {},
   "outputs": [
    {
     "data": {
      "text/plain": [
       "False"
      ]
     },
     "execution_count": 9,
     "metadata": {},
     "output_type": "execute_result"
    }
   ],
   "source": [
    "\"Layla is my god\".isalpha()"
   ]
  },
  {
   "cell_type": "code",
   "execution_count": 10,
   "id": "0c764fb3",
   "metadata": {},
   "outputs": [
    {
     "data": {
      "text/plain": [
       "True"
      ]
     },
     "execution_count": 10,
     "metadata": {},
     "output_type": "execute_result"
    }
   ],
   "source": [
    "'1219'.isdecimal()"
   ]
  },
  {
   "cell_type": "code",
   "execution_count": 12,
   "id": "ae6c4c84",
   "metadata": {},
   "outputs": [
    {
     "data": {
      "text/plain": [
       "True"
      ]
     },
     "execution_count": 12,
     "metadata": {},
     "output_type": "execute_result"
    }
   ],
   "source": [
    "\"LaylaBirth1219\".isalnum()"
   ]
  },
  {
   "cell_type": "code",
   "execution_count": 13,
   "id": "1e0ea139",
   "metadata": {},
   "outputs": [
    {
     "data": {
      "text/plain": [
       "'the layla is very cute girl'"
      ]
     },
     "execution_count": 13,
     "metadata": {},
     "output_type": "execute_result"
    }
   ],
   "source": [
    "'The Layla is Very Cute Girl'.lower()"
   ]
  },
  {
   "cell_type": "code",
   "execution_count": 14,
   "id": "28b4a0ed",
   "metadata": {},
   "outputs": [
    {
     "data": {
      "text/plain": [
       "'THE LAYLA IS VERY CUTE GIRL'"
      ]
     },
     "execution_count": 14,
     "metadata": {},
     "output_type": "execute_result"
    }
   ],
   "source": [
    "'The Layla is Very Cute Girl'.upper()"
   ]
  },
  {
   "cell_type": "code",
   "execution_count": 15,
   "id": "abd0686c",
   "metadata": {},
   "outputs": [
    {
     "data": {
      "text/plain": [
       "'라이덴의 친구 Yae Miko는 라이덴을 보좌하지만, 동시에 그녀의 친구입니다.'"
      ]
     },
     "execution_count": 15,
     "metadata": {},
     "output_type": "execute_result"
    }
   ],
   "source": [
    "\"라이덴의 친구 Guard는 라이덴을 보좌하지만, 동시에 그녀의 친구입니다.\".replace(\"Guard\", \"Yae Miko\")"
   ]
  },
  {
   "cell_type": "code",
   "execution_count": 16,
   "id": "5d7b6fbe",
   "metadata": {},
   "outputs": [
    {
     "data": {
      "text/plain": [
       "'레일라 귀여워!'"
      ]
     },
     "execution_count": 16,
     "metadata": {},
     "output_type": "execute_result"
    }
   ],
   "source": [
    "\" 레일라 귀여워! \".strip()"
   ]
  },
  {
   "cell_type": "code",
   "execution_count": 17,
   "id": "00bd80cb",
   "metadata": {},
   "outputs": [
    {
     "data": {
      "text/plain": [
       "['레일라', '나히다', '루미네', '유라', '연비']"
      ]
     },
     "execution_count": 17,
     "metadata": {},
     "output_type": "execute_result"
    }
   ],
   "source": [
    "\"레일라 나히다 루미네 유라 연비\".split(\" \")"
   ]
  },
  {
   "cell_type": "code",
   "execution_count": 18,
   "id": "4a22a673",
   "metadata": {},
   "outputs": [
    {
     "data": {
      "text/plain": [
       "('레일라', ',', '연비,유라,나히다')"
      ]
     },
     "execution_count": 18,
     "metadata": {},
     "output_type": "execute_result"
    }
   ],
   "source": [
    "\"레일라,연비,유라,나히다\".partition(',')"
   ]
  },
  {
   "cell_type": "code",
   "execution_count": 19,
   "id": "8d6c6b0e",
   "metadata": {},
   "outputs": [
    {
     "data": {
      "text/plain": [
       "'       Layla        '"
      ]
     },
     "execution_count": 19,
     "metadata": {},
     "output_type": "execute_result"
    }
   ],
   "source": [
    "\"Layla\".center(20)"
   ]
  },
  {
   "cell_type": "code",
   "execution_count": 20,
   "id": "0f19ee54",
   "metadata": {},
   "outputs": [
    {
     "data": {
      "text/plain": [
       "'00Layla'"
      ]
     },
     "execution_count": 20,
     "metadata": {},
     "output_type": "execute_result"
    }
   ],
   "source": [
    "\"Layla\".zfill(7)"
   ]
  }
 ],
 "metadata": {
  "kernelspec": {
   "display_name": "Python 3 (ipykernel)",
   "language": "python",
   "name": "python3"
  },
  "language_info": {
   "codemirror_mode": {
    "name": "ipython",
    "version": 3
   },
   "file_extension": ".py",
   "mimetype": "text/x-python",
   "name": "python",
   "nbconvert_exporter": "python",
   "pygments_lexer": "ipython3",
   "version": "3.11.4"
  }
 },
 "nbformat": 4,
 "nbformat_minor": 5
}
