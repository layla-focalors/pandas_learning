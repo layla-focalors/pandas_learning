{
 "cells": [
  {
   "cell_type": "markdown",
   "id": "cc064f63",
   "metadata": {},
   "source": [
    "### Desc for '폰타인'\n",
    "\n",
    "원신의 폰타인 지역은 물의 마신 에게리아(이후, 포칼로스)가 통치하는 곳으로, 그 역사는 다음과 같습니다:\n",
    "\n",
    "1. **레무스 시대, 레무리아 제국**: 마신 레무스가 폰타인을 지배하며 문명을 일으켰습니다. 그는 레무리아 제국을 세우고, 폰타인 주변 지역과 거룡까지 정복했습니다¹². 레무스는 자신과 다른 것을 불협화음으로 취급하며 많은 물의 정령을 탄압했습니다¹. 그러나 레무스의 폭정에 지친 국민들은 에게리아를 주군으로 삼아 모셨고, 이로 인해 에게리아는 평범한 물의 정령에서 마신의 자리에 올랐습니다¹.\n",
    "\n",
    "2. **에게리아 시대, 폰타인 건국**: 에게리아는 레무리아 제국을 멸망시키고, 폰타인의 근원이 되는 샘물에 '폰타인'이라는 도시를 세웠습니다¹. 그녀는 종족 간의 갈등을 해결하고 함께 어울려 사는 정의의 도시 폰타인의 역사를 시작했습니다¹.\n",
    "\n",
    "3. **포칼로스 시대, 세계식 발견**: 르네와 야코브는 자연철학 학원에서 연구를 하면서 세계식을 발견했습니다¹. 세계식은 필연적인 세상의 멸망을 증명하는 이론으로, 이를 통해 르네와 야코브는 크레바나와 심연에 관한 다양한 지식을 얻었습니다¹.\n"
   ]
  },
  {
   "cell_type": "code",
   "execution_count": 1,
   "id": "e472435d",
   "metadata": {},
   "outputs": [],
   "source": [
    "data = \"레일라\""
   ]
  },
  {
   "cell_type": "code",
   "execution_count": 2,
   "id": "f830a270",
   "metadata": {},
   "outputs": [],
   "source": [
    "import re"
   ]
  },
  {
   "cell_type": "code",
   "execution_count": 3,
   "id": "db834f92",
   "metadata": {},
   "outputs": [
    {
     "data": {
      "text/plain": [
       "<re.Match object; span=(0, 3), match='레일라'>"
      ]
     },
     "execution_count": 3,
     "metadata": {},
     "output_type": "execute_result"
    }
   ],
   "source": [
    "re.match(pattern='\\D{3}', string = data)"
   ]
  },
  {
   "cell_type": "code",
   "execution_count": 4,
   "id": "bf83a948",
   "metadata": {},
   "outputs": [
    {
     "data": {
      "text/plain": [
       "<re.Match object; span=(0, 13), match='Layla is cute'>"
      ]
     },
     "execution_count": 4,
     "metadata": {},
     "output_type": "execute_result"
    }
   ],
   "source": [
    "re.search(pattern='\\D{5}\\s\\D{2}\\s\\D{4}', string = 'Layla is cute')"
   ]
  },
  {
   "cell_type": "code",
   "execution_count": 5,
   "id": "f3cd9a80",
   "metadata": {},
   "outputs": [
    {
     "data": {
      "text/plain": [
       "<re.Match object; span=(0, 13), match='Layla is cute'>"
      ]
     },
     "execution_count": 5,
     "metadata": {},
     "output_type": "execute_result"
    }
   ],
   "source": [
    "re.match(pattern='\\D{5}\\s\\D{2}\\s\\D{4}', string = 'Layla is cute')"
   ]
  },
  {
   "cell_type": "code",
   "execution_count": 6,
   "id": "7f4aebe6",
   "metadata": {},
   "outputs": [
    {
     "data": {
      "text/plain": [
       "<re.Match object; span=(0, 13), match='Layla is cute'>"
      ]
     },
     "execution_count": 6,
     "metadata": {},
     "output_type": "execute_result"
    }
   ],
   "source": [
    "re.fullmatch(pattern='\\D{5}\\s\\D{2}\\s\\D{4}', string = 'Layla is cute')"
   ]
  },
  {
   "cell_type": "code",
   "execution_count": 7,
   "id": "9d410e40",
   "metadata": {},
   "outputs": [
    {
     "data": {
      "text/plain": [
       "['Layla is cute']"
      ]
     },
     "execution_count": 7,
     "metadata": {},
     "output_type": "execute_result"
    }
   ],
   "source": [
    "re.findall(pattern='\\D{5}\\s\\D{2}\\s\\D{4}', string = 'Layla is cute')"
   ]
  },
  {
   "cell_type": "code",
   "execution_count": 8,
   "id": "45a66bbe",
   "metadata": {},
   "outputs": [
    {
     "data": {
      "text/plain": [
       "['', '']"
      ]
     },
     "execution_count": 8,
     "metadata": {},
     "output_type": "execute_result"
    }
   ],
   "source": [
    "re.split(pattern='\\D{5}\\s\\D{2}\\s\\D{4}', string = 'Layla is cute')"
   ]
  },
  {
   "cell_type": "code",
   "execution_count": null,
   "id": "ed95bee1",
   "metadata": {},
   "outputs": [],
   "source": []
  }
 ],
 "metadata": {
  "kernelspec": {
   "display_name": "Python 3 (ipykernel)",
   "language": "python",
   "name": "python3"
  },
  "language_info": {
   "codemirror_mode": {
    "name": "ipython",
    "version": 3
   },
   "file_extension": ".py",
   "mimetype": "text/x-python",
   "name": "python",
   "nbconvert_exporter": "python",
   "pygments_lexer": "ipython3",
   "version": "3.11.4"
  }
 },
 "nbformat": 4,
 "nbformat_minor": 5
}
