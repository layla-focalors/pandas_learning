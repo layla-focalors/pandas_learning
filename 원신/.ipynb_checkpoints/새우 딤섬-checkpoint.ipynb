{
 "cells": [
  {
   "cell_type": "markdown",
   "id": "8a4ce511",
   "metadata": {},
   "source": [
    "### 수정 새우딤섬\n",
    "\n",
    "\"수정 새우딤섬\"은 원신 게임에서 사용되는 2성 등급의 음식입니다¹. 이 음식은 신선한 새우가 통째로 들어간 리월의 전통 과자로, 반투명하고 얇은 피 안에 먹음직스러운 핑크빛 속살이 살짝 보입니다¹. 씹으면 씹을수록 쫄깃하니 맛있습니다¹. 이 음식은 선택한 캐릭터의 HP 최대치의 22%를 즉시 회복하고, 30초 동안 5초마다 HP를 380pt씩 회복하는 효과가 있습니다¹. 재료로는 쌀 3개, 생새우살 3개, 당근 2개가 필요하며, 레시피는 리월항 만민당에 위치한 NPC 묘 사부로부터 구입할 수 있습니다¹. \n",
    "\n",
    "출처: Bing과의 대화, 2023. 12. 16."
   ]
  },
  {
   "cell_type": "code",
   "execution_count": 1,
   "id": "46d1bc9a",
   "metadata": {},
   "outputs": [],
   "source": [
    "word = 'Layla'\n",
    "sent = 'Layla is very cute'"
   ]
  },
  {
   "cell_type": "code",
   "execution_count": 2,
   "id": "01504286",
   "metadata": {},
   "outputs": [
    {
     "data": {
      "text/plain": [
       "'L'"
      ]
     },
     "execution_count": 2,
     "metadata": {},
     "output_type": "execute_result"
    }
   ],
   "source": [
    "word[0]"
   ]
  },
  {
   "cell_type": "code",
   "execution_count": 3,
   "id": "77d7314e",
   "metadata": {},
   "outputs": [
    {
     "data": {
      "text/plain": [
       "'L'"
      ]
     },
     "execution_count": 3,
     "metadata": {},
     "output_type": "execute_result"
    }
   ],
   "source": [
    "sent[0]"
   ]
  },
  {
   "cell_type": "code",
   "execution_count": 4,
   "id": "ebf1b97e",
   "metadata": {},
   "outputs": [
    {
     "data": {
      "text/plain": [
       "'Layla'"
      ]
     },
     "execution_count": 4,
     "metadata": {},
     "output_type": "execute_result"
    }
   ],
   "source": [
    "word[0:5]"
   ]
  },
  {
   "cell_type": "code",
   "execution_count": 5,
   "id": "bf123ec1",
   "metadata": {},
   "outputs": [
    {
     "data": {
      "text/plain": [
       "'Layla'"
      ]
     },
     "execution_count": 5,
     "metadata": {},
     "output_type": "execute_result"
    }
   ],
   "source": [
    "sent[:5]"
   ]
  },
  {
   "cell_type": "code",
   "execution_count": 6,
   "id": "a7270122",
   "metadata": {},
   "outputs": [
    {
     "data": {
      "text/plain": [
       "'The Layla is cute because she was cute'"
      ]
     },
     "execution_count": 6,
     "metadata": {},
     "output_type": "execute_result"
    }
   ],
   "source": [
    "'The Layla is cute because she was cute'[:]"
   ]
  },
  {
   "cell_type": "code",
   "execution_count": 7,
   "id": "2909a8e4",
   "metadata": {},
   "outputs": [],
   "source": [
    "text = 'The Layla is cute because she was cute'"
   ]
  },
  {
   "cell_type": "code",
   "execution_count": 8,
   "id": "3b1a2376",
   "metadata": {},
   "outputs": [
    {
     "data": {
      "text/plain": [
       "'The Layla is cute because she was cute'"
      ]
     },
     "execution_count": 8,
     "metadata": {},
     "output_type": "execute_result"
    }
   ],
   "source": [
    "text[:]"
   ]
  },
  {
   "cell_type": "code",
   "execution_count": 9,
   "id": "f44df2e8",
   "metadata": {},
   "outputs": [
    {
     "data": {
      "text/plain": [
       "'The Layla is cute because she was cute'"
      ]
     },
     "execution_count": 9,
     "metadata": {},
     "output_type": "execute_result"
    }
   ],
   "source": [
    "text[:len(text)]"
   ]
  },
  {
   "cell_type": "code",
   "execution_count": 10,
   "id": "82285ad7",
   "metadata": {},
   "outputs": [
    {
     "data": {
      "text/plain": [
       "'ry c'"
      ]
     },
     "execution_count": 10,
     "metadata": {},
     "output_type": "execute_result"
    }
   ],
   "source": [
    "sent[-7:-3]"
   ]
  },
  {
   "cell_type": "code",
   "execution_count": 11,
   "id": "79adbf83",
   "metadata": {},
   "outputs": [
    {
     "data": {
      "text/plain": [
       "'0.000103108 output'"
      ]
     },
     "execution_count": 11,
     "metadata": {},
     "output_type": "execute_result"
    }
   ],
   "source": [
    "'{0:4.6} output'.format(7/67890)"
   ]
  },
  {
   "cell_type": "code",
   "execution_count": 13,
   "id": "4eb25802",
   "metadata": {},
   "outputs": [
    {
     "data": {
      "text/plain": [
       "'ute'"
      ]
     },
     "execution_count": 13,
     "metadata": {},
     "output_type": "execute_result"
    }
   ],
   "source": [
    "sent[-3:]"
   ]
  },
  {
   "cell_type": "code",
   "execution_count": 14,
   "id": "5801ee0a",
   "metadata": {},
   "outputs": [
    {
     "data": {
      "text/plain": [
       "'Lay'"
      ]
     },
     "execution_count": 14,
     "metadata": {},
     "output_type": "execute_result"
    }
   ],
   "source": [
    "word[:3]"
   ]
  },
  {
   "cell_type": "code",
   "execution_count": 15,
   "id": "991eed52",
   "metadata": {},
   "outputs": [
    {
     "data": {
      "text/plain": [
       "'Lay'"
      ]
     },
     "execution_count": 15,
     "metadata": {},
     "output_type": "execute_result"
    }
   ],
   "source": [
    "word[0:3]"
   ]
  },
  {
   "cell_type": "code",
   "execution_count": 16,
   "id": "afba13a6",
   "metadata": {},
   "outputs": [
    {
     "data": {
      "text/plain": [
       "'a is very cute'"
      ]
     },
     "execution_count": 16,
     "metadata": {},
     "output_type": "execute_result"
    }
   ],
   "source": [
    "sent[4:]"
   ]
  },
  {
   "cell_type": "code",
   "execution_count": 17,
   "id": "afafa63e",
   "metadata": {},
   "outputs": [
    {
     "data": {
      "text/plain": [
       "'Layla is very cute'"
      ]
     },
     "execution_count": 17,
     "metadata": {},
     "output_type": "execute_result"
    }
   ],
   "source": [
    "sent[:]"
   ]
  },
  {
   "cell_type": "code",
   "execution_count": 18,
   "id": "46fe3c8a",
   "metadata": {},
   "outputs": [
    {
     "data": {
      "text/plain": [
       "'Lyai eyct'"
      ]
     },
     "execution_count": 18,
     "metadata": {},
     "output_type": "execute_result"
    }
   ],
   "source": [
    "sent[::2]"
   ]
  },
  {
   "cell_type": "code",
   "execution_count": 19,
   "id": "6f374208",
   "metadata": {},
   "outputs": [],
   "source": [
    "a = 'Name : Layla'\n",
    "b = 'Stduent ID : 00000001'\n",
    "c = 'Hobby : Study'\n",
    "d = 'Comment : cute'"
   ]
  },
  {
   "cell_type": "code",
   "execution_count": 20,
   "id": "588750a8",
   "metadata": {},
   "outputs": [
    {
     "data": {
      "text/plain": [
       "'Name : Layla Stduent ID : 00000001 Hobby : Study Comment : cute'"
      ]
     },
     "execution_count": 20,
     "metadata": {},
     "output_type": "execute_result"
    }
   ],
   "source": [
    "\" \".join([a, b, c, d])"
   ]
  },
  {
   "cell_type": "code",
   "execution_count": 21,
   "id": "b586feeb",
   "metadata": {},
   "outputs": [],
   "source": [
    "star = \"\"\"Guard: What? Ridden en a horse?\n",
    "Queen Raiden: Yes!\n",
    "Guard: You're using coconuts\n",
    "Queen Raiden: What?\n",
    "Guard: You've Got ... coconuts[s] and you're banaglin em together\"\"\""
   ]
  },
  {
   "cell_type": "code",
   "execution_count": 23,
   "id": "508261f6",
   "metadata": {},
   "outputs": [
    {
     "data": {
      "text/plain": [
       "\"Guard: What? Ridden en a horse?\\nQueen Raiden: Yes!\\nGuard: You're using coconuts\\nQueen Raiden: What?\\nGuard: You've Got ... coconuts[s] and you're banaglin em together\""
      ]
     },
     "execution_count": 23,
     "metadata": {},
     "output_type": "execute_result"
    }
   ],
   "source": [
    "star"
   ]
  },
  {
   "cell_type": "code",
   "execution_count": 24,
   "id": "5a4531fa",
   "metadata": {},
   "outputs": [
    {
     "data": {
      "text/plain": [
       "['Guard: What? Ridden en a horse?',\n",
       " \"Guard: You're using coconuts\",\n",
       " \"Guard: You've Got ... coconuts[s] and you're banaglin em together\"]"
      ]
     },
     "execution_count": 24,
     "metadata": {},
     "output_type": "execute_result"
    }
   ],
   "source": [
    "star.splitlines()[::2]"
   ]
  },
  {
   "cell_type": "code",
   "execution_count": 25,
   "id": "4b0099d3",
   "metadata": {},
   "outputs": [
    {
     "data": {
      "text/plain": [
       "['Yae Miko: What? Ridden en a horse?',\n",
       " \"Yae Miko: You're using coconuts\",\n",
       " \"Yae Miko: You've Got ... coconuts[s] and you're banaglin em together\"]"
      ]
     },
     "execution_count": 25,
     "metadata": {},
     "output_type": "execute_result"
    }
   ],
   "source": [
    "star.replace('Guard','Yae Miko').splitlines()[::2]"
   ]
  },
  {
   "cell_type": "code",
   "execution_count": 27,
   "id": "538fb508",
   "metadata": {},
   "outputs": [
    {
     "data": {
      "text/plain": [
       "'Layla is very cute!'"
      ]
     },
     "execution_count": 27,
     "metadata": {},
     "output_type": "execute_result"
    }
   ],
   "source": [
    "'{} is very cute!'.format('Layla')"
   ]
  },
  {
   "cell_type": "code",
   "execution_count": 28,
   "id": "2a1491e3",
   "metadata": {},
   "outputs": [
    {
     "data": {
      "text/plain": [
       "'레일라은 매우매우 착하고 귀엽고 사랑스럽습니다.\\n이 사악한 나히다은 레일라을 괴롭히는 원인 중 하나입니다.\\n'"
      ]
     },
     "execution_count": 28,
     "metadata": {},
     "output_type": "execute_result"
    }
   ],
   "source": [
    "\"\"\"{0}은 매우매우 착하고 귀엽고 사랑스럽습니다.\n",
    "이 사악한 {1}은 {0}을 괴롭히는 원인 중 하나입니다.\n",
    "\"\"\".format(\"레일라\",\"나히다\")"
   ]
  },
  {
   "cell_type": "code",
   "execution_count": 29,
   "id": "e16c3d5f",
   "metadata": {},
   "outputs": [
    {
     "data": {
      "text/plain": [
       "'나히다는 500 살 이상이다.'"
      ]
     },
     "execution_count": 29,
     "metadata": {},
     "output_type": "execute_result"
    }
   ],
   "source": [
    "\"나히다는 {age} 살 이상이다.\".format(age = 500)"
   ]
  },
  {
   "cell_type": "code",
   "execution_count": 31,
   "id": "8866df3e",
   "metadata": {},
   "outputs": [
    {
     "data": {
      "text/plain": [
       "'나는 99,999,999,999,999,999 살까지 살고 싶다'"
      ]
     },
     "execution_count": 31,
     "metadata": {},
     "output_type": "execute_result"
    }
   ],
   "source": [
    "'나는 {:,} 살까지 살고 싶다'.format(99999999999999999)"
   ]
  },
  {
   "cell_type": "code",
   "execution_count": 32,
   "id": "9bf3268d",
   "metadata": {},
   "outputs": [
    {
     "data": {
      "text/plain": [
       "'output 1 : 0.000103 and ourput2 : 0.010%'"
      ]
     },
     "execution_count": 32,
     "metadata": {},
     "output_type": "execute_result"
    }
   ],
   "source": [
    "'output 1 : {0:.3} and ourput2 : {0:.3%}'.format(7/67890)"
   ]
  },
  {
   "cell_type": "code",
   "execution_count": 34,
   "id": "b6f90458",
   "metadata": {},
   "outputs": [
    {
     "data": {
      "text/plain": [
       "'my id code is 000012'"
      ]
     },
     "execution_count": 34,
     "metadata": {},
     "output_type": "execute_result"
    }
   ],
   "source": [
    "'my id code is {0:06d}'.format(12)"
   ]
  },
  {
   "cell_type": "code",
   "execution_count": 35,
   "id": "687b87d7",
   "metadata": {},
   "outputs": [
    {
     "data": {
      "text/plain": [
       "'my love number is 10'"
      ]
     },
     "execution_count": 35,
     "metadata": {},
     "output_type": "execute_result"
    }
   ],
   "source": [
    "'my love number is %d' % 10"
   ]
  },
  {
   "cell_type": "code",
   "execution_count": 36,
   "id": "5883fc70",
   "metadata": {},
   "outputs": [
    {
     "data": {
      "text/plain": [
       "'Layla 는 매우 귀엽지만, 그녀의 수면 시간은 1.16입니다.'"
      ]
     },
     "execution_count": 36,
     "metadata": {},
     "output_type": "execute_result"
    }
   ],
   "source": [
    "'%(name)s 는 매우 귀엽지만, 그녀의 수면 시간은 %(time).2f입니다.' % ({'name':'Layla', 'time':1.1631212})"
   ]
  },
  {
   "cell_type": "code",
   "execution_count": 37,
   "id": "a0247493",
   "metadata": {},
   "outputs": [],
   "source": [
    "name = '레일라'\n",
    "month = 12\n",
    "day = 19"
   ]
  },
  {
   "cell_type": "code",
   "execution_count": 38,
   "id": "3c80e592",
   "metadata": {},
   "outputs": [
    {
     "name": "stdout",
     "output_type": "stream",
     "text": [
      "레일라! 12/19 생일 축하해!\n"
     ]
    }
   ],
   "source": [
    "print(f\"{name}! {month}/{day} 생일 축하해!\")"
   ]
  },
  {
   "cell_type": "code",
   "execution_count": 39,
   "id": "b257ba11",
   "metadata": {},
   "outputs": [],
   "source": [
    "import datetime"
   ]
  },
  {
   "cell_type": "code",
   "execution_count": 41,
   "id": "611547ab",
   "metadata": {},
   "outputs": [
    {
     "name": "stdout",
     "output_type": "stream",
     "text": [
      "t1 : 2023-12-16 21:53:23.609298\n",
      "t2 : 1970-01-01 00:00:00\n",
      "t3 : 1970-12-12 13:24:34\n"
     ]
    }
   ],
   "source": [
    "print(f\"t1 : {datetime.datetime.now()}\")\n",
    "print(f\"t2 : {datetime.datetime(1970,1,1)}\")\n",
    "print(f\"t3 : {datetime.datetime(1970, 12, 12, 13, 24, 34)}\")\n"
   ]
  },
  {
   "cell_type": "code",
   "execution_count": 42,
   "id": "3c5d5a7a",
   "metadata": {},
   "outputs": [],
   "source": [
    "import re"
   ]
  },
  {
   "cell_type": "code",
   "execution_count": 44,
   "id": "4811d2ed",
   "metadata": {},
   "outputs": [
    {
     "data": {
      "text/plain": [
       "<re.Match object; span=(0, 10), match='1234567890'>"
      ]
     },
     "execution_count": 44,
     "metadata": {},
     "output_type": "execute_result"
    }
   ],
   "source": [
    "ax  = re.match(pattern='\\d{10}', string = '1234567890')\n",
    "ax"
   ]
  },
  {
   "cell_type": "code",
   "execution_count": 45,
   "id": "bf31f69b",
   "metadata": {},
   "outputs": [
    {
     "name": "stdout",
     "output_type": "stream",
     "text": [
      "match\n"
     ]
    }
   ],
   "source": [
    "print(\"match\" if bool(ax) else \"unmatch\")"
   ]
  },
  {
   "cell_type": "code",
   "execution_count": 46,
   "id": "2e1d38af",
   "metadata": {},
   "outputs": [
    {
     "data": {
      "text/plain": [
       "0"
      ]
     },
     "execution_count": 46,
     "metadata": {},
     "output_type": "execute_result"
    }
   ],
   "source": [
    "ax.start()"
   ]
  },
  {
   "cell_type": "code",
   "execution_count": 47,
   "id": "8a9b1054",
   "metadata": {},
   "outputs": [
    {
     "data": {
      "text/plain": [
       "10"
      ]
     },
     "execution_count": 47,
     "metadata": {},
     "output_type": "execute_result"
    }
   ],
   "source": [
    "ax.end()"
   ]
  },
  {
   "cell_type": "code",
   "execution_count": 48,
   "id": "ee2f7c9a",
   "metadata": {},
   "outputs": [
    {
     "data": {
      "text/plain": [
       "(0, 10)"
      ]
     },
     "execution_count": 48,
     "metadata": {},
     "output_type": "execute_result"
    }
   ],
   "source": [
    "ax.span()"
   ]
  },
  {
   "cell_type": "code",
   "execution_count": 49,
   "id": "abaa06ca",
   "metadata": {},
   "outputs": [
    {
     "data": {
      "text/plain": [
       "'1234567890'"
      ]
     },
     "execution_count": 49,
     "metadata": {},
     "output_type": "execute_result"
    }
   ],
   "source": [
    "ax.group()"
   ]
  },
  {
   "cell_type": "code",
   "execution_count": null,
   "id": "4385b1d5",
   "metadata": {},
   "outputs": [],
   "source": []
  }
 ],
 "metadata": {
  "kernelspec": {
   "display_name": "Python 3 (ipykernel)",
   "language": "python",
   "name": "python3"
  },
  "language_info": {
   "codemirror_mode": {
    "name": "ipython",
    "version": 3
   },
   "file_extension": ".py",
   "mimetype": "text/x-python",
   "name": "python",
   "nbconvert_exporter": "python",
   "pygments_lexer": "ipython3",
   "version": "3.11.4"
  }
 },
 "nbformat": 4,
 "nbformat_minor": 5
}
