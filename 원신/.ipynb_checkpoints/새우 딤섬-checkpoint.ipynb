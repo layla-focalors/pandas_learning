{
 "cells": [
  {
   "cell_type": "markdown",
   "id": "50f5547a",
   "metadata": {},
   "source": [
    "### 수정 새우딤섬\n",
    "\n",
    "\"수정 새우딤섬\"은 원신 게임에서 사용되는 2성 등급의 음식입니다¹. 이 음식은 신선한 새우가 통째로 들어간 리월의 전통 과자로, 반투명하고 얇은 피 안에 먹음직스러운 핑크빛 속살이 살짝 보입니다¹. 씹으면 씹을수록 쫄깃하니 맛있습니다¹. 이 음식은 선택한 캐릭터의 HP 최대치의 22%를 즉시 회복하고, 30초 동안 5초마다 HP를 380pt씩 회복하는 효과가 있습니다¹. 재료로는 쌀 3개, 생새우살 3개, 당근 2개가 필요하며, 레시피는 리월항 만민당에 위치한 NPC 묘 사부로부터 구입할 수 있습니다¹. \n",
    "\n",
    "출처: Bing과의 대화, 2023. 12. 16."
   ]
  },
  {
   "cell_type": "code",
   "execution_count": 1,
   "id": "c0fe93fe",
   "metadata": {},
   "outputs": [],
   "source": [
    "word = 'Layla'\n",
    "sent = 'Layla is very cute'"
   ]
  },
  {
   "cell_type": "code",
   "execution_count": 2,
   "id": "cd0121d7",
   "metadata": {},
   "outputs": [
    {
     "data": {
      "text/plain": [
       "'L'"
      ]
     },
     "execution_count": 2,
     "metadata": {},
     "output_type": "execute_result"
    }
   ],
   "source": [
    "word[0]"
   ]
  },
  {
   "cell_type": "code",
   "execution_count": 3,
   "id": "39cdbd84",
   "metadata": {},
   "outputs": [
    {
     "data": {
      "text/plain": [
       "'L'"
      ]
     },
     "execution_count": 3,
     "metadata": {},
     "output_type": "execute_result"
    }
   ],
   "source": [
    "sent[0]"
   ]
  },
  {
   "cell_type": "code",
   "execution_count": 4,
   "id": "d0552870",
   "metadata": {},
   "outputs": [
    {
     "data": {
      "text/plain": [
       "'Layla'"
      ]
     },
     "execution_count": 4,
     "metadata": {},
     "output_type": "execute_result"
    }
   ],
   "source": [
    "word[0:5]"
   ]
  },
  {
   "cell_type": "code",
   "execution_count": 5,
   "id": "ba1c3f2c",
   "metadata": {},
   "outputs": [
    {
     "data": {
      "text/plain": [
       "'Layla'"
      ]
     },
     "execution_count": 5,
     "metadata": {},
     "output_type": "execute_result"
    }
   ],
   "source": [
    "sent[:5]"
   ]
  },
  {
   "cell_type": "code",
   "execution_count": 6,
   "id": "15499c49",
   "metadata": {},
   "outputs": [
    {
     "data": {
      "text/plain": [
       "'The Layla is cute because she was cute'"
      ]
     },
     "execution_count": 6,
     "metadata": {},
     "output_type": "execute_result"
    }
   ],
   "source": [
    "'The Layla is cute because she was cute'[:]"
   ]
  },
  {
   "cell_type": "code",
   "execution_count": 7,
   "id": "65c0c103",
   "metadata": {},
   "outputs": [],
   "source": [
    "text = 'The Layla is cute because she was cute'"
   ]
  },
  {
   "cell_type": "code",
   "execution_count": 8,
   "id": "4008ef23",
   "metadata": {},
   "outputs": [
    {
     "data": {
      "text/plain": [
       "'The Layla is cute because she was cute'"
      ]
     },
     "execution_count": 8,
     "metadata": {},
     "output_type": "execute_result"
    }
   ],
   "source": [
    "text[:]"
   ]
  },
  {
   "cell_type": "code",
   "execution_count": 9,
   "id": "bb3a80c2",
   "metadata": {},
   "outputs": [
    {
     "data": {
      "text/plain": [
       "'The Layla is cute because she was cute'"
      ]
     },
     "execution_count": 9,
     "metadata": {},
     "output_type": "execute_result"
    }
   ],
   "source": [
    "text[:len(text)]"
   ]
  },
  {
   "cell_type": "code",
   "execution_count": 10,
   "id": "4b99c262",
   "metadata": {},
   "outputs": [
    {
     "data": {
      "text/plain": [
       "'ry c'"
      ]
     },
     "execution_count": 10,
     "metadata": {},
     "output_type": "execute_result"
    }
   ],
   "source": [
    "sent[-7:-3]"
   ]
  },
  {
   "cell_type": "code",
   "execution_count": 11,
   "id": "6fff23cb",
   "metadata": {},
   "outputs": [
    {
     "data": {
      "text/plain": [
       "'0.000103108 output'"
      ]
     },
     "execution_count": 11,
     "metadata": {},
     "output_type": "execute_result"
    }
   ],
   "source": [
    "'{0:4.6} output'.format(7/67890)"
   ]
  },
  {
   "cell_type": "code",
   "execution_count": 13,
   "id": "e28d915b",
   "metadata": {},
   "outputs": [
    {
     "data": {
      "text/plain": [
       "'ute'"
      ]
     },
     "execution_count": 13,
     "metadata": {},
     "output_type": "execute_result"
    }
   ],
   "source": [
    "sent[-3:]"
   ]
  },
  {
   "cell_type": "code",
   "execution_count": 14,
   "id": "6cf277d1",
   "metadata": {},
   "outputs": [
    {
     "data": {
      "text/plain": [
       "'Lay'"
      ]
     },
     "execution_count": 14,
     "metadata": {},
     "output_type": "execute_result"
    }
   ],
   "source": [
    "word[:3]"
   ]
  },
  {
   "cell_type": "code",
   "execution_count": 15,
   "id": "d4f95577",
   "metadata": {},
   "outputs": [
    {
     "data": {
      "text/plain": [
       "'Lay'"
      ]
     },
     "execution_count": 15,
     "metadata": {},
     "output_type": "execute_result"
    }
   ],
   "source": [
    "word[0:3]"
   ]
  },
  {
   "cell_type": "code",
   "execution_count": 16,
   "id": "8b925aae",
   "metadata": {},
   "outputs": [
    {
     "data": {
      "text/plain": [
       "'a is very cute'"
      ]
     },
     "execution_count": 16,
     "metadata": {},
     "output_type": "execute_result"
    }
   ],
   "source": [
    "sent[4:]"
   ]
  },
  {
   "cell_type": "code",
   "execution_count": 17,
   "id": "8541451d",
   "metadata": {},
   "outputs": [
    {
     "data": {
      "text/plain": [
       "'Layla is very cute'"
      ]
     },
     "execution_count": 17,
     "metadata": {},
     "output_type": "execute_result"
    }
   ],
   "source": [
    "sent[:]"
   ]
  },
  {
   "cell_type": "code",
   "execution_count": 18,
   "id": "bf43802c",
   "metadata": {},
   "outputs": [
    {
     "data": {
      "text/plain": [
       "'Lyai eyct'"
      ]
     },
     "execution_count": 18,
     "metadata": {},
     "output_type": "execute_result"
    }
   ],
   "source": [
    "sent[::2]"
   ]
  },
  {
   "cell_type": "code",
   "execution_count": 19,
   "id": "ee3ec56c",
   "metadata": {},
   "outputs": [],
   "source": [
    "a = 'Name : Layla'\n",
    "b = 'Stduent ID : 00000001'\n",
    "c = 'Hobby : Study'\n",
    "d = 'Comment : cute'"
   ]
  },
  {
   "cell_type": "code",
   "execution_count": 20,
   "id": "6e505307",
   "metadata": {},
   "outputs": [
    {
     "data": {
      "text/plain": [
       "'Name : Layla Stduent ID : 00000001 Hobby : Study Comment : cute'"
      ]
     },
     "execution_count": 20,
     "metadata": {},
     "output_type": "execute_result"
    }
   ],
   "source": [
    "\" \".join([a, b, c, d])"
   ]
  },
  {
   "cell_type": "code",
   "execution_count": 21,
   "id": "cd4674b1",
   "metadata": {},
   "outputs": [],
   "source": [
    "star = \"\"\"Guard: What? Ridden en a horse?\n",
    "Queen Raiden: Yes!\n",
    "Guard: You're using coconuts\n",
    "Queen Raiden: What?\n",
    "Guard: You've Got ... coconuts[s] and you're banaglin em together\"\"\""
   ]
  },
  {
   "cell_type": "code",
   "execution_count": 23,
   "id": "a951983f",
   "metadata": {},
   "outputs": [
    {
     "data": {
      "text/plain": [
       "\"Guard: What? Ridden en a horse?\\nQueen Raiden: Yes!\\nGuard: You're using coconuts\\nQueen Raiden: What?\\nGuard: You've Got ... coconuts[s] and you're banaglin em together\""
      ]
     },
     "execution_count": 23,
     "metadata": {},
     "output_type": "execute_result"
    }
   ],
   "source": [
    "star"
   ]
  },
  {
   "cell_type": "code",
   "execution_count": 24,
   "id": "d1aff29f",
   "metadata": {},
   "outputs": [
    {
     "data": {
      "text/plain": [
       "['Guard: What? Ridden en a horse?',\n",
       " \"Guard: You're using coconuts\",\n",
       " \"Guard: You've Got ... coconuts[s] and you're banaglin em together\"]"
      ]
     },
     "execution_count": 24,
     "metadata": {},
     "output_type": "execute_result"
    }
   ],
   "source": [
    "star.splitlines()[::2]"
   ]
  },
  {
   "cell_type": "code",
   "execution_count": 25,
   "id": "2123561e",
   "metadata": {},
   "outputs": [
    {
     "data": {
      "text/plain": [
       "['Yae Miko: What? Ridden en a horse?',\n",
       " \"Yae Miko: You're using coconuts\",\n",
       " \"Yae Miko: You've Got ... coconuts[s] and you're banaglin em together\"]"
      ]
     },
     "execution_count": 25,
     "metadata": {},
     "output_type": "execute_result"
    }
   ],
   "source": [
    "star.replace('Guard','Yae Miko').splitlines()[::2]"
   ]
  },
  {
   "cell_type": "code",
   "execution_count": 27,
   "id": "6c5b974c",
   "metadata": {},
   "outputs": [
    {
     "data": {
      "text/plain": [
       "'Layla is very cute!'"
      ]
     },
     "execution_count": 27,
     "metadata": {},
     "output_type": "execute_result"
    }
   ],
   "source": [
    "'{} is very cute!'.format('Layla')"
   ]
  },
  {
   "cell_type": "code",
   "execution_count": 28,
   "id": "ef3eef8f",
   "metadata": {},
   "outputs": [
    {
     "data": {
      "text/plain": [
       "'레일라은 매우매우 착하고 귀엽고 사랑스럽습니다.\\n이 사악한 나히다은 레일라을 괴롭히는 원인 중 하나입니다.\\n'"
      ]
     },
     "execution_count": 28,
     "metadata": {},
     "output_type": "execute_result"
    }
   ],
   "source": [
    "\"\"\"{0}은 매우매우 착하고 귀엽고 사랑스럽습니다.\n",
    "이 사악한 {1}은 {0}을 괴롭히는 원인 중 하나입니다.\n",
    "\"\"\".format(\"레일라\",\"나히다\")"
   ]
  },
  {
   "cell_type": "code",
   "execution_count": 29,
   "id": "688e07d4",
   "metadata": {},
   "outputs": [
    {
     "data": {
      "text/plain": [
       "'나히다는 500 살 이상이다.'"
      ]
     },
     "execution_count": 29,
     "metadata": {},
     "output_type": "execute_result"
    }
   ],
   "source": [
    "\"나히다는 {age} 살 이상이다.\".format(age = 500)"
   ]
  },
  {
   "cell_type": "code",
   "execution_count": 31,
   "id": "96eed782",
   "metadata": {},
   "outputs": [
    {
     "data": {
      "text/plain": [
       "'나는 99,999,999,999,999,999 살까지 살고 싶다'"
      ]
     },
     "execution_count": 31,
     "metadata": {},
     "output_type": "execute_result"
    }
   ],
   "source": [
    "'나는 {:,} 살까지 살고 싶다'.format(99999999999999999)"
   ]
  },
  {
   "cell_type": "code",
   "execution_count": 32,
   "id": "910c04c9",
   "metadata": {},
   "outputs": [
    {
     "data": {
      "text/plain": [
       "'output 1 : 0.000103 and ourput2 : 0.010%'"
      ]
     },
     "execution_count": 32,
     "metadata": {},
     "output_type": "execute_result"
    }
   ],
   "source": [
    "'output 1 : {0:.3} and ourput2 : {0:.3%}'.format(7/67890)"
   ]
  },
  {
   "cell_type": "code",
   "execution_count": 34,
   "id": "e11f5ca5",
   "metadata": {},
   "outputs": [
    {
     "data": {
      "text/plain": [
       "'my id code is 000012'"
      ]
     },
     "execution_count": 34,
     "metadata": {},
     "output_type": "execute_result"
    }
   ],
   "source": [
    "'my id code is {0:06d}'.format(12)"
   ]
  },
  {
   "cell_type": "code",
   "execution_count": 35,
   "id": "067b0210",
   "metadata": {},
   "outputs": [
    {
     "data": {
      "text/plain": [
       "'my love number is 10'"
      ]
     },
     "execution_count": 35,
     "metadata": {},
     "output_type": "execute_result"
    }
   ],
   "source": [
    "'my love number is %d' % 10"
   ]
  },
  {
   "cell_type": "code",
   "execution_count": 36,
   "id": "7ec8e1ca",
   "metadata": {},
   "outputs": [
    {
     "data": {
      "text/plain": [
       "'Layla 는 매우 귀엽지만, 그녀의 수면 시간은 1.16입니다.'"
      ]
     },
     "execution_count": 36,
     "metadata": {},
     "output_type": "execute_result"
    }
   ],
   "source": [
    "'%(name)s 는 매우 귀엽지만, 그녀의 수면 시간은 %(time).2f입니다.' % ({'name':'Layla', 'time':1.1631212})"
   ]
  },
  {
   "cell_type": "code",
   "execution_count": 37,
   "id": "fde303c7",
   "metadata": {},
   "outputs": [],
   "source": [
    "name = '레일라'\n",
    "month = 12\n",
    "day = 19"
   ]
  },
  {
   "cell_type": "code",
   "execution_count": 38,
   "id": "b1273410",
   "metadata": {},
   "outputs": [
    {
     "name": "stdout",
     "output_type": "stream",
     "text": [
      "레일라! 12/19 생일 축하해!\n"
     ]
    }
   ],
   "source": [
    "print(f\"{name}! {month}/{day} 생일 축하해!\")"
   ]
  },
  {
   "cell_type": "code",
   "execution_count": 39,
   "id": "c2ebef1f",
   "metadata": {},
   "outputs": [],
   "source": [
    "import datetime"
   ]
  },
  {
   "cell_type": "code",
   "execution_count": 41,
   "id": "5711a188",
   "metadata": {},
   "outputs": [
    {
     "name": "stdout",
     "output_type": "stream",
     "text": [
      "t1 : 2023-12-16 21:53:23.609298\n",
      "t2 : 1970-01-01 00:00:00\n",
      "t3 : 1970-12-12 13:24:34\n"
     ]
    }
   ],
   "source": [
    "print(f\"t1 : {datetime.datetime.now()}\")\n",
    "print(f\"t2 : {datetime.datetime(1970,1,1)}\")\n",
    "print(f\"t3 : {datetime.datetime(1970, 12, 12, 13, 24, 34)}\")\n"
   ]
  },
  {
   "cell_type": "code",
   "execution_count": 42,
   "id": "fdec92ab",
   "metadata": {},
   "outputs": [],
   "source": [
    "import re"
   ]
  },
  {
   "cell_type": "code",
   "execution_count": 44,
   "id": "414e3dc2",
   "metadata": {},
   "outputs": [
    {
     "data": {
      "text/plain": [
       "<re.Match object; span=(0, 10), match='1234567890'>"
      ]
     },
     "execution_count": 44,
     "metadata": {},
     "output_type": "execute_result"
    }
   ],
   "source": [
    "ax  = re.match(pattern='\\d{10}', string = '1234567890')\n",
    "ax"
   ]
  },
  {
   "cell_type": "code",
   "execution_count": 45,
   "id": "87481387",
   "metadata": {},
   "outputs": [
    {
     "name": "stdout",
     "output_type": "stream",
     "text": [
      "match\n"
     ]
    }
   ],
   "source": [
    "print(\"match\" if bool(ax) else \"unmatch\")"
   ]
  },
  {
   "cell_type": "code",
   "execution_count": 46,
   "id": "7a468f4e",
   "metadata": {},
   "outputs": [
    {
     "data": {
      "text/plain": [
       "0"
      ]
     },
     "execution_count": 46,
     "metadata": {},
     "output_type": "execute_result"
    }
   ],
   "source": [
    "ax.start()"
   ]
  },
  {
   "cell_type": "code",
   "execution_count": 47,
   "id": "01336089",
   "metadata": {},
   "outputs": [
    {
     "data": {
      "text/plain": [
       "10"
      ]
     },
     "execution_count": 47,
     "metadata": {},
     "output_type": "execute_result"
    }
   ],
   "source": [
    "ax.end()"
   ]
  },
  {
   "cell_type": "code",
   "execution_count": 48,
   "id": "ab8f4912",
   "metadata": {},
   "outputs": [
    {
     "data": {
      "text/plain": [
       "(0, 10)"
      ]
     },
     "execution_count": 48,
     "metadata": {},
     "output_type": "execute_result"
    }
   ],
   "source": [
    "ax.span()"
   ]
  },
  {
   "cell_type": "code",
   "execution_count": 49,
   "id": "0ff5fa2f",
   "metadata": {},
   "outputs": [
    {
     "data": {
      "text/plain": [
       "'1234567890'"
      ]
     },
     "execution_count": 49,
     "metadata": {},
     "output_type": "execute_result"
    }
   ],
   "source": [
    "ax.group()"
   ]
  },
  {
   "cell_type": "code",
   "execution_count": 50,
   "id": "cfbd35d7",
   "metadata": {},
   "outputs": [
    {
     "data": {
      "text/plain": [
       "<re.Match object; span=(0, 13), match='123 4567 8901'>"
      ]
     },
     "execution_count": 50,
     "metadata": {},
     "output_type": "execute_result"
    }
   ],
   "source": [
    "re.match(pattern='\\d{3}\\s\\d{4}\\s\\d{4}', string = '123 4567 8901')"
   ]
  },
  {
   "cell_type": "code",
   "execution_count": 51,
   "id": "97e50400",
   "metadata": {},
   "outputs": [
    {
     "data": {
      "text/plain": [
       "<re.Match object; span=(0, 14), match='(123) 456-7890'>"
      ]
     },
     "execution_count": 51,
     "metadata": {},
     "output_type": "execute_result"
    }
   ],
   "source": [
    "re.match(pattern='\\(\\d{3}\\)\\s\\d{3}\\-\\d{4}', string = '(123) 456-7890')"
   ]
  },
  {
   "cell_type": "code",
   "execution_count": 52,
   "id": "01e755a4",
   "metadata": {},
   "outputs": [
    {
     "data": {
      "text/plain": [
       "<re.Match object; span=(0, 17), match='+1 (123) 456-7890'>"
      ]
     },
     "execution_count": 52,
     "metadata": {},
     "output_type": "execute_result"
    }
   ],
   "source": [
    "re.match(pattern='\\+\\d\\s\\(\\d{3}\\)\\s\\d{3}\\-\\d{4}', string = '+1 (123) 456-7890')"
   ]
  }
 ],
 "metadata": {
  "kernelspec": {
   "display_name": "Python 3 (ipykernel)",
   "language": "python",
   "name": "python3"
  },
  "language_info": {
   "codemirror_mode": {
    "name": "ipython",
    "version": 3
   },
   "file_extension": ".py",
   "mimetype": "text/x-python",
   "name": "python",
   "nbconvert_exporter": "python",
   "pygments_lexer": "ipython3",
   "version": "3.11.4"
  }
 },
 "nbformat": 4,
 "nbformat_minor": 5
}
