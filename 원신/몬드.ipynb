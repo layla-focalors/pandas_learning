{
 "cells": [
  {
   "cell_type": "code",
   "execution_count": 1,
   "id": "36da5328",
   "metadata": {},
   "outputs": [],
   "source": [
    "word = 'Layla'"
   ]
  },
  {
   "cell_type": "code",
   "execution_count": 2,
   "id": "f7d7d518",
   "metadata": {},
   "outputs": [],
   "source": [
    "sent = 'Layla is cute'"
   ]
  },
  {
   "cell_type": "code",
   "execution_count": 3,
   "id": "db448273",
   "metadata": {},
   "outputs": [
    {
     "data": {
      "text/plain": [
       "'L'"
      ]
     },
     "execution_count": 3,
     "metadata": {},
     "output_type": "execute_result"
    }
   ],
   "source": [
    "word[0]"
   ]
  },
  {
   "cell_type": "code",
   "execution_count": 4,
   "id": "e4b095a8",
   "metadata": {},
   "outputs": [
    {
     "data": {
      "text/plain": [
       "'L'"
      ]
     },
     "execution_count": 4,
     "metadata": {},
     "output_type": "execute_result"
    }
   ],
   "source": [
    "sent[0]"
   ]
  },
  {
   "cell_type": "code",
   "execution_count": 6,
   "id": "a201ed12",
   "metadata": {},
   "outputs": [
    {
     "data": {
      "text/plain": [
       "'Layla'"
      ]
     },
     "execution_count": 6,
     "metadata": {},
     "output_type": "execute_result"
    }
   ],
   "source": [
    "sent[0:5]"
   ]
  },
  {
   "cell_type": "code",
   "execution_count": 7,
   "id": "03f1cbad",
   "metadata": {},
   "outputs": [
    {
     "data": {
      "text/plain": [
       "'Layla is cute'"
      ]
     },
     "execution_count": 7,
     "metadata": {},
     "output_type": "execute_result"
    }
   ],
   "source": [
    "sent[ : ]"
   ]
  },
  {
   "cell_type": "code",
   "execution_count": 8,
   "id": "66a9c67e",
   "metadata": {},
   "outputs": [
    {
     "data": {
      "text/plain": [
       "'Layla'"
      ]
     },
     "execution_count": 8,
     "metadata": {},
     "output_type": "execute_result"
    }
   ],
   "source": [
    "sent[:len(word)]"
   ]
  },
  {
   "cell_type": "code",
   "execution_count": 9,
   "id": "7a434043",
   "metadata": {},
   "outputs": [],
   "source": [
    "text = 'The Layla is cute, because she was cute'"
   ]
  },
  {
   "cell_type": "code",
   "execution_count": 10,
   "id": "c9bd13fb",
   "metadata": {},
   "outputs": [
    {
     "data": {
      "text/plain": [
       "'The Layla is cute, because she was cute'"
      ]
     },
     "execution_count": 10,
     "metadata": {},
     "output_type": "execute_result"
    }
   ],
   "source": [
    "text"
   ]
  },
  {
   "cell_type": "code",
   "execution_count": 11,
   "id": "902c5871",
   "metadata": {},
   "outputs": [
    {
     "data": {
      "text/plain": [
       "'The Layla is cute, because she was cute'"
      ]
     },
     "execution_count": 11,
     "metadata": {},
     "output_type": "execute_result"
    }
   ],
   "source": [
    "text[:len(text)]"
   ]
  },
  {
   "cell_type": "code",
   "execution_count": 12,
   "id": "649c2fb7",
   "metadata": {},
   "outputs": [
    {
     "data": {
      "text/plain": [
       "'is c'"
      ]
     },
     "execution_count": 12,
     "metadata": {},
     "output_type": "execute_result"
    }
   ],
   "source": [
    "sent[-7:-3]"
   ]
  },
  {
   "cell_type": "code",
   "execution_count": 13,
   "id": "29bd1d58",
   "metadata": {},
   "outputs": [
    {
     "data": {
      "text/plain": [
       "'0.000103108 output'"
      ]
     },
     "execution_count": 13,
     "metadata": {},
     "output_type": "execute_result"
    }
   ],
   "source": [
    "'{0:4.6} output'.format(7/67890)"
   ]
  },
  {
   "cell_type": "code",
   "execution_count": 15,
   "id": "48d2ecea",
   "metadata": {},
   "outputs": [
    {
     "data": {
      "text/plain": [
       "'ute'"
      ]
     },
     "execution_count": 15,
     "metadata": {},
     "output_type": "execute_result"
    }
   ],
   "source": [
    "sent[-3:]"
   ]
  },
  {
   "cell_type": "code",
   "execution_count": 16,
   "id": "2d9e4889",
   "metadata": {},
   "outputs": [
    {
     "data": {
      "text/plain": [
       "'Layla is cute'"
      ]
     },
     "execution_count": 16,
     "metadata": {},
     "output_type": "execute_result"
    }
   ],
   "source": [
    "sent"
   ]
  },
  {
   "cell_type": "code",
   "execution_count": 17,
   "id": "2d141d27",
   "metadata": {},
   "outputs": [
    {
     "data": {
      "text/plain": [
       "'Lay'"
      ]
     },
     "execution_count": 17,
     "metadata": {},
     "output_type": "execute_result"
    }
   ],
   "source": [
    "word[:3]"
   ]
  },
  {
   "cell_type": "code",
   "execution_count": 18,
   "id": "34b2c651",
   "metadata": {},
   "outputs": [
    {
     "data": {
      "text/plain": [
       "'Lay'"
      ]
     },
     "execution_count": 18,
     "metadata": {},
     "output_type": "execute_result"
    }
   ],
   "source": [
    "word[0:3]"
   ]
  },
  {
   "cell_type": "code",
   "execution_count": 19,
   "id": "80ad5335",
   "metadata": {},
   "outputs": [
    {
     "data": {
      "text/plain": [
       "'a is cute'"
      ]
     },
     "execution_count": 19,
     "metadata": {},
     "output_type": "execute_result"
    }
   ],
   "source": [
    "sent[4:]"
   ]
  },
  {
   "cell_type": "code",
   "execution_count": 20,
   "id": "a0d177c1",
   "metadata": {},
   "outputs": [
    {
     "data": {
      "text/plain": [
       "'Layla is cute'"
      ]
     },
     "execution_count": 20,
     "metadata": {},
     "output_type": "execute_result"
    }
   ],
   "source": [
    "sent[:]"
   ]
  },
  {
   "cell_type": "code",
   "execution_count": 21,
   "id": "a5bf0ad2",
   "metadata": {},
   "outputs": [
    {
     "data": {
      "text/plain": [
       "'Lyai ue'"
      ]
     },
     "execution_count": 21,
     "metadata": {},
     "output_type": "execute_result"
    }
   ],
   "source": [
    "sent[::2]"
   ]
  },
  {
   "cell_type": "code",
   "execution_count": 22,
   "id": "1f9bddca",
   "metadata": {},
   "outputs": [],
   "source": [
    "a = 'Name : Layla'\n",
    "b = 'StudentID : 20231111'\n",
    "c = 'Hobby : Study'\n",
    "d = 'Comment : cute'"
   ]
  },
  {
   "cell_type": "code",
   "execution_count": 24,
   "id": "6af88345",
   "metadata": {},
   "outputs": [
    {
     "data": {
      "text/plain": [
       "'Name : Layla StudentID : 20231111 Hobby : Study Comment : cute'"
      ]
     },
     "execution_count": 24,
     "metadata": {},
     "output_type": "execute_result"
    }
   ],
   "source": [
    "\" \".join([a, b, c, d])"
   ]
  },
  {
   "cell_type": "code",
   "execution_count": 25,
   "id": "105473f8",
   "metadata": {},
   "outputs": [],
   "source": [
    "strs = \"\"\"Guard: What? Ridden en a horse?\n",
    "Queen Raiden: Yes!\n",
    "Guard: You're using coconuts!\n",
    "Queen Raiden: What?\n",
    "Guard: You're Got ... coconute[s] and you're banagin em togther\n",
    "\"\"\""
   ]
  },
  {
   "cell_type": "code",
   "execution_count": 27,
   "id": "804853a4",
   "metadata": {},
   "outputs": [
    {
     "data": {
      "text/plain": [
       "\"Guard: What? Ridden en a horse?\\nQueen Raiden: Yes!\\nGuard: You're using coconuts!\\nQueen Raiden: What?\\nGuard: You're Got ... coconute[s] and you're banagin em togther\\n\""
      ]
     },
     "execution_count": 27,
     "metadata": {},
     "output_type": "execute_result"
    }
   ],
   "source": [
    "strs"
   ]
  },
  {
   "cell_type": "code",
   "execution_count": 28,
   "id": "7274dc16",
   "metadata": {},
   "outputs": [
    {
     "data": {
      "text/plain": [
       "['Guard: What? Ridden en a horse?',\n",
       " \"Guard: You're using coconuts!\",\n",
       " \"Guard: You're Got ... coconute[s] and you're banagin em togther\"]"
      ]
     },
     "execution_count": 28,
     "metadata": {},
     "output_type": "execute_result"
    }
   ],
   "source": [
    "strs.splitlines()[::2]"
   ]
  },
  {
   "cell_type": "code",
   "execution_count": 29,
   "id": "6602a63d",
   "metadata": {},
   "outputs": [
    {
     "data": {
      "text/plain": [
       "['Yae Miko: What? Ridden en a horse?',\n",
       " \"Yae Miko: You're using coconuts!\",\n",
       " \"Yae Miko: You're Got ... coconute[s] and you're banagin em togther\"]"
      ]
     },
     "execution_count": 29,
     "metadata": {},
     "output_type": "execute_result"
    }
   ],
   "source": [
    "strs.replace('Guard', \"Yae Miko\").splitlines()[::2]"
   ]
  },
  {
   "cell_type": "code",
   "execution_count": 30,
   "id": "f7228665",
   "metadata": {},
   "outputs": [
    {
     "data": {
      "text/plain": [
       "'Layla is very cute!'"
      ]
     },
     "execution_count": 30,
     "metadata": {},
     "output_type": "execute_result"
    }
   ],
   "source": [
    "'{} is very cute!'.format('Layla')"
   ]
  },
  {
   "cell_type": "code",
   "execution_count": 31,
   "id": "776a0d35",
   "metadata": {},
   "outputs": [
    {
     "data": {
      "text/plain": [
       "'레일라은 매우매우 착하고 귀엽고 사랑스럽습니다.\\n이 사악한 나히다은 레일라을 괴롭히는 원인 중 하나입니다.\\n'"
      ]
     },
     "execution_count": 31,
     "metadata": {},
     "output_type": "execute_result"
    }
   ],
   "source": [
    "\"\"\"{0}은 매우매우 착하고 귀엽고 사랑스럽습니다.\n",
    "이 사악한 {1}은 {0}을 괴롭히는 원인 중 하나입니다.\n",
    "\"\"\".format(\"레일라\",\"나히다\")"
   ]
  },
  {
   "cell_type": "code",
   "execution_count": 32,
   "id": "c8e0a382",
   "metadata": {},
   "outputs": [
    {
     "data": {
      "text/plain": [
       "'나히다는 500 살 이상이다.'"
      ]
     },
     "execution_count": 32,
     "metadata": {},
     "output_type": "execute_result"
    }
   ],
   "source": [
    "'나히다는 {age} 살 이상이다.'.format(age = 500)"
   ]
  },
  {
   "cell_type": "code",
   "execution_count": 33,
   "id": "f50ffcb5",
   "metadata": {},
   "outputs": [
    {
     "data": {
      "text/plain": [
       "'나의 통장 잔고가 909,999,999,999,999,999,999,999,999,999,999,999달러면 좋겠다'"
      ]
     },
     "execution_count": 33,
     "metadata": {},
     "output_type": "execute_result"
    }
   ],
   "source": [
    "'나의 통장 잔고가 {:,}달러면 좋겠다'.format(909999999999999999999999999999999999)"
   ]
  },
  {
   "cell_type": "code",
   "execution_count": 34,
   "id": "ba8ed4ce",
   "metadata": {},
   "outputs": [
    {
     "data": {
      "text/plain": [
       "'output1 : 0.000103\\n output2 : 0.010%'"
      ]
     },
     "execution_count": 34,
     "metadata": {},
     "output_type": "execute_result"
    }
   ],
   "source": [
    "'output1 : {0:.3}\\n output2 : {0:.3%}'.format(7/67890)"
   ]
  },
  {
   "cell_type": "code",
   "execution_count": 35,
   "id": "2079f099",
   "metadata": {},
   "outputs": [
    {
     "data": {
      "text/plain": [
       "'My id code is 000012'"
      ]
     },
     "execution_count": 35,
     "metadata": {},
     "output_type": "execute_result"
    }
   ],
   "source": [
    "'My id code is {0:06d}'.format(12)"
   ]
  },
  {
   "cell_type": "code",
   "execution_count": 36,
   "id": "44fb25de",
   "metadata": {},
   "outputs": [
    {
     "data": {
      "text/plain": [
       "'My love number is 10'"
      ]
     },
     "execution_count": 36,
     "metadata": {},
     "output_type": "execute_result"
    }
   ],
   "source": [
    "'My love number is %d' % 10"
   ]
  },
  {
   "cell_type": "code",
   "execution_count": 38,
   "id": "78b416e6",
   "metadata": {},
   "outputs": [
    {
     "data": {
      "text/plain": [
       "'Layla 는 매우 매우 귀엽고 사랑스럽지만, 그녀의 수면 시간은 고작 1.16 시간 이다.'"
      ]
     },
     "execution_count": 38,
     "metadata": {},
     "output_type": "execute_result"
    }
   ],
   "source": [
    "'%(name)s 는 매우 매우 귀엽고 사랑스럽지만, 그녀의 수면 시간은 고작 %(time).2f 시간 이다.' % ({'name' : 'Layla', 'time' : 1.1631212})"
   ]
  },
  {
   "cell_type": "code",
   "execution_count": 40,
   "id": "fb5a4779",
   "metadata": {},
   "outputs": [
    {
     "data": {
      "text/plain": [
       "'레일라! 12/19 생일 축하해!'"
      ]
     },
     "execution_count": 40,
     "metadata": {},
     "output_type": "execute_result"
    }
   ],
   "source": [
    "name = \"레일라\"\n",
    "f'{name}! 12/19 생일 축하해!'"
   ]
  },
  {
   "cell_type": "code",
   "execution_count": 41,
   "id": "b85ce7b5",
   "metadata": {},
   "outputs": [],
   "source": [
    "import datetime"
   ]
  },
  {
   "cell_type": "code",
   "execution_count": 42,
   "id": "d63749aa",
   "metadata": {},
   "outputs": [
    {
     "name": "stdout",
     "output_type": "stream",
     "text": [
      "t1 : 2023-12-17 15:20:48.820107\n",
      "t2 : 1970-01-01 00:00:00\n",
      "t3 : 1970-12-12 13:24:34\n"
     ]
    }
   ],
   "source": [
    "print(f\"t1 : {datetime.datetime.now()}\")\n",
    "print(f\"t2 : {datetime.datetime(1970, 1,1)}\")\n",
    "print(f\"t3 : {datetime.datetime(1970, 12, 12, 13, 24, 34)}\")"
   ]
  },
  {
   "cell_type": "code",
   "execution_count": 43,
   "id": "c4ada9b9",
   "metadata": {},
   "outputs": [],
   "source": [
    "import re"
   ]
  },
  {
   "cell_type": "code",
   "execution_count": 44,
   "id": "3b289389",
   "metadata": {},
   "outputs": [
    {
     "data": {
      "text/plain": [
       "<re.Match object; span=(0, 10), match='1234567890'>"
      ]
     },
     "execution_count": 44,
     "metadata": {},
     "output_type": "execute_result"
    }
   ],
   "source": [
    "re.match(pattern='\\d{10}', string = '1234567890')"
   ]
  },
  {
   "cell_type": "code",
   "execution_count": null,
   "id": "bed74512",
   "metadata": {},
   "outputs": [],
   "source": []
  }
 ],
 "metadata": {
  "kernelspec": {
   "display_name": "Python 3 (ipykernel)",
   "language": "python",
   "name": "python3"
  },
  "language_info": {
   "codemirror_mode": {
    "name": "ipython",
    "version": 3
   },
   "file_extension": ".py",
   "mimetype": "text/x-python",
   "name": "python",
   "nbconvert_exporter": "python",
   "pygments_lexer": "ipython3",
   "version": "3.11.4"
  }
 },
 "nbformat": 4,
 "nbformat_minor": 5
}
