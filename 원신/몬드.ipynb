{
 "cells": [
  {
   "cell_type": "code",
   "execution_count": 1,
   "id": "4416f7f3",
   "metadata": {},
   "outputs": [],
   "source": [
    "word = 'Layla'"
   ]
  },
  {
   "cell_type": "code",
   "execution_count": 2,
   "id": "d06cc1ee",
   "metadata": {},
   "outputs": [],
   "source": [
    "sent = 'Layla is cute'"
   ]
  },
  {
   "cell_type": "code",
   "execution_count": 3,
   "id": "93eddcab",
   "metadata": {},
   "outputs": [
    {
     "data": {
      "text/plain": [
       "'L'"
      ]
     },
     "execution_count": 3,
     "metadata": {},
     "output_type": "execute_result"
    }
   ],
   "source": [
    "word[0]"
   ]
  },
  {
   "cell_type": "code",
   "execution_count": 4,
   "id": "2144d2fc",
   "metadata": {},
   "outputs": [
    {
     "data": {
      "text/plain": [
       "'L'"
      ]
     },
     "execution_count": 4,
     "metadata": {},
     "output_type": "execute_result"
    }
   ],
   "source": [
    "sent[0]"
   ]
  },
  {
   "cell_type": "code",
   "execution_count": 6,
   "id": "d901c159",
   "metadata": {},
   "outputs": [
    {
     "data": {
      "text/plain": [
       "'Layla'"
      ]
     },
     "execution_count": 6,
     "metadata": {},
     "output_type": "execute_result"
    }
   ],
   "source": [
    "sent[0:5]"
   ]
  },
  {
   "cell_type": "code",
   "execution_count": 7,
   "id": "7d362f7c",
   "metadata": {},
   "outputs": [
    {
     "data": {
      "text/plain": [
       "'Layla is cute'"
      ]
     },
     "execution_count": 7,
     "metadata": {},
     "output_type": "execute_result"
    }
   ],
   "source": [
    "sent[ : ]"
   ]
  },
  {
   "cell_type": "code",
   "execution_count": 8,
   "id": "609e2f75",
   "metadata": {},
   "outputs": [
    {
     "data": {
      "text/plain": [
       "'Layla'"
      ]
     },
     "execution_count": 8,
     "metadata": {},
     "output_type": "execute_result"
    }
   ],
   "source": [
    "sent[:len(word)]"
   ]
  },
  {
   "cell_type": "code",
   "execution_count": 9,
   "id": "68d2e29e",
   "metadata": {},
   "outputs": [],
   "source": [
    "text = 'The Layla is cute, because she was cute'"
   ]
  },
  {
   "cell_type": "code",
   "execution_count": 10,
   "id": "5a249246",
   "metadata": {},
   "outputs": [
    {
     "data": {
      "text/plain": [
       "'The Layla is cute, because she was cute'"
      ]
     },
     "execution_count": 10,
     "metadata": {},
     "output_type": "execute_result"
    }
   ],
   "source": [
    "text"
   ]
  },
  {
   "cell_type": "code",
   "execution_count": 11,
   "id": "f4280227",
   "metadata": {},
   "outputs": [
    {
     "data": {
      "text/plain": [
       "'The Layla is cute, because she was cute'"
      ]
     },
     "execution_count": 11,
     "metadata": {},
     "output_type": "execute_result"
    }
   ],
   "source": [
    "text[:len(text)]"
   ]
  },
  {
   "cell_type": "code",
   "execution_count": 12,
   "id": "a8e322dd",
   "metadata": {},
   "outputs": [
    {
     "data": {
      "text/plain": [
       "'is c'"
      ]
     },
     "execution_count": 12,
     "metadata": {},
     "output_type": "execute_result"
    }
   ],
   "source": [
    "sent[-7:-3]"
   ]
  },
  {
   "cell_type": "code",
   "execution_count": 13,
   "id": "e81467d2",
   "metadata": {},
   "outputs": [
    {
     "data": {
      "text/plain": [
       "'0.000103108 output'"
      ]
     },
     "execution_count": 13,
     "metadata": {},
     "output_type": "execute_result"
    }
   ],
   "source": [
    "'{0:4.6} output'.format(7/67890)"
   ]
  },
  {
   "cell_type": "code",
   "execution_count": 15,
   "id": "ecbbb994",
   "metadata": {},
   "outputs": [
    {
     "data": {
      "text/plain": [
       "'ute'"
      ]
     },
     "execution_count": 15,
     "metadata": {},
     "output_type": "execute_result"
    }
   ],
   "source": [
    "sent[-3:]"
   ]
  },
  {
   "cell_type": "code",
   "execution_count": 16,
   "id": "6d5ac2de",
   "metadata": {},
   "outputs": [
    {
     "data": {
      "text/plain": [
       "'Layla is cute'"
      ]
     },
     "execution_count": 16,
     "metadata": {},
     "output_type": "execute_result"
    }
   ],
   "source": [
    "sent"
   ]
  },
  {
   "cell_type": "code",
   "execution_count": 17,
   "id": "65e5db8d",
   "metadata": {},
   "outputs": [
    {
     "data": {
      "text/plain": [
       "'Lay'"
      ]
     },
     "execution_count": 17,
     "metadata": {},
     "output_type": "execute_result"
    }
   ],
   "source": [
    "word[:3]"
   ]
  },
  {
   "cell_type": "code",
   "execution_count": 18,
   "id": "15a38eed",
   "metadata": {},
   "outputs": [
    {
     "data": {
      "text/plain": [
       "'Lay'"
      ]
     },
     "execution_count": 18,
     "metadata": {},
     "output_type": "execute_result"
    }
   ],
   "source": [
    "word[0:3]"
   ]
  },
  {
   "cell_type": "code",
   "execution_count": 19,
   "id": "151bcd69",
   "metadata": {},
   "outputs": [
    {
     "data": {
      "text/plain": [
       "'a is cute'"
      ]
     },
     "execution_count": 19,
     "metadata": {},
     "output_type": "execute_result"
    }
   ],
   "source": [
    "sent[4:]"
   ]
  },
  {
   "cell_type": "code",
   "execution_count": 20,
   "id": "34fe8a81",
   "metadata": {},
   "outputs": [
    {
     "data": {
      "text/plain": [
       "'Layla is cute'"
      ]
     },
     "execution_count": 20,
     "metadata": {},
     "output_type": "execute_result"
    }
   ],
   "source": [
    "sent[:]"
   ]
  },
  {
   "cell_type": "code",
   "execution_count": 21,
   "id": "7f23d4cb",
   "metadata": {},
   "outputs": [
    {
     "data": {
      "text/plain": [
       "'Lyai ue'"
      ]
     },
     "execution_count": 21,
     "metadata": {},
     "output_type": "execute_result"
    }
   ],
   "source": [
    "sent[::2]"
   ]
  },
  {
   "cell_type": "code",
   "execution_count": 22,
   "id": "ecb886bb",
   "metadata": {},
   "outputs": [],
   "source": [
    "a = 'Name : Layla'\n",
    "b = 'StudentID : 20231111'\n",
    "c = 'Hobby : Study'\n",
    "d = 'Comment : cute'"
   ]
  },
  {
   "cell_type": "code",
   "execution_count": 24,
   "id": "f57ae885",
   "metadata": {},
   "outputs": [
    {
     "data": {
      "text/plain": [
       "'Name : Layla StudentID : 20231111 Hobby : Study Comment : cute'"
      ]
     },
     "execution_count": 24,
     "metadata": {},
     "output_type": "execute_result"
    }
   ],
   "source": [
    "\" \".join([a, b, c, d])"
   ]
  },
  {
   "cell_type": "code",
   "execution_count": 25,
   "id": "67513450",
   "metadata": {},
   "outputs": [],
   "source": [
    "strs = \"\"\"Guard: What? Ridden en a horse?\n",
    "Queen Raiden: Yes!\n",
    "Guard: You're using coconuts!\n",
    "Queen Raiden: What?\n",
    "Guard: You're Got ... coconute[s] and you're banagin em togther\n",
    "\"\"\""
   ]
  },
  {
   "cell_type": "code",
   "execution_count": 27,
   "id": "edc89163",
   "metadata": {},
   "outputs": [
    {
     "data": {
      "text/plain": [
       "\"Guard: What? Ridden en a horse?\\nQueen Raiden: Yes!\\nGuard: You're using coconuts!\\nQueen Raiden: What?\\nGuard: You're Got ... coconute[s] and you're banagin em togther\\n\""
      ]
     },
     "execution_count": 27,
     "metadata": {},
     "output_type": "execute_result"
    }
   ],
   "source": [
    "strs"
   ]
  },
  {
   "cell_type": "code",
   "execution_count": 28,
   "id": "26209e79",
   "metadata": {},
   "outputs": [
    {
     "data": {
      "text/plain": [
       "['Guard: What? Ridden en a horse?',\n",
       " \"Guard: You're using coconuts!\",\n",
       " \"Guard: You're Got ... coconute[s] and you're banagin em togther\"]"
      ]
     },
     "execution_count": 28,
     "metadata": {},
     "output_type": "execute_result"
    }
   ],
   "source": [
    "strs.splitlines()[::2]"
   ]
  },
  {
   "cell_type": "code",
   "execution_count": 29,
   "id": "f58d9943",
   "metadata": {},
   "outputs": [
    {
     "data": {
      "text/plain": [
       "['Yae Miko: What? Ridden en a horse?',\n",
       " \"Yae Miko: You're using coconuts!\",\n",
       " \"Yae Miko: You're Got ... coconute[s] and you're banagin em togther\"]"
      ]
     },
     "execution_count": 29,
     "metadata": {},
     "output_type": "execute_result"
    }
   ],
   "source": [
    "strs.replace('Guard', \"Yae Miko\").splitlines()[::2]"
   ]
  },
  {
   "cell_type": "code",
   "execution_count": 30,
   "id": "45f028d1",
   "metadata": {},
   "outputs": [
    {
     "data": {
      "text/plain": [
       "'Layla is very cute!'"
      ]
     },
     "execution_count": 30,
     "metadata": {},
     "output_type": "execute_result"
    }
   ],
   "source": [
    "'{} is very cute!'.format('Layla')"
   ]
  },
  {
   "cell_type": "code",
   "execution_count": 31,
   "id": "0818423e",
   "metadata": {},
   "outputs": [
    {
     "data": {
      "text/plain": [
       "'레일라은 매우매우 착하고 귀엽고 사랑스럽습니다.\\n이 사악한 나히다은 레일라을 괴롭히는 원인 중 하나입니다.\\n'"
      ]
     },
     "execution_count": 31,
     "metadata": {},
     "output_type": "execute_result"
    }
   ],
   "source": [
    "\"\"\"{0}은 매우매우 착하고 귀엽고 사랑스럽습니다.\n",
    "이 사악한 {1}은 {0}을 괴롭히는 원인 중 하나입니다.\n",
    "\"\"\".format(\"레일라\",\"나히다\")"
   ]
  },
  {
   "cell_type": "code",
   "execution_count": 32,
   "id": "a2e8f3bc",
   "metadata": {},
   "outputs": [
    {
     "data": {
      "text/plain": [
       "'나히다는 500 살 이상이다.'"
      ]
     },
     "execution_count": 32,
     "metadata": {},
     "output_type": "execute_result"
    }
   ],
   "source": [
    "'나히다는 {age} 살 이상이다.'.format(age = 500)"
   ]
  },
  {
   "cell_type": "code",
   "execution_count": 33,
   "id": "541e538b",
   "metadata": {},
   "outputs": [
    {
     "data": {
      "text/plain": [
       "'나의 통장 잔고가 909,999,999,999,999,999,999,999,999,999,999,999달러면 좋겠다'"
      ]
     },
     "execution_count": 33,
     "metadata": {},
     "output_type": "execute_result"
    }
   ],
   "source": [
    "'나의 통장 잔고가 {:,}달러면 좋겠다'.format(909999999999999999999999999999999999)"
   ]
  },
  {
   "cell_type": "code",
   "execution_count": 34,
   "id": "0d29f07a",
   "metadata": {},
   "outputs": [
    {
     "data": {
      "text/plain": [
       "'output1 : 0.000103\\n output2 : 0.010%'"
      ]
     },
     "execution_count": 34,
     "metadata": {},
     "output_type": "execute_result"
    }
   ],
   "source": [
    "'output1 : {0:.3}\\n output2 : {0:.3%}'.format(7/67890)"
   ]
  },
  {
   "cell_type": "code",
   "execution_count": 35,
   "id": "2944b12b",
   "metadata": {},
   "outputs": [
    {
     "data": {
      "text/plain": [
       "'My id code is 000012'"
      ]
     },
     "execution_count": 35,
     "metadata": {},
     "output_type": "execute_result"
    }
   ],
   "source": [
    "'My id code is {0:06d}'.format(12)"
   ]
  },
  {
   "cell_type": "code",
   "execution_count": 36,
   "id": "23bb9b4f",
   "metadata": {},
   "outputs": [
    {
     "data": {
      "text/plain": [
       "'My love number is 10'"
      ]
     },
     "execution_count": 36,
     "metadata": {},
     "output_type": "execute_result"
    }
   ],
   "source": [
    "'My love number is %d' % 10"
   ]
  },
  {
   "cell_type": "code",
   "execution_count": 38,
   "id": "7472a49a",
   "metadata": {},
   "outputs": [
    {
     "data": {
      "text/plain": [
       "'Layla 는 매우 매우 귀엽고 사랑스럽지만, 그녀의 수면 시간은 고작 1.16 시간 이다.'"
      ]
     },
     "execution_count": 38,
     "metadata": {},
     "output_type": "execute_result"
    }
   ],
   "source": [
    "'%(name)s 는 매우 매우 귀엽고 사랑스럽지만, 그녀의 수면 시간은 고작 %(time).2f 시간 이다.' % ({'name' : 'Layla', 'time' : 1.1631212})"
   ]
  },
  {
   "cell_type": "code",
   "execution_count": 40,
   "id": "415fd7ea",
   "metadata": {},
   "outputs": [
    {
     "data": {
      "text/plain": [
       "'레일라! 12/19 생일 축하해!'"
      ]
     },
     "execution_count": 40,
     "metadata": {},
     "output_type": "execute_result"
    }
   ],
   "source": [
    "name = \"레일라\"\n",
    "f'{name}! 12/19 생일 축하해!'"
   ]
  },
  {
   "cell_type": "code",
   "execution_count": 41,
   "id": "24fe5c2d",
   "metadata": {},
   "outputs": [],
   "source": [
    "import datetime"
   ]
  },
  {
   "cell_type": "code",
   "execution_count": 42,
   "id": "61ef322a",
   "metadata": {},
   "outputs": [
    {
     "name": "stdout",
     "output_type": "stream",
     "text": [
      "t1 : 2023-12-17 15:20:48.820107\n",
      "t2 : 1970-01-01 00:00:00\n",
      "t3 : 1970-12-12 13:24:34\n"
     ]
    }
   ],
   "source": [
    "print(f\"t1 : {datetime.datetime.now()}\")\n",
    "print(f\"t2 : {datetime.datetime(1970, 1,1)}\")\n",
    "print(f\"t3 : {datetime.datetime(1970, 12, 12, 13, 24, 34)}\")"
   ]
  },
  {
   "cell_type": "code",
   "execution_count": null,
   "id": "baa1a66c",
   "metadata": {},
   "outputs": [],
   "source": []
  }
 ],
 "metadata": {
  "kernelspec": {
   "display_name": "Python 3 (ipykernel)",
   "language": "python",
   "name": "python3"
  },
  "language_info": {
   "codemirror_mode": {
    "name": "ipython",
    "version": 3
   },
   "file_extension": ".py",
   "mimetype": "text/x-python",
   "name": "python",
   "nbconvert_exporter": "python",
   "pygments_lexer": "ipython3",
   "version": "3.11.4"
  }
 },
 "nbformat": 4,
 "nbformat_minor": 5
}
