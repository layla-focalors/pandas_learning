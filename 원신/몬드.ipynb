{
 "cells": [
  {
   "cell_type": "code",
   "execution_count": 1,
   "id": "7fb150a4",
   "metadata": {},
   "outputs": [],
   "source": [
    "word = 'Layla'"
   ]
  },
  {
   "cell_type": "code",
   "execution_count": 2,
   "id": "4761fe7e",
   "metadata": {},
   "outputs": [],
   "source": [
    "sent = 'Layla is cute'"
   ]
  },
  {
   "cell_type": "code",
   "execution_count": 3,
   "id": "d1a0a837",
   "metadata": {},
   "outputs": [
    {
     "data": {
      "text/plain": [
       "'L'"
      ]
     },
     "execution_count": 3,
     "metadata": {},
     "output_type": "execute_result"
    }
   ],
   "source": [
    "word[0]"
   ]
  },
  {
   "cell_type": "code",
   "execution_count": 4,
   "id": "93480bcf",
   "metadata": {},
   "outputs": [
    {
     "data": {
      "text/plain": [
       "'L'"
      ]
     },
     "execution_count": 4,
     "metadata": {},
     "output_type": "execute_result"
    }
   ],
   "source": [
    "sent[0]"
   ]
  },
  {
   "cell_type": "code",
   "execution_count": 6,
   "id": "f1cacdd7",
   "metadata": {},
   "outputs": [
    {
     "data": {
      "text/plain": [
       "'Layla'"
      ]
     },
     "execution_count": 6,
     "metadata": {},
     "output_type": "execute_result"
    }
   ],
   "source": [
    "sent[0:5]"
   ]
  },
  {
   "cell_type": "code",
   "execution_count": 7,
   "id": "7d3804db",
   "metadata": {},
   "outputs": [
    {
     "data": {
      "text/plain": [
       "'Layla is cute'"
      ]
     },
     "execution_count": 7,
     "metadata": {},
     "output_type": "execute_result"
    }
   ],
   "source": [
    "sent[ : ]"
   ]
  },
  {
   "cell_type": "code",
   "execution_count": 8,
   "id": "04178efd",
   "metadata": {},
   "outputs": [
    {
     "data": {
      "text/plain": [
       "'Layla'"
      ]
     },
     "execution_count": 8,
     "metadata": {},
     "output_type": "execute_result"
    }
   ],
   "source": [
    "sent[:len(word)]"
   ]
  },
  {
   "cell_type": "code",
   "execution_count": 9,
   "id": "a7a4ce65",
   "metadata": {},
   "outputs": [],
   "source": [
    "text = 'The Layla is cute, because she was cute'"
   ]
  },
  {
   "cell_type": "code",
   "execution_count": 10,
   "id": "c04e7475",
   "metadata": {},
   "outputs": [
    {
     "data": {
      "text/plain": [
       "'The Layla is cute, because she was cute'"
      ]
     },
     "execution_count": 10,
     "metadata": {},
     "output_type": "execute_result"
    }
   ],
   "source": [
    "text"
   ]
  },
  {
   "cell_type": "code",
   "execution_count": 11,
   "id": "6435b70a",
   "metadata": {},
   "outputs": [
    {
     "data": {
      "text/plain": [
       "'The Layla is cute, because she was cute'"
      ]
     },
     "execution_count": 11,
     "metadata": {},
     "output_type": "execute_result"
    }
   ],
   "source": [
    "text[:len(text)]"
   ]
  },
  {
   "cell_type": "code",
   "execution_count": 12,
   "id": "36c8de81",
   "metadata": {},
   "outputs": [
    {
     "data": {
      "text/plain": [
       "'is c'"
      ]
     },
     "execution_count": 12,
     "metadata": {},
     "output_type": "execute_result"
    }
   ],
   "source": [
    "sent[-7:-3]"
   ]
  },
  {
   "cell_type": "code",
   "execution_count": 13,
   "id": "389a2d2c",
   "metadata": {},
   "outputs": [
    {
     "data": {
      "text/plain": [
       "'0.000103108 output'"
      ]
     },
     "execution_count": 13,
     "metadata": {},
     "output_type": "execute_result"
    }
   ],
   "source": [
    "'{0:4.6} output'.format(7/67890)"
   ]
  },
  {
   "cell_type": "code",
   "execution_count": 15,
   "id": "84e5ba9f",
   "metadata": {},
   "outputs": [
    {
     "data": {
      "text/plain": [
       "'ute'"
      ]
     },
     "execution_count": 15,
     "metadata": {},
     "output_type": "execute_result"
    }
   ],
   "source": [
    "sent[-3:]"
   ]
  },
  {
   "cell_type": "code",
   "execution_count": 16,
   "id": "86bc0ba3",
   "metadata": {},
   "outputs": [
    {
     "data": {
      "text/plain": [
       "'Layla is cute'"
      ]
     },
     "execution_count": 16,
     "metadata": {},
     "output_type": "execute_result"
    }
   ],
   "source": [
    "sent"
   ]
  },
  {
   "cell_type": "code",
   "execution_count": 17,
   "id": "02982c13",
   "metadata": {},
   "outputs": [
    {
     "data": {
      "text/plain": [
       "'Lay'"
      ]
     },
     "execution_count": 17,
     "metadata": {},
     "output_type": "execute_result"
    }
   ],
   "source": [
    "word[:3]"
   ]
  },
  {
   "cell_type": "code",
   "execution_count": 18,
   "id": "5b23e8d1",
   "metadata": {},
   "outputs": [
    {
     "data": {
      "text/plain": [
       "'Lay'"
      ]
     },
     "execution_count": 18,
     "metadata": {},
     "output_type": "execute_result"
    }
   ],
   "source": [
    "word[0:3]"
   ]
  },
  {
   "cell_type": "code",
   "execution_count": 19,
   "id": "2e0b4be0",
   "metadata": {},
   "outputs": [
    {
     "data": {
      "text/plain": [
       "'a is cute'"
      ]
     },
     "execution_count": 19,
     "metadata": {},
     "output_type": "execute_result"
    }
   ],
   "source": [
    "sent[4:]"
   ]
  },
  {
   "cell_type": "code",
   "execution_count": 20,
   "id": "4d659c28",
   "metadata": {},
   "outputs": [
    {
     "data": {
      "text/plain": [
       "'Layla is cute'"
      ]
     },
     "execution_count": 20,
     "metadata": {},
     "output_type": "execute_result"
    }
   ],
   "source": [
    "sent[:]"
   ]
  },
  {
   "cell_type": "code",
   "execution_count": 21,
   "id": "8c9fa688",
   "metadata": {},
   "outputs": [
    {
     "data": {
      "text/plain": [
       "'Lyai ue'"
      ]
     },
     "execution_count": 21,
     "metadata": {},
     "output_type": "execute_result"
    }
   ],
   "source": [
    "sent[::2]"
   ]
  },
  {
   "cell_type": "code",
   "execution_count": 22,
   "id": "6392e6e9",
   "metadata": {},
   "outputs": [],
   "source": [
    "a = 'Name : Layla'\n",
    "b = 'StudentID : 20231111'\n",
    "c = 'Hobby : Study'\n",
    "d = 'Comment : cute'"
   ]
  },
  {
   "cell_type": "code",
   "execution_count": 24,
   "id": "bd40f633",
   "metadata": {},
   "outputs": [
    {
     "data": {
      "text/plain": [
       "'Name : Layla StudentID : 20231111 Hobby : Study Comment : cute'"
      ]
     },
     "execution_count": 24,
     "metadata": {},
     "output_type": "execute_result"
    }
   ],
   "source": [
    "\" \".join([a, b, c, d])"
   ]
  },
  {
   "cell_type": "code",
   "execution_count": 25,
   "id": "a4e566ac",
   "metadata": {},
   "outputs": [],
   "source": [
    "strs = \"\"\"Guard: What? Ridden en a horse?\n",
    "Queen Raiden: Yes!\n",
    "Guard: You're using coconuts!\n",
    "Queen Raiden: What?\n",
    "Guard: You're Got ... coconute[s] and you're banagin em togther\n",
    "\"\"\""
   ]
  },
  {
   "cell_type": "code",
   "execution_count": 27,
   "id": "9546c4ae",
   "metadata": {},
   "outputs": [
    {
     "data": {
      "text/plain": [
       "\"Guard: What? Ridden en a horse?\\nQueen Raiden: Yes!\\nGuard: You're using coconuts!\\nQueen Raiden: What?\\nGuard: You're Got ... coconute[s] and you're banagin em togther\\n\""
      ]
     },
     "execution_count": 27,
     "metadata": {},
     "output_type": "execute_result"
    }
   ],
   "source": [
    "strs"
   ]
  },
  {
   "cell_type": "code",
   "execution_count": 28,
   "id": "c84b6ff1",
   "metadata": {},
   "outputs": [
    {
     "data": {
      "text/plain": [
       "['Guard: What? Ridden en a horse?',\n",
       " \"Guard: You're using coconuts!\",\n",
       " \"Guard: You're Got ... coconute[s] and you're banagin em togther\"]"
      ]
     },
     "execution_count": 28,
     "metadata": {},
     "output_type": "execute_result"
    }
   ],
   "source": [
    "strs.splitlines()[::2]"
   ]
  },
  {
   "cell_type": "code",
   "execution_count": 29,
   "id": "5759256c",
   "metadata": {},
   "outputs": [
    {
     "data": {
      "text/plain": [
       "['Yae Miko: What? Ridden en a horse?',\n",
       " \"Yae Miko: You're using coconuts!\",\n",
       " \"Yae Miko: You're Got ... coconute[s] and you're banagin em togther\"]"
      ]
     },
     "execution_count": 29,
     "metadata": {},
     "output_type": "execute_result"
    }
   ],
   "source": [
    "strs.replace('Guard', \"Yae Miko\").splitlines()[::2]"
   ]
  },
  {
   "cell_type": "code",
   "execution_count": 30,
   "id": "56ed6d47",
   "metadata": {},
   "outputs": [
    {
     "data": {
      "text/plain": [
       "'Layla is very cute!'"
      ]
     },
     "execution_count": 30,
     "metadata": {},
     "output_type": "execute_result"
    }
   ],
   "source": [
    "'{} is very cute!'.format('Layla')"
   ]
  },
  {
   "cell_type": "code",
   "execution_count": 31,
   "id": "2845f189",
   "metadata": {},
   "outputs": [
    {
     "data": {
      "text/plain": [
       "'레일라은 매우매우 착하고 귀엽고 사랑스럽습니다.\\n이 사악한 나히다은 레일라을 괴롭히는 원인 중 하나입니다.\\n'"
      ]
     },
     "execution_count": 31,
     "metadata": {},
     "output_type": "execute_result"
    }
   ],
   "source": [
    "\"\"\"{0}은 매우매우 착하고 귀엽고 사랑스럽습니다.\n",
    "이 사악한 {1}은 {0}을 괴롭히는 원인 중 하나입니다.\n",
    "\"\"\".format(\"레일라\",\"나히다\")"
   ]
  },
  {
   "cell_type": "code",
   "execution_count": 32,
   "id": "0da87ccc",
   "metadata": {},
   "outputs": [
    {
     "data": {
      "text/plain": [
       "'나히다는 500 살 이상이다.'"
      ]
     },
     "execution_count": 32,
     "metadata": {},
     "output_type": "execute_result"
    }
   ],
   "source": [
    "'나히다는 {age} 살 이상이다.'.format(age = 500)"
   ]
  },
  {
   "cell_type": "code",
   "execution_count": 33,
   "id": "383d3434",
   "metadata": {},
   "outputs": [
    {
     "data": {
      "text/plain": [
       "'나의 통장 잔고가 909,999,999,999,999,999,999,999,999,999,999,999달러면 좋겠다'"
      ]
     },
     "execution_count": 33,
     "metadata": {},
     "output_type": "execute_result"
    }
   ],
   "source": [
    "'나의 통장 잔고가 {:,}달러면 좋겠다'.format(909999999999999999999999999999999999)"
   ]
  },
  {
   "cell_type": "code",
   "execution_count": 34,
   "id": "ab7601b0",
   "metadata": {},
   "outputs": [
    {
     "data": {
      "text/plain": [
       "'output1 : 0.000103\\n output2 : 0.010%'"
      ]
     },
     "execution_count": 34,
     "metadata": {},
     "output_type": "execute_result"
    }
   ],
   "source": [
    "'output1 : {0:.3}\\n output2 : {0:.3%}'.format(7/67890)"
   ]
  },
  {
   "cell_type": "code",
   "execution_count": 35,
   "id": "5de6aa85",
   "metadata": {},
   "outputs": [
    {
     "data": {
      "text/plain": [
       "'My id code is 000012'"
      ]
     },
     "execution_count": 35,
     "metadata": {},
     "output_type": "execute_result"
    }
   ],
   "source": [
    "'My id code is {0:06d}'.format(12)"
   ]
  },
  {
   "cell_type": "code",
   "execution_count": 36,
   "id": "5eaa0d21",
   "metadata": {},
   "outputs": [
    {
     "data": {
      "text/plain": [
       "'My love number is 10'"
      ]
     },
     "execution_count": 36,
     "metadata": {},
     "output_type": "execute_result"
    }
   ],
   "source": [
    "'My love number is %d' % 10"
   ]
  },
  {
   "cell_type": "code",
   "execution_count": 38,
   "id": "916ea31d",
   "metadata": {},
   "outputs": [
    {
     "data": {
      "text/plain": [
       "'Layla 는 매우 매우 귀엽고 사랑스럽지만, 그녀의 수면 시간은 고작 1.16 시간 이다.'"
      ]
     },
     "execution_count": 38,
     "metadata": {},
     "output_type": "execute_result"
    }
   ],
   "source": [
    "'%(name)s 는 매우 매우 귀엽고 사랑스럽지만, 그녀의 수면 시간은 고작 %(time).2f 시간 이다.' % ({'name' : 'Layla', 'time' : 1.1631212})"
   ]
  },
  {
   "cell_type": "code",
   "execution_count": 40,
   "id": "99131f97",
   "metadata": {},
   "outputs": [
    {
     "data": {
      "text/plain": [
       "'레일라! 12/19 생일 축하해!'"
      ]
     },
     "execution_count": 40,
     "metadata": {},
     "output_type": "execute_result"
    }
   ],
   "source": [
    "name = \"레일라\"\n",
    "f'{name}! 12/19 생일 축하해!'"
   ]
  },
  {
   "cell_type": "code",
   "execution_count": 41,
   "id": "5ca944a4",
   "metadata": {},
   "outputs": [],
   "source": [
    "import datetime"
   ]
  },
  {
   "cell_type": "code",
   "execution_count": 42,
   "id": "b0aee6fd",
   "metadata": {},
   "outputs": [
    {
     "name": "stdout",
     "output_type": "stream",
     "text": [
      "t1 : 2023-12-17 15:20:48.820107\n",
      "t2 : 1970-01-01 00:00:00\n",
      "t3 : 1970-12-12 13:24:34\n"
     ]
    }
   ],
   "source": [
    "print(f\"t1 : {datetime.datetime.now()}\")\n",
    "print(f\"t2 : {datetime.datetime(1970, 1,1)}\")\n",
    "print(f\"t3 : {datetime.datetime(1970, 12, 12, 13, 24, 34)}\")"
   ]
  },
  {
   "cell_type": "code",
   "execution_count": 43,
   "id": "313a5f59",
   "metadata": {},
   "outputs": [],
   "source": [
    "import re"
   ]
  },
  {
   "cell_type": "code",
   "execution_count": 49,
   "id": "d4d79b7c",
   "metadata": {},
   "outputs": [
    {
     "data": {
      "text/plain": [
       "<re.Match object; span=(0, 10), match='1234567890'>"
      ]
     },
     "execution_count": 49,
     "metadata": {},
     "output_type": "execute_result"
    }
   ],
   "source": [
    "ax  = re.match(pattern='\\d{10}', string = '1234567890')\n",
    "ax"
   ]
  },
  {
   "cell_type": "code",
   "execution_count": 46,
   "id": "1b3d6b4d",
   "metadata": {},
   "outputs": [
    {
     "name": "stdout",
     "output_type": "stream",
     "text": [
      "match\n"
     ]
    }
   ],
   "source": [
    "print(\"match\" if bool(ax) else \"Unmatch\")"
   ]
  },
  {
   "cell_type": "code",
   "execution_count": 47,
   "id": "2bffea60",
   "metadata": {},
   "outputs": [],
   "source": [
    "ax  = re.match(pattern='\\d{10}\\s', string = '1234567890')\n",
    "ax"
   ]
  },
  {
   "cell_type": "code",
   "execution_count": 48,
   "id": "d04f1362",
   "metadata": {},
   "outputs": [
    {
     "name": "stdout",
     "output_type": "stream",
     "text": [
      "Unmatch\n"
     ]
    }
   ],
   "source": [
    "print(\"match\" if bool(ax) else \"Unmatch\")"
   ]
  },
  {
   "cell_type": "code",
   "execution_count": 50,
   "id": "c6c88158",
   "metadata": {},
   "outputs": [
    {
     "name": "stdout",
     "output_type": "stream",
     "text": [
      "match\n"
     ]
    }
   ],
   "source": [
    "print(\"match\" if bool(ax) else \"Unmatch\")"
   ]
  },
  {
   "cell_type": "code",
   "execution_count": 52,
   "id": "9b8d4277",
   "metadata": {},
   "outputs": [
    {
     "data": {
      "text/plain": [
       "(0, 10)"
      ]
     },
     "execution_count": 52,
     "metadata": {},
     "output_type": "execute_result"
    }
   ],
   "source": [
    "ax.start()\n",
    "ax.end()\n",
    "ax.span()"
   ]
  },
  {
   "cell_type": "code",
   "execution_count": 53,
   "id": "e4648d2d",
   "metadata": {},
   "outputs": [
    {
     "data": {
      "text/plain": [
       "0"
      ]
     },
     "execution_count": 53,
     "metadata": {},
     "output_type": "execute_result"
    }
   ],
   "source": [
    "ax.start()"
   ]
  },
  {
   "cell_type": "code",
   "execution_count": 54,
   "id": "fdfd9429",
   "metadata": {},
   "outputs": [
    {
     "data": {
      "text/plain": [
       "10"
      ]
     },
     "execution_count": 54,
     "metadata": {},
     "output_type": "execute_result"
    }
   ],
   "source": [
    "ax.end()"
   ]
  },
  {
   "cell_type": "code",
   "execution_count": 55,
   "id": "c6e61a64",
   "metadata": {},
   "outputs": [
    {
     "data": {
      "text/plain": [
       "(0, 10)"
      ]
     },
     "execution_count": 55,
     "metadata": {},
     "output_type": "execute_result"
    }
   ],
   "source": [
    "ax.span()"
   ]
  },
  {
   "cell_type": "code",
   "execution_count": 58,
   "id": "ce8e4d1c",
   "metadata": {},
   "outputs": [
    {
     "data": {
      "text/plain": [
       "'1234567890'"
      ]
     },
     "execution_count": 58,
     "metadata": {},
     "output_type": "execute_result"
    }
   ],
   "source": [
    "ax.group()"
   ]
  },
  {
   "cell_type": "code",
   "execution_count": 59,
   "id": "66cf3776",
   "metadata": {},
   "outputs": [
    {
     "data": {
      "text/plain": [
       "<re.Match object; span=(0, 13), match='123 4567 8901'>"
      ]
     },
     "execution_count": 59,
     "metadata": {},
     "output_type": "execute_result"
    }
   ],
   "source": [
    "re.match(pattern='\\d{3}\\s\\d{4}\\s\\d{4}', string = '123 4567 8901')"
   ]
  },
  {
   "cell_type": "code",
   "execution_count": 60,
   "id": "2930c90d",
   "metadata": {},
   "outputs": [
    {
     "data": {
      "text/plain": [
       "<re.Match object; span=(0, 14), match='(123) 456-7890'>"
      ]
     },
     "execution_count": 60,
     "metadata": {},
     "output_type": "execute_result"
    }
   ],
   "source": [
    "re.match(pattern='\\(\\d{3}\\)\\s\\d{3}\\-\\d{4}', string = '(123) 456-7890')"
   ]
  },
  {
   "cell_type": "code",
   "execution_count": 61,
   "id": "15e92b3f",
   "metadata": {},
   "outputs": [
    {
     "data": {
      "text/plain": [
       "<re.Match object; span=(0, 17), match='+1 (123) 456-7890'>"
      ]
     },
     "execution_count": 61,
     "metadata": {},
     "output_type": "execute_result"
    }
   ],
   "source": [
    "re.match(pattern='\\+\\d\\s\\(\\d{3}\\)\\s\\d{3}\\-\\d{4}', string = '+1 (123) 456-7890')"
   ]
  },
  {
   "cell_type": "code",
   "execution_count": 63,
   "id": "08f1eaaa",
   "metadata": {},
   "outputs": [
    {
     "data": {
      "text/plain": [
       "<re.Match object; span=(0, 14), match='LocalHost:8888'>"
      ]
     },
     "execution_count": 63,
     "metadata": {},
     "output_type": "execute_result"
    }
   ],
   "source": [
    "p = re.compile('\\D{9}\\:\\d{4}')\n",
    "p.match('LocalHost:8888')"
   ]
  },
  {
   "cell_type": "code",
   "execution_count": 64,
   "id": "fc55ece1",
   "metadata": {},
   "outputs": [],
   "source": [
    "my_exp = lambda x : x ** 2\n",
    "my_exp_c = lambda x, n : x ** n"
   ]
  },
  {
   "cell_type": "code",
   "execution_count": 65,
   "id": "8c229013",
   "metadata": {},
   "outputs": [],
   "source": [
    "import pandas as pd"
   ]
  },
  {
   "cell_type": "code",
   "execution_count": 66,
   "id": "3fc6d2b2",
   "metadata": {},
   "outputs": [],
   "source": [
    "df = pd.DataFrame({\n",
    "    'a' : [10, 20, 30],\n",
    "    'b' : [20, 30, 40]\n",
    "})"
   ]
  },
  {
   "cell_type": "code",
   "execution_count": 67,
   "id": "fb606838",
   "metadata": {},
   "outputs": [
    {
     "data": {
      "text/html": [
       "<div>\n",
       "<style scoped>\n",
       "    .dataframe tbody tr th:only-of-type {\n",
       "        vertical-align: middle;\n",
       "    }\n",
       "\n",
       "    .dataframe tbody tr th {\n",
       "        vertical-align: top;\n",
       "    }\n",
       "\n",
       "    .dataframe thead th {\n",
       "        text-align: right;\n",
       "    }\n",
       "</style>\n",
       "<table border=\"1\" class=\"dataframe\">\n",
       "  <thead>\n",
       "    <tr style=\"text-align: right;\">\n",
       "      <th></th>\n",
       "      <th>a</th>\n",
       "      <th>b</th>\n",
       "    </tr>\n",
       "  </thead>\n",
       "  <tbody>\n",
       "    <tr>\n",
       "      <th>0</th>\n",
       "      <td>10</td>\n",
       "      <td>20</td>\n",
       "    </tr>\n",
       "    <tr>\n",
       "      <th>1</th>\n",
       "      <td>20</td>\n",
       "      <td>30</td>\n",
       "    </tr>\n",
       "    <tr>\n",
       "      <th>2</th>\n",
       "      <td>30</td>\n",
       "      <td>40</td>\n",
       "    </tr>\n",
       "  </tbody>\n",
       "</table>\n",
       "</div>"
      ],
      "text/plain": [
       "    a   b\n",
       "0  10  20\n",
       "1  20  30\n",
       "2  30  40"
      ]
     },
     "execution_count": 67,
     "metadata": {},
     "output_type": "execute_result"
    }
   ],
   "source": [
    "df"
   ]
  },
  {
   "cell_type": "code",
   "execution_count": 68,
   "id": "4e0f3038",
   "metadata": {},
   "outputs": [
    {
     "data": {
      "text/plain": [
       "0    100\n",
       "1    400\n",
       "2    900\n",
       "Name: a, dtype: int64"
      ]
     },
     "execution_count": 68,
     "metadata": {},
     "output_type": "execute_result"
    }
   ],
   "source": [
    "df['a'] ** 2"
   ]
  },
  {
   "cell_type": "code",
   "execution_count": 69,
   "id": "d19c28e6",
   "metadata": {},
   "outputs": [
    {
     "data": {
      "text/plain": [
       "0    100\n",
       "1    400\n",
       "2    900\n",
       "Name: a, dtype: int64"
      ]
     },
     "execution_count": 69,
     "metadata": {},
     "output_type": "execute_result"
    }
   ],
   "source": [
    "df['a'].apply(my_exp)"
   ]
  },
  {
   "cell_type": "code",
   "execution_count": 70,
   "id": "33f52a1c",
   "metadata": {},
   "outputs": [
    {
     "data": {
      "text/plain": [
       "0        10000000000\n",
       "1     10240000000000\n",
       "2    590490000000000\n",
       "Name: a, dtype: int64"
      ]
     },
     "execution_count": 70,
     "metadata": {},
     "output_type": "execute_result"
    }
   ],
   "source": [
    "df['a'] ** 10"
   ]
  },
  {
   "cell_type": "code",
   "execution_count": 71,
   "id": "5b5e731f",
   "metadata": {},
   "outputs": [
    {
     "data": {
      "text/plain": [
       "0        10000000000\n",
       "1     10240000000000\n",
       "2    590490000000000\n",
       "Name: a, dtype: int64"
      ]
     },
     "execution_count": 71,
     "metadata": {},
     "output_type": "execute_result"
    }
   ],
   "source": [
    "df['a'].apply(my_exp_c, n = 10)"
   ]
  },
  {
   "cell_type": "code",
   "execution_count": 72,
   "id": "94e09fcc",
   "metadata": {},
   "outputs": [],
   "source": [
    "printme = lambda x : print(x)"
   ]
  },
  {
   "cell_type": "code",
   "execution_count": 73,
   "id": "b7dc09f1",
   "metadata": {},
   "outputs": [
    {
     "data": {
      "text/plain": [
       "<function __main__.<lambda>(x)>"
      ]
     },
     "execution_count": 73,
     "metadata": {},
     "output_type": "execute_result"
    }
   ],
   "source": [
    "printme"
   ]
  },
  {
   "cell_type": "code",
   "execution_count": 74,
   "id": "986b0dca",
   "metadata": {},
   "outputs": [
    {
     "name": "stdout",
     "output_type": "stream",
     "text": [
      "0    10\n",
      "1    20\n",
      "2    30\n",
      "Name: a, dtype: int64\n",
      "0    20\n",
      "1    30\n",
      "2    40\n",
      "Name: b, dtype: int64\n"
     ]
    },
    {
     "data": {
      "text/plain": [
       "a    None\n",
       "b    None\n",
       "dtype: object"
      ]
     },
     "execution_count": 74,
     "metadata": {},
     "output_type": "execute_result"
    }
   ],
   "source": [
    "df.apply(printme)"
   ]
  },
  {
   "cell_type": "code",
   "execution_count": 76,
   "id": "3c67949b",
   "metadata": {},
   "outputs": [
    {
     "name": "stdout",
     "output_type": "stream",
     "text": [
      "a    10\n",
      "b    20\n",
      "Name: 0, dtype: int64\n",
      "a    20\n",
      "b    30\n",
      "Name: 1, dtype: int64\n",
      "a    30\n",
      "b    40\n",
      "Name: 2, dtype: int64\n"
     ]
    },
    {
     "data": {
      "text/plain": [
       "0    None\n",
       "1    None\n",
       "2    None\n",
       "dtype: object"
      ]
     },
     "execution_count": 76,
     "metadata": {},
     "output_type": "execute_result"
    }
   ],
   "source": [
    "# 반전효과, 행(0), 열(1) 반전 행(1) 열(0)\n",
    "df.apply(printme, axis = 1)"
   ]
  },
  {
   "cell_type": "code",
   "execution_count": 77,
   "id": "86b95c8f",
   "metadata": {},
   "outputs": [
    {
     "data": {
      "text/html": [
       "<div>\n",
       "<style scoped>\n",
       "    .dataframe tbody tr th:only-of-type {\n",
       "        vertical-align: middle;\n",
       "    }\n",
       "\n",
       "    .dataframe tbody tr th {\n",
       "        vertical-align: top;\n",
       "    }\n",
       "\n",
       "    .dataframe thead th {\n",
       "        text-align: right;\n",
       "    }\n",
       "</style>\n",
       "<table border=\"1\" class=\"dataframe\">\n",
       "  <thead>\n",
       "    <tr style=\"text-align: right;\">\n",
       "      <th></th>\n",
       "      <th>a</th>\n",
       "      <th>b</th>\n",
       "    </tr>\n",
       "  </thead>\n",
       "  <tbody>\n",
       "    <tr>\n",
       "      <th>0</th>\n",
       "      <td>10</td>\n",
       "      <td>20</td>\n",
       "    </tr>\n",
       "    <tr>\n",
       "      <th>1</th>\n",
       "      <td>20</td>\n",
       "      <td>30</td>\n",
       "    </tr>\n",
       "    <tr>\n",
       "      <th>2</th>\n",
       "      <td>30</td>\n",
       "      <td>40</td>\n",
       "    </tr>\n",
       "  </tbody>\n",
       "</table>\n",
       "</div>"
      ],
      "text/plain": [
       "    a   b\n",
       "0  10  20\n",
       "1  20  30\n",
       "2  30  40"
      ]
     },
     "execution_count": 77,
     "metadata": {},
     "output_type": "execute_result"
    }
   ],
   "source": [
    "df"
   ]
  },
  {
   "cell_type": "code",
   "execution_count": 78,
   "id": "76e1aee2",
   "metadata": {},
   "outputs": [],
   "source": [
    "def mymean(x):\n",
    "    sum = 0\n",
    "    for i in x:\n",
    "        sum += i\n",
    "    return sum / len(x)"
   ]
  },
  {
   "cell_type": "code",
   "execution_count": 81,
   "id": "98e3d488",
   "metadata": {},
   "outputs": [],
   "source": [
    "import numpy as np"
   ]
  },
  {
   "cell_type": "code",
   "execution_count": 79,
   "id": "0513cba1",
   "metadata": {},
   "outputs": [
    {
     "data": {
      "text/plain": [
       "a    20.0\n",
       "b    30.0\n",
       "dtype: float64"
      ]
     },
     "execution_count": 79,
     "metadata": {},
     "output_type": "execute_result"
    }
   ],
   "source": [
    "df.apply(mymean)"
   ]
  },
  {
   "cell_type": "code",
   "execution_count": 80,
   "id": "d37b7ee7",
   "metadata": {},
   "outputs": [
    {
     "data": {
      "text/plain": [
       "0    15.0\n",
       "1    25.0\n",
       "2    35.0\n",
       "dtype: float64"
      ]
     },
     "execution_count": 80,
     "metadata": {},
     "output_type": "execute_result"
    }
   ],
   "source": [
    "df.apply(mymean, axis = 1)"
   ]
  },
  {
   "cell_type": "code",
   "execution_count": 82,
   "id": "9441e948",
   "metadata": {},
   "outputs": [
    {
     "data": {
      "text/plain": [
       "a    20.0\n",
       "b    30.0\n",
       "dtype: float64"
      ]
     },
     "execution_count": 82,
     "metadata": {},
     "output_type": "execute_result"
    }
   ],
   "source": [
    "df.apply(np.mean)"
   ]
  },
  {
   "cell_type": "code",
   "execution_count": 83,
   "id": "8ad08d3c",
   "metadata": {},
   "outputs": [
    {
     "data": {
      "text/plain": [
       "0    15.0\n",
       "1    25.0\n",
       "2    35.0\n",
       "dtype: float64"
      ]
     },
     "execution_count": 83,
     "metadata": {},
     "output_type": "execute_result"
    }
   ],
   "source": [
    "df.apply(np.mean, axis = 1)"
   ]
  },
  {
   "cell_type": "code",
   "execution_count": null,
   "id": "123022f1",
   "metadata": {},
   "outputs": [],
   "source": []
  }
 ],
 "metadata": {
  "kernelspec": {
   "display_name": "Python 3 (ipykernel)",
   "language": "python",
   "name": "python3"
  },
  "language_info": {
   "codemirror_mode": {
    "name": "ipython",
    "version": 3
   },
   "file_extension": ".py",
   "mimetype": "text/x-python",
   "name": "python",
   "nbconvert_exporter": "python",
   "pygments_lexer": "ipython3",
   "version": "3.11.4"
  }
 },
 "nbformat": 4,
 "nbformat_minor": 5
}
