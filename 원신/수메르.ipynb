{
 "cells": [
  {
   "cell_type": "markdown",
   "id": "071afe19",
   "metadata": {},
   "source": [
    "### 수메르\n",
    "\n",
    "원신의 수메르는 게임 내에서 다양한 임무와 이벤트가 진행되는 지역입니다. 월드 임무, 평판 임무, 히든 업적 등 다양한 콘텐츠를 경험할 수 있습니다¹²³⁴. 또한, 수메르 지역에는 낚시터도 있어서 물고기를 잡는 미션을 수행할 수 있습니다⁵. 이 외에도 수메르 지역에는 많은 비밀과 이야기가 숨겨져 있으니, 직접 탐험해보시는 것을 추천하는 지역이다"
   ]
  },
  {
   "cell_type": "code",
   "execution_count": 1,
   "id": "8644c2f3",
   "metadata": {},
   "outputs": [
    {
     "data": {
      "text/plain": [
       "'Layla is very cute'"
      ]
     },
     "execution_count": 1,
     "metadata": {},
     "output_type": "execute_result"
    }
   ],
   "source": [
    "'Layla is very cute'.capitalize()"
   ]
  },
  {
   "cell_type": "code",
   "execution_count": 2,
   "id": "1a0c1c12",
   "metadata": {},
   "outputs": [
    {
     "data": {
      "text/plain": [
       "2"
      ]
     },
     "execution_count": 2,
     "metadata": {},
     "output_type": "execute_result"
    }
   ],
   "source": [
    "'레일라나히다유라레일라레나이다'.count(\"레일라\")"
   ]
  },
  {
   "cell_type": "code",
   "execution_count": 3,
   "id": "6f06f966",
   "metadata": {},
   "outputs": [
    {
     "data": {
      "text/plain": [
       "True"
      ]
     },
     "execution_count": 3,
     "metadata": {},
     "output_type": "execute_result"
    }
   ],
   "source": [
    "'유라야 반가워!'.startswith('유라')"
   ]
  },
  {
   "cell_type": "code",
   "execution_count": 4,
   "id": "13e75802",
   "metadata": {},
   "outputs": [
    {
     "data": {
      "text/plain": [
       "True"
      ]
     },
     "execution_count": 4,
     "metadata": {},
     "output_type": "execute_result"
    }
   ],
   "source": [
    "'레일라는 닐루가 좋은 거 같아. 왜냐하면 닐루는 닐루'.endswith(\"닐루\")"
   ]
  },
  {
   "cell_type": "code",
   "execution_count": 5,
   "id": "95a6a74a",
   "metadata": {},
   "outputs": [
    {
     "data": {
      "text/plain": [
       "4"
      ]
     },
     "execution_count": 5,
     "metadata": {},
     "output_type": "execute_result"
    }
   ],
   "source": [
    "\"노아랑 레일라, 그리고 우타하\".find('레')"
   ]
  },
  {
   "cell_type": "code",
   "execution_count": 6,
   "id": "78ddb824",
   "metadata": {},
   "outputs": [
    {
     "data": {
      "text/plain": [
       "4"
      ]
     },
     "execution_count": 6,
     "metadata": {},
     "output_type": "execute_result"
    }
   ],
   "source": [
    "\"노아랑 레일라, 그리고 우타하\".index(\"레\")"
   ]
  },
  {
   "cell_type": "code",
   "execution_count": 7,
   "id": "af214675",
   "metadata": {},
   "outputs": [
    {
     "data": {
      "text/plain": [
       "False"
      ]
     },
     "execution_count": 7,
     "metadata": {},
     "output_type": "execute_result"
    }
   ],
   "source": [
    "'Layla is my god'.isalpha()"
   ]
  },
  {
   "cell_type": "code",
   "execution_count": 9,
   "id": "8e888055",
   "metadata": {},
   "outputs": [
    {
     "data": {
      "text/plain": [
       "True"
      ]
     },
     "execution_count": 9,
     "metadata": {},
     "output_type": "execute_result"
    }
   ],
   "source": [
    "'1219'.isdecimal()\n",
    "# 해당 문자열이 숫자인지 검증"
   ]
  },
  {
   "cell_type": "code",
   "execution_count": 10,
   "id": "cb610aac",
   "metadata": {},
   "outputs": [
    {
     "data": {
      "text/plain": [
       "True"
      ]
     },
     "execution_count": 10,
     "metadata": {},
     "output_type": "execute_result"
    }
   ],
   "source": [
    "'Laylabirth1219'.isalnum()"
   ]
  },
  {
   "cell_type": "code",
   "execution_count": 11,
   "id": "7a969e57",
   "metadata": {},
   "outputs": [
    {
     "data": {
      "text/plain": [
       "'the layla is very cute girl'"
      ]
     },
     "execution_count": 11,
     "metadata": {},
     "output_type": "execute_result"
    }
   ],
   "source": [
    "'The layla is Very Cute Girl'.lower()"
   ]
  },
  {
   "cell_type": "code",
   "execution_count": 12,
   "id": "e0d5a18a",
   "metadata": {},
   "outputs": [
    {
     "data": {
      "text/plain": [
       "'THE LAYLA IS VERY CUTE GIRL'"
      ]
     },
     "execution_count": 12,
     "metadata": {},
     "output_type": "execute_result"
    }
   ],
   "source": [
    "'The Layla is Very Cute Girl'.upper()"
   ]
  },
  {
   "cell_type": "code",
   "execution_count": 13,
   "id": "5cbbc4a5",
   "metadata": {},
   "outputs": [
    {
     "data": {
      "text/plain": [
       "'라이덴의 친구 Yae Miko는 라이덴을 보좌하지만, 동시에 그녀의 친구입니다.'"
      ]
     },
     "execution_count": 13,
     "metadata": {},
     "output_type": "execute_result"
    }
   ],
   "source": [
    "\"라이덴의 친구 Guard는 라이덴을 보좌하지만, 동시에 그녀의 친구입니다.\".replace(\"Guard\", 'Yae Miko')"
   ]
  },
  {
   "cell_type": "code",
   "execution_count": 14,
   "id": "47239b06",
   "metadata": {},
   "outputs": [
    {
     "data": {
      "text/plain": [
       "'레일라 귀여워! 사랑해!'"
      ]
     },
     "execution_count": 14,
     "metadata": {},
     "output_type": "execute_result"
    }
   ],
   "source": [
    "\" 레일라 귀여워! 사랑해! \".strip()"
   ]
  },
  {
   "cell_type": "code",
   "execution_count": 15,
   "id": "c99149c4",
   "metadata": {},
   "outputs": [
    {
     "data": {
      "text/plain": [
       "['레일라', '나히다', '루미네', '유라', '연비']"
      ]
     },
     "execution_count": 15,
     "metadata": {},
     "output_type": "execute_result"
    }
   ],
   "source": [
    "\"레일라 나히다 루미네 유라 연비\".split(' ')"
   ]
  },
  {
   "cell_type": "code",
   "execution_count": 16,
   "id": "f4c995d8",
   "metadata": {},
   "outputs": [
    {
     "data": {
      "text/plain": [
       "('레일라', ',', '연비,유라,나히다')"
      ]
     },
     "execution_count": 16,
     "metadata": {},
     "output_type": "execute_result"
    }
   ],
   "source": [
    "\"레일라,연비,유라,나히다\".partition(',')"
   ]
  },
  {
   "cell_type": "code",
   "execution_count": 17,
   "id": "271f5b12",
   "metadata": {},
   "outputs": [
    {
     "data": {
      "text/plain": [
       "('apple', '-', 'banana-orange')"
      ]
     },
     "execution_count": 17,
     "metadata": {},
     "output_type": "execute_result"
    }
   ],
   "source": [
    "text = 'apple-banana-orange'\n",
    "text.partition('-')"
   ]
  },
  {
   "cell_type": "markdown",
   "id": "2efeb7d1",
   "metadata": {},
   "source": [
    "### desc\n",
    "\n",
    "파이썬의 partition() 메서드는 문자열을 분리하는 데 사용됩니다. 이 메서드는 첫 번째 파라미터로 주어진 하위 문자열을 기준으로 문자열을 세 부분으로 나눕니다: 분리자 앞의 부분(prefix), 분리자 자체(separator), 그리고 분리자 뒤의 부분(suffix). 이 세 부분은 튜플 형태로 반환됩니다12."
   ]
  },
  {
   "cell_type": "code",
   "execution_count": null,
   "id": "df546627",
   "metadata": {},
   "outputs": [],
   "source": []
  }
 ],
 "metadata": {
  "kernelspec": {
   "display_name": "Python 3 (ipykernel)",
   "language": "python",
   "name": "python3"
  },
  "language_info": {
   "codemirror_mode": {
    "name": "ipython",
    "version": 3
   },
   "file_extension": ".py",
   "mimetype": "text/x-python",
   "name": "python",
   "nbconvert_exporter": "python",
   "pygments_lexer": "ipython3",
   "version": "3.11.4"
  }
 },
 "nbformat": 4,
 "nbformat_minor": 5
}
