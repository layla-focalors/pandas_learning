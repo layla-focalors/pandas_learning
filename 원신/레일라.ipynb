{
 "cells": [
  {
   "cell_type": "markdown",
   "id": "e5e33f45",
   "metadata": {},
   "source": [
    "### Desc for Layla\n",
    "\n",
    "레일라는 원신 게임의 캐릭터 중 하나로, 수메르 지역에 속해 있습니다¹. 그녀는 얼음 원소를 사용하는 캐릭터로, 한손검을 무기로 사용합니다³⁵. 그녀의 생일은 12월 19일이며, 그녀의 운명의 자리는 밤꾀꼬리자리입니다³⁵. 또한, 그녀는 르타와히스트 학부에 속해 있습니다³⁵.\n",
    "\n",
    "레일라는 내성적이고 수줍음이 많은 캐릭터로, 약간 졸린 눈을 가지고 있어 매력적인 아이입니다⁴. 그녀의 원소 전투 E스킬은 종려의 E스킬처럼 피해를 흡수하는 방어막을 활성화하며, Q스킬 원소 폭발, 별이 흐르는 요람의 꿈은 범위 내에 있는 적들에게 얼음 원소 피해를 지속적으로 입히는 설치물을 소환합니다⁴.\n",
    "\n",
    "레일라의 성유물 종결 스펙에 대한 가이드는 다음과 같습니다²:\n",
    "- 무기: 페보니우스 검\n",
    "- 성유물: 견고한 천암 세트\n",
    "- 주 옵션: 체력"
   ]
  },
  {
   "cell_type": "code",
   "execution_count": 1,
   "id": "a89ed46a",
   "metadata": {},
   "outputs": [],
   "source": [
    "import datetime"
   ]
  },
  {
   "cell_type": "code",
   "execution_count": 2,
   "id": "c9a7868d",
   "metadata": {},
   "outputs": [],
   "source": [
    "now = datetime.datetime.now()"
   ]
  },
  {
   "cell_type": "code",
   "execution_count": 3,
   "id": "ba4496c4",
   "metadata": {},
   "outputs": [
    {
     "data": {
      "text/plain": [
       "datetime.datetime(2023, 12, 17, 18, 4, 13, 694790)"
      ]
     },
     "execution_count": 3,
     "metadata": {},
     "output_type": "execute_result"
    }
   ],
   "source": [
    "now"
   ]
  },
  {
   "cell_type": "code",
   "execution_count": 4,
   "id": "aa89b37c",
   "metadata": {},
   "outputs": [
    {
     "name": "stdout",
     "output_type": "stream",
     "text": [
      "2023-12-17 18:04:13.694790\n"
     ]
    }
   ],
   "source": [
    "print(now)"
   ]
  },
  {
   "cell_type": "code",
   "execution_count": 5,
   "id": "77b0cadc",
   "metadata": {},
   "outputs": [
    {
     "data": {
      "text/plain": [
       "'Sun Dec 17 18:04:13 2023'"
      ]
     },
     "execution_count": 5,
     "metadata": {},
     "output_type": "execute_result"
    }
   ],
   "source": [
    "now.strftime('%c')"
   ]
  },
  {
   "cell_type": "code",
   "execution_count": 6,
   "id": "eaf60c69",
   "metadata": {},
   "outputs": [
    {
     "data": {
      "text/plain": [
       "'06:04:13 PM'"
      ]
     },
     "execution_count": 6,
     "metadata": {},
     "output_type": "execute_result"
    }
   ],
   "source": [
    "now.strftime('%r')"
   ]
  },
  {
   "cell_type": "code",
   "execution_count": null,
   "id": "eb040502",
   "metadata": {},
   "outputs": [],
   "source": []
  }
 ],
 "metadata": {
  "kernelspec": {
   "display_name": "Python 3 (ipykernel)",
   "language": "python",
   "name": "python3"
  },
  "language_info": {
   "codemirror_mode": {
    "name": "ipython",
    "version": 3
   },
   "file_extension": ".py",
   "mimetype": "text/x-python",
   "name": "python",
   "nbconvert_exporter": "python",
   "pygments_lexer": "ipython3",
   "version": "3.11.4"
  }
 },
 "nbformat": 4,
 "nbformat_minor": 5
}
