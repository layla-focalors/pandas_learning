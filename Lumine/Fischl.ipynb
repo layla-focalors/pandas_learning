{
 "cells": [
  {
   "cell_type": "code",
   "execution_count": 2,
   "id": "cae5fc5b",
   "metadata": {},
   "outputs": [],
   "source": [
    "import pandas as pd"
   ]
  },
  {
   "cell_type": "code",
   "execution_count": 3,
   "id": "3715b4ae",
   "metadata": {},
   "outputs": [
    {
     "data": {
      "text/html": [
       "<div>\n",
       "<style scoped>\n",
       "    .dataframe tbody tr th:only-of-type {\n",
       "        vertical-align: middle;\n",
       "    }\n",
       "\n",
       "    .dataframe tbody tr th {\n",
       "        vertical-align: top;\n",
       "    }\n",
       "\n",
       "    .dataframe thead th {\n",
       "        text-align: right;\n",
       "    }\n",
       "</style>\n",
       "<table border=\"1\" class=\"dataframe\">\n",
       "  <thead>\n",
       "    <tr style=\"text-align: right;\">\n",
       "      <th></th>\n",
       "      <th>Name</th>\n",
       "      <th>Born</th>\n",
       "      <th>Hobby</th>\n",
       "      <th>Height</th>\n",
       "    </tr>\n",
       "  </thead>\n",
       "  <tbody>\n",
       "    <tr>\n",
       "      <th>0</th>\n",
       "      <td>RM</td>\n",
       "      <td>1992-02-03</td>\n",
       "      <td>music</td>\n",
       "      <td>175</td>\n",
       "    </tr>\n",
       "    <tr>\n",
       "      <th>1</th>\n",
       "      <td>Jin</td>\n",
       "      <td>1991-06-21</td>\n",
       "      <td>movie</td>\n",
       "      <td>180</td>\n",
       "    </tr>\n",
       "    <tr>\n",
       "      <th>2</th>\n",
       "      <td>Jhop</td>\n",
       "      <td>1992-09-11</td>\n",
       "      <td>baseball</td>\n",
       "      <td>176</td>\n",
       "    </tr>\n",
       "    <tr>\n",
       "      <th>3</th>\n",
       "      <td>Sugar</td>\n",
       "      <td>1993-10-02</td>\n",
       "      <td>Gitar</td>\n",
       "      <td>173</td>\n",
       "    </tr>\n",
       "    <tr>\n",
       "      <th>4</th>\n",
       "      <td>Jimin</td>\n",
       "      <td>1994-12-20</td>\n",
       "      <td>tenniss</td>\n",
       "      <td>170</td>\n",
       "    </tr>\n",
       "    <tr>\n",
       "      <th>5</th>\n",
       "      <td>View</td>\n",
       "      <td>1994-05-28</td>\n",
       "      <td>dance</td>\n",
       "      <td>171</td>\n",
       "    </tr>\n",
       "    <tr>\n",
       "      <th>6</th>\n",
       "      <td>Height</td>\n",
       "      <td>1996-07-17</td>\n",
       "      <td>Reading</td>\n",
       "      <td>173</td>\n",
       "    </tr>\n",
       "  </tbody>\n",
       "</table>\n",
       "</div>"
      ],
      "text/plain": [
       "     Name        Born     Hobby  Height\n",
       "0      RM  1992-02-03     music     175\n",
       "1     Jin  1991-06-21     movie     180\n",
       "2    Jhop  1992-09-11  baseball     176\n",
       "3   Sugar  1993-10-02     Gitar     173\n",
       "4   Jimin  1994-12-20   tenniss     170\n",
       "5    View  1994-05-28     dance     171\n",
       "6  Height  1996-07-17   Reading     173"
      ]
     },
     "execution_count": 3,
     "metadata": {},
     "output_type": "execute_result"
    }
   ],
   "source": [
    "df = pd.DataFrame({\n",
    "    'Name' : ['RM', 'Jin', 'Jhop', 'Sugar', 'Jimin', 'View', 'Height'],\n",
    "    'Born' : ['1992-02-03', '1991-06-21', '1992-09-11', '1993-10-02', '1994-12-20','1994-05-28', '1996-07-17'],\n",
    "    'Hobby' : ['music', 'movie', 'baseball', 'Gitar', 'tenniss', 'dance', 'Reading'],\n",
    "    'Height' : [175, 180, 176, 173, 170, 171, 173]\n",
    "})\n",
    "df"
   ]
  },
  {
   "cell_type": "code",
   "execution_count": 5,
   "id": "10e66164",
   "metadata": {},
   "outputs": [
    {
     "name": "stdout",
     "output_type": "stream",
     "text": [
      "평균 키 : 174.0\n",
      "최저 키 : 170\n",
      "최고 키 : 180\n"
     ]
    }
   ],
   "source": [
    "print(f\"평균 키 : {df['Height'].mean()}\")\n",
    "print(f\"최저 키 : {df['Height'].min()}\")\n",
    "print(f\"최고 키 : {df['Height'].max()}\")"
   ]
  },
  {
   "cell_type": "code",
   "execution_count": 6,
   "id": "aea295f1",
   "metadata": {},
   "outputs": [],
   "source": [
    "df['date_level'] = pd.to_datetime(df['Height'], format='%Y-%m-%d')\n",
    "df['now_lect'] = pd.to_datetime(\"2022-10-24\", format='%Y-%m-%d')"
   ]
  },
  {
   "cell_type": "code",
   "execution_count": 7,
   "id": "7bc11915",
   "metadata": {},
   "outputs": [
    {
     "data": {
      "text/html": [
       "<div>\n",
       "<style scoped>\n",
       "    .dataframe tbody tr th:only-of-type {\n",
       "        vertical-align: middle;\n",
       "    }\n",
       "\n",
       "    .dataframe tbody tr th {\n",
       "        vertical-align: top;\n",
       "    }\n",
       "\n",
       "    .dataframe thead th {\n",
       "        text-align: right;\n",
       "    }\n",
       "</style>\n",
       "<table border=\"1\" class=\"dataframe\">\n",
       "  <thead>\n",
       "    <tr style=\"text-align: right;\">\n",
       "      <th></th>\n",
       "      <th>Name</th>\n",
       "      <th>Born</th>\n",
       "      <th>Hobby</th>\n",
       "      <th>Height</th>\n",
       "      <th>date_level</th>\n",
       "      <th>now_lect</th>\n",
       "    </tr>\n",
       "  </thead>\n",
       "  <tbody>\n",
       "    <tr>\n",
       "      <th>0</th>\n",
       "      <td>RM</td>\n",
       "      <td>1992-02-03</td>\n",
       "      <td>music</td>\n",
       "      <td>175</td>\n",
       "      <td>1970-01-01 00:00:00.000000175</td>\n",
       "      <td>2022-10-24</td>\n",
       "    </tr>\n",
       "    <tr>\n",
       "      <th>1</th>\n",
       "      <td>Jin</td>\n",
       "      <td>1991-06-21</td>\n",
       "      <td>movie</td>\n",
       "      <td>180</td>\n",
       "      <td>1970-01-01 00:00:00.000000180</td>\n",
       "      <td>2022-10-24</td>\n",
       "    </tr>\n",
       "    <tr>\n",
       "      <th>2</th>\n",
       "      <td>Jhop</td>\n",
       "      <td>1992-09-11</td>\n",
       "      <td>baseball</td>\n",
       "      <td>176</td>\n",
       "      <td>1970-01-01 00:00:00.000000176</td>\n",
       "      <td>2022-10-24</td>\n",
       "    </tr>\n",
       "    <tr>\n",
       "      <th>3</th>\n",
       "      <td>Sugar</td>\n",
       "      <td>1993-10-02</td>\n",
       "      <td>Gitar</td>\n",
       "      <td>173</td>\n",
       "      <td>1970-01-01 00:00:00.000000173</td>\n",
       "      <td>2022-10-24</td>\n",
       "    </tr>\n",
       "    <tr>\n",
       "      <th>4</th>\n",
       "      <td>Jimin</td>\n",
       "      <td>1994-12-20</td>\n",
       "      <td>tenniss</td>\n",
       "      <td>170</td>\n",
       "      <td>1970-01-01 00:00:00.000000170</td>\n",
       "      <td>2022-10-24</td>\n",
       "    </tr>\n",
       "    <tr>\n",
       "      <th>5</th>\n",
       "      <td>View</td>\n",
       "      <td>1994-05-28</td>\n",
       "      <td>dance</td>\n",
       "      <td>171</td>\n",
       "      <td>1970-01-01 00:00:00.000000171</td>\n",
       "      <td>2022-10-24</td>\n",
       "    </tr>\n",
       "    <tr>\n",
       "      <th>6</th>\n",
       "      <td>Height</td>\n",
       "      <td>1996-07-17</td>\n",
       "      <td>Reading</td>\n",
       "      <td>173</td>\n",
       "      <td>1970-01-01 00:00:00.000000173</td>\n",
       "      <td>2022-10-24</td>\n",
       "    </tr>\n",
       "  </tbody>\n",
       "</table>\n",
       "</div>"
      ],
      "text/plain": [
       "     Name        Born     Hobby  Height                    date_level  \\\n",
       "0      RM  1992-02-03     music     175 1970-01-01 00:00:00.000000175   \n",
       "1     Jin  1991-06-21     movie     180 1970-01-01 00:00:00.000000180   \n",
       "2    Jhop  1992-09-11  baseball     176 1970-01-01 00:00:00.000000176   \n",
       "3   Sugar  1993-10-02     Gitar     173 1970-01-01 00:00:00.000000173   \n",
       "4   Jimin  1994-12-20   tenniss     170 1970-01-01 00:00:00.000000170   \n",
       "5    View  1994-05-28     dance     171 1970-01-01 00:00:00.000000171   \n",
       "6  Height  1996-07-17   Reading     173 1970-01-01 00:00:00.000000173   \n",
       "\n",
       "    now_lect  \n",
       "0 2022-10-24  \n",
       "1 2022-10-24  \n",
       "2 2022-10-24  \n",
       "3 2022-10-24  \n",
       "4 2022-10-24  \n",
       "5 2022-10-24  \n",
       "6 2022-10-24  "
      ]
     },
     "execution_count": 7,
     "metadata": {},
     "output_type": "execute_result"
    }
   ],
   "source": [
    "df"
   ]
  },
  {
   "cell_type": "code",
   "execution_count": 8,
   "id": "d6cb605d",
   "metadata": {},
   "outputs": [],
   "source": [
    "df['lifetime'] = df['now_lect'] - df['date_level']"
   ]
  },
  {
   "cell_type": "code",
   "execution_count": 9,
   "id": "a7cf0170",
   "metadata": {},
   "outputs": [
    {
     "data": {
      "text/html": [
       "<div>\n",
       "<style scoped>\n",
       "    .dataframe tbody tr th:only-of-type {\n",
       "        vertical-align: middle;\n",
       "    }\n",
       "\n",
       "    .dataframe tbody tr th {\n",
       "        vertical-align: top;\n",
       "    }\n",
       "\n",
       "    .dataframe thead th {\n",
       "        text-align: right;\n",
       "    }\n",
       "</style>\n",
       "<table border=\"1\" class=\"dataframe\">\n",
       "  <thead>\n",
       "    <tr style=\"text-align: right;\">\n",
       "      <th></th>\n",
       "      <th>Name</th>\n",
       "      <th>Born</th>\n",
       "      <th>Hobby</th>\n",
       "      <th>Height</th>\n",
       "      <th>date_level</th>\n",
       "      <th>now_lect</th>\n",
       "      <th>lifetime</th>\n",
       "    </tr>\n",
       "  </thead>\n",
       "  <tbody>\n",
       "    <tr>\n",
       "      <th>0</th>\n",
       "      <td>RM</td>\n",
       "      <td>1992-02-03</td>\n",
       "      <td>music</td>\n",
       "      <td>175</td>\n",
       "      <td>1970-01-01 00:00:00.000000175</td>\n",
       "      <td>2022-10-24</td>\n",
       "      <td>19288 days 23:59:59.999999825</td>\n",
       "    </tr>\n",
       "    <tr>\n",
       "      <th>1</th>\n",
       "      <td>Jin</td>\n",
       "      <td>1991-06-21</td>\n",
       "      <td>movie</td>\n",
       "      <td>180</td>\n",
       "      <td>1970-01-01 00:00:00.000000180</td>\n",
       "      <td>2022-10-24</td>\n",
       "      <td>19288 days 23:59:59.999999820</td>\n",
       "    </tr>\n",
       "    <tr>\n",
       "      <th>2</th>\n",
       "      <td>Jhop</td>\n",
       "      <td>1992-09-11</td>\n",
       "      <td>baseball</td>\n",
       "      <td>176</td>\n",
       "      <td>1970-01-01 00:00:00.000000176</td>\n",
       "      <td>2022-10-24</td>\n",
       "      <td>19288 days 23:59:59.999999824</td>\n",
       "    </tr>\n",
       "    <tr>\n",
       "      <th>3</th>\n",
       "      <td>Sugar</td>\n",
       "      <td>1993-10-02</td>\n",
       "      <td>Gitar</td>\n",
       "      <td>173</td>\n",
       "      <td>1970-01-01 00:00:00.000000173</td>\n",
       "      <td>2022-10-24</td>\n",
       "      <td>19288 days 23:59:59.999999827</td>\n",
       "    </tr>\n",
       "    <tr>\n",
       "      <th>4</th>\n",
       "      <td>Jimin</td>\n",
       "      <td>1994-12-20</td>\n",
       "      <td>tenniss</td>\n",
       "      <td>170</td>\n",
       "      <td>1970-01-01 00:00:00.000000170</td>\n",
       "      <td>2022-10-24</td>\n",
       "      <td>19288 days 23:59:59.999999830</td>\n",
       "    </tr>\n",
       "    <tr>\n",
       "      <th>5</th>\n",
       "      <td>View</td>\n",
       "      <td>1994-05-28</td>\n",
       "      <td>dance</td>\n",
       "      <td>171</td>\n",
       "      <td>1970-01-01 00:00:00.000000171</td>\n",
       "      <td>2022-10-24</td>\n",
       "      <td>19288 days 23:59:59.999999829</td>\n",
       "    </tr>\n",
       "    <tr>\n",
       "      <th>6</th>\n",
       "      <td>Height</td>\n",
       "      <td>1996-07-17</td>\n",
       "      <td>Reading</td>\n",
       "      <td>173</td>\n",
       "      <td>1970-01-01 00:00:00.000000173</td>\n",
       "      <td>2022-10-24</td>\n",
       "      <td>19288 days 23:59:59.999999827</td>\n",
       "    </tr>\n",
       "  </tbody>\n",
       "</table>\n",
       "</div>"
      ],
      "text/plain": [
       "     Name        Born     Hobby  Height                    date_level  \\\n",
       "0      RM  1992-02-03     music     175 1970-01-01 00:00:00.000000175   \n",
       "1     Jin  1991-06-21     movie     180 1970-01-01 00:00:00.000000180   \n",
       "2    Jhop  1992-09-11  baseball     176 1970-01-01 00:00:00.000000176   \n",
       "3   Sugar  1993-10-02     Gitar     173 1970-01-01 00:00:00.000000173   \n",
       "4   Jimin  1994-12-20   tenniss     170 1970-01-01 00:00:00.000000170   \n",
       "5    View  1994-05-28     dance     171 1970-01-01 00:00:00.000000171   \n",
       "6  Height  1996-07-17   Reading     173 1970-01-01 00:00:00.000000173   \n",
       "\n",
       "    now_lect                      lifetime  \n",
       "0 2022-10-24 19288 days 23:59:59.999999825  \n",
       "1 2022-10-24 19288 days 23:59:59.999999820  \n",
       "2 2022-10-24 19288 days 23:59:59.999999824  \n",
       "3 2022-10-24 19288 days 23:59:59.999999827  \n",
       "4 2022-10-24 19288 days 23:59:59.999999830  \n",
       "5 2022-10-24 19288 days 23:59:59.999999829  \n",
       "6 2022-10-24 19288 days 23:59:59.999999827  "
      ]
     },
     "execution_count": 9,
     "metadata": {},
     "output_type": "execute_result"
    }
   ],
   "source": [
    "df"
   ]
  },
  {
   "cell_type": "code",
   "execution_count": 10,
   "id": "b935c267",
   "metadata": {},
   "outputs": [
    {
     "data": {
      "text/plain": [
       "['.ipynb_checkpoints',\n",
       " 'Albedo.ipynb',\n",
       " 'Amber.ipynb',\n",
       " 'app.csv',\n",
       " 'app.tsv',\n",
       " 'app.xls',\n",
       " 'app.xlsx',\n",
       " 'babara.html',\n",
       " 'babara.ipynb',\n",
       " 'dat2.xls',\n",
       " 'df.csv',\n",
       " 'df.pickle',\n",
       " 'df.tsv',\n",
       " 'df.xls',\n",
       " 'df.xlsx',\n",
       " 'df2au.pickle',\n",
       " 'Diona.ipynb',\n",
       " 'Eula.ipynb',\n",
       " 'Fischl.ipynb',\n",
       " 'HTML',\n",
       " 'Jean.ipynb',\n",
       " 'Keqing.ipynb',\n",
       " 'Layla.ipynb',\n",
       " 'Navia.ipynb',\n",
       " 'Paimon.ipynb',\n",
       " 'Raiden Makoto.ipynb',\n",
       " 'Raiden.ipynb',\n",
       " 'redm2.xls',\n",
       " 'rmdf.xls',\n",
       " 'rmdf2.xls',\n",
       " 'Yaoyao.ipynb',\n",
       " 'Yoimiya.ipynb',\n",
       " 'Zhongli.ipynb']"
      ]
     },
     "execution_count": 10,
     "metadata": {},
     "output_type": "execute_result"
    }
   ],
   "source": [
    "import os\n",
    "os.listdir('./')"
   ]
  },
  {
   "cell_type": "code",
   "execution_count": 11,
   "id": "a72c2864",
   "metadata": {},
   "outputs": [
    {
     "data": {
      "text/plain": [
       "['.ipynb_checkpoints',\n",
       " 'Albedo.ipynb',\n",
       " 'Amber.ipynb',\n",
       " 'app.csv',\n",
       " 'app.tsv',\n",
       " 'app.xls',\n",
       " 'app.xlsx',\n",
       " 'babara.html',\n",
       " 'babara.ipynb',\n",
       " 'dat2.xls',\n",
       " 'df.csv',\n",
       " 'df.pickle',\n",
       " 'df.tsv',\n",
       " 'df.xls',\n",
       " 'df.xlsx',\n",
       " 'df2au.pickle',\n",
       " 'Diona.ipynb',\n",
       " 'Eula.ipynb',\n",
       " 'Fischl.ipynb',\n",
       " 'HTML',\n",
       " 'Jean.ipynb',\n",
       " 'Keqing.ipynb',\n",
       " 'Layla.ipynb',\n",
       " 'Navia.ipynb',\n",
       " 'Paimon.ipynb',\n",
       " 'Raiden Makoto.ipynb',\n",
       " 'Raiden.ipynb',\n",
       " 'redm2.xls',\n",
       " 'rmdf.xls',\n",
       " 'rmdf2.xls',\n",
       " 'save.pickle',\n",
       " 'Yaoyao.ipynb',\n",
       " 'Yoimiya.ipynb',\n",
       " 'Zhongli.ipynb']"
      ]
     },
     "execution_count": 11,
     "metadata": {},
     "output_type": "execute_result"
    }
   ],
   "source": [
    "df.to_pickle('./save.pickle')\n",
    "os.listdir('./')"
   ]
  },
  {
   "cell_type": "code",
   "execution_count": 12,
   "id": "66cbe647",
   "metadata": {},
   "outputs": [
    {
     "data": {
      "text/html": [
       "<div>\n",
       "<style scoped>\n",
       "    .dataframe tbody tr th:only-of-type {\n",
       "        vertical-align: middle;\n",
       "    }\n",
       "\n",
       "    .dataframe tbody tr th {\n",
       "        vertical-align: top;\n",
       "    }\n",
       "\n",
       "    .dataframe thead th {\n",
       "        text-align: right;\n",
       "    }\n",
       "</style>\n",
       "<table border=\"1\" class=\"dataframe\">\n",
       "  <thead>\n",
       "    <tr style=\"text-align: right;\">\n",
       "      <th></th>\n",
       "      <th>Name</th>\n",
       "      <th>Born</th>\n",
       "      <th>Hobby</th>\n",
       "      <th>Height</th>\n",
       "      <th>date_level</th>\n",
       "      <th>now_lect</th>\n",
       "      <th>lifetime</th>\n",
       "    </tr>\n",
       "  </thead>\n",
       "  <tbody>\n",
       "    <tr>\n",
       "      <th>0</th>\n",
       "      <td>RM</td>\n",
       "      <td>1992-02-03</td>\n",
       "      <td>music</td>\n",
       "      <td>175</td>\n",
       "      <td>1970-01-01 00:00:00.000000175</td>\n",
       "      <td>2022-10-24</td>\n",
       "      <td>19288 days 23:59:59.999999825</td>\n",
       "    </tr>\n",
       "    <tr>\n",
       "      <th>1</th>\n",
       "      <td>Jin</td>\n",
       "      <td>1991-06-21</td>\n",
       "      <td>movie</td>\n",
       "      <td>180</td>\n",
       "      <td>1970-01-01 00:00:00.000000180</td>\n",
       "      <td>2022-10-24</td>\n",
       "      <td>19288 days 23:59:59.999999820</td>\n",
       "    </tr>\n",
       "    <tr>\n",
       "      <th>2</th>\n",
       "      <td>Jhop</td>\n",
       "      <td>1992-09-11</td>\n",
       "      <td>baseball</td>\n",
       "      <td>176</td>\n",
       "      <td>1970-01-01 00:00:00.000000176</td>\n",
       "      <td>2022-10-24</td>\n",
       "      <td>19288 days 23:59:59.999999824</td>\n",
       "    </tr>\n",
       "    <tr>\n",
       "      <th>3</th>\n",
       "      <td>Sugar</td>\n",
       "      <td>1993-10-02</td>\n",
       "      <td>Gitar</td>\n",
       "      <td>173</td>\n",
       "      <td>1970-01-01 00:00:00.000000173</td>\n",
       "      <td>2022-10-24</td>\n",
       "      <td>19288 days 23:59:59.999999827</td>\n",
       "    </tr>\n",
       "    <tr>\n",
       "      <th>4</th>\n",
       "      <td>Jimin</td>\n",
       "      <td>1994-12-20</td>\n",
       "      <td>tenniss</td>\n",
       "      <td>170</td>\n",
       "      <td>1970-01-01 00:00:00.000000170</td>\n",
       "      <td>2022-10-24</td>\n",
       "      <td>19288 days 23:59:59.999999830</td>\n",
       "    </tr>\n",
       "  </tbody>\n",
       "</table>\n",
       "</div>"
      ],
      "text/plain": [
       "    Name        Born     Hobby  Height                    date_level  \\\n",
       "0     RM  1992-02-03     music     175 1970-01-01 00:00:00.000000175   \n",
       "1    Jin  1991-06-21     movie     180 1970-01-01 00:00:00.000000180   \n",
       "2   Jhop  1992-09-11  baseball     176 1970-01-01 00:00:00.000000176   \n",
       "3  Sugar  1993-10-02     Gitar     173 1970-01-01 00:00:00.000000173   \n",
       "4  Jimin  1994-12-20   tenniss     170 1970-01-01 00:00:00.000000170   \n",
       "\n",
       "    now_lect                      lifetime  \n",
       "0 2022-10-24 19288 days 23:59:59.999999825  \n",
       "1 2022-10-24 19288 days 23:59:59.999999820  \n",
       "2 2022-10-24 19288 days 23:59:59.999999824  \n",
       "3 2022-10-24 19288 days 23:59:59.999999827  \n",
       "4 2022-10-24 19288 days 23:59:59.999999830  "
      ]
     },
     "execution_count": 12,
     "metadata": {},
     "output_type": "execute_result"
    }
   ],
   "source": [
    "df = pd.read_pickle('./save.pickle')\n",
    "df.head()"
   ]
  },
  {
   "cell_type": "code",
   "execution_count": 13,
   "id": "e08fb44c",
   "metadata": {},
   "outputs": [
    {
     "data": {
      "text/html": [
       "<div>\n",
       "<style scoped>\n",
       "    .dataframe tbody tr th:only-of-type {\n",
       "        vertical-align: middle;\n",
       "    }\n",
       "\n",
       "    .dataframe tbody tr th {\n",
       "        vertical-align: top;\n",
       "    }\n",
       "\n",
       "    .dataframe thead th {\n",
       "        text-align: right;\n",
       "    }\n",
       "</style>\n",
       "<table border=\"1\" class=\"dataframe\">\n",
       "  <thead>\n",
       "    <tr style=\"text-align: right;\">\n",
       "      <th></th>\n",
       "      <th>country</th>\n",
       "      <th>continent</th>\n",
       "      <th>year</th>\n",
       "      <th>lifeExp</th>\n",
       "      <th>pop</th>\n",
       "      <th>gdpPercap</th>\n",
       "    </tr>\n",
       "  </thead>\n",
       "  <tbody>\n",
       "    <tr>\n",
       "      <th>0</th>\n",
       "      <td>Afghanistan</td>\n",
       "      <td>Asia</td>\n",
       "      <td>1952</td>\n",
       "      <td>28.801</td>\n",
       "      <td>8425333</td>\n",
       "      <td>779.445314</td>\n",
       "    </tr>\n",
       "    <tr>\n",
       "      <th>1</th>\n",
       "      <td>Afghanistan</td>\n",
       "      <td>Asia</td>\n",
       "      <td>1957</td>\n",
       "      <td>30.332</td>\n",
       "      <td>9240934</td>\n",
       "      <td>820.853030</td>\n",
       "    </tr>\n",
       "    <tr>\n",
       "      <th>2</th>\n",
       "      <td>Afghanistan</td>\n",
       "      <td>Asia</td>\n",
       "      <td>1962</td>\n",
       "      <td>31.997</td>\n",
       "      <td>10267083</td>\n",
       "      <td>853.100710</td>\n",
       "    </tr>\n",
       "    <tr>\n",
       "      <th>3</th>\n",
       "      <td>Afghanistan</td>\n",
       "      <td>Asia</td>\n",
       "      <td>1967</td>\n",
       "      <td>34.020</td>\n",
       "      <td>11537966</td>\n",
       "      <td>836.197138</td>\n",
       "    </tr>\n",
       "    <tr>\n",
       "      <th>4</th>\n",
       "      <td>Afghanistan</td>\n",
       "      <td>Asia</td>\n",
       "      <td>1972</td>\n",
       "      <td>36.088</td>\n",
       "      <td>13079460</td>\n",
       "      <td>739.981106</td>\n",
       "    </tr>\n",
       "  </tbody>\n",
       "</table>\n",
       "</div>"
      ],
      "text/plain": [
       "       country continent  year  lifeExp       pop   gdpPercap\n",
       "0  Afghanistan      Asia  1952   28.801   8425333  779.445314\n",
       "1  Afghanistan      Asia  1957   30.332   9240934  820.853030\n",
       "2  Afghanistan      Asia  1962   31.997  10267083  853.100710\n",
       "3  Afghanistan      Asia  1967   34.020  11537966  836.197138\n",
       "4  Afghanistan      Asia  1972   36.088  13079460  739.981106"
      ]
     },
     "execution_count": 13,
     "metadata": {},
     "output_type": "execute_result"
    }
   ],
   "source": [
    "df = pd.read_csv('../data/gapminder.tsv', sep='\\t')\n",
    "df.head()"
   ]
  },
  {
   "cell_type": "code",
   "execution_count": 14,
   "id": "10600b43",
   "metadata": {},
   "outputs": [],
   "source": [
    "import seaborn as sns"
   ]
  },
  {
   "cell_type": "code",
   "execution_count": 17,
   "id": "8a0c36b5",
   "metadata": {},
   "outputs": [
    {
     "data": {
      "text/plain": [
       "Text(0.5, 1.0, 'life Exp for continent')"
      ]
     },
     "execution_count": 17,
     "metadata": {},
     "output_type": "execute_result"
    },
    {
     "data": {
      "image/png": "[encoded data removed]",
      "text/plain": [
       "<Figure size 640x480 with 1 Axes>"
      ]
     },
     "metadata": {},
     "output_type": "display_data"
    }
   ],
   "source": [
    "ax = sns.boxplot(x='continent', y='lifeExp', data=df)\n",
    "ax.set_title(\"life Exp for continent\")"
   ]
  },
  {
   "cell_type": "code",
   "execution_count": 18,
   "id": "380479d3",
   "metadata": {},
   "outputs": [
    {
     "data": {
      "text/plain": [
       "<function seaborn.distributions.histplot(data=None, *, x=None, y=None, hue=None, weights=None, stat='count', bins='auto', binwidth=None, binrange=None, discrete=None, cumulative=False, common_bins=True, common_norm=True, multiple='layer', element='bars', fill=True, shrink=1, kde=False, kde_kws=None, line_kws=None, thresh=0, pthresh=None, pmax=None, cbar=False, cbar_ax=None, cbar_kws=None, palette=None, hue_order=None, hue_norm=None, color=None, log_scale=None, legend=True, ax=None, **kwargs)>"
      ]
     },
     "execution_count": 18,
     "metadata": {},
     "output_type": "execute_result"
    }
   ],
   "source": [
    "sns.histplot"
   ]
  },
  {
   "cell_type": "code",
   "execution_count": 19,
   "id": "aee80421",
   "metadata": {},
   "outputs": [
    {
     "data": {
      "text/plain": [
       "<seaborn.axisgrid.FacetGrid at 0x1e5287f2990>"
      ]
     },
     "execution_count": 19,
     "metadata": {},
     "output_type": "execute_result"
    },
    {
     "data": {
      "image/png": "[encoded data removed]",
      "text/plain": [
       "<Figure size 500x500 with 1 Axes>"
      ]
     },
     "metadata": {},
     "output_type": "display_data"
    }
   ],
   "source": [
    "sns.lmplot(x='lifeExp', y='gdpPercap', data=df)"
   ]
  },
  {
   "cell_type": "code",
   "execution_count": 20,
   "id": "397c39da",
   "metadata": {},
   "outputs": [
    {
     "data": {
      "text/plain": [
       "<Axes: xlabel='lifeExp', ylabel='gdpPercap'>"
      ]
     },
     "execution_count": 20,
     "metadata": {},
     "output_type": "execute_result"
    },
    {
     "data": {
      "image/png": "[encoded data removed]",
      "text/plain": [
       "<Figure size 640x480 with 1 Axes>"
      ]
     },
     "metadata": {},
     "output_type": "display_data"
    }
   ],
   "source": [
    "sns.regplot(x='lifeExp', y='gdpPercap', data=df)"
   ]
  },
  {
   "cell_type": "code",
   "execution_count": 23,
   "id": "e1f6c78f",
   "metadata": {},
   "outputs": [
    {
     "data": {
      "text/plain": [
       "Text(0.5, 1.0, 'lifeExp and GDPpercap')"
      ]
     },
     "execution_count": 23,
     "metadata": {},
     "output_type": "execute_result"
    },
    {
     "data": {
      "image/png": "[encoded data removed]",
      "text/plain": [
       "<Figure size 640x480 with 1 Axes>"
      ]
     },
     "metadata": {},
     "output_type": "display_data"
    }
   ],
   "source": [
    "ax = sns.kdeplot(x='lifeExp', y='gdpPercap', data=df, fill=True)\n",
    "ax.set_title(\"lifeExp and GDPpercap\")"
   ]
  },
  {
   "cell_type": "code",
   "execution_count": null,
   "id": "cca8bde2",
   "metadata": {},
   "outputs": [],
   "source": [
    "# 이변량 [산점도] = 그냥 산점도 그래프, 단, 변량이 2개인"
   ]
  }
 ],
 "metadata": {
  "kernelspec": {
   "display_name": "Python 3 (ipykernel)",
   "language": "python",
   "name": "python3"
  },
  "language_info": {
   "codemirror_mode": {
    "name": "ipython",
    "version": 3
   },
   "file_extension": ".py",
   "mimetype": "text/x-python",
   "name": "python",
   "nbconvert_exporter": "python",
   "pygments_lexer": "ipython3",
   "version": "3.11.4"
  }
 },
 "nbformat": 4,
 "nbformat_minor": 5
}
