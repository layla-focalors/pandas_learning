{
 "cells": [
  {
   "cell_type": "code",
   "execution_count": 1,
   "id": "41c94c11",
   "metadata": {},
   "outputs": [],
   "source": [
    "import pandas as pd\n",
    "import seaborn as sns\n",
    "import matplotlib.pyplot as plt"
   ]
  },
  {
   "cell_type": "code",
   "execution_count": 13,
   "id": "1689b8ad",
   "metadata": {},
   "outputs": [
    {
     "data": {
      "text/plain": [
       "'constant fear'"
      ]
     },
     "execution_count": 13,
     "metadata": {},
     "output_type": "execute_result"
    }
   ],
   "source": [
    "ux = \"\"\"\n",
    "constant fear\n",
    "model\n",
    "ives\n",
    "dosod\n",
    "\"\"\"\n",
    "ux.splitlines()[1]"
   ]
  },
  {
   "cell_type": "code",
   "execution_count": 10,
   "id": "8b085608",
   "metadata": {},
   "outputs": [
    {
     "data": {
      "text/plain": [
       "'model'"
      ]
     },
     "execution_count": 10,
     "metadata": {},
     "output_type": "execute_result"
    }
   ],
   "source": [
    "ux.splitlines()[2]"
   ]
  },
  {
   "cell_type": "code",
   "execution_count": 14,
   "id": "2b7ffdbf",
   "metadata": {},
   "outputs": [
    {
     "data": {
      "text/plain": [
       "['', 'model', 'dosod']"
      ]
     },
     "execution_count": 14,
     "metadata": {},
     "output_type": "execute_result"
    }
   ],
   "source": [
    "ux.splitlines()[::2]"
   ]
  },
  {
   "cell_type": "code",
   "execution_count": null,
   "id": "84c8117b",
   "metadata": {},
   "outputs": [],
   "source": []
  }
 ],
 "metadata": {
  "kernelspec": {
   "display_name": "Python 3 (ipykernel)",
   "language": "python",
   "name": "python3"
  },
  "language_info": {
   "codemirror_mode": {
    "name": "ipython",
    "version": 3
   },
   "file_extension": ".py",
   "mimetype": "text/x-python",
   "name": "python",
   "nbconvert_exporter": "python",
   "pygments_lexer": "ipython3",
   "version": "3.11.4"
  }
 },
 "nbformat": 4,
 "nbformat_minor": 5
}
