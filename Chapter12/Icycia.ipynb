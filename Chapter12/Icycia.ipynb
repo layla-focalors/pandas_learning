{
 "cells": [
  {
   "cell_type": "code",
   "execution_count": 1,
   "id": "c3fc36b4",
   "metadata": {},
   "outputs": [],
   "source": [
    "import pandas as pd\n",
    "import seaborn as sns\n",
    "import matplotlib.pyplot as plt"
   ]
  },
  {
   "cell_type": "code",
   "execution_count": 13,
   "id": "2a1bf61c",
   "metadata": {},
   "outputs": [
    {
     "data": {
      "text/plain": [
       "'constant fear'"
      ]
     },
     "execution_count": 13,
     "metadata": {},
     "output_type": "execute_result"
    }
   ],
   "source": [
    "ux = \"\"\"\n",
    "constant fear\n",
    "model\n",
    "ives\n",
    "dosod\n",
    "\"\"\"\n",
    "ux.splitlines()[1]"
   ]
  },
  {
   "cell_type": "code",
   "execution_count": 10,
   "id": "a5485e75",
   "metadata": {},
   "outputs": [
    {
     "data": {
      "text/plain": [
       "'model'"
      ]
     },
     "execution_count": 10,
     "metadata": {},
     "output_type": "execute_result"
    }
   ],
   "source": [
    "ux.splitlines()[2]"
   ]
  },
  {
   "cell_type": "code",
   "execution_count": 14,
   "id": "921bee8d",
   "metadata": {},
   "outputs": [
    {
     "data": {
      "text/plain": [
       "['', 'model', 'dosod']"
      ]
     },
     "execution_count": 14,
     "metadata": {},
     "output_type": "execute_result"
    }
   ],
   "source": [
    "ux.splitlines()[::2]"
   ]
  },
  {
   "cell_type": "code",
   "execution_count": 15,
   "id": "e26afc1f",
   "metadata": {},
   "outputs": [],
   "source": [
    "import glob"
   ]
  },
  {
   "cell_type": "code",
   "execution_count": null,
   "id": "c23731da",
   "metadata": {},
   "outputs": [],
   "source": []
  }
 ],
 "metadata": {
  "kernelspec": {
   "display_name": "Python 3 (ipykernel)",
   "language": "python",
   "name": "python3"
  },
  "language_info": {
   "codemirror_mode": {
    "name": "ipython",
    "version": 3
   },
   "file_extension": ".py",
   "mimetype": "text/x-python",
   "name": "python",
   "nbconvert_exporter": "python",
   "pygments_lexer": "ipython3",
   "version": "3.11.4"
  }
 },
 "nbformat": 4,
 "nbformat_minor": 5
}
