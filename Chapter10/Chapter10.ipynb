{
 "cells": [
  {
   "cell_type": "markdown",
   "id": "9ebb44dc",
   "metadata": {},
   "source": [
    "### Apply 데이터\n",
    "> 대용량의 데이터를 처리할 때는 for문보다 빠르게 처리 가능"
   ]
  },
  {
   "cell_type": "code",
   "execution_count": 1,
   "id": "80d3fba0",
   "metadata": {},
   "outputs": [],
   "source": [
    "def y_sq(x):\n",
    "    return x ** 2"
   ]
  },
  {
   "cell_type": "code",
   "execution_count": 12,
   "id": "504b9b76",
   "metadata": {},
   "outputs": [
    {
     "data": {
      "text/plain": [
       "100"
      ]
     },
     "execution_count": 12,
     "metadata": {},
     "output_type": "execute_result"
    }
   ],
   "source": [
    "y_sq(10)"
   ]
  },
  {
   "cell_type": "code",
   "execution_count": 9,
   "id": "8a5851a3",
   "metadata": {},
   "outputs": [],
   "source": [
    "lamda_y_sq = lambda x : x ** 2"
   ]
  },
  {
   "cell_type": "code",
   "execution_count": 10,
   "id": "783ebc47",
   "metadata": {},
   "outputs": [
    {
     "data": {
      "text/plain": [
       "100"
      ]
     },
     "execution_count": 10,
     "metadata": {},
     "output_type": "execute_result"
    }
   ],
   "source": [
    "lamda_y_sq(10)"
   ]
  },
  {
   "cell_type": "code",
   "execution_count": 5,
   "id": "a041177c",
   "metadata": {},
   "outputs": [
    {
     "data": {
      "text/plain": [
       "16"
      ]
     },
     "execution_count": 5,
     "metadata": {},
     "output_type": "execute_result"
    }
   ],
   "source": [
    "y_sq(4)"
   ]
  },
  {
   "cell_type": "code",
   "execution_count": null,
   "id": "e76ccbfa",
   "metadata": {},
   "outputs": [],
   "source": [
    "# 함수의 기본 구조 : def my_function():"
   ]
  },
  {
   "cell_type": "code",
   "execution_count": 6,
   "id": "92aae23b",
   "metadata": {},
   "outputs": [
    {
     "data": {
      "text/plain": [
       "16"
      ]
     },
     "execution_count": 6,
     "metadata": {},
     "output_type": "execute_result"
    }
   ],
   "source": [
    "lamda_y_sq(4)"
   ]
  },
  {
   "cell_type": "code",
   "execution_count": 13,
   "id": "b84c0401",
   "metadata": {},
   "outputs": [],
   "source": [
    "def my_exp(x, n):\n",
    "    return x ** n"
   ]
  },
  {
   "cell_type": "code",
   "execution_count": 14,
   "id": "b548f373",
   "metadata": {},
   "outputs": [],
   "source": [
    "lamda_my_exp = lambda x,n : x ** n"
   ]
  },
  {
   "cell_type": "code",
   "execution_count": 15,
   "id": "4ac78d8a",
   "metadata": {},
   "outputs": [
    {
     "data": {
      "text/plain": [
       "81"
      ]
     },
     "execution_count": 15,
     "metadata": {},
     "output_type": "execute_result"
    }
   ],
   "source": [
    "my_exp(3, 4)"
   ]
  },
  {
   "cell_type": "code",
   "execution_count": 17,
   "id": "8e91311c",
   "metadata": {},
   "outputs": [
    {
     "data": {
      "text/plain": [
       "81"
      ]
     },
     "execution_count": 17,
     "metadata": {},
     "output_type": "execute_result"
    }
   ],
   "source": [
    "lamda_my_exp(3, 4)"
   ]
  },
  {
   "cell_type": "code",
   "execution_count": null,
   "id": "59f3d76d",
   "metadata": {},
   "outputs": [],
   "source": []
  }
 ],
 "metadata": {
  "kernelspec": {
   "display_name": "Python 3 (ipykernel)",
   "language": "python",
   "name": "python3"
  },
  "language_info": {
   "codemirror_mode": {
    "name": "ipython",
    "version": 3
   },
   "file_extension": ".py",
   "mimetype": "text/x-python",
   "name": "python",
   "nbconvert_exporter": "python",
   "pygments_lexer": "ipython3",
   "version": "3.11.4"
  }
 },
 "nbformat": 4,
 "nbformat_minor": 5
}
