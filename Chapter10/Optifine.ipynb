{
 "cells": [
  {
   "cell_type": "code",
   "execution_count": 1,
   "id": "954c47ba",
   "metadata": {},
   "outputs": [],
   "source": [
    "import re\n",
    "tele_num = '1234567890'"
   ]
  },
  {
   "cell_type": "code",
   "execution_count": null,
   "id": "8f60fea9",
   "metadata": {},
   "outputs": [],
   "source": [
    "m = re.match()\n",
    "m"
   ]
  }
 ],
 "metadata": {
  "kernelspec": {
   "display_name": "Python 3 (ipykernel)",
   "language": "python",
   "name": "python3"
  },
  "language_info": {
   "codemirror_mode": {
    "name": "ipython",
    "version": 3
   },
   "file_extension": ".py",
   "mimetype": "text/x-python",
   "name": "python",
   "nbconvert_exporter": "python",
   "pygments_lexer": "ipython3",
   "version": "3.11.4"
  }
 },
 "nbformat": 4,
 "nbformat_minor": 5
}
