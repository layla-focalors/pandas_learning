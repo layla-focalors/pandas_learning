{
 "cells": [
  {
   "cell_type": "code",
   "execution_count": 1,
   "id": "2380be5c",
   "metadata": {},
   "outputs": [],
   "source": [
    "import re\n",
    "tele_num = '1234567890'"
   ]
  },
  {
   "cell_type": "code",
   "execution_count": 4,
   "id": "11698679",
   "metadata": {},
   "outputs": [
    {
     "data": {
      "text/plain": [
       "<re.Match object; span=(0, 10), match='1234567890'>"
      ]
     },
     "execution_count": 4,
     "metadata": {},
     "output_type": "execute_result"
    }
   ],
   "source": [
    "m = re.match(pattern = '\\d{10}', string=tele_num)\n",
    "m "
   ]
  },
  {
   "cell_type": "code",
   "execution_count": 5,
   "id": "8dcd3ac0",
   "metadata": {},
   "outputs": [
    {
     "data": {
      "text/plain": [
       "re.Match"
      ]
     },
     "execution_count": 5,
     "metadata": {},
     "output_type": "execute_result"
    }
   ],
   "source": [
    "type(m)"
   ]
  },
  {
   "cell_type": "code",
   "execution_count": 6,
   "id": "38b1dd72",
   "metadata": {},
   "outputs": [
    {
     "data": {
      "text/plain": [
       "True"
      ]
     },
     "execution_count": 6,
     "metadata": {},
     "output_type": "execute_result"
    }
   ],
   "source": [
    "bool(m)"
   ]
  },
  {
   "cell_type": "code",
   "execution_count": 9,
   "id": "74af8dd8",
   "metadata": {},
   "outputs": [],
   "source": [
    "x = 100\n",
    "y = lambda x : x + 100"
   ]
  },
  {
   "cell_type": "code",
   "execution_count": 10,
   "id": "923c766a",
   "metadata": {},
   "outputs": [
    {
     "data": {
      "text/plain": [
       "<function __main__.<lambda>(x)>"
      ]
     },
     "execution_count": 10,
     "metadata": {},
     "output_type": "execute_result"
    }
   ],
   "source": [
    "y"
   ]
  },
  {
   "cell_type": "code",
   "execution_count": 11,
   "id": "280ca01e",
   "metadata": {},
   "outputs": [
    {
     "data": {
      "text/plain": [
       "30"
      ]
     },
     "execution_count": 11,
     "metadata": {},
     "output_type": "execute_result"
    }
   ],
   "source": [
    "add = lambda x, y : x + y\n",
    "add(10, 20)"
   ]
  },
  {
   "cell_type": "code",
   "execution_count": 18,
   "id": "fd931a6d",
   "metadata": {},
   "outputs": [
    {
     "data": {
      "text/plain": [
       "<re.Match object; span=(0, 10), match='2123588219'>"
      ]
     },
     "execution_count": 18,
     "metadata": {},
     "output_type": "execute_result"
    }
   ],
   "source": [
    "m = re.match(pattern = '\\d\\d\\d\\d\\d\\d\\d\\d\\d\\d', string=tele_num)\n",
    "m "
   ]
  },
  {
   "cell_type": "code",
   "execution_count": 19,
   "id": "09bf4c46",
   "metadata": {},
   "outputs": [
    {
     "name": "stdout",
     "output_type": "stream",
     "text": [
      "match\n"
     ]
    }
   ],
   "source": [
    "if m:\n",
    "    print(\"match\")\n",
    "else:\n",
    "    print(\"no\")"
   ]
  },
  {
   "cell_type": "code",
   "execution_count": 17,
   "id": "93f8c94e",
   "metadata": {},
   "outputs": [],
   "source": [
    "tele_num = '2123588219'"
   ]
  },
  {
   "cell_type": "code",
   "execution_count": 20,
   "id": "531a29d8",
   "metadata": {},
   "outputs": [
    {
     "data": {
      "text/plain": [
       "0"
      ]
     },
     "execution_count": 20,
     "metadata": {},
     "output_type": "execute_result"
    }
   ],
   "source": [
    "m.start()"
   ]
  },
  {
   "cell_type": "code",
   "execution_count": 21,
   "id": "1fab2c04",
   "metadata": {},
   "outputs": [
    {
     "data": {
      "text/plain": [
       "10"
      ]
     },
     "execution_count": 21,
     "metadata": {},
     "output_type": "execute_result"
    }
   ],
   "source": [
    "m.end()"
   ]
  },
  {
   "cell_type": "code",
   "execution_count": 22,
   "id": "6d77ce6e",
   "metadata": {},
   "outputs": [
    {
     "data": {
      "text/plain": [
       "'2123588219'"
      ]
     },
     "execution_count": 22,
     "metadata": {},
     "output_type": "execute_result"
    }
   ],
   "source": [
    "m.group()"
   ]
  },
  {
   "cell_type": "code",
   "execution_count": 23,
   "id": "8ad4e3ad",
   "metadata": {},
   "outputs": [
    {
     "data": {
      "text/plain": [
       "'2'"
      ]
     },
     "execution_count": 23,
     "metadata": {},
     "output_type": "execute_result"
    }
   ],
   "source": [
    "tele_num[m.start()]"
   ]
  },
  {
   "cell_type": "code",
   "execution_count": 24,
   "id": "3556d4f7",
   "metadata": {},
   "outputs": [
    {
     "data": {
      "text/plain": [
       "(0, 10)"
      ]
     },
     "execution_count": 24,
     "metadata": {},
     "output_type": "execute_result"
    }
   ],
   "source": [
    "m.span()"
   ]
  },
  {
   "cell_type": "code",
   "execution_count": 26,
   "id": "6a778cbc",
   "metadata": {},
   "outputs": [
    {
     "data": {
      "text/plain": [
       "'9'"
      ]
     },
     "execution_count": 26,
     "metadata": {},
     "output_type": "execute_result"
    }
   ],
   "source": [
    "tele_num[m.end() - 1]"
   ]
  },
  {
   "cell_type": "code",
   "execution_count": 27,
   "id": "982fdf2a",
   "metadata": {},
   "outputs": [],
   "source": [
    "tem_num_spaces = '123 456 7890'"
   ]
  },
  {
   "cell_type": "code",
   "execution_count": 31,
   "id": "b882c69a",
   "metadata": {},
   "outputs": [
    {
     "name": "stdout",
     "output_type": "stream",
     "text": [
      "None\n"
     ]
    }
   ],
   "source": [
    "m = re.match(pattern='\\d{10}', string=tem_num_spaces)\n",
    "print(m)"
   ]
  },
  {
   "cell_type": "code",
   "execution_count": 34,
   "id": "0fc2c827",
   "metadata": {},
   "outputs": [
    {
     "name": "stdout",
     "output_type": "stream",
     "text": [
      "<re.Match object; span=(0, 12), match='123 456 7890'>\n"
     ]
    }
   ],
   "source": [
    "m = re.match(pattern='\\d{3}\\s\\d{3}\\s\\d{4}', string=tem_num_spaces)\n",
    "print(m)"
   ]
  },
  {
   "cell_type": "code",
   "execution_count": 35,
   "id": "80cb67b5",
   "metadata": {},
   "outputs": [
    {
     "name": "stdout",
     "output_type": "stream",
     "text": [
      "match\n"
     ]
    }
   ],
   "source": [
    "if m:\n",
    "    print(\"match\")\n",
    "else:\n",
    "    print(\"non match\")"
   ]
  },
  {
   "cell_type": "code",
   "execution_count": 32,
   "id": "ab936901",
   "metadata": {},
   "outputs": [
    {
     "name": "stdout",
     "output_type": "stream",
     "text": [
      "<re.Match object; span=(0, 12), match='123 456 7890'>\n"
     ]
    }
   ],
   "source": [
    "m = re.match(pattern='\\d{3}\\s\\d{3}\\s\\d{4}', string=tem_num_spaces)\n",
    "print(m)"
   ]
  },
  {
   "cell_type": "code",
   "execution_count": 36,
   "id": "bf5e6af5",
   "metadata": {},
   "outputs": [
    {
     "name": "stdout",
     "output_type": "stream",
     "text": [
      "<re.Match object; span=(0, 12), match='123 456 7890'>\n"
     ]
    }
   ],
   "source": [
    "m = re.match(pattern='\\d{3}\\s?\\d{3}\\s?\\d{4}', string=tem_num_spaces)\n",
    "print(m)"
   ]
  },
  {
   "cell_type": "code",
   "execution_count": 37,
   "id": "f8d390a0",
   "metadata": {},
   "outputs": [],
   "source": [
    "p = '\\d{3}\\s?\\d{3}\\s?\\d{4}'\n",
    "m = re.match(pattern=p, string=tem_num_spaces)"
   ]
  },
  {
   "cell_type": "code",
   "execution_count": 38,
   "id": "61fbf6b4",
   "metadata": {},
   "outputs": [
    {
     "data": {
      "text/plain": [
       "<re.Match object; span=(0, 12), match='123 456 7890'>"
      ]
     },
     "execution_count": 38,
     "metadata": {},
     "output_type": "execute_result"
    }
   ],
   "source": [
    "m"
   ]
  },
  {
   "cell_type": "code",
   "execution_count": 55,
   "id": "545cfa06",
   "metadata": {},
   "outputs": [],
   "source": [
    "tel_num_space_dash = '(123) 456-7890'"
   ]
  },
  {
   "cell_type": "code",
   "execution_count": 45,
   "id": "edb6a839",
   "metadata": {},
   "outputs": [
    {
     "data": {
      "text/plain": [
       "<re.Match object; span=(0, 14), match='(123) 456-7890'>"
      ]
     },
     "execution_count": 45,
     "metadata": {},
     "output_type": "execute_result"
    }
   ],
   "source": [
    "m = re.match(pattern='\\(?\\d{3}\\)?\\s?\\d{3}\\s?-?\\d{4}', string=tel_num_space_dash)\n",
    "m"
   ]
  },
  {
   "cell_type": "code",
   "execution_count": 46,
   "id": "c8069507",
   "metadata": {},
   "outputs": [
    {
     "data": {
      "text/plain": [
       "<re.Match object; span=(0, 14), match='(123) 456-7890'>"
      ]
     },
     "execution_count": 46,
     "metadata": {},
     "output_type": "execute_result"
    }
   ],
   "source": [
    "m = re.match(pattern='\\(?\\d{3}\\)?\\s?\\d{3}\\s?-?\\d{4}', string=tel_num_space_dash)\n",
    "m"
   ]
  },
  {
   "cell_type": "code",
   "execution_count": 59,
   "id": "8b932b00",
   "metadata": {},
   "outputs": [
    {
     "data": {
      "text/plain": [
       "<re.Match object; span=(0, 14), match='(123) 456-7890'>"
      ]
     },
     "execution_count": 59,
     "metadata": {},
     "output_type": "execute_result"
    }
   ],
   "source": [
    "m = re.match(pattern='\\(\\d{3}\\)\\s\\d{3}\\s?\\-\\d{4}', string=tel_num_space_dash)\n",
    "m"
   ]
  },
  {
   "cell_type": "code",
   "execution_count": 62,
   "id": "53a58b7b",
   "metadata": {},
   "outputs": [
    {
     "data": {
      "text/plain": [
       "<re.Match object; span=(0, 17), match='+1 (123) 456-7890'>"
      ]
     },
     "execution_count": 62,
     "metadata": {},
     "output_type": "execute_result"
    }
   ],
   "source": [
    "cnt_tel_num_space_dash = '+1 (123) 456-7890'\n",
    "m = re.match(pattern='\\+\\d\\s\\(\\d{3}\\)\\s\\d{3}\\-\\d{4}', string=cnt_tel_num_space_dash)\n",
    "m"
   ]
  },
  {
   "cell_type": "code",
   "execution_count": 63,
   "id": "0ee5cbe6",
   "metadata": {},
   "outputs": [
    {
     "data": {
      "text/plain": [
       "<re.Match object; span=(0, 17), match='+1 (123) 456-7890'>"
      ]
     },
     "execution_count": 63,
     "metadata": {},
     "output_type": "execute_result"
    }
   ],
   "source": [
    "cnt_tel_num_space_dash = '+1 (123) 456-7890'\n",
    "m = re.match(pattern='\\+\\d\\s?\\(\\d{3}\\)\\s?\\d{3}\\-\\d{4}', string=cnt_tel_num_space_dash)\n",
    "m"
   ]
  },
  {
   "cell_type": "code",
   "execution_count": 65,
   "id": "ec625691",
   "metadata": {},
   "outputs": [
    {
     "data": {
      "text/plain": [
       "<re.Match object; span=(0, 18), match='+82 (123) 456-7890'>"
      ]
     },
     "execution_count": 65,
     "metadata": {},
     "output_type": "execute_result"
    }
   ],
   "source": [
    "cnt_tel_num_space_dash = '+82 (123) 456-7890'\n",
    "m = re.match(pattern='\\+\\d{2}\\s\\(\\d{3}\\)\\s\\d{3}\\-\\d{4}', string=cnt_tel_num_space_dash)\n",
    "m"
   ]
  },
  {
   "cell_type": "code",
   "execution_count": 66,
   "id": "710f38e2",
   "metadata": {},
   "outputs": [
    {
     "data": {
      "text/plain": [
       "<re.Match object; span=(0, 18), match='+82 (123) 456-7890'>"
      ]
     },
     "execution_count": 66,
     "metadata": {},
     "output_type": "execute_result"
    }
   ],
   "source": [
    "cnt_tel_num_space_dash = '+82 (123) 456-7890'\n",
    "m = re.match(pattern='\\+\\d{2}\\s?\\(\\d{3}\\)\\s?\\d{3}\\-\\d{4}', string=cnt_tel_num_space_dash)\n",
    "m"
   ]
  },
  {
   "cell_type": "code",
   "execution_count": 67,
   "id": "e1d365ea",
   "metadata": {},
   "outputs": [
    {
     "data": {
      "text/plain": [
       "'+82 (123) 456-7890'"
      ]
     },
     "execution_count": 67,
     "metadata": {},
     "output_type": "execute_result"
    }
   ],
   "source": [
    "m.group()"
   ]
  },
  {
   "cell_type": "code",
   "execution_count": 73,
   "id": "7e2920b9",
   "metadata": {},
   "outputs": [
    {
     "data": {
      "text/plain": [
       "<re.Match object; span=(0, 10), match='1234567890'>"
      ]
     },
     "execution_count": 73,
     "metadata": {},
     "output_type": "execute_result"
    }
   ],
   "source": [
    "dn = '1234567890'\n",
    "p = re.compile('\\d{10}')\n",
    "m = p.match(dn)\n",
    "m"
   ]
  },
  {
   "cell_type": "code",
   "execution_count": 71,
   "id": "b698a945",
   "metadata": {},
   "outputs": [
    {
     "data": {
      "text/plain": [
       "<re.Match object; span=(0, 10), match='1234567890'>"
      ]
     },
     "execution_count": 71,
     "metadata": {},
     "output_type": "execute_result"
    }
   ],
   "source": [
    "p = re.compile('\\d{10}')\n",
    "s = '1234567890'\n",
    "m = p.match(s)\n",
    "m"
   ]
  },
  {
   "cell_type": "code",
   "execution_count": null,
   "id": "fe5b402e",
   "metadata": {},
   "outputs": [],
   "source": []
  }
 ],
 "metadata": {
  "kernelspec": {
   "display_name": "Python 3 (ipykernel)",
   "language": "python",
   "name": "python3"
  },
  "language_info": {
   "codemirror_mode": {
    "name": "ipython",
    "version": 3
   },
   "file_extension": ".py",
   "mimetype": "text/x-python",
   "name": "python",
   "nbconvert_exporter": "python",
   "pygments_lexer": "ipython3",
   "version": "3.11.4"
  }
 },
 "nbformat": 4,
 "nbformat_minor": 5
}
