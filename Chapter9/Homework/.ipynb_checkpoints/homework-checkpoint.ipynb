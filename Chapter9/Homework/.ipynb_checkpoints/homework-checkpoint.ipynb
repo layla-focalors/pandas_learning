{
 "cells": [
  {
   "cell_type": "code",
   "execution_count": 1,
   "id": "db84bcec",
   "metadata": {},
   "outputs": [],
   "source": [
    "inputs = ['010-1234-5678', '02.9876.5432', '031-8765-4321', '+1 (555) 123-4567', '070-1111-2222']"
   ]
  },
  {
   "cell_type": "code",
   "execution_count": 2,
   "id": "3cb6504c",
   "metadata": {},
   "outputs": [
    {
     "data": {
      "text/plain": [
       "['010-1234-5678',\n",
       " '02.9876.5432',\n",
       " '031-8765-4321',\n",
       " '+1 (555) 123-4567',\n",
       " '070-1111-2222']"
      ]
     },
     "execution_count": 2,
     "metadata": {},
     "output_type": "execute_result"
    }
   ],
   "source": [
    "inputs"
   ]
  },
  {
   "cell_type": "code",
   "execution_count": 9,
   "id": "6e28620f",
   "metadata": {},
   "outputs": [
    {
     "name": "stdout",
     "output_type": "stream",
     "text": [
      "010-1234-5678\n",
      "02-9876-5432\n",
      "031-8765-4321\n",
      "+1(555)123-4567\n",
      "070-1111-2222\n"
     ]
    }
   ],
   "source": [
    "remake = []\n",
    "for inp in inputs:\n",
    "    try:\n",
    "        inp = inp.replace(\".\", \"-\")\n",
    "        inp = inp.replace(\" \", \"\")\n",
    "        i\n",
    "        print(inp) \n",
    "    except:\n",
    "        pass"
   ]
  },
  {
   "cell_type": "code",
   "execution_count": 14,
   "id": "38ed3403",
   "metadata": {},
   "outputs": [],
   "source": [
    "def tot_num_patterns(text):\n",
    "    tel_num_patterns = [\n",
    "        r'\\b(?:\\+\\d{1, 3}[-.\\s]?)?\\(?\\d{1, 4}\\)?[-.\\s]?\\d{1, 4}[-.\\s]?\\d{1, 4}[-.\\s]?\\d{4}\\b'\n",
    "#         r이 시작한다는 의미 . 패턴들을 사용자 지정한다는 뜻\n",
    "    ]\n",
    "    tel_num = []"
   ]
  },
  {
   "cell_type": "code",
   "execution_count": null,
   "id": "1ab419b2",
   "metadata": {},
   "outputs": [],
   "source": []
  }
 ],
 "metadata": {
  "kernelspec": {
   "display_name": "Python 3 (ipykernel)",
   "language": "python",
   "name": "python3"
  },
  "language_info": {
   "codemirror_mode": {
    "name": "ipython",
    "version": 3
   },
   "file_extension": ".py",
   "mimetype": "text/x-python",
   "name": "python",
   "nbconvert_exporter": "python",
   "pygments_lexer": "ipython3",
   "version": "3.11.4"
  }
 },
 "nbformat": 4,
 "nbformat_minor": 5
}
