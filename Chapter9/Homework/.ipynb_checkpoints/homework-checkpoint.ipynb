{
 "cells": [
  {
   "cell_type": "code",
   "execution_count": 1,
   "id": "b4fe10c5",
   "metadata": {},
   "outputs": [],
   "source": [
    "inputs = ['010-1234-5678', '02.9876.5432', '031-8765-4321', '+1 (555) 123-4567', '070-1111-2222']"
   ]
  },
  {
   "cell_type": "code",
   "execution_count": 2,
   "id": "6a374549",
   "metadata": {},
   "outputs": [
    {
     "data": {
      "text/plain": [
       "['010-1234-5678',\n",
       " '02.9876.5432',\n",
       " '031-8765-4321',\n",
       " '+1 (555) 123-4567',\n",
       " '070-1111-2222']"
      ]
     },
     "execution_count": 2,
     "metadata": {},
     "output_type": "execute_result"
    }
   ],
   "source": [
    "inputs"
   ]
  },
  {
   "cell_type": "code",
   "execution_count": 9,
   "id": "bdab532a",
   "metadata": {},
   "outputs": [
    {
     "name": "stdout",
     "output_type": "stream",
     "text": [
      "010-1234-5678\n",
      "02-9876-5432\n",
      "031-8765-4321\n",
      "+1(555)123-4567\n",
      "070-1111-2222\n"
     ]
    }
   ],
   "source": [
    "remake = []\n",
    "for inp in inputs:\n",
    "    try:\n",
    "        inp = inp.replace(\".\", \"-\")\n",
    "        inp = inp.replace(\" \", \"\")\n",
    "        i\n",
    "        print(inp) \n",
    "    except:\n",
    "        pass"
   ]
  },
  {
   "cell_type": "code",
   "execution_count": 31,
   "id": "ba8cf026",
   "metadata": {},
   "outputs": [
    {
     "name": "stdout",
     "output_type": "stream",
     "text": [
      "[]\n"
     ]
    }
   ],
   "source": [
    "import re\n",
    "def tot_num_patterns(text):\n",
    "    tel_num_patterns = [\n",
    "        r'\\b(?:\\+\\d{1, 3}[-.\\s]?)?\\(?\\d{1, 4}\\)?[-.\\s]?\\d{1, 4}[-.\\s]?\\d{1, 4}[-.\\s]?\\d{4}\\b',\n",
    "#         r이 시작한다는 의미 . 패턴들을 사용자 지정한다는 뜻\n",
    "    ]\n",
    "    tel_num = []\n",
    "    \n",
    "    for pattern in tel_num_patterns:\n",
    "#         findall : 지정한 패턴을 찾아 리스트로 반환\n",
    "        matches = re.findall(pattern, text)\n",
    "        tel_num.extend(matches)\n",
    "    return tel_num\n",
    "    \n",
    "phone_text = \"\"\"\n",
    "- 010-1234-5678\n",
    "- 02.9876.5432\n",
    "- 031 8765 4321\n",
    "- +1 (064) 123-4567\n",
    "- 070-1111-2222\n",
    "\"\"\"\n",
    "\n",
    "numbers = tot_num_patterns(phone_text)\n",
    "print(numbers)"
   ]
  },
  {
   "cell_type": "code",
   "execution_count": 18,
   "id": "9b64739b",
   "metadata": {},
   "outputs": [],
   "source": [
    "text = ['010-1234-5678', '02.9876.5432', '031-8765-4321', '+1 (555) 123-4567', '070-1111-2222']"
   ]
  },
  {
   "cell_type": "code",
   "execution_count": 28,
   "id": "3a32a5c0",
   "metadata": {},
   "outputs": [],
   "source": [
    "phone_text = \"\"\"\n",
    "- 010-1234-5678\n",
    "- 02.9876.5432\n",
    "- 031 8765 4321\n",
    "- +1 (064) 123-4567\n",
    "- 070-1111-2222\n",
    "\"\"\""
   ]
  },
  {
   "cell_type": "code",
   "execution_count": 29,
   "id": "402b51fa",
   "metadata": {},
   "outputs": [
    {
     "data": {
      "text/plain": [
       "[]"
      ]
     },
     "execution_count": 29,
     "metadata": {},
     "output_type": "execute_result"
    }
   ],
   "source": [
    "tot_num_patterns(phone_text)"
   ]
  },
  {
   "cell_type": "code",
   "execution_count": null,
   "id": "70971e6c",
   "metadata": {},
   "outputs": [],
   "source": []
  }
 ],
 "metadata": {
  "kernelspec": {
   "display_name": "Python 3 (ipykernel)",
   "language": "python",
   "name": "python3"
  },
  "language_info": {
   "codemirror_mode": {
    "name": "ipython",
    "version": 3
   },
   "file_extension": ".py",
   "mimetype": "text/x-python",
   "name": "python",
   "nbconvert_exporter": "python",
   "pygments_lexer": "ipython3",
   "version": "3.11.4"
  }
 },
 "nbformat": 4,
 "nbformat_minor": 5
}
