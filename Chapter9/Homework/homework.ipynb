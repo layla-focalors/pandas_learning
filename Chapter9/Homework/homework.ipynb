{
 "cells": [
  {
   "cell_type": "code",
   "execution_count": 33,
   "id": "b2f13775",
   "metadata": {},
   "outputs": [],
   "source": [
    "inputs = ['010-1234-5678', '02.9876.5432', '031-8765-4321', '+1 (555) 123-4567', '070-1111-2222']"
   ]
  },
  {
   "cell_type": "code",
   "execution_count": null,
   "id": "c8a6c1f6",
   "metadata": {},
   "outputs": [],
   "source": []
  },
  {
   "cell_type": "code",
   "execution_count": 2,
   "id": "b630b8c7",
   "metadata": {},
   "outputs": [
    {
     "data": {
      "text/plain": [
       "['010-1234-5678',\n",
       " '02.9876.5432',\n",
       " '031-8765-4321',\n",
       " '+1 (555) 123-4567',\n",
       " '070-1111-2222']"
      ]
     },
     "execution_count": 2,
     "metadata": {},
     "output_type": "execute_result"
    }
   ],
   "source": [
    "inputs"
   ]
  },
  {
   "cell_type": "code",
   "execution_count": 9,
   "id": "053d33c1",
   "metadata": {},
   "outputs": [
    {
     "name": "stdout",
     "output_type": "stream",
     "text": [
      "010-1234-5678\n",
      "02-9876-5432\n",
      "031-8765-4321\n",
      "+1(555)123-4567\n",
      "070-1111-2222\n"
     ]
    }
   ],
   "source": [
    "remake = []\n",
    "for inp in inputs:\n",
    "    try:\n",
    "        inp = inp.replace(\".\", \"-\")\n",
    "        inp = inp.replace(\" \", \"\")\n",
    "        i\n",
    "        print(inp) \n",
    "    except:\n",
    "        pass"
   ]
  },
  {
   "cell_type": "code",
   "execution_count": 31,
   "id": "561aca2a",
   "metadata": {},
   "outputs": [
    {
     "name": "stdout",
     "output_type": "stream",
     "text": [
      "[]\n"
     ]
    }
   ],
   "source": [
    "import re\n",
    "def tot_num_patterns(text):\n",
    "    tel_num_patterns = [\n",
    "        r'\\b(?:\\+\\d{1, 3}[-.\\s]?)?\\(?\\d{1, 4}\\)?[-.\\s]?\\d{1, 4}[-.\\s]?\\d{1, 4}[-.\\s]?\\d{4}\\b',\n",
    "#         r이 시작한다는 의미 . 패턴들을 사용자 지정한다는 뜻\n",
    "    ]\n",
    "    tel_num = []\n",
    "    \n",
    "    for pattern in tel_num_patterns:\n",
    "#         findall : 지정한 패턴을 찾아 리스트로 반환\n",
    "        matches = re.findall(pattern, text)\n",
    "        tel_num.extend(matches)\n",
    "    return tel_num\n",
    "    \n",
    "phone_text = \"\"\"\n",
    "- 010-1234-5678\n",
    "- 02.9876.5432\n",
    "- 031 8765 4321\n",
    "- +1 (064) 123-4567\n",
    "- 070-1111-2222\n",
    "\"\"\"\n",
    "\n",
    "numbers = tot_num_patterns(phone_text)\n",
    "print(numbers)"
   ]
  },
  {
   "cell_type": "code",
   "execution_count": 18,
   "id": "8d578ede",
   "metadata": {},
   "outputs": [],
   "source": [
    "text = ['010-1234-5678', '02.9876.5432', '031-8765-4321', '+1 (555) 123-4567', '070-1111-2222']"
   ]
  },
  {
   "cell_type": "code",
   "execution_count": 28,
   "id": "ba668579",
   "metadata": {},
   "outputs": [],
   "source": [
    "phone_text = \"\"\"\n",
    "- 010-1234-5678\n",
    "- 02.9876.5432\n",
    "- 031 8765 4321\n",
    "- +1 (064) 123-4567\n",
    "- 070-1111-2222\n",
    "\"\"\""
   ]
  },
  {
   "cell_type": "code",
   "execution_count": 29,
   "id": "2e8b95fa",
   "metadata": {},
   "outputs": [
    {
     "data": {
      "text/plain": [
       "[]"
      ]
     },
     "execution_count": 29,
     "metadata": {},
     "output_type": "execute_result"
    }
   ],
   "source": [
    "tot_num_patterns(phone_text)"
   ]
  },
  {
   "cell_type": "code",
   "execution_count": 32,
   "id": "be38aa70",
   "metadata": {},
   "outputs": [
    {
     "ename": "NameError",
     "evalue": "name 'email' is not defined",
     "output_type": "error",
     "traceback": [
      "\u001b[1;31m---------------------------------------------------------------------------\u001b[0m",
      "\u001b[1;31mNameError\u001b[0m                                 Traceback (most recent call last)",
      "Cell \u001b[1;32mIn[32], line 12\u001b[0m\n\u001b[0;32m      9\u001b[0m     \u001b[38;5;28;01melse\u001b[39;00m:\n\u001b[0;32m     10\u001b[0m         \u001b[38;5;28;01mreturn\u001b[39;00m \u001b[38;5;28;01mFalse\u001b[39;00m\n\u001b[1;32m---> 12\u001b[0m \u001b[38;5;28mprint\u001b[39m(validate_email(\u001b[43memail\u001b[49m))\n",
      "\u001b[1;31mNameError\u001b[0m: name 'email' is not defined"
     ]
    }
   ],
   "source": [
    "import re\n",
    "\n",
    "email_regex = r\"(^[a-zA-Z0-9_.+-]+@[a-zA-Z0-9-]+\\.[a-zA-Z0-9-.]+$)\"\n",
    "\n",
    "# 이메일 주소를 검증하는 함수\n",
    "def validate_email(email):\n",
    "    if re.match(email_regex, email):\n",
    "        return True\n",
    "    else:\n",
    "        return False\n",
    "\n",
    "print(validate_email(email))"
   ]
  }
 ],
 "metadata": {
  "kernelspec": {
   "display_name": "Python 3 (ipykernel)",
   "language": "python",
   "name": "python3"
  },
  "language_info": {
   "codemirror_mode": {
    "name": "ipython",
    "version": 3
   },
   "file_extension": ".py",
   "mimetype": "text/x-python",
   "name": "python",
   "nbconvert_exporter": "python",
   "pygments_lexer": "ipython3",
   "version": "3.11.4"
  }
 },
 "nbformat": 4,
 "nbformat_minor": 5
}
