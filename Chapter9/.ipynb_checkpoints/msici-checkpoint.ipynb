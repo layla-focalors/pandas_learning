{
 "cells": [
  {
   "cell_type": "code",
   "execution_count": 2,
   "id": "fe29cc8d",
   "metadata": {},
   "outputs": [],
   "source": [
    "# 문자열 추출하기\n",
    "# 작년에 가장 시험문제 많이나옴\n",
    "word = \"grail\"\n",
    "sent = \"a scratch\""
   ]
  },
  {
   "cell_type": "code",
   "execution_count": 3,
   "id": "926786cb",
   "metadata": {},
   "outputs": [
    {
     "data": {
      "text/plain": [
       "'g'"
      ]
     },
     "execution_count": 3,
     "metadata": {},
     "output_type": "execute_result"
    }
   ],
   "source": [
    "word[0]"
   ]
  },
  {
   "cell_type": "code",
   "execution_count": 4,
   "id": "3b05510b",
   "metadata": {},
   "outputs": [
    {
     "data": {
      "text/plain": [
       "'a'"
      ]
     },
     "execution_count": 4,
     "metadata": {},
     "output_type": "execute_result"
    }
   ],
   "source": [
    "sent[0]"
   ]
  },
  {
   "cell_type": "code",
   "execution_count": 5,
   "id": "d14775c9",
   "metadata": {},
   "outputs": [
    {
     "data": {
      "text/plain": [
       "'gra'"
      ]
     },
     "execution_count": 5,
     "metadata": {},
     "output_type": "execute_result"
    }
   ],
   "source": [
    "word[0:3]"
   ]
  },
  {
   "cell_type": "code",
   "execution_count": 6,
   "id": "dafbc3e3",
   "metadata": {},
   "outputs": [
    {
     "data": {
      "text/plain": [
       "'h'"
      ]
     },
     "execution_count": 6,
     "metadata": {},
     "output_type": "execute_result"
    }
   ],
   "source": [
    "sent[-1]"
   ]
  },
  {
   "cell_type": "code",
   "execution_count": 7,
   "id": "6f3f1a4b",
   "metadata": {},
   "outputs": [
    {
     "data": {
      "text/plain": [
       "'a'"
      ]
     },
     "execution_count": 7,
     "metadata": {},
     "output_type": "execute_result"
    }
   ],
   "source": [
    "sent[-9:-8]"
   ]
  },
  {
   "cell_type": "code",
   "execution_count": 9,
   "id": "594bd99f",
   "metadata": {},
   "outputs": [
    {
     "data": {
      "text/plain": [
       "1"
      ]
     },
     "execution_count": 9,
     "metadata": {},
     "output_type": "execute_result"
    }
   ],
   "source": [
    "len(sent[-9:-8])"
   ]
  },
  {
   "cell_type": "code",
   "execution_count": 8,
   "id": "5e2393d1",
   "metadata": {},
   "outputs": [
    {
     "data": {
      "text/plain": [
       "'r'"
      ]
     },
     "execution_count": 8,
     "metadata": {},
     "output_type": "execute_result"
    }
   ],
   "source": [
    "sent[-5:-4]"
   ]
  },
  {
   "cell_type": "code",
   "execution_count": 10,
   "id": "8adcb7c2",
   "metadata": {},
   "outputs": [
    {
     "data": {
      "text/plain": [
       "'a'"
      ]
     },
     "execution_count": 10,
     "metadata": {},
     "output_type": "execute_result"
    }
   ],
   "source": [
    "sent[0:-8]"
   ]
  },
  {
   "cell_type": "code",
   "execution_count": 11,
   "id": "063aacfa",
   "metadata": {},
   "outputs": [
    {
     "data": {
      "text/plain": [
       "'a scratc'"
      ]
     },
     "execution_count": 11,
     "metadata": {},
     "output_type": "execute_result"
    }
   ],
   "source": [
    "sent[0:-1]"
   ]
  },
  {
   "cell_type": "code",
   "execution_count": 12,
   "id": "c8346956",
   "metadata": {},
   "outputs": [
    {
     "name": "stdout",
     "output_type": "stream",
     "text": [
      "r\n"
     ]
    }
   ],
   "source": [
    "print(sent[-5:-4])"
   ]
  },
  {
   "cell_type": "code",
   "execution_count": 13,
   "id": "f9ff8d43",
   "metadata": {},
   "outputs": [
    {
     "name": "stdout",
     "output_type": "stream",
     "text": [
      "scratc\n"
     ]
    }
   ],
   "source": [
    "print(sent[-7:-1])\n",
    "# -7 - 6 - 5 -4 -3 -2"
   ]
  },
  {
   "cell_type": "code",
   "execution_count": 15,
   "id": "154c5275",
   "metadata": {},
   "outputs": [
    {
     "data": {
      "text/plain": [
       "'a scratch'"
      ]
     },
     "execution_count": 15,
     "metadata": {},
     "output_type": "execute_result"
    }
   ],
   "source": [
    "sent[0:9]"
   ]
  },
  {
   "cell_type": "code",
   "execution_count": 16,
   "id": "dcfac35a",
   "metadata": {},
   "outputs": [
    {
     "data": {
      "text/plain": [
       "'scratc'"
      ]
     },
     "execution_count": 16,
     "metadata": {},
     "output_type": "execute_result"
    }
   ],
   "source": [
    "sent[-7:-1]"
   ]
  },
  {
   "cell_type": "code",
   "execution_count": 19,
   "id": "596245d5",
   "metadata": {},
   "outputs": [
    {
     "data": {
      "text/plain": [
       "'a scratch'"
      ]
     },
     "execution_count": 19,
     "metadata": {},
     "output_type": "execute_result"
    }
   ],
   "source": [
    "sent"
   ]
  },
  {
   "cell_type": "code",
   "execution_count": 20,
   "id": "5b29f69f",
   "metadata": {},
   "outputs": [
    {
     "data": {
      "text/plain": [
       "9"
      ]
     },
     "execution_count": 20,
     "metadata": {},
     "output_type": "execute_result"
    }
   ],
   "source": [
    "s_len = len(sent)\n",
    "s_len"
   ]
  },
  {
   "cell_type": "code",
   "execution_count": 21,
   "id": "798f8e07",
   "metadata": {},
   "outputs": [
    {
     "data": {
      "text/plain": [
       "'scratch'"
      ]
     },
     "execution_count": 21,
     "metadata": {},
     "output_type": "execute_result"
    }
   ],
   "source": [
    "sent[2:s_len]"
   ]
  },
  {
   "cell_type": "code",
   "execution_count": 27,
   "id": "50e428d0",
   "metadata": {},
   "outputs": [
    {
     "name": "stdout",
     "output_type": "stream",
     "text": [
      "0\n",
      "1\n",
      "2\n",
      "3\n",
      "4\n",
      "5\n",
      "6\n",
      "7\n",
      "8\n"
     ]
    }
   ],
   "source": [
    "for i in range(len(sent)):\n",
    "    print(i)"
   ]
  },
  {
   "cell_type": "code",
   "execution_count": 28,
   "id": "f2450108",
   "metadata": {},
   "outputs": [
    {
     "name": "stdout",
     "output_type": "stream",
     "text": [
      "0 0\n",
      "1 1\n",
      "2 2\n",
      "3 3\n",
      "4 4\n",
      "5 5\n",
      "6 6\n",
      "7 7\n",
      "8 8\n"
     ]
    }
   ],
   "source": [
    "for i, v in enumerate(range(len(sent))):\n",
    "    print(i, v)"
   ]
  },
  {
   "cell_type": "code",
   "execution_count": 29,
   "id": "2d586c9a",
   "metadata": {},
   "outputs": [
    {
     "name": "stdout",
     "output_type": "stream",
     "text": [
      "0 core1\n",
      "1 ccp\n",
      "2 tq\n"
     ]
    }
   ],
   "source": [
    "maxk = ['core1', 'ccp', 'tq']\n",
    "for i, v in enumerate(maxk):\n",
    "    print(i, v)"
   ]
  },
  {
   "cell_type": "code",
   "execution_count": null,
   "id": "b1d2fe4e",
   "metadata": {},
   "outputs": [],
   "source": [
    "coral"
   ]
  },
  {
   "cell_type": "markdown",
   "id": "745cc81b",
   "metadata": {},
   "source": [
    "### 범위 지정 없이 문자열 추출하기\n",
    "p185"
   ]
  },
  {
   "cell_type": "code",
   "execution_count": 30,
   "id": "19967022",
   "metadata": {},
   "outputs": [
    {
     "data": {
      "text/plain": [
       "'gra'"
      ]
     },
     "execution_count": 30,
     "metadata": {},
     "output_type": "execute_result"
    }
   ],
   "source": [
    "word[0:3]"
   ]
  },
  {
   "cell_type": "code",
   "execution_count": 31,
   "id": "aee6f76d",
   "metadata": {},
   "outputs": [
    {
     "data": {
      "text/plain": [
       "'gra'"
      ]
     },
     "execution_count": 31,
     "metadata": {},
     "output_type": "execute_result"
    }
   ],
   "source": [
    "word[ : 3]"
   ]
  },
  {
   "cell_type": "code",
   "execution_count": 32,
   "id": "5507470c",
   "metadata": {},
   "outputs": [
    {
     "data": {
      "text/plain": [
       "'scratch'"
      ]
     },
     "execution_count": 32,
     "metadata": {},
     "output_type": "execute_result"
    }
   ],
   "source": [
    "sent[2:]"
   ]
  },
  {
   "cell_type": "code",
   "execution_count": 33,
   "id": "babf2f92",
   "metadata": {},
   "outputs": [
    {
     "data": {
      "text/plain": [
       "'a scratch'"
      ]
     },
     "execution_count": 33,
     "metadata": {},
     "output_type": "execute_result"
    }
   ],
   "source": [
    "sent[ : ]"
   ]
  },
  {
   "cell_type": "code",
   "execution_count": 35,
   "id": "18c10c33",
   "metadata": {},
   "outputs": [
    {
     "data": {
      "text/plain": [
       "'asrth'"
      ]
     },
     "execution_count": 35,
     "metadata": {},
     "output_type": "execute_result"
    }
   ],
   "source": [
    "sent[::2]\n",
    "# [ start : end : rule(간격) ]\n",
    "# 처음부터 끝까지 처리 > 그러나 2칸 간격으로"
   ]
  },
  {
   "cell_type": "code",
   "execution_count": 36,
   "id": "60df01bb",
   "metadata": {},
   "outputs": [],
   "source": [
    "# join , splitlines / replace 메서드 실습\n",
    "d1 = '40°'\n",
    "m1 = \"45'\"\n",
    "s1 = '52.837\"'\n",
    "u1 = 'N1'\n",
    "\n",
    "d2 = '73°'\n",
    "m2 = \"58'\"\n",
    "s2 = '26.302\"'\n",
    "u2 = 'W'"
   ]
  },
  {
   "cell_type": "code",
   "execution_count": 42,
   "id": "4e486024",
   "metadata": {},
   "outputs": [
    {
     "data": {
      "text/plain": [
       "\"573°873°'\""
      ]
     },
     "execution_count": 42,
     "metadata": {},
     "output_type": "execute_result"
    }
   ],
   "source": [
    "d2.join(m2)"
   ]
  },
  {
   "cell_type": "code",
   "execution_count": 43,
   "id": "d9cf3e52",
   "metadata": {},
   "outputs": [],
   "source": [
    "coords = ''.join([d1, m1, s1, u1, d2, m2, s2, u2])"
   ]
  },
  {
   "cell_type": "code",
   "execution_count": 44,
   "id": "65b13a20",
   "metadata": {},
   "outputs": [
    {
     "data": {
      "text/plain": [
       "'40°45\\'52.837\"N173°58\\'26.302\"W'"
      ]
     },
     "execution_count": 44,
     "metadata": {},
     "output_type": "execute_result"
    }
   ],
   "source": [
    "coords"
   ]
  },
  {
   "cell_type": "code",
   "execution_count": 45,
   "id": "7911edcf",
   "metadata": {},
   "outputs": [
    {
     "data": {
      "text/plain": [
       "'40°45\\'52.837\"N173°58\\'26.302\"W'"
      ]
     },
     "execution_count": 45,
     "metadata": {},
     "output_type": "execute_result"
    }
   ],
   "source": [
    "d1 + m1 + s1 + u1 + d2 + m2 + s2 + u2"
   ]
  },
  {
   "cell_type": "code",
   "execution_count": 48,
   "id": "ba61ff2f",
   "metadata": {
    "scrolled": true
   },
   "outputs": [
    {
     "data": {
      "text/plain": [
       "'40° 45\\' 52.837\" N1 73° 58\\' 26.302\" W'"
      ]
     },
     "execution_count": 48,
     "metadata": {},
     "output_type": "execute_result"
    }
   ],
   "source": [
    "coords = ' '.join([d1, m1, s1, u1, d2, m2, s2, u2])\n",
    "coords"
   ]
  },
  {
   "cell_type": "code",
   "execution_count": 49,
   "id": "2affc5c2",
   "metadata": {},
   "outputs": [
    {
     "data": {
      "text/plain": [
       "'40°mx45\\'mx52.837\"mxN1mx73°mx58\\'mx26.302\"mxW'"
      ]
     },
     "execution_count": 49,
     "metadata": {},
     "output_type": "execute_result"
    }
   ],
   "source": [
    "coords = 'mx'.join([d1, m1, s1, u1, d2, m2, s2, u2])\n",
    "coords"
   ]
  },
  {
   "cell_type": "code",
   "execution_count": 51,
   "id": "83f1ab1d",
   "metadata": {},
   "outputs": [
    {
     "name": "stdout",
     "output_type": "stream",
     "text": [
      "Guard : what? Ridden on a horse?\n",
      "King Arthur: Yes!\n",
      "Guard Arthur: What?\n",
      "King Arthur : What?\n",
      "Guard: You've got ... coconut[s] and you're banaglin' 'em together,\n",
      "\n"
     ]
    }
   ],
   "source": [
    "multi_str = \"\"\"Guard : what? Ridden on a horse?\n",
    "King Arthur: Yes!\n",
    "Guard Arthur: What?\n",
    "King Arthur : What?\n",
    "Guard: You've got ... coconut[s] and you're banaglin' 'em together,\n",
    "\"\"\"\n",
    "print(multi_str)"
   ]
  },
  {
   "cell_type": "code",
   "execution_count": 54,
   "id": "d0547e5c",
   "metadata": {},
   "outputs": [
    {
     "data": {
      "text/plain": [
       "['Guard : what? Ridden on a horse?',\n",
       " 'King Arthur: Yes!',\n",
       " 'Guard Arthur: What?',\n",
       " 'King Arthur : What?',\n",
       " \"Guard: You've got ... coconut[s] and you're banaglin' 'em together,\"]"
      ]
     },
     "execution_count": 54,
     "metadata": {},
     "output_type": "execute_result"
    }
   ],
   "source": [
    "multi_str_split = multi_str.splitlines()\n",
    "multi_str_split\n",
    "# 컴마 단위로 찍어짐"
   ]
  },
  {
   "cell_type": "code",
   "execution_count": 70,
   "id": "a5442e1b",
   "metadata": {},
   "outputs": [
    {
     "data": {
      "text/plain": [
       "['Guard : what? Ridden on a horse?',\n",
       " 'Guard Arthur: What?',\n",
       " \"Guard: You've got ... coconut[s] and you're banaglin' 'em together,\"]"
      ]
     },
     "execution_count": 70,
     "metadata": {},
     "output_type": "execute_result"
    }
   ],
   "source": [
    "guard = multi_str_split[::2]\n",
    "guard"
   ]
  },
  {
   "cell_type": "code",
   "execution_count": 64,
   "id": "5874cc22",
   "metadata": {},
   "outputs": [
    {
     "data": {
      "text/plain": [
       "'Gu'"
      ]
     },
     "execution_count": 64,
     "metadata": {},
     "output_type": "execute_result"
    }
   ],
   "source": [
    "guard = multi_str_split[::2]\n",
    "guard[0][0:2]"
   ]
  },
  {
   "cell_type": "code",
   "execution_count": 60,
   "id": "4468f604",
   "metadata": {},
   "outputs": [
    {
     "name": "stdout",
     "output_type": "stream",
     "text": [
      "[\"Guard : what? Ridden on a horse?\\nKing Arthur: Yes!\\nGuard Arthur: What?\\nKing Arthur : What?\\nGuard: You've got ... coconut[s] and you're banaglin' 'em together\", '\\n']\n"
     ]
    }
   ],
   "source": [
    "print(multi_str.split(\",\"))"
   ]
  },
  {
   "cell_type": "code",
   "execution_count": 75,
   "id": "22ee9fc0",
   "metadata": {},
   "outputs": [
    {
     "data": {
      "text/plain": [
       "['andiadjand', ' dadd', ' addd']"
      ]
     },
     "execution_count": 75,
     "metadata": {},
     "output_type": "execute_result"
    }
   ],
   "source": [
    "\"andiadjand, dadd, addd\".split(',')"
   ]
  },
  {
   "cell_type": "code",
   "execution_count": 62,
   "id": "ac86cb98",
   "metadata": {},
   "outputs": [
    {
     "data": {
      "text/plain": [
       "['Guard : what? Ridden on a horse?', 'King Arthur : What?']"
      ]
     },
     "execution_count": 62,
     "metadata": {},
     "output_type": "execute_result"
    }
   ],
   "source": [
    "guard = multi_str_split[::3]\n",
    "guard"
   ]
  },
  {
   "cell_type": "code",
   "execution_count": 71,
   "id": "41f0b39c",
   "metadata": {},
   "outputs": [
    {
     "data": {
      "text/plain": [
       "\"Guard : what? Ridden on a horse?\\nKing Arthur: Yes!\\nGuard Arthur: What?\\nKing Arthur : What?\\nGuard: You've got ... coconut[s] and you're banaglin' 'em together,\\n\""
      ]
     },
     "execution_count": 71,
     "metadata": {},
     "output_type": "execute_result"
    }
   ],
   "source": [
    "multi_str"
   ]
  },
  {
   "cell_type": "code",
   "execution_count": 82,
   "id": "5f634721",
   "metadata": {},
   "outputs": [
    {
     "name": "stdout",
     "output_type": "stream",
     "text": [
      "['  : what? Ridden on a horse?', '  Arthur: What?', \" : You've got ... coconut[s] and you're banaglin' 'em together,\"]\n"
     ]
    }
   ],
   "source": [
    "guard = multi_str.replace(\"Guard\", \" \").splitlines()[::2]\n",
    "print(guard)"
   ]
  },
  {
   "cell_type": "code",
   "execution_count": 86,
   "id": "86249965",
   "metadata": {},
   "outputs": [
    {
     "name": "stdout",
     "output_type": "stream",
     "text": [
      "Guard : what? Ridden on a horse?\n",
      "King Arthur: Yes!\n",
      "Guard Arthur: What?\n",
      "King Arthur : What?\n",
      " You've got ... coconut[s] and you're banaglin' 'em together,\n",
      "\n"
     ]
    }
   ],
   "source": [
    "guard = multi_str.replace(\"Guard: \", \" \")\n",
    "print(guard)"
   ]
  },
  {
   "cell_type": "code",
   "execution_count": 87,
   "id": "e82ac0cf",
   "metadata": {},
   "outputs": [
    {
     "data": {
      "text/plain": [
       "\"IT's just a flesh wound!\""
      ]
     },
     "execution_count": 87,
     "metadata": {},
     "output_type": "execute_result"
    }
   ],
   "source": [
    "# 문자열 포멧하기\n",
    "var = 'flesh wound'\n",
    "s = \"IT's just a {}!\"\n",
    "s.format(var)"
   ]
  },
  {
   "cell_type": "code",
   "execution_count": 89,
   "id": "0491b0d5",
   "metadata": {},
   "outputs": [
    {
     "data": {
      "text/plain": [
       "\"Its's just a flesh wound\""
      ]
     },
     "execution_count": 89,
     "metadata": {},
     "output_type": "execute_result"
    }
   ],
   "source": [
    "f\"Its's just a {var}\""
   ]
  },
  {
   "cell_type": "code",
   "execution_count": 88,
   "id": "0b5a8ec7",
   "metadata": {},
   "outputs": [
    {
     "data": {
      "text/plain": [
       "\"It's just a fresh wound\""
      ]
     },
     "execution_count": 88,
     "metadata": {},
     "output_type": "execute_result"
    }
   ],
   "source": [
    "f\"It's just a {'fresh wound'}\""
   ]
  },
  {
   "cell_type": "code",
   "execution_count": 90,
   "id": "7d3db4b5",
   "metadata": {},
   "outputs": [
    {
     "data": {
      "text/plain": [
       "\"IT's just a scratch!\""
      ]
     },
     "execution_count": 90,
     "metadata": {},
     "output_type": "execute_result"
    }
   ],
   "source": [
    "s.format('scratch')"
   ]
  },
  {
   "cell_type": "code",
   "execution_count": 93,
   "id": "51fd1354",
   "metadata": {},
   "outputs": [
    {
     "name": "stdout",
     "output_type": "stream",
     "text": [
      "Black Knight : 'Tis but a scratch. \n",
      "king Arthur: A scratch? Your arms' off\n"
     ]
    }
   ],
   "source": [
    "s = \"\"\"Black Knight : 'Tis but a {0}. \n",
    "king Arthur: A {0}? Your arms' off\"\"\"\n",
    "print(s.format('scratch'))"
   ]
  },
  {
   "cell_type": "code",
   "execution_count": 101,
   "id": "ff54d4da",
   "metadata": {},
   "outputs": [
    {
     "name": "stdout",
     "output_type": "stream",
     "text": [
      "Black Knight : 'Tis but a scratch. \n",
      "king Arthur: A atsiu? Your arms' off\n"
     ]
    }
   ],
   "source": [
    "s = \"\"\"Black Knight : 'Tis but a {}. \n",
    "king Arthur: A {}? Your arms' off\"\"\"\n",
    "print(s.format('scratch', 'atsiu'))"
   ]
  },
  {
   "cell_type": "code",
   "execution_count": 102,
   "id": "9093f5d7",
   "metadata": {},
   "outputs": [
    {
     "data": {
      "text/plain": [
       "'Hayden Platnetatium Coddrdinates : 40.7815 N, 73.9733'"
      ]
     },
     "execution_count": 102,
     "metadata": {},
     "output_type": "execute_result"
    }
   ],
   "source": [
    "s = 'Hayden Platnetatium Coddrdinates : {lat}, {lon}'\n",
    "s.format(lat='40.7815 N', lon='73.9733')"
   ]
  },
  {
   "cell_type": "code",
   "execution_count": null,
   "id": "b3db0492",
   "metadata": {},
   "outputs": [],
   "source": []
  }
 ],
 "metadata": {
  "kernelspec": {
   "display_name": "Python 3 (ipykernel)",
   "language": "python",
   "name": "python3"
  },
  "language_info": {
   "codemirror_mode": {
    "name": "ipython",
    "version": 3
   },
   "file_extension": ".py",
   "mimetype": "text/x-python",
   "name": "python",
   "nbconvert_exporter": "python",
   "pygments_lexer": "ipython3",
   "version": "3.11.4"
  }
 },
 "nbformat": 4,
 "nbformat_minor": 5
}
