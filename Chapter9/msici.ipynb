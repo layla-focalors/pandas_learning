{
 "cells": [
  {
   "cell_type": "code",
   "execution_count": 2,
   "id": "fe29cc8d",
   "metadata": {},
   "outputs": [],
   "source": [
    "# 문자열 추출하기\n",
    "# 작년에 가장 시험문제 많이나옴\n",
    "word = \"grail\"\n",
    "sent = \"a scratch\""
   ]
  },
  {
   "cell_type": "code",
   "execution_count": 3,
   "id": "926786cb",
   "metadata": {},
   "outputs": [
    {
     "data": {
      "text/plain": [
       "'g'"
      ]
     },
     "execution_count": 3,
     "metadata": {},
     "output_type": "execute_result"
    }
   ],
   "source": [
    "word[0]"
   ]
  },
  {
   "cell_type": "code",
   "execution_count": 4,
   "id": "3b05510b",
   "metadata": {},
   "outputs": [
    {
     "data": {
      "text/plain": [
       "'a'"
      ]
     },
     "execution_count": 4,
     "metadata": {},
     "output_type": "execute_result"
    }
   ],
   "source": [
    "sent[0]"
   ]
  },
  {
   "cell_type": "code",
   "execution_count": 5,
   "id": "d14775c9",
   "metadata": {},
   "outputs": [
    {
     "data": {
      "text/plain": [
       "'gra'"
      ]
     },
     "execution_count": 5,
     "metadata": {},
     "output_type": "execute_result"
    }
   ],
   "source": [
    "word[0:3]"
   ]
  },
  {
   "cell_type": "code",
   "execution_count": 6,
   "id": "dafbc3e3",
   "metadata": {},
   "outputs": [
    {
     "data": {
      "text/plain": [
       "'h'"
      ]
     },
     "execution_count": 6,
     "metadata": {},
     "output_type": "execute_result"
    }
   ],
   "source": [
    "sent[-1]"
   ]
  },
  {
   "cell_type": "code",
   "execution_count": 7,
   "id": "fcdb0e0e",
   "metadata": {},
   "outputs": [
    {
     "data": {
      "text/plain": [
       "'a'"
      ]
     },
     "execution_count": 7,
     "metadata": {},
     "output_type": "execute_result"
    }
   ],
   "source": [
    "sent[-9:-8]"
   ]
  },
  {
   "cell_type": "code",
   "execution_count": 9,
   "id": "f7fe8e7c",
   "metadata": {},
   "outputs": [
    {
     "data": {
      "text/plain": [
       "1"
      ]
     },
     "execution_count": 9,
     "metadata": {},
     "output_type": "execute_result"
    }
   ],
   "source": [
    "len(sent[-9:-8])"
   ]
  },
  {
   "cell_type": "code",
   "execution_count": 8,
   "id": "58671f48",
   "metadata": {},
   "outputs": [
    {
     "data": {
      "text/plain": [
       "'r'"
      ]
     },
     "execution_count": 8,
     "metadata": {},
     "output_type": "execute_result"
    }
   ],
   "source": [
    "sent[-5:-4]"
   ]
  },
  {
   "cell_type": "code",
   "execution_count": 10,
   "id": "ab8e49d8",
   "metadata": {},
   "outputs": [
    {
     "data": {
      "text/plain": [
       "'a'"
      ]
     },
     "execution_count": 10,
     "metadata": {},
     "output_type": "execute_result"
    }
   ],
   "source": [
    "sent[0:-8]"
   ]
  },
  {
   "cell_type": "code",
   "execution_count": 11,
   "id": "d3276080",
   "metadata": {},
   "outputs": [
    {
     "data": {
      "text/plain": [
       "'a scratc'"
      ]
     },
     "execution_count": 11,
     "metadata": {},
     "output_type": "execute_result"
    }
   ],
   "source": [
    "sent[0:-1]"
   ]
  },
  {
   "cell_type": "code",
   "execution_count": 12,
   "id": "5fd09ee9",
   "metadata": {},
   "outputs": [
    {
     "name": "stdout",
     "output_type": "stream",
     "text": [
      "r\n"
     ]
    }
   ],
   "source": [
    "print(sent[-5:-4])"
   ]
  },
  {
   "cell_type": "code",
   "execution_count": 13,
   "id": "8c9e6004",
   "metadata": {},
   "outputs": [
    {
     "name": "stdout",
     "output_type": "stream",
     "text": [
      "scratc\n"
     ]
    }
   ],
   "source": [
    "print(sent[-7:-1])\n",
    "# -7 - 6 - 5 -4 -3 -2"
   ]
  },
  {
   "cell_type": "code",
   "execution_count": 15,
   "id": "10f4cb6c",
   "metadata": {},
   "outputs": [
    {
     "data": {
      "text/plain": [
       "'a scratch'"
      ]
     },
     "execution_count": 15,
     "metadata": {},
     "output_type": "execute_result"
    }
   ],
   "source": [
    "sent[0:9]"
   ]
  },
  {
   "cell_type": "code",
   "execution_count": 16,
   "id": "cc7a84c5",
   "metadata": {},
   "outputs": [
    {
     "data": {
      "text/plain": [
       "'scratc'"
      ]
     },
     "execution_count": 16,
     "metadata": {},
     "output_type": "execute_result"
    }
   ],
   "source": [
    "sent[-7:-1]"
   ]
  },
  {
   "cell_type": "code",
   "execution_count": 19,
   "id": "76f6c86b",
   "metadata": {},
   "outputs": [
    {
     "data": {
      "text/plain": [
       "'a scratch'"
      ]
     },
     "execution_count": 19,
     "metadata": {},
     "output_type": "execute_result"
    }
   ],
   "source": [
    "sent"
   ]
  },
  {
   "cell_type": "code",
   "execution_count": 20,
   "id": "b37107ec",
   "metadata": {},
   "outputs": [
    {
     "data": {
      "text/plain": [
       "9"
      ]
     },
     "execution_count": 20,
     "metadata": {},
     "output_type": "execute_result"
    }
   ],
   "source": [
    "s_len = len(sent)\n",
    "s_len"
   ]
  },
  {
   "cell_type": "code",
   "execution_count": 21,
   "id": "aed84f0b",
   "metadata": {},
   "outputs": [
    {
     "data": {
      "text/plain": [
       "'scratch'"
      ]
     },
     "execution_count": 21,
     "metadata": {},
     "output_type": "execute_result"
    }
   ],
   "source": [
    "sent[2:s_len]"
   ]
  },
  {
   "cell_type": "code",
   "execution_count": 27,
   "id": "76ab0cfd",
   "metadata": {},
   "outputs": [
    {
     "name": "stdout",
     "output_type": "stream",
     "text": [
      "0\n",
      "1\n",
      "2\n",
      "3\n",
      "4\n",
      "5\n",
      "6\n",
      "7\n",
      "8\n"
     ]
    }
   ],
   "source": [
    "for i in range(len(sent)):\n",
    "    print(i)"
   ]
  },
  {
   "cell_type": "code",
   "execution_count": 28,
   "id": "5fd373ee",
   "metadata": {},
   "outputs": [
    {
     "name": "stdout",
     "output_type": "stream",
     "text": [
      "0 0\n",
      "1 1\n",
      "2 2\n",
      "3 3\n",
      "4 4\n",
      "5 5\n",
      "6 6\n",
      "7 7\n",
      "8 8\n"
     ]
    }
   ],
   "source": [
    "for i, v in enumerate(range(len(sent))):\n",
    "    print(i, v)"
   ]
  },
  {
   "cell_type": "code",
   "execution_count": 29,
   "id": "c05ee09f",
   "metadata": {},
   "outputs": [
    {
     "name": "stdout",
     "output_type": "stream",
     "text": [
      "0 core1\n",
      "1 ccp\n",
      "2 tq\n"
     ]
    }
   ],
   "source": [
    "maxk = ['core1', 'ccp', 'tq']\n",
    "for i, v in enumerate(maxk):\n",
    "    print(i, v)"
   ]
  },
  {
   "cell_type": "code",
   "execution_count": null,
   "id": "295254d9",
   "metadata": {},
   "outputs": [],
   "source": [
    "coral"
   ]
  },
  {
   "cell_type": "markdown",
   "id": "af384e34",
   "metadata": {},
   "source": [
    "### 범위 지정 없이 문자열 추출하기\n",
    "p185"
   ]
  },
  {
   "cell_type": "code",
   "execution_count": 30,
   "id": "19c11243",
   "metadata": {},
   "outputs": [
    {
     "data": {
      "text/plain": [
       "'gra'"
      ]
     },
     "execution_count": 30,
     "metadata": {},
     "output_type": "execute_result"
    }
   ],
   "source": [
    "word[0:3]"
   ]
  },
  {
   "cell_type": "code",
   "execution_count": 31,
   "id": "0a2644fa",
   "metadata": {},
   "outputs": [
    {
     "data": {
      "text/plain": [
       "'gra'"
      ]
     },
     "execution_count": 31,
     "metadata": {},
     "output_type": "execute_result"
    }
   ],
   "source": [
    "word[ : 3]"
   ]
  },
  {
   "cell_type": "code",
   "execution_count": 32,
   "id": "c1e35fe5",
   "metadata": {},
   "outputs": [
    {
     "data": {
      "text/plain": [
       "'scratch'"
      ]
     },
     "execution_count": 32,
     "metadata": {},
     "output_type": "execute_result"
    }
   ],
   "source": [
    "sent[2:]"
   ]
  },
  {
   "cell_type": "code",
   "execution_count": 33,
   "id": "14a325b4",
   "metadata": {},
   "outputs": [
    {
     "data": {
      "text/plain": [
       "'a scratch'"
      ]
     },
     "execution_count": 33,
     "metadata": {},
     "output_type": "execute_result"
    }
   ],
   "source": [
    "sent[ : ]"
   ]
  },
  {
   "cell_type": "code",
   "execution_count": 35,
   "id": "7f46d6ee",
   "metadata": {},
   "outputs": [
    {
     "data": {
      "text/plain": [
       "'asrth'"
      ]
     },
     "execution_count": 35,
     "metadata": {},
     "output_type": "execute_result"
    }
   ],
   "source": [
    "sent[::2]\n",
    "# [ start : end : rule(간격) ]\n",
    "# 처음부터 끝까지 처리 > 그러나 2칸 간격으로"
   ]
  },
  {
   "cell_type": "code",
   "execution_count": 36,
   "id": "b76f4c9d",
   "metadata": {},
   "outputs": [],
   "source": [
    "# join , splitlines / replace 메서드 실습\n",
    "d1 = '40°'\n",
    "m1 = \"45'\"\n",
    "s1 = '52.837\"'\n",
    "u1 = 'N1'\n",
    "\n",
    "d2 = '73°'\n",
    "m2 = \"58'\"\n",
    "s2 = '26.302\"'\n",
    "u2 = 'W'"
   ]
  },
  {
   "cell_type": "code",
   "execution_count": 42,
   "id": "15a129cf",
   "metadata": {},
   "outputs": [
    {
     "data": {
      "text/plain": [
       "\"573°873°'\""
      ]
     },
     "execution_count": 42,
     "metadata": {},
     "output_type": "execute_result"
    }
   ],
   "source": [
    "d2.join(m2)"
   ]
  },
  {
   "cell_type": "code",
   "execution_count": 43,
   "id": "29ea9829",
   "metadata": {},
   "outputs": [],
   "source": [
    "coords = ''.join([d1, m1, s1, u1, d2, m2, s2, u2])"
   ]
  },
  {
   "cell_type": "code",
   "execution_count": 44,
   "id": "4d324cd1",
   "metadata": {},
   "outputs": [
    {
     "data": {
      "text/plain": [
       "'40°45\\'52.837\"N173°58\\'26.302\"W'"
      ]
     },
     "execution_count": 44,
     "metadata": {},
     "output_type": "execute_result"
    }
   ],
   "source": [
    "coords"
   ]
  },
  {
   "cell_type": "code",
   "execution_count": 45,
   "id": "60f51ea0",
   "metadata": {},
   "outputs": [
    {
     "data": {
      "text/plain": [
       "'40°45\\'52.837\"N173°58\\'26.302\"W'"
      ]
     },
     "execution_count": 45,
     "metadata": {},
     "output_type": "execute_result"
    }
   ],
   "source": [
    "d1 + m1 + s1 + u1 + d2 + m2 + s2 + u2"
   ]
  },
  {
   "cell_type": "code",
   "execution_count": 48,
   "id": "5b492078",
   "metadata": {
    "scrolled": true
   },
   "outputs": [
    {
     "data": {
      "text/plain": [
       "'40° 45\\' 52.837\" N1 73° 58\\' 26.302\" W'"
      ]
     },
     "execution_count": 48,
     "metadata": {},
     "output_type": "execute_result"
    }
   ],
   "source": [
    "coords = ' '.join([d1, m1, s1, u1, d2, m2, s2, u2])\n",
    "coords"
   ]
  },
  {
   "cell_type": "code",
   "execution_count": 49,
   "id": "457170aa",
   "metadata": {},
   "outputs": [
    {
     "data": {
      "text/plain": [
       "'40°mx45\\'mx52.837\"mxN1mx73°mx58\\'mx26.302\"mxW'"
      ]
     },
     "execution_count": 49,
     "metadata": {},
     "output_type": "execute_result"
    }
   ],
   "source": [
    "coords = 'mx'.join([d1, m1, s1, u1, d2, m2, s2, u2])\n",
    "coords"
   ]
  },
  {
   "cell_type": "code",
   "execution_count": 51,
   "id": "bf5d5fc7",
   "metadata": {},
   "outputs": [
    {
     "name": "stdout",
     "output_type": "stream",
     "text": [
      "Guard : what? Ridden on a horse?\n",
      "King Arthur: Yes!\n",
      "Guard Arthur: What?\n",
      "King Arthur : What?\n",
      "Guard: You've got ... coconut[s] and you're banaglin' 'em together,\n",
      "\n"
     ]
    }
   ],
   "source": [
    "multi_str = \"\"\"Guard : what? Ridden on a horse?\n",
    "King Arthur: Yes!\n",
    "Guard Arthur: What?\n",
    "King Arthur : What?\n",
    "Guard: You've got ... coconut[s] and you're banaglin' 'em together,\n",
    "\"\"\"\n",
    "print(multi_str)"
   ]
  },
  {
   "cell_type": "code",
   "execution_count": 54,
   "id": "62c6c21d",
   "metadata": {},
   "outputs": [
    {
     "data": {
      "text/plain": [
       "['Guard : what? Ridden on a horse?',\n",
       " 'King Arthur: Yes!',\n",
       " 'Guard Arthur: What?',\n",
       " 'King Arthur : What?',\n",
       " \"Guard: You've got ... coconut[s] and you're banaglin' 'em together,\"]"
      ]
     },
     "execution_count": 54,
     "metadata": {},
     "output_type": "execute_result"
    }
   ],
   "source": [
    "multi_str_split = multi_str.splitlines()\n",
    "multi_str_split\n",
    "# 컴마 단위로 찍어짐"
   ]
  },
  {
   "cell_type": "code",
   "execution_count": 55,
   "id": "9479538f",
   "metadata": {},
   "outputs": [
    {
     "data": {
      "text/plain": [
       "['Guard : what? Ridden on a horse?',\n",
       " 'Guard Arthur: What?',\n",
       " \"Guard: You've got ... coconut[s] and you're banaglin' 'em together,\"]"
      ]
     },
     "execution_count": 55,
     "metadata": {},
     "output_type": "execute_result"
    }
   ],
   "source": [
    "guard = multi_str_split[::2]\n",
    "guard"
   ]
  },
  {
   "cell_type": "code",
   "execution_count": 60,
   "id": "2399f73f",
   "metadata": {},
   "outputs": [
    {
     "name": "stdout",
     "output_type": "stream",
     "text": [
      "[\"Guard : what? Ridden on a horse?\\nKing Arthur: Yes!\\nGuard Arthur: What?\\nKing Arthur : What?\\nGuard: You've got ... coconut[s] and you're banaglin' 'em together\", '\\n']\n"
     ]
    }
   ],
   "source": [
    "print(multi_str.split(\",\"))"
   ]
  },
  {
   "cell_type": "code",
   "execution_count": 61,
   "id": "c5c638df",
   "metadata": {},
   "outputs": [
    {
     "data": {
      "text/plain": [
       "['andiadjand', ' dadd', ' addd']"
      ]
     },
     "execution_count": 61,
     "metadata": {},
     "output_type": "execute_result"
    }
   ],
   "source": [
    "\"andiadjand, dadd, addd\".split(',')"
   ]
  },
  {
   "cell_type": "code",
   "execution_count": 62,
   "id": "cc03a105",
   "metadata": {},
   "outputs": [
    {
     "data": {
      "text/plain": [
       "['Guard : what? Ridden on a horse?', 'King Arthur : What?']"
      ]
     },
     "execution_count": 62,
     "metadata": {},
     "output_type": "execute_result"
    }
   ],
   "source": [
    "guard = multi_str_split[::3]\n",
    "guard"
   ]
  },
  {
   "cell_type": "code",
   "execution_count": null,
   "id": "5e2002d3",
   "metadata": {},
   "outputs": [],
   "source": []
  }
 ],
 "metadata": {
  "kernelspec": {
   "display_name": "Python 3 (ipykernel)",
   "language": "python",
   "name": "python3"
  },
  "language_info": {
   "codemirror_mode": {
    "name": "ipython",
    "version": 3
   },
   "file_extension": ".py",
   "mimetype": "text/x-python",
   "name": "python",
   "nbconvert_exporter": "python",
   "pygments_lexer": "ipython3",
   "version": "3.11.4"
  }
 },
 "nbformat": 4,
 "nbformat_minor": 5
}
