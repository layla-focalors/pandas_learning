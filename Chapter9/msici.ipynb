{
 "cells": [
  {
   "cell_type": "code",
   "execution_count": 2,
   "id": "fe29cc8d",
   "metadata": {},
   "outputs": [],
   "source": [
    "# 문자열 추출하기\n",
    "# 작년에 가장 시험문제 많이나옴\n",
    "word = \"grail\"\n",
    "sent = \"a scratch\""
   ]
  },
  {
   "cell_type": "code",
   "execution_count": 3,
   "id": "926786cb",
   "metadata": {},
   "outputs": [
    {
     "data": {
      "text/plain": [
       "'g'"
      ]
     },
     "execution_count": 3,
     "metadata": {},
     "output_type": "execute_result"
    }
   ],
   "source": [
    "word[0]"
   ]
  },
  {
   "cell_type": "code",
   "execution_count": 4,
   "id": "3b05510b",
   "metadata": {},
   "outputs": [
    {
     "data": {
      "text/plain": [
       "'a'"
      ]
     },
     "execution_count": 4,
     "metadata": {},
     "output_type": "execute_result"
    }
   ],
   "source": [
    "sent[0]"
   ]
  },
  {
   "cell_type": "code",
   "execution_count": 5,
   "id": "d14775c9",
   "metadata": {},
   "outputs": [
    {
     "data": {
      "text/plain": [
       "'gra'"
      ]
     },
     "execution_count": 5,
     "metadata": {},
     "output_type": "execute_result"
    }
   ],
   "source": [
    "word[0:3]"
   ]
  },
  {
   "cell_type": "code",
   "execution_count": 6,
   "id": "dafbc3e3",
   "metadata": {},
   "outputs": [
    {
     "data": {
      "text/plain": [
       "'h'"
      ]
     },
     "execution_count": 6,
     "metadata": {},
     "output_type": "execute_result"
    }
   ],
   "source": [
    "sent[-1]"
   ]
  },
  {
   "cell_type": "code",
   "execution_count": 7,
   "id": "c5b53ea9",
   "metadata": {},
   "outputs": [
    {
     "data": {
      "text/plain": [
       "'a'"
      ]
     },
     "execution_count": 7,
     "metadata": {},
     "output_type": "execute_result"
    }
   ],
   "source": [
    "sent[-9:-8]"
   ]
  },
  {
   "cell_type": "code",
   "execution_count": 9,
   "id": "b5769ea0",
   "metadata": {},
   "outputs": [
    {
     "data": {
      "text/plain": [
       "1"
      ]
     },
     "execution_count": 9,
     "metadata": {},
     "output_type": "execute_result"
    }
   ],
   "source": [
    "len(sent[-9:-8])"
   ]
  },
  {
   "cell_type": "code",
   "execution_count": 8,
   "id": "c4de4d76",
   "metadata": {},
   "outputs": [
    {
     "data": {
      "text/plain": [
       "'r'"
      ]
     },
     "execution_count": 8,
     "metadata": {},
     "output_type": "execute_result"
    }
   ],
   "source": [
    "sent[-5:-4]"
   ]
  },
  {
   "cell_type": "code",
   "execution_count": 10,
   "id": "26af7217",
   "metadata": {},
   "outputs": [
    {
     "data": {
      "text/plain": [
       "'a'"
      ]
     },
     "execution_count": 10,
     "metadata": {},
     "output_type": "execute_result"
    }
   ],
   "source": [
    "sent[0:-8]"
   ]
  },
  {
   "cell_type": "code",
   "execution_count": 11,
   "id": "a627c8f8",
   "metadata": {},
   "outputs": [
    {
     "data": {
      "text/plain": [
       "'a scratc'"
      ]
     },
     "execution_count": 11,
     "metadata": {},
     "output_type": "execute_result"
    }
   ],
   "source": [
    "sent[0:-1]"
   ]
  },
  {
   "cell_type": "code",
   "execution_count": 12,
   "id": "17d62607",
   "metadata": {},
   "outputs": [
    {
     "name": "stdout",
     "output_type": "stream",
     "text": [
      "r\n"
     ]
    }
   ],
   "source": [
    "print(sent[-5:-4])"
   ]
  },
  {
   "cell_type": "code",
   "execution_count": 13,
   "id": "e3b1c49d",
   "metadata": {},
   "outputs": [
    {
     "name": "stdout",
     "output_type": "stream",
     "text": [
      "scratc\n"
     ]
    }
   ],
   "source": [
    "print(sent[-7:-1])\n",
    "# -7 - 6 - 5 -4 -3 -2"
   ]
  },
  {
   "cell_type": "code",
   "execution_count": 15,
   "id": "ab5cd556",
   "metadata": {},
   "outputs": [
    {
     "data": {
      "text/plain": [
       "'a scratch'"
      ]
     },
     "execution_count": 15,
     "metadata": {},
     "output_type": "execute_result"
    }
   ],
   "source": [
    "sent[0:9]"
   ]
  },
  {
   "cell_type": "code",
   "execution_count": 16,
   "id": "e669c5b4",
   "metadata": {},
   "outputs": [
    {
     "data": {
      "text/plain": [
       "'scratc'"
      ]
     },
     "execution_count": 16,
     "metadata": {},
     "output_type": "execute_result"
    }
   ],
   "source": [
    "sent[-7:-1]"
   ]
  },
  {
   "cell_type": "code",
   "execution_count": 19,
   "id": "80895451",
   "metadata": {},
   "outputs": [
    {
     "data": {
      "text/plain": [
       "'a scratch'"
      ]
     },
     "execution_count": 19,
     "metadata": {},
     "output_type": "execute_result"
    }
   ],
   "source": [
    "sent"
   ]
  },
  {
   "cell_type": "code",
   "execution_count": 20,
   "id": "474cb245",
   "metadata": {},
   "outputs": [
    {
     "data": {
      "text/plain": [
       "9"
      ]
     },
     "execution_count": 20,
     "metadata": {},
     "output_type": "execute_result"
    }
   ],
   "source": [
    "s_len = len(sent)\n",
    "s_len"
   ]
  },
  {
   "cell_type": "code",
   "execution_count": 21,
   "id": "e6c6b230",
   "metadata": {},
   "outputs": [
    {
     "data": {
      "text/plain": [
       "'scratch'"
      ]
     },
     "execution_count": 21,
     "metadata": {},
     "output_type": "execute_result"
    }
   ],
   "source": [
    "sent[2:s_len]"
   ]
  },
  {
   "cell_type": "code",
   "execution_count": 27,
   "id": "06a532be",
   "metadata": {},
   "outputs": [
    {
     "name": "stdout",
     "output_type": "stream",
     "text": [
      "0\n",
      "1\n",
      "2\n",
      "3\n",
      "4\n",
      "5\n",
      "6\n",
      "7\n",
      "8\n"
     ]
    }
   ],
   "source": [
    "for i in range(len(sent)):\n",
    "    print(i)"
   ]
  },
  {
   "cell_type": "code",
   "execution_count": 28,
   "id": "3d3ed9eb",
   "metadata": {},
   "outputs": [
    {
     "name": "stdout",
     "output_type": "stream",
     "text": [
      "0 0\n",
      "1 1\n",
      "2 2\n",
      "3 3\n",
      "4 4\n",
      "5 5\n",
      "6 6\n",
      "7 7\n",
      "8 8\n"
     ]
    }
   ],
   "source": [
    "for i, v in enumerate(range(len(sent))):\n",
    "    print(i, v)"
   ]
  },
  {
   "cell_type": "code",
   "execution_count": 29,
   "id": "b084815d",
   "metadata": {},
   "outputs": [
    {
     "name": "stdout",
     "output_type": "stream",
     "text": [
      "0 core1\n",
      "1 ccp\n",
      "2 tq\n"
     ]
    }
   ],
   "source": [
    "maxk = ['core1', 'ccp', 'tq']\n",
    "for i, v in enumerate(maxk):\n",
    "    print(i, v)"
   ]
  },
  {
   "cell_type": "code",
   "execution_count": null,
   "id": "9a077a23",
   "metadata": {},
   "outputs": [],
   "source": [
    "coral"
   ]
  },
  {
   "cell_type": "markdown",
   "id": "864afb64",
   "metadata": {},
   "source": [
    "### 범위 지정 없이 문자열 추출하기\n",
    "p185"
   ]
  },
  {
   "cell_type": "code",
   "execution_count": 30,
   "id": "25d72c4b",
   "metadata": {},
   "outputs": [
    {
     "data": {
      "text/plain": [
       "'gra'"
      ]
     },
     "execution_count": 30,
     "metadata": {},
     "output_type": "execute_result"
    }
   ],
   "source": [
    "word[0:3]"
   ]
  },
  {
   "cell_type": "code",
   "execution_count": 31,
   "id": "6ddd36ef",
   "metadata": {},
   "outputs": [
    {
     "data": {
      "text/plain": [
       "'gra'"
      ]
     },
     "execution_count": 31,
     "metadata": {},
     "output_type": "execute_result"
    }
   ],
   "source": [
    "word[ : 3]"
   ]
  },
  {
   "cell_type": "code",
   "execution_count": 32,
   "id": "33ec5a76",
   "metadata": {},
   "outputs": [
    {
     "data": {
      "text/plain": [
       "'scratch'"
      ]
     },
     "execution_count": 32,
     "metadata": {},
     "output_type": "execute_result"
    }
   ],
   "source": [
    "sent[2:]"
   ]
  },
  {
   "cell_type": "code",
   "execution_count": 33,
   "id": "4f732c04",
   "metadata": {},
   "outputs": [
    {
     "data": {
      "text/plain": [
       "'a scratch'"
      ]
     },
     "execution_count": 33,
     "metadata": {},
     "output_type": "execute_result"
    }
   ],
   "source": [
    "sent[ : ]"
   ]
  },
  {
   "cell_type": "code",
   "execution_count": 35,
   "id": "300b46da",
   "metadata": {},
   "outputs": [
    {
     "data": {
      "text/plain": [
       "'asrth'"
      ]
     },
     "execution_count": 35,
     "metadata": {},
     "output_type": "execute_result"
    }
   ],
   "source": [
    "sent[::2]\n",
    "# [ start : end : rule(간격) ]\n",
    "# 처음부터 끝까지 처리 > 그러나 2칸 간격으로"
   ]
  },
  {
   "cell_type": "code",
   "execution_count": 36,
   "id": "7162630f",
   "metadata": {},
   "outputs": [],
   "source": [
    "# join , splitlines / replace 메서드 실습\n",
    "d1 = '40°'\n",
    "m1 = \"45'\"\n",
    "s1 = '52.837\"'\n",
    "u1 = 'N1'\n",
    "\n",
    "d2 = '73°'\n",
    "m2 = \"58'\"\n",
    "s2 = '26.302\"'\n",
    "u2 = 'W'"
   ]
  },
  {
   "cell_type": "code",
   "execution_count": 42,
   "id": "a04c4ca3",
   "metadata": {},
   "outputs": [
    {
     "data": {
      "text/plain": [
       "\"573°873°'\""
      ]
     },
     "execution_count": 42,
     "metadata": {},
     "output_type": "execute_result"
    }
   ],
   "source": [
    "d2.join(m2)"
   ]
  },
  {
   "cell_type": "code",
   "execution_count": 43,
   "id": "f6250266",
   "metadata": {},
   "outputs": [],
   "source": [
    "coords = ''.join([d1, m1, s1, u1, d2, m2, s2, u2])"
   ]
  },
  {
   "cell_type": "code",
   "execution_count": 44,
   "id": "96852256",
   "metadata": {},
   "outputs": [
    {
     "data": {
      "text/plain": [
       "'40°45\\'52.837\"N173°58\\'26.302\"W'"
      ]
     },
     "execution_count": 44,
     "metadata": {},
     "output_type": "execute_result"
    }
   ],
   "source": [
    "coords"
   ]
  },
  {
   "cell_type": "code",
   "execution_count": 45,
   "id": "6279d69c",
   "metadata": {},
   "outputs": [
    {
     "data": {
      "text/plain": [
       "'40°45\\'52.837\"N173°58\\'26.302\"W'"
      ]
     },
     "execution_count": 45,
     "metadata": {},
     "output_type": "execute_result"
    }
   ],
   "source": [
    "d1 + m1 + s1 + u1 + d2 + m2 + s2 + u2"
   ]
  },
  {
   "cell_type": "code",
   "execution_count": 48,
   "id": "1dee04d9",
   "metadata": {
    "scrolled": true
   },
   "outputs": [
    {
     "data": {
      "text/plain": [
       "'40° 45\\' 52.837\" N1 73° 58\\' 26.302\" W'"
      ]
     },
     "execution_count": 48,
     "metadata": {},
     "output_type": "execute_result"
    }
   ],
   "source": [
    "coords = ' '.join([d1, m1, s1, u1, d2, m2, s2, u2])\n",
    "coords"
   ]
  },
  {
   "cell_type": "code",
   "execution_count": 49,
   "id": "3e1eeacc",
   "metadata": {},
   "outputs": [
    {
     "data": {
      "text/plain": [
       "'40°mx45\\'mx52.837\"mxN1mx73°mx58\\'mx26.302\"mxW'"
      ]
     },
     "execution_count": 49,
     "metadata": {},
     "output_type": "execute_result"
    }
   ],
   "source": [
    "coords = 'mx'.join([d1, m1, s1, u1, d2, m2, s2, u2])\n",
    "coords"
   ]
  },
  {
   "cell_type": "code",
   "execution_count": 51,
   "id": "b4b156d9",
   "metadata": {},
   "outputs": [
    {
     "name": "stdout",
     "output_type": "stream",
     "text": [
      "Guard : what? Ridden on a horse?\n",
      "King Arthur: Yes!\n",
      "Guard Arthur: What?\n",
      "King Arthur : What?\n",
      "Guard: You've got ... coconut[s] and you're banaglin' 'em together,\n",
      "\n"
     ]
    }
   ],
   "source": [
    "multi_str = \"\"\"Guard : what? Ridden on a horse?\n",
    "King Arthur: Yes!\n",
    "Guard Arthur: What?\n",
    "King Arthur : What?\n",
    "Guard: You've got ... coconut[s] and you're banaglin' 'em together,\n",
    "\"\"\"\n",
    "print(multi_str)"
   ]
  },
  {
   "cell_type": "code",
   "execution_count": 54,
   "id": "ab87ae1d",
   "metadata": {},
   "outputs": [
    {
     "data": {
      "text/plain": [
       "['Guard : what? Ridden on a horse?',\n",
       " 'King Arthur: Yes!',\n",
       " 'Guard Arthur: What?',\n",
       " 'King Arthur : What?',\n",
       " \"Guard: You've got ... coconut[s] and you're banaglin' 'em together,\"]"
      ]
     },
     "execution_count": 54,
     "metadata": {},
     "output_type": "execute_result"
    }
   ],
   "source": [
    "multi_str_split = multi_str.splitlines()\n",
    "multi_str_split\n",
    "# 컴마 단위로 찍어짐"
   ]
  },
  {
   "cell_type": "code",
   "execution_count": 70,
   "id": "dcea959c",
   "metadata": {},
   "outputs": [
    {
     "data": {
      "text/plain": [
       "['Guard : what? Ridden on a horse?',\n",
       " 'Guard Arthur: What?',\n",
       " \"Guard: You've got ... coconut[s] and you're banaglin' 'em together,\"]"
      ]
     },
     "execution_count": 70,
     "metadata": {},
     "output_type": "execute_result"
    }
   ],
   "source": [
    "guard = multi_str_split[::2]\n",
    "guard"
   ]
  },
  {
   "cell_type": "code",
   "execution_count": 64,
   "id": "29d4915e",
   "metadata": {},
   "outputs": [
    {
     "data": {
      "text/plain": [
       "'Gu'"
      ]
     },
     "execution_count": 64,
     "metadata": {},
     "output_type": "execute_result"
    }
   ],
   "source": [
    "guard = multi_str_split[::2]\n",
    "guard[0][0:2]"
   ]
  },
  {
   "cell_type": "code",
   "execution_count": 60,
   "id": "83c64342",
   "metadata": {},
   "outputs": [
    {
     "name": "stdout",
     "output_type": "stream",
     "text": [
      "[\"Guard : what? Ridden on a horse?\\nKing Arthur: Yes!\\nGuard Arthur: What?\\nKing Arthur : What?\\nGuard: You've got ... coconut[s] and you're banaglin' 'em together\", '\\n']\n"
     ]
    }
   ],
   "source": [
    "print(multi_str.split(\",\"))"
   ]
  },
  {
   "cell_type": "code",
   "execution_count": 75,
   "id": "84e6197f",
   "metadata": {},
   "outputs": [
    {
     "data": {
      "text/plain": [
       "['andiadjand', ' dadd', ' addd']"
      ]
     },
     "execution_count": 75,
     "metadata": {},
     "output_type": "execute_result"
    }
   ],
   "source": [
    "\"andiadjand, dadd, addd\".split(',')"
   ]
  },
  {
   "cell_type": "code",
   "execution_count": 62,
   "id": "69aa24dc",
   "metadata": {},
   "outputs": [
    {
     "data": {
      "text/plain": [
       "['Guard : what? Ridden on a horse?', 'King Arthur : What?']"
      ]
     },
     "execution_count": 62,
     "metadata": {},
     "output_type": "execute_result"
    }
   ],
   "source": [
    "guard = multi_str_split[::3]\n",
    "guard"
   ]
  },
  {
   "cell_type": "code",
   "execution_count": 71,
   "id": "27d20164",
   "metadata": {},
   "outputs": [
    {
     "data": {
      "text/plain": [
       "\"Guard : what? Ridden on a horse?\\nKing Arthur: Yes!\\nGuard Arthur: What?\\nKing Arthur : What?\\nGuard: You've got ... coconut[s] and you're banaglin' 'em together,\\n\""
      ]
     },
     "execution_count": 71,
     "metadata": {},
     "output_type": "execute_result"
    }
   ],
   "source": [
    "multi_str"
   ]
  },
  {
   "cell_type": "code",
   "execution_count": 82,
   "id": "d2ab9e36",
   "metadata": {},
   "outputs": [
    {
     "name": "stdout",
     "output_type": "stream",
     "text": [
      "['  : what? Ridden on a horse?', '  Arthur: What?', \" : You've got ... coconut[s] and you're banaglin' 'em together,\"]\n"
     ]
    }
   ],
   "source": [
    "guard = multi_str.replace(\"Guard\", \" \").splitlines()[::2]\n",
    "print(guard)"
   ]
  },
  {
   "cell_type": "code",
   "execution_count": 86,
   "id": "f49bd4c6",
   "metadata": {},
   "outputs": [
    {
     "name": "stdout",
     "output_type": "stream",
     "text": [
      "Guard : what? Ridden on a horse?\n",
      "King Arthur: Yes!\n",
      "Guard Arthur: What?\n",
      "King Arthur : What?\n",
      " You've got ... coconut[s] and you're banaglin' 'em together,\n",
      "\n"
     ]
    }
   ],
   "source": [
    "guard = multi_str.replace(\"Guard: \", \" \")\n",
    "print(guard)"
   ]
  },
  {
   "cell_type": "code",
   "execution_count": 87,
   "id": "c385d558",
   "metadata": {},
   "outputs": [
    {
     "data": {
      "text/plain": [
       "\"IT's just a flesh wound!\""
      ]
     },
     "execution_count": 87,
     "metadata": {},
     "output_type": "execute_result"
    }
   ],
   "source": [
    "# 문자열 포멧하기\n",
    "var = 'flesh wound'\n",
    "s = \"IT's just a {}!\"\n",
    "s.format(var)"
   ]
  },
  {
   "cell_type": "code",
   "execution_count": 89,
   "id": "d0b221de",
   "metadata": {},
   "outputs": [
    {
     "data": {
      "text/plain": [
       "\"Its's just a flesh wound\""
      ]
     },
     "execution_count": 89,
     "metadata": {},
     "output_type": "execute_result"
    }
   ],
   "source": [
    "f\"Its's just a {var}\""
   ]
  },
  {
   "cell_type": "code",
   "execution_count": 88,
   "id": "177db17b",
   "metadata": {},
   "outputs": [
    {
     "data": {
      "text/plain": [
       "\"It's just a fresh wound\""
      ]
     },
     "execution_count": 88,
     "metadata": {},
     "output_type": "execute_result"
    }
   ],
   "source": [
    "f\"It's just a {'fresh wound'}\""
   ]
  },
  {
   "cell_type": "code",
   "execution_count": 90,
   "id": "0cd267c0",
   "metadata": {},
   "outputs": [
    {
     "data": {
      "text/plain": [
       "\"IT's just a scratch!\""
      ]
     },
     "execution_count": 90,
     "metadata": {},
     "output_type": "execute_result"
    }
   ],
   "source": [
    "s.format('scratch')"
   ]
  },
  {
   "cell_type": "code",
   "execution_count": 93,
   "id": "7c62915a",
   "metadata": {},
   "outputs": [
    {
     "name": "stdout",
     "output_type": "stream",
     "text": [
      "Black Knight : 'Tis but a scratch. \n",
      "king Arthur: A scratch? Your arms' off\n"
     ]
    }
   ],
   "source": [
    "s = \"\"\"Black Knight : 'Tis but a {0}. \n",
    "king Arthur: A {0}? Your arms' off\"\"\"\n",
    "print(s.format('scratch'))"
   ]
  },
  {
   "cell_type": "code",
   "execution_count": 101,
   "id": "6109f38c",
   "metadata": {},
   "outputs": [
    {
     "name": "stdout",
     "output_type": "stream",
     "text": [
      "Black Knight : 'Tis but a scratch. \n",
      "king Arthur: A atsiu? Your arms' off\n"
     ]
    }
   ],
   "source": [
    "s = \"\"\"Black Knight : 'Tis but a {}. \n",
    "king Arthur: A {}? Your arms' off\"\"\"\n",
    "print(s.format('scratch', 'atsiu'))"
   ]
  },
  {
   "cell_type": "code",
   "execution_count": 102,
   "id": "f9717b36",
   "metadata": {},
   "outputs": [
    {
     "data": {
      "text/plain": [
       "'Hayden Platnetatium Coddrdinates : 40.7815 N, 73.9733'"
      ]
     },
     "execution_count": 102,
     "metadata": {},
     "output_type": "execute_result"
    }
   ],
   "source": [
    "s = 'Hayden Platnetatium Coddrdinates : {lat}, {lon}'\n",
    "s.format(lat='40.7815 N', lon='73.9733')"
   ]
  },
  {
   "cell_type": "code",
   "execution_count": 103,
   "id": "7a97571f",
   "metadata": {},
   "outputs": [
    {
     "name": "stdout",
     "output_type": "stream",
     "text": [
      "Some dIgits of pi : 3.141517711\n"
     ]
    }
   ],
   "source": [
    "# 숫자 데이터 포메팅하기\n",
    "print('Some dIgits of pi : {}'.format(3.141517711))"
   ]
  },
  {
   "cell_type": "code",
   "execution_count": 127,
   "id": "d48bd374",
   "metadata": {},
   "outputs": [
    {
     "name": "stdout",
     "output_type": "stream",
     "text": [
      "In 2005, Lu Chao of china recited 0.00010310796877301516 digits of pi\n"
     ]
    }
   ],
   "source": [
    "print('In 2005, Lu Chao of china recited {:,} digits of pi'.format(7/67890))\n",
    "# 교수님 질문\n",
    "# 원본 ( 3자리 수로 나눠서 처리 )"
   ]
  },
  {
   "cell_type": "code",
   "execution_count": 131,
   "id": "2351fd1b",
   "metadata": {},
   "outputs": [
    {
     "data": {
      "text/plain": [
       "'i remember 0.0001031 or 0.0103% of what Lu Chao recited'"
      ]
     },
     "execution_count": 131,
     "metadata": {},
     "output_type": "execute_result"
    }
   ],
   "source": [
    "'i remember {0:4.4} or {0:.4%} of what Lu Chao recited'.format(7/67890)"
   ]
  },
  {
   "cell_type": "code",
   "execution_count": 124,
   "id": "24ebafd2",
   "metadata": {},
   "outputs": [
    {
     "name": "stdout",
     "output_type": "stream",
     "text": [
      "My ID numver is 00042\n"
     ]
    }
   ],
   "source": [
    "print(\"My ID numver is {0:05d}\".format(42))"
   ]
  },
  {
   "cell_type": "code",
   "execution_count": 126,
   "id": "64bca1e9",
   "metadata": {},
   "outputs": [
    {
     "name": "stdout",
     "output_type": "stream",
     "text": [
      "My ID numver is 499294\n"
     ]
    }
   ],
   "source": [
    "print(\"My ID numver is {0:05d}\".format(499294))"
   ]
  },
  {
   "cell_type": "code",
   "execution_count": 128,
   "id": "aa4065b0",
   "metadata": {},
   "outputs": [
    {
     "data": {
      "text/plain": [
       "0"
      ]
     },
     "execution_count": 128,
     "metadata": {},
     "output_type": "execute_result"
    }
   ],
   "source": [
    "import os\n",
    "os.system('python --version')"
   ]
  },
  {
   "cell_type": "code",
   "execution_count": 132,
   "id": "a39af377",
   "metadata": {},
   "outputs": [
    {
     "data": {
      "text/plain": [
       "0.00010310796877301516"
      ]
     },
     "execution_count": 132,
     "metadata": {},
     "output_type": "execute_result"
    }
   ],
   "source": [
    "7/67890"
   ]
  },
  {
   "cell_type": "code",
   "execution_count": 147,
   "id": "21135312",
   "metadata": {},
   "outputs": [
    {
     "data": {
      "text/plain": [
       "'I only know 7 digits og pi'"
      ]
     },
     "execution_count": 147,
     "metadata": {},
     "output_type": "execute_result"
    }
   ],
   "source": [
    "s = 'I only know %d digits og pi' % 7\n",
    "s"
   ]
  },
  {
   "cell_type": "code",
   "execution_count": 148,
   "id": "89d8d8f8",
   "metadata": {},
   "outputs": [
    {
     "data": {
      "text/plain": [
       "'Some digits of e : 2.72'"
      ]
     },
     "execution_count": 148,
     "metadata": {},
     "output_type": "execute_result"
    }
   ],
   "source": [
    "'Some digits of %(cont)s : %(value).2f' % {'cont':'e', 'value':2.718}"
   ]
  },
  {
   "cell_type": "code",
   "execution_count": 153,
   "id": "4a35b9ea",
   "metadata": {},
   "outputs": [
    {
     "data": {
      "text/plain": [
       "'some digits of es : 2.72'"
      ]
     },
     "execution_count": 153,
     "metadata": {},
     "output_type": "execute_result"
    }
   ],
   "source": [
    "cont = \"e\"\n",
    "value = 2.718\n",
    "f'some digits of {cont}s : {round((value), 2)}'"
   ]
  },
  {
   "cell_type": "code",
   "execution_count": 156,
   "id": "2a7f5722",
   "metadata": {},
   "outputs": [
    {
     "data": {
      "text/plain": [
       "'Some digits of e : 2.72'"
      ]
     },
     "execution_count": 156,
     "metadata": {},
     "output_type": "execute_result"
    }
   ],
   "source": [
    "'Some digits of %(cont)s : %(value).2f' % {'cont':'e', 'value':2.718}"
   ]
  },
  {
   "cell_type": "code",
   "execution_count": null,
   "id": "cfb41bbd",
   "metadata": {},
   "outputs": [],
   "source": []
  }
 ],
 "metadata": {
  "kernelspec": {
   "display_name": "Python 3 (ipykernel)",
   "language": "python",
   "name": "python3"
  },
  "language_info": {
   "codemirror_mode": {
    "name": "ipython",
    "version": 3
   },
   "file_extension": ".py",
   "mimetype": "text/x-python",
   "name": "python",
   "nbconvert_exporter": "python",
   "pygments_lexer": "ipython3",
   "version": "3.11.4"
  }
 },
 "nbformat": 4,
 "nbformat_minor": 5
}
