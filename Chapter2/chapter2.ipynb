{
 "cells": [
  {
   "cell_type": "code",
   "execution_count": 10,
   "metadata": {},
   "outputs": [
    {
     "name": "stdout",
     "output_type": "stream",
     "text": [
      "Requirement already satisfied: pandas in c:\\users\\starl\\anaconda3\\lib\\site-packages (1.5.3)\n",
      "Requirement already satisfied: python-dateutil>=2.8.1 in c:\\users\\starl\\anaconda3\\lib\\site-packages (from pandas) (2.8.2)\n",
      "Requirement already satisfied: pytz>=2020.1 in c:\\users\\starl\\anaconda3\\lib\\site-packages (from pandas) (2022.7)\n",
      "Requirement already satisfied: numpy>=1.21.0 in c:\\users\\starl\\anaconda3\\lib\\site-packages (from pandas) (1.24.3)\n",
      "Requirement already satisfied: six>=1.5 in c:\\users\\starl\\anaconda3\\lib\\site-packages (from python-dateutil>=2.8.1->pandas) (1.16.0)\n"
     ]
    }
   ],
   "source": [
    "# !pip install pandas"
   ]
  },
  {
   "cell_type": "code",
   "execution_count": 13,
   "metadata": {},
   "outputs": [
    {
     "data": {
      "text/html": [
       "<div>\n",
       "<style scoped>\n",
       "    .dataframe tbody tr th:only-of-type {\n",
       "        vertical-align: middle;\n",
       "    }\n",
       "\n",
       "    .dataframe tbody tr th {\n",
       "        vertical-align: top;\n",
       "    }\n",
       "\n",
       "    .dataframe thead th {\n",
       "        text-align: right;\n",
       "    }\n",
       "</style>\n",
       "<table border=\"1\" class=\"dataframe\">\n",
       "  <thead>\n",
       "    <tr style=\"text-align: right;\">\n",
       "      <th></th>\n",
       "      <th>country</th>\n",
       "      <th>continent</th>\n",
       "      <th>year</th>\n",
       "      <th>lifeExp</th>\n",
       "      <th>pop</th>\n",
       "      <th>gdpPercap</th>\n",
       "    </tr>\n",
       "  </thead>\n",
       "  <tbody>\n",
       "    <tr>\n",
       "      <th>0</th>\n",
       "      <td>Afghanistan</td>\n",
       "      <td>Asia</td>\n",
       "      <td>1952</td>\n",
       "      <td>28.801</td>\n",
       "      <td>8425333</td>\n",
       "      <td>779.445314</td>\n",
       "    </tr>\n",
       "    <tr>\n",
       "      <th>1</th>\n",
       "      <td>Afghanistan</td>\n",
       "      <td>Asia</td>\n",
       "      <td>1957</td>\n",
       "      <td>30.332</td>\n",
       "      <td>9240934</td>\n",
       "      <td>820.853030</td>\n",
       "    </tr>\n",
       "    <tr>\n",
       "      <th>2</th>\n",
       "      <td>Afghanistan</td>\n",
       "      <td>Asia</td>\n",
       "      <td>1962</td>\n",
       "      <td>31.997</td>\n",
       "      <td>10267083</td>\n",
       "      <td>853.100710</td>\n",
       "    </tr>\n",
       "    <tr>\n",
       "      <th>3</th>\n",
       "      <td>Afghanistan</td>\n",
       "      <td>Asia</td>\n",
       "      <td>1967</td>\n",
       "      <td>34.020</td>\n",
       "      <td>11537966</td>\n",
       "      <td>836.197138</td>\n",
       "    </tr>\n",
       "    <tr>\n",
       "      <th>4</th>\n",
       "      <td>Afghanistan</td>\n",
       "      <td>Asia</td>\n",
       "      <td>1972</td>\n",
       "      <td>36.088</td>\n",
       "      <td>13079460</td>\n",
       "      <td>739.981106</td>\n",
       "    </tr>\n",
       "  </tbody>\n",
       "</table>\n",
       "</div>"
      ],
      "text/plain": [
       "       country continent  year  lifeExp       pop   gdpPercap\n",
       "0  Afghanistan      Asia  1952   28.801   8425333  779.445314\n",
       "1  Afghanistan      Asia  1957   30.332   9240934  820.853030\n",
       "2  Afghanistan      Asia  1962   31.997  10267083  853.100710\n",
       "3  Afghanistan      Asia  1967   34.020  11537966  836.197138\n",
       "4  Afghanistan      Asia  1972   36.088  13079460  739.981106"
      ]
     },
     "execution_count": 13,
     "metadata": {},
     "output_type": "execute_result"
    }
   ],
   "source": [
    "import pandas\n",
    "df = pandas.read_csv('../data/gapminder.tsv', sep='\\t')\n",
    "df.head()"
   ]
  },
  {
   "cell_type": "code",
   "execution_count": 2,
   "metadata": {},
   "outputs": [
    {
     "name": "stdout",
     "output_type": "stream",
     "text": [
      "       country continent  year  lifeExp       pop   gdpPercap\n",
      "0  Afghanistan      Asia  1952   28.801   8425333  779.445314\n",
      "1  Afghanistan      Asia  1957   30.332   9240934  820.853030\n",
      "2  Afghanistan      Asia  1962   31.997  10267083  853.100710\n",
      "3  Afghanistan      Asia  1967   34.020  11537966  836.197138\n",
      "4  Afghanistan      Asia  1972   36.088  13079460  739.981106\n"
     ]
    }
   ],
   "source": [
    "import pandas as pd\n",
    "# pandas = 데이터를 로딩하는데 사용하는 패키지\n",
    "# 판다스라는 패키지를 불러와 pd로 단축 코드로 저장한다\n",
    "\n",
    "df = pd.read_csv('../data/gapminder.tsv', sep='\\t')\n",
    "# read_csv로 데이터 불러오기 , 중요 = sep = '\\t'\n",
    "\n",
    "print(df.head())\n",
    "# head, tail / 상위 하위 5개 데이터 불러오기"
   ]
  },
  {
   "cell_type": "code",
   "execution_count": 4,
   "metadata": {},
   "outputs": [
    {
     "name": "stdout",
     "output_type": "stream",
     "text": [
      "<class 'pandas.core.frame.DataFrame'>\n"
     ]
    }
   ],
   "source": [
    "print(type(df))\n",
    "# 데이터의 타입 알아보기"
   ]
  },
  {
   "cell_type": "code",
   "execution_count": 5,
   "metadata": {},
   "outputs": [
    {
     "name": "stdout",
     "output_type": "stream",
     "text": [
      "(1704, 6)\n"
     ]
    }
   ],
   "source": [
    "print(df.shape)\n",
    "# 데이터의 모양 가져오기"
   ]
  },
  {
   "cell_type": "code",
   "execution_count": 9,
   "metadata": {},
   "outputs": [
    {
     "name": "stdout",
     "output_type": "stream",
     "text": [
      "Index(['country', 'continent', 'year', 'lifeExp', 'pop', 'gdpPercap'], dtype='object')\n"
     ]
    }
   ],
   "source": [
    "print(df.columns)\n",
    "# 데이터의 가로열 인덱스 가져오기"
   ]
  },
  {
   "cell_type": "code",
   "execution_count": 12,
   "metadata": {},
   "outputs": [
    {
     "name": "stdout",
     "output_type": "stream",
     "text": [
      "0       Afghanistan\n",
      "1       Afghanistan\n",
      "2       Afghanistan\n",
      "3       Afghanistan\n",
      "4       Afghanistan\n",
      "           ...     \n",
      "1699       Zimbabwe\n",
      "1700       Zimbabwe\n",
      "1701       Zimbabwe\n",
      "1702       Zimbabwe\n",
      "1703       Zimbabwe\n",
      "Name: country, Length: 1704, dtype: object\n"
     ]
    }
   ],
   "source": [
    "print(df['country'])"
   ]
  },
  {
   "cell_type": "code",
   "execution_count": 10,
   "metadata": {},
   "outputs": [
    {
     "name": "stdout",
     "output_type": "stream",
     "text": [
      "country       object\n",
      "continent     object\n",
      "year           int64\n",
      "lifeExp      float64\n",
      "pop            int64\n",
      "gdpPercap    float64\n",
      "dtype: object\n"
     ]
    }
   ],
   "source": [
    "print(df.dtypes)\n",
    "# object : 문자열\n",
    "# 두 개의 문자열, 등 ( 이걸로 분석 기법을 캐치 가능해야 함 )"
   ]
  },
  {
   "cell_type": "code",
   "execution_count": 18,
   "metadata": {},
   "outputs": [
    {
     "name": "stdout",
     "output_type": "stream",
     "text": [
      "0       Afghanistan\n",
      "1       Afghanistan\n",
      "2       Afghanistan\n",
      "3       Afghanistan\n",
      "4       Afghanistan\n",
      "           ...     \n",
      "1699       Zimbabwe\n",
      "1700       Zimbabwe\n",
      "1701       Zimbabwe\n",
      "1702       Zimbabwe\n",
      "1703       Zimbabwe\n",
      "Name: country, Length: 1704, dtype: object\n"
     ]
    }
   ],
   "source": [
    "# 열 단위 데이터 출력하기\n",
    "country_df = df['country']\n",
    "print(country_df)"
   ]
  },
  {
   "cell_type": "code",
   "execution_count": 19,
   "metadata": {},
   "outputs": [
    {
     "name": "stdout",
     "output_type": "stream",
     "text": [
      "<class 'pandas.core.series.Series'>\n"
     ]
    }
   ],
   "source": [
    "# 출력되는 데이터의 타입은 Series! ( 작은 df )\n",
    "print(type(country_df))\n",
    "\n"
   ]
  },
  {
   "cell_type": "code",
   "execution_count": 21,
   "metadata": {},
   "outputs": [
    {
     "name": "stdout",
     "output_type": "stream",
     "text": [
      "0    Afghanistan\n",
      "1    Afghanistan\n",
      "2    Afghanistan\n",
      "3    Afghanistan\n",
      "4    Afghanistan\n",
      "Name: country, dtype: object\n",
      "1699    Zimbabwe\n",
      "1700    Zimbabwe\n",
      "1701    Zimbabwe\n",
      "1702    Zimbabwe\n",
      "1703    Zimbabwe\n",
      "Name: country, dtype: object\n"
     ]
    }
   ],
   "source": [
    "print(country_df.head())\n",
    "print(country_df.tail())"
   ]
  },
  {
   "cell_type": "code",
   "execution_count": 26,
   "metadata": {},
   "outputs": [
    {
     "name": "stdout",
     "output_type": "stream",
     "text": [
      "          country continent  year\n",
      "0     Afghanistan      Asia  1952\n",
      "1     Afghanistan      Asia  1957\n",
      "2     Afghanistan      Asia  1962\n",
      "3     Afghanistan      Asia  1967\n",
      "4     Afghanistan      Asia  1972\n",
      "...           ...       ...   ...\n",
      "1699     Zimbabwe    Africa  1987\n",
      "1700     Zimbabwe    Africa  1992\n",
      "1701     Zimbabwe    Africa  1997\n",
      "1702     Zimbabwe    Africa  2002\n",
      "1703     Zimbabwe    Africa  2007\n",
      "\n",
      "[1704 rows x 3 columns]\n"
     ]
    }
   ],
   "source": [
    "subset = df[['country', 'continent','year']]\n",
    "print(subset)\n"
   ]
  },
  {
   "cell_type": "code",
   "execution_count": 29,
   "metadata": {},
   "outputs": [
    {
     "name": "stdout",
     "output_type": "stream",
     "text": [
      "country      Afghanistan\n",
      "continent           Asia\n",
      "year                1977\n",
      "lifeExp           38.438\n",
      "pop             14880372\n",
      "gdpPercap      786.11336\n",
      "Name: 5, dtype: object\n",
      "<class 'pandas.core.series.Series'>\n"
     ]
    }
   ],
   "source": [
    "print(df.loc[5])\n",
    "# 열에서 x번째 줄 데이터만 불러오기 ( index 기반)\n",
    "print(type(df.loc[5]))\n",
    "# 인덱스가 5인 데이터 출력"
   ]
  },
  {
   "cell_type": "code",
   "execution_count": 30,
   "metadata": {},
   "outputs": [
    {
     "name": "stdout",
     "output_type": "stream",
     "text": [
      "        country continent  year  lifeExp       pop    gdpPercap\n",
      "5   Afghanistan      Asia  1977   38.438  14880372   786.113360\n",
      "29      Algeria    Africa  1977   58.014  17152804  4910.416756\n",
      "1   Afghanistan      Asia  1957   30.332   9240934   820.853030\n"
     ]
    }
   ],
   "source": [
    "# 데이터 여러개 가져오기\n",
    "print(df.loc[[5, 29, 1]])"
   ]
  },
  {
   "cell_type": "markdown",
   "metadata": {},
   "source": [
    "### 예습!"
   ]
  },
  {
   "cell_type": "code",
   "execution_count": 4,
   "metadata": {},
   "outputs": [
    {
     "name": "stdout",
     "output_type": "stream",
     "text": [
      "country        Zimbabwe\n",
      "continent        Africa\n",
      "year               2007\n",
      "lifeExp          43.487\n",
      "pop            12311143\n",
      "gdpPercap    469.709298\n",
      "Name: 1703, dtype: object\n"
     ]
    }
   ],
   "source": [
    "# 데이터의 프레임의 마지막 행 데이터 추출\n",
    "# shape[0]에 데이터의 행 크기가 저장되어 있다는 점을 이용한다!! (-1 처리!)\n",
    "\n",
    "number_of_rows = df.shape[0]\n",
    "last_low_index = number_of_rows - 1\n",
    "print(df.loc[last_low_index])"
   ]
  },
  {
   "cell_type": "code",
   "execution_count": 5,
   "metadata": {},
   "outputs": [
    {
     "name": "stdout",
     "output_type": "stream",
     "text": [
      "       country continent  year  lifeExp       pop   gdpPercap\n",
      "1703  Zimbabwe    Africa  2007   43.487  12311143  469.709298\n"
     ]
    }
   ],
   "source": [
    "# tail() 메소드를 활용하여 데이터프레임의 마지막 행 데이터 추출하기!\n",
    "# tail()의 N 값을 이용한다!! (1 전달)\n",
    "print(df.tail(n=1))"
   ]
  },
  {
   "cell_type": "code",
   "execution_count": 6,
   "metadata": {},
   "outputs": [
    {
     "name": "stdout",
     "output_type": "stream",
     "text": [
      "        country continent  year  lifeExp       pop     gdpPercap\n",
      "92      Bahrain      Asia  1992   72.601    529491  19035.579170\n",
      "11  Afghanistan      Asia  2007   43.828  31889923    974.580338\n",
      "11  Afghanistan      Asia  2007   43.828  31889923    974.580338\n"
     ]
    }
   ],
   "source": [
    "# 인덱스가 여러개인 값을 한번에 추출하기\n",
    "print(df.loc[[92,11,11]])"
   ]
  },
  {
   "cell_type": "code",
   "execution_count": 7,
   "metadata": {},
   "outputs": [
    {
     "name": "stdout",
     "output_type": "stream",
     "text": [
      "<class 'pandas.core.series.Series'>\n",
      "<class 'pandas.core.frame.DataFrame'>\n"
     ]
    }
   ],
   "source": [
    "# 중요!\n",
    "# tail메소드와 loc 메소드가 반환하는 데이터의 타입은 다르다!!\n",
    "print(type(df.loc[0]))\n",
    "print(type(df.tail(n=1)))\n",
    "\n",
    "# loc는 시리즈( 하나의 행 ). tail은 데이터프레임 반환"
   ]
  },
  {
   "cell_type": "code",
   "execution_count": 9,
   "metadata": {},
   "outputs": [
    {
     "name": "stdout",
     "output_type": "stream",
     "text": [
      "country        Zimbabwe\n",
      "continent        Africa\n",
      "year               2007\n",
      "lifeExp          43.487\n",
      "pop            12311143\n",
      "gdpPercap    469.709298\n",
      "Name: 1703, dtype: object\n"
     ]
    }
   ],
   "source": [
    "# iloc는 리스트 형식으로 처리한다! ( 마지막 데이터를 가져오려면 -1!! )\n",
    "# loc랑 다르게 행 번호를 통해 추출하기 때문에 리스트형도 사용이 가능하다!!\n",
    "# 그러나 없는 값을 요청하면 오류 발생!!\n",
    "print(df.iloc[-1])\n",
    "# 행은 앞에, 열은 뒤에 \":\"를 붙여 주면 모든 데이터를 가져올지 여부를 설정할 수 있음!! ( loc, iloc )b"
   ]
  },
  {
   "cell_type": "code",
   "execution_count": 11,
   "metadata": {},
   "outputs": [
    {
     "name": "stdout",
     "output_type": "stream",
     "text": [
      "       country continent  year  lifeExp       pop    gdpPercap\n",
      "99  Bangladesh      Asia  1967   43.453  62821884   721.186086\n",
      "38      Angola    Africa  1962   34.000   4826015  4269.276742\n",
      "22     Albania    Europe  2002   75.651   3508512  4604.211737\n"
     ]
    }
   ],
   "source": [
    "# iloc 여러 데이터 한번에 출력하기\n",
    "# loc와 동일하다!!\n",
    "print(df.iloc[[99,38,22]])"
   ]
  },
  {
   "cell_type": "markdown",
   "metadata": {},
   "source": [
    "### 추출할 데이터의 행과 열을 지정하기\n",
    "iloc, loc 모두 두 속성의 행을 먼저 지정하고 열을 지정한다!!  \n",
    "예시: df.loc[[행], [열]], df.iloc[[행], [열]]"
   ]
  },
  {
   "cell_type": "code",
   "execution_count": 18,
   "metadata": {},
   "outputs": [
    {
     "name": "stdout",
     "output_type": "stream",
     "text": [
      "   year      country\n",
      "0  1952  Afghanistan\n",
      "1  1957  Afghanistan\n",
      "2  1962  Afghanistan\n",
      "3  1967  Afghanistan\n",
      "4  1972  Afghanistan\n",
      "  continent  lifeExp   gdpPercap\n",
      "0      Asia   28.801  779.445314\n",
      "1      Asia   30.332  820.853030\n",
      "2      Asia   31.997  853.100710\n",
      "3      Asia   34.020  836.197138\n",
      "4      Asia   36.088  739.981106\n"
     ]
    }
   ],
   "source": [
    "# 슬라이싱 구문 데이터 추출하기\n",
    "subset = df.loc[:, ['year','country']]\n",
    "print(subset.head())\n",
    "\n",
    "# 열의 인덱스에 해당하는 모든 행을 가져오기!!\n",
    "\n",
    "# 여기서 [1, 3, -1]은 행(세로)가 아닌 열(가로)의 인덱스!( 문자형이 아닌 정수로 지정한 것 !!)\n",
    "subset = df.iloc[:, [1, 3, -1]]\n",
    "print(subset.head())"
   ]
  },
  {
   "cell_type": "code",
   "execution_count": 23,
   "metadata": {},
   "outputs": [
    {
     "name": "stdout",
     "output_type": "stream",
     "text": [
      "[0, 1, 2, 3, 4]\n",
      "<class 'list'>\n",
      "       country continent  year  lifeExp       pop\n",
      "0  Afghanistan      Asia  1952   28.801   8425333\n",
      "1  Afghanistan      Asia  1957   30.332   9240934\n",
      "2  Afghanistan      Asia  1962   31.997  10267083\n",
      "3  Afghanistan      Asia  1967   34.020  11537966\n",
      "4  Afghanistan      Asia  1972   36.088  13079460\n",
      "   lifeExp       pop   gdpPercap\n",
      "0   28.801   8425333  779.445314\n",
      "1   30.332   9240934  820.853030\n",
      "2   31.997  10267083  853.100710\n",
      "3   34.020  11537966  836.197138\n",
      "4   36.088  13079460  739.981106\n"
     ]
    }
   ],
   "source": [
    "# range 메소드를 활용한 리스트 생성하기\n",
    "small_list = list(range(5))\n",
    "print(small_list)\n",
    "# 0~4 까지 리스트 생성\n",
    "# ex) [0,1,2,3,4]\n",
    "\n",
    "print(type(small_list))\n",
    "# small_list의 타입 확인하기\n",
    "\n",
    "subset = df.iloc[:, small_list]\n",
    "print(subset.head())\n",
    "\n",
    "# 중요해!!\n",
    "# subset = df.iloc[:, [small_list]]\n",
    "# 할 경우 빈 리스트 안에 리스트가 들어가 리스트의 값이 0이 되기 때문에 오류가 발생한다!!\n",
    "\n",
    "small_range = list(range(3, 6))\n",
    "# range(3,6) = [3,4,5]\n",
    "print(df.iloc[:, small_range].head())"
   ]
  },
  {
   "cell_type": "code",
   "execution_count": 28,
   "metadata": {},
   "outputs": [
    {
     "name": "stdout",
     "output_type": "stream",
     "text": [
      "       country  year       pop\n",
      "0  Afghanistan  1952   8425333\n",
      "1  Afghanistan  1957   9240934\n",
      "2  Afghanistan  1962  10267083\n",
      "3  Afghanistan  1967  11537966\n",
      "4  Afghanistan  1972  13079460\n",
      "[0, 2, 4]\n",
      "<class 'pandas.core.frame.DataFrame'>\n"
     ]
    }
   ],
   "source": [
    "# range를 이용한 0~5 사이의 짝수 데이터 얻기\n",
    "\n",
    "print(df.iloc[:, (list(range(0,6,2)))].head())\n",
    "# range 특성으로 0, 5, 2를 지불함으로서 0~4까지, 2씩 증가\n",
    "\n",
    "print(list(range(0, 5, 2)))\n",
    "print(type(df.iloc[:, (list(range(0,5,2)))].head()))\n",
    "# iloc 반환이기에(행이 한개 이상) = 데이터 프레임 타입 사용"
   ]
  },
  {
   "cell_type": "code",
   "execution_count": 31,
   "metadata": {},
   "outputs": [
    {
     "name": "stdout",
     "output_type": "stream",
     "text": [
      "       country continent  year\n",
      "0  Afghanistan      Asia  1952\n",
      "1  Afghanistan      Asia  1957\n",
      "2  Afghanistan      Asia  1962\n",
      "3  Afghanistan      Asia  1967\n",
      "4  Afghanistan      Asia  1972\n"
     ]
    }
   ],
   "source": [
    "# 슬라이싱 구문 활용하기\n",
    "# ex ) range(3) = :3\n",
    "\n",
    "print(df.iloc[:, :3].head())\n",
    "# range와는 달리 변환하는 과정이 필요 없기 떄문에 활용한다!!"
   ]
  },
  {
   "cell_type": "code",
   "execution_count": 33,
   "metadata": {},
   "outputs": [
    {
     "name": "stdout",
     "output_type": "stream",
     "text": [
      "       country  year       pop\n",
      "0  Afghanistan  1952   8425333\n",
      "1  Afghanistan  1957   9240934\n",
      "2  Afghanistan  1962  10267083\n",
      "3  Afghanistan  1967  11537966\n",
      "4  Afghanistan  1972  13079460\n"
     ]
    }
   ],
   "source": [
    "# 슬라이싱 구문을 활용하여 range(0,6,2)와 같은 결과 얻기\n",
    "print(df.iloc[:, 0:6:2].head())\n",
    "\n",
    "# 특이한 점은 range와는 다르게 end_point 값이 +1이 되어야 한다!!"
   ]
  },
  {
   "cell_type": "code",
   "execution_count": 34,
   "metadata": {},
   "outputs": [
    {
     "name": "stdout",
     "output_type": "stream",
     "text": [
      "         country  lifeExp    gdpPercap\n",
      "0    Afghanistan   28.801   779.445314\n",
      "99    Bangladesh   43.453   721.186086\n",
      "999     Mongolia   51.253  1226.041130\n"
     ]
    }
   ],
   "source": [
    "# iloc 속성으로 0, 99, 999 번 행의 0,3,5 열 데이터 출력하기!!\n",
    "# 행, 세로, - 열, 가로\n",
    "\n",
    "print(df.iloc[[0,99,999], [0,3,5]])\n",
    "# 얘는 값이 하나가 아니라서 리스트로 넘겨야 해!!"
   ]
  },
  {
   "cell_type": "code",
   "execution_count": 35,
   "metadata": {},
   "outputs": [
    {
     "name": "stdout",
     "output_type": "stream",
     "text": [
      "         country  lifeExp\n",
      "0    Afghanistan   28.801\n",
      "99    Bangladesh   43.453\n",
      "999     Mongolia   51.253\n"
     ]
    }
   ],
   "source": [
    "# 위와 같은 방법으로 iloc를 사용하면 간편하지만, 나중에 이게 어떤 데이터인지 모를 수 있음!\n",
    "# 큰 규모의 데이터 분석 프로젝트는 loc속성이 더 유용!\n",
    "print(df.loc[[0,99,999], ['country', 'lifeExp']])"
   ]
  },
  {
   "cell_type": "code",
   "execution_count": 38,
   "metadata": {},
   "outputs": [
    {
     "name": "stdout",
     "output_type": "stream",
     "text": [
      "    country    gdpPercap\n",
      "31  Algeria  5681.358539\n",
      "32  Algeria  5023.216647\n",
      "33  Algeria  4797.295051\n",
      "34  Algeria  5288.040382\n",
      "35  Algeria  6223.367465\n",
      "36   Angola  3520.610273\n",
      "37   Angola  3827.940465\n"
     ]
    }
   ],
   "source": [
    "# 연습하기\n",
    "print(df.loc[31:37, ['country', 'gdpPercap']])\n",
    "# loc는 인덱스 기준이기에 실제로는 32~38 사이!!"
   ]
  },
  {
   "cell_type": "markdown",
   "metadata": {},
   "source": [
    "### 기초통계 계산하기"
   ]
  },
  {
   "cell_type": "code",
   "execution_count": 41,
   "metadata": {},
   "outputs": [
    {
     "name": "stdout",
     "output_type": "stream",
     "text": [
      "       country continent  year  lifeExp       pop   gdpPercap\n",
      "0  Afghanistan      Asia  1952   28.801   8425333  779.445314\n",
      "1  Afghanistan      Asia  1957   30.332   9240934  820.853030\n",
      "2  Afghanistan      Asia  1962   31.997  10267083  853.100710\n",
      "3  Afghanistan      Asia  1967   34.020  11537966  836.197138\n",
      "4  Afghanistan      Asia  1972   36.088  13079460  739.981106\n",
      "5  Afghanistan      Asia  1977   38.438  14880372  786.113360\n",
      "6  Afghanistan      Asia  1982   39.854  12881816  978.011439\n",
      "7  Afghanistan      Asia  1987   40.822  13867957  852.395945\n",
      "8  Afghanistan      Asia  1992   41.674  16317921  649.341395\n",
      "9  Afghanistan      Asia  1997   41.763  22227415  635.341351\n",
      "       country continent  year  lifeExp       pop   gdpPercap\n",
      "0  Afghanistan      Asia  1952   28.801   8425333  779.445314\n",
      "1  Afghanistan      Asia  1957   30.332   9240934  820.853030\n",
      "2  Afghanistan      Asia  1962   31.997  10267083  853.100710\n",
      "3  Afghanistan      Asia  1967   34.020  11537966  836.197138\n",
      "4  Afghanistan      Asia  1972   36.088  13079460  739.981106\n",
      "5  Afghanistan      Asia  1977   38.438  14880372  786.113360\n",
      "6  Afghanistan      Asia  1982   39.854  12881816  978.011439\n",
      "7  Afghanistan      Asia  1987   40.822  13867957  852.395945\n",
      "8  Afghanistan      Asia  1992   41.674  16317921  649.341395\n",
      "9  Afghanistan      Asia  1997   41.763  22227415  635.341351\n"
     ]
    }
   ],
   "source": [
    "print(df.head(n=10))\n",
    "# 인덱스 기준, head의 값을 0~9까지 출력하기!!\n",
    "\n",
    "print(df.loc[0:9, :])\n",
    "# 리스트 슬라이싱을 이용한 데이터 출력!"
   ]
  },
  {
   "cell_type": "code",
   "execution_count": 42,
   "metadata": {},
   "outputs": [
    {
     "name": "stdout",
     "output_type": "stream",
     "text": [
      "year\n",
      "1952    49.057620\n",
      "1957    51.507401\n",
      "1962    53.609249\n",
      "1967    55.678290\n",
      "1972    57.647386\n",
      "1977    59.570157\n",
      "1982    61.533197\n",
      "1987    63.212613\n",
      "1992    64.160338\n",
      "1997    65.014676\n",
      "2002    65.694923\n",
      "2007    67.007423\n",
      "Name: lifeExp, dtype: float64\n"
     ]
    }
   ],
   "source": [
    "# lifeExp 열을 연도별로 그룹화하여 평균 계산하기\n",
    "print(df.groupby('year')['lifeExp'].mean())\n",
    "\n",
    "# df에서 년도별로 전부 묶어서 수명의 평균"
   ]
  },
  {
   "cell_type": "code",
   "execution_count": 45,
   "metadata": {},
   "outputs": [
    {
     "name": "stdout",
     "output_type": "stream",
     "text": [
      "country\n",
      "Afghanistan    37.478833\n",
      "Albania        68.432917\n",
      "Algeria        59.030167\n",
      "Angola         37.883500\n",
      "Argentina      69.060417\n",
      "Australia      74.662917\n",
      "Austria        73.103250\n",
      "Bahrain        65.605667\n",
      "Bangladesh     49.834083\n",
      "Belgium        73.641750\n",
      "Name: lifeExp, dtype: float64\n"
     ]
    }
   ],
   "source": [
    "# 연습, 국가별 수명의 평균\n",
    "print(df.groupby('country')['lifeExp'].mean().head(n=10))\n",
    "# 국가별 수명의 평균"
   ]
  },
  {
   "cell_type": "code",
   "execution_count": 51,
   "metadata": {},
   "outputs": [
    {
     "name": "stdout",
     "output_type": "stream",
     "text": [
      "country      year\n",
      "Afghanistan  1952    28.801\n",
      "             1957    30.332\n",
      "             1962    31.997\n",
      "             1967    34.020\n",
      "             1972    36.088\n",
      "                      ...  \n",
      "Zimbabwe     1987    62.351\n",
      "             1992    60.377\n",
      "             1997    46.809\n",
      "             2002    39.989\n",
      "             2007    43.487\n",
      "Name: lifeExp, Length: 1704, dtype: float64\n"
     ]
    }
   ],
   "source": [
    "# 연습2, 년도별 국가별 수명의 평균\n",
    "print(df.groupby(['country','year'])['lifeExp'].mean())"
   ]
  },
  {
   "cell_type": "code",
   "execution_count": 56,
   "metadata": {},
   "outputs": [
    {
     "name": "stdout",
     "output_type": "stream",
     "text": [
      "<class 'pandas.core.groupby.generic.DataFrameGroupBy'>\n",
      "<class 'pandas.core.series.Series'>\n"
     ]
    }
   ],
   "source": [
    "# 그룹화한 데이터의 자료형은 data.frame.groupBy\n",
    "print(type(df.groupby('year')))\n",
    "print(type(df.groupby(['country','year'])['lifeExp'].mean()))\n",
    "\n",
    "# 그룹별로 묶은 것은 dataframeGroupBy\n",
    "# 마지막처럼 lifeExp의 Mean평균을 찾은 것은 series"
   ]
  },
  {
   "cell_type": "code",
   "execution_count": 57,
   "metadata": {},
   "outputs": [
    {
     "name": "stdout",
     "output_type": "stream",
     "text": [
      "<pandas.core.groupby.generic.DataFrameGroupBy object at 0x00000220E2BED150>\n"
     ]
    }
   ],
   "source": [
    "# 그룹화한 데이터프레임의 메모리 주소 얻기!!\n",
    "# <pandas.core.groupby.generic.DataFrameGroupBy object at 0x00000220E2BED150> 여기서 0x00000220E2BED150가 메모리 주소!!\n",
    "print(df.groupby('year'))"
   ]
  },
  {
   "cell_type": "code",
   "execution_count": 60,
   "metadata": {},
   "outputs": [
    {
     "name": "stdout",
     "output_type": "stream",
     "text": [
      "<class 'pandas.core.groupby.generic.SeriesGroupBy'>\n",
      "year\n",
      "1952    49.057620\n",
      "1957    51.507401\n",
      "1962    53.609249\n",
      "1967    55.678290\n",
      "1972    57.647386\n",
      "Name: lifeExp, dtype: float64\n"
     ]
    }
   ],
   "source": [
    "# 그룹화한 시리즈에서 그룹화한 시리즈 얻기!\n",
    "dgf = df.groupby('year')\n",
    "print(type(dgf['lifeExp']))\n",
    "print(dgf['lifeExp'].mean().head())"
   ]
  },
  {
   "cell_type": "code",
   "execution_count": 63,
   "metadata": {},
   "outputs": [
    {
     "name": "stdout",
     "output_type": "stream",
     "text": [
      "      lifeExp     gdpPercap\n",
      "0      28.801    779.445314\n",
      "1      30.332    820.853030\n",
      "2      31.997    853.100710\n",
      "3      34.020    836.197138\n",
      "4      36.088    739.981106\n",
      "...       ...           ...\n",
      "1099   74.320  19007.191290\n",
      "1100   76.330  18363.324940\n",
      "1101   77.550  21050.413770\n",
      "1102   79.110  23189.801350\n",
      "1103   80.204  25185.009110\n",
      "\n",
      "[264 rows x 2 columns]\n"
     ]
    }
   ],
   "source": [
    "# lifeExp, gdpPercap 열의 평균값을 연도, 지역별로 그룹화하여 한번에 계산\n",
    "print(df.groupby(['year', 'continent'])[['lifeExp','gdpPercap']].head())\n",
    "# pandas에서 여러 개의 값을 줄 때는 , 반드시 리스트로 넘겨서 줄 것!!\n"
   ]
  },
  {
   "cell_type": "code",
   "execution_count": 67,
   "metadata": {},
   "outputs": [
    {
     "name": "stdout",
     "output_type": "stream",
     "text": [
      "continent\n",
      "Africa      52\n",
      "Americas    25\n",
      "Asia        33\n",
      "Europe      30\n",
      "Oceania      2\n",
      "Name: country, dtype: int64\n"
     ]
    }
   ],
   "source": [
    "# 데이터의 빈도수 계산하기\n",
    "print(df.groupby('continent')['country'].nunique())\n",
    "# nunique는 함수로서 ()가 필요하다!!\n",
    "# 데이터의 빈도수를 세는 것이다."
   ]
  },
  {
   "cell_type": "code",
   "execution_count": 68,
   "metadata": {},
   "outputs": [
    {
     "data": {
      "text/plain": [
       "<Axes: xlabel='year'>"
      ]
     },
     "execution_count": 68,
     "metadata": {},
     "output_type": "execute_result"
    },
    {
     "data": {
      "image/png": "[encoded data removed]",
      "text/plain": [
       "<Figure size 640x480 with 1 Axes>"
      ]
     },
     "metadata": {},
     "output_type": "display_data"
    }
   ],
   "source": [
    "# matplotlib inline = 주피터 노트북에서 그래프를 그리기 위해 활용하는 매직함수!!\n",
    "%matplotlib inline\n",
    "\n",
    "import matplotlib.pyplot as plt\n",
    "group_data = df.groupby('year')['lifeExp'].mean()\n",
    "group_data.plot()\n"
   ]
  },
  {
   "cell_type": "code",
   "execution_count": 70,
   "metadata": {},
   "outputs": [
    {
     "data": {
      "text/plain": [
       "<Axes: xlabel='year'>"
      ]
     },
     "execution_count": 70,
     "metadata": {},
     "output_type": "execute_result"
    },
    {
     "data": {
      "image/png": "[encoded data removed]",
      "text/plain": [
       "<Figure size 640x480 with 1 Axes>"
      ]
     },
     "metadata": {},
     "output_type": "display_data"
    }
   ],
   "source": [
    "grouped_data = df.groupby('country')['lifeExp'].mean()\n",
    "group_data.plot()"
   ]
  },
  {
   "cell_type": "code",
   "execution_count": null,
   "metadata": {},
   "outputs": [],
   "source": []
  }
 ],
 "metadata": {
  "kernelspec": {
   "display_name": "Python 3 (ipykernel)",
   "language": "python",
   "name": "python3"
  },
  "language_info": {
   "codemirror_mode": {
    "name": "ipython",
    "version": 3
   },
   "file_extension": ".py",
   "mimetype": "text/x-python",
   "name": "python",
   "nbconvert_exporter": "python",
   "pygments_lexer": "ipython3",
   "version": "3.11.4"
  }
 },
 "nbformat": 4,
 "nbformat_minor": 2
}
