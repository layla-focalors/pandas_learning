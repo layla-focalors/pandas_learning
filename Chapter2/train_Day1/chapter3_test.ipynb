{
 "cells": [
  {
   "cell_type": "code",
   "execution_count": 2,
   "metadata": {},
   "outputs": [
    {
     "name": "stdout",
     "output_type": "stream",
     "text": [
      "0    noa\n",
      "1     20\n",
      "dtype: object\n",
      "<class 'pandas.core.series.Series'>\n"
     ]
    }
   ],
   "source": [
    "%matplotlib inline\n",
    "import pandas as pd\n",
    "# 나만의 데이터 만들기!\n",
    "\n",
    "s = pd.Series(['noa', 20]) \n",
    "# 'noa' 인덱스에 정수 20데이터 넣기\n",
    "# 데이터가 하나이기에 시리즈로 분류됨!!\n",
    "# Series는 반드시 'S' 대문자 활용!!\n",
    "\n",
    "print(s)\n",
    "print(type(s))\n"
   ]
  },
  {
   "cell_type": "code",
   "execution_count": 5,
   "metadata": {},
   "outputs": [
    {
     "name": "stdout",
     "output_type": "stream",
     "text": [
      "Name                Noa\n",
      "University    Millenium\n",
      "dtype: object\n",
      "object\n"
     ]
    }
   ],
   "source": [
    "# Series 생성 시, 문자열을 인덱스로 전달하기!!\n",
    "# 문자열을 인덱스로 전달할 때, 반드시 리스트!!\n",
    "s = pd.Series(['Noa', 'Millenium'], index=['Name','University'])\n",
    "print(s)\n",
    "print(s.dtype)\n",
    "# object = 문자 자료형 "
   ]
  },
  {
   "cell_type": "code",
   "execution_count": 7,
   "metadata": {},
   "outputs": [
    {
     "name": "stdout",
     "output_type": "stream",
     "text": [
      "    Name  Occuption        Born        Died  Age\n",
      "0    Noa    Student  1920-07-25  1958-04-16   19\n",
      "1  Layla  Scientist  1876-06-13  1999-10-16   20\n",
      "2  Utaha    Chemist  2004-10-05        live   18\n",
      "<class 'pandas.core.frame.DataFrame'>\n"
     ]
    }
   ],
   "source": [
    "# 데이터프레임 생성하기!!\n",
    "# 데이터 프레임은 { }필수!!\n",
    "# 약간 json 타입 닮음\n",
    "# 데이터프레임 생성시 pd.DataFrame({\"key\":[value!]})\n",
    "\n",
    "df = pd.DataFrame({\n",
    "    'Name' : ['Noa', 'Layla', 'Utaha'],\n",
    "    'Occuption' : ['Student', 'Scientist', 'Chemist'],\n",
    "    'Born' : ['1920-07-25','1876-06-13', '2004-10-05'],\n",
    "    'Died' : ['1958-04-16', '1999-10-16', 'live'],\n",
    "    'Age' : [19, 20, 18]\n",
    "})\n",
    "print(df)\n",
    "print(type(df))"
   ]
  },
  {
   "cell_type": "code",
   "execution_count": 14,
   "metadata": {},
   "outputs": [
    {
     "name": "stdout",
     "output_type": "stream",
     "text": [
      "                     Occupation        Born  Age Died\n",
      "Rosaline Franklin       Chemist  1920-07-25   37  NaN\n",
      "William Gosset     Statistician  1876-06-13   61  NaN\n",
      "column 미지정\n",
      "                     Occupation        Born        died  Age\n",
      "Rosaline Franklin       Chemist  1920-07-25  1958-04-16   37\n",
      "William Gosset     Statistician  1876-06-13  1037-10-16   61\n"
     ]
    }
   ],
   "source": [
    "# 데이터프레임 행, 열 지정하기!!\n",
    "# 행(세로)는 index, 열(column, 가로)\n",
    "import pandas as pd\n",
    "\n",
    "df = pd.DataFrame(data={\n",
    "    \"Occupation\" : ['Chemist', 'Statistician'],\n",
    "    \"Born\" : ['1920-07-25', '1876-06-13'],\n",
    "    \"died\" : ['1958-04-16', '1037-10-16'],\n",
    "    \"Age\" : [37, 61]\n",
    "},index=['Rosaline Franklin', 'William Gosset'], columns=['Occupation', 'Born', 'Age','Died'])\n",
    "print(df)\n",
    "# index, 행 - columns, 열\n",
    "# 데이터의 순서는 columns의 값을 따라감!!\n",
    "\n",
    "print(\"column 미지정\")\n",
    "df = pd.DataFrame(data={\n",
    "    \"Occupation\" : ['Chemist', 'Statistician'],\n",
    "    \"Born\" : ['1920-07-25', '1876-06-13'],\n",
    "    \"died\" : ['1958-04-16', '1037-10-16'],\n",
    "    \"Age\" : [37, 61]\n",
    "},index=['Rosaline Franklin', 'William Gosset'])\n",
    "print(df)\n",
    "\n",
    "# Died, Age의 순서가 다름!!"
   ]
  },
  {
   "cell_type": "code",
   "execution_count": 18,
   "metadata": {},
   "outputs": [
    {
     "name": "stdout",
     "output_type": "stream",
     "text": [
      "           Name    Occupation        Born        Died  Age\n",
      "test1  Rosaline       Chemist  1920-07-25  1958-04-16   37\n",
      "test2  Franklin  Statistician  1876-06-13  1937-10-16   61\n",
      "<class 'pandas.core.frame.DataFrame'>\n"
     ]
    }
   ],
   "source": [
    "# 딕셔너리는 데이터프레임을 만들 때, 데이터의 순서를 보장하지 않음!!\n",
    "# 데이터 순서를 보전하고 싶다면 OrderedDict를 사용해야 한다!!\n",
    "# OrderDict는 일종의 key:value 대신 사용하는 데이터의 집합 느낌\n",
    "\n",
    "from collections import OrderedDict\n",
    "\n",
    "scienttists = pd.DataFrame(OrderedDict([\n",
    "    ('Name', ['Rosaline', 'Franklin']),\n",
    "    ('Occupation', ['Chemist', 'Statistician']),\n",
    "    ('Born', ['1920-07-25', '1876-06-13']),\n",
    "    ('Died', ['1958-04-16', '1937-10-16']),\n",
    "    ('Age' , [37, 61])\n",
    "]), index=[\"test1\", \"test2\"])\n",
    "\n",
    "print(scienttists)\n",
    "print(type(scienttists))\n",
    "# 물론 index변경 사용가능!! "
   ]
  },
  {
   "cell_type": "code",
   "execution_count": 7,
   "metadata": {},
   "outputs": [
    {
     "name": "stdout",
     "output_type": "stream",
     "text": [
      "<class 'pandas.core.series.Series'>\n",
      "Occupation       Chemist\n",
      "Born          1920-07-25\n",
      "Died          1958-04-16\n",
      "Age                   37\n",
      "Name: Rosaline Franklin, dtype: object\n"
     ]
    }
   ],
   "source": [
    "# day2\n",
    "import pandas as pd\n",
    "# 시리즈 데이터 다루기\n",
    "df = pd.DataFrame({\n",
    "    'Occupation' : ['Chemist', 'Statistician'],\n",
    "    'Born' : ['1920-07-25', '1876-06-13'],\n",
    "    'Died' : ['1958-04-16', '1937-10-16'],\n",
    "    'Age' : [37, 61]\n",
    "}, index=['Rosaline Franklin','William Gosset'], columns=['Occupation','Born','Died','Age'])\n",
    "\n",
    "# 시리즈 선택\n",
    "first_row = df.iloc[0]\n",
    "print(type(first_row))\n",
    "print(first_row)"
   ]
  },
  {
   "cell_type": "code",
   "execution_count": 9,
   "metadata": {},
   "outputs": [
    {
     "name": "stdout",
     "output_type": "stream",
     "text": [
      "Index(['Occupation', 'Born', 'Died', 'Age'], dtype='object')\n"
     ]
    }
   ],
   "source": [
    "# 시리즈, 인덱스 가져오기\n",
    "series_index = df.columns\n",
    "print(series_index)"
   ]
  },
  {
   "cell_type": "code",
   "execution_count": 35,
   "metadata": {},
   "outputs": [
    {
     "name": "stdout",
     "output_type": "stream",
     "text": [
      "<class 'pandas.core.series.Series'>\n",
      "Occupation       Chemist\n",
      "Born          1920-07-25\n",
      "Died          1958-04-16\n",
      "Age                   37\n",
      "Name: Rosaline Franklin, dtype: object\n",
      "Index(['Occupation', 'Born', 'Died', 'Age'], dtype='object')\n"
     ]
    }
   ],
   "source": [
    "import pandas as pd\n",
    "# 시리즈 데이터 다루기\n",
    "df = pd.DataFrame({\n",
    "    'Occupation' : ['Chemist', 'Statistician'],\n",
    "    'Born' : ['1920-07-25', '1876-06-13'],\n",
    "    'Died' : ['1958-04-16', '1937-10-16'],\n",
    "    'Age' : [37, 61]\n",
    "}, index=['Rosaline Franklin', 'William Gosset'], columns=['Occupation', 'Born', 'Died', 'Age'])\n",
    "first_row = df.iloc[0]\n",
    "print(type(first_row))\n",
    "\n",
    "print(first_row)\n",
    "print(first_row.index)"
   ]
  },
  {
   "cell_type": "code",
   "execution_count": 23,
   "metadata": {},
   "outputs": [
    {
     "name": "stdout",
     "output_type": "stream",
     "text": [
      "['Chemist' '1920-07-25' '1958-04-16' 37]\n"
     ]
    }
   ],
   "source": [
    "# values는 시리즈의 데이터가 저장된다!!\n",
    "print(first_row.values)"
   ]
  },
  {
   "cell_type": "code",
   "execution_count": 27,
   "metadata": {},
   "outputs": [
    {
     "name": "stdout",
     "output_type": "stream",
     "text": [
      "Index(['Occupation', 'Born', 'Died', 'Age'], dtype='object')\n"
     ]
    }
   ],
   "source": [
    "# key()는 인덱스와 동일한 역할!!\n",
    "print(first_row.keys())"
   ]
  },
  {
   "cell_type": "code",
   "execution_count": 30,
   "metadata": {},
   "outputs": [
    {
     "name": "stdout",
     "output_type": "stream",
     "text": [
      "Occupation\n",
      "Index(['Occupation', 'Born', 'Died', 'Age'], dtype='object')\n",
      "Born\n"
     ]
    }
   ],
   "source": [
    "# [0] 으로 인덱스 슬라이싱으로 인덱스의 첫 번쨰 값 출력하기\n",
    "print(first_row.keys()[0])\n",
    "print(first_row.keys())\n",
    "\n",
    "print(first_row.keys()[1])"
   ]
  },
  {
   "cell_type": "code",
   "execution_count": 36,
   "metadata": {},
   "outputs": [
    {
     "name": "stdout",
     "output_type": "stream",
     "text": [
      "Rosaline Franklin    37\n",
      "William Gosset       61\n",
      "Name: Age, dtype: int64\n"
     ]
    }
   ],
   "source": [
    "# 데이터프레임의 AGE 행 데이터 가져오기\n",
    "ages = df['Age']\n",
    "print(ages)"
   ]
  },
  {
   "cell_type": "code",
   "execution_count": 37,
   "metadata": {},
   "outputs": [
    {
     "name": "stdout",
     "output_type": "stream",
     "text": [
      "49.0\n",
      "61\n",
      "37\n",
      "16.97056274847714\n"
     ]
    }
   ],
   "source": [
    "# 시리즈 구성 데이터가 정수일 때, MEAN, min, max, std 통계 사용 가능\n",
    "print(ages.mean())\n",
    "print(ages.max())\n",
    "print(ages.min())\n",
    "print(ages.std())"
   ]
  }
 ],
 "metadata": {
  "kernelspec": {
   "display_name": "Python 3",
   "language": "python",
   "name": "python3"
  },
  "language_info": {
   "codemirror_mode": {
    "name": "ipython",
    "version": 3
   },
   "file_extension": ".py",
   "mimetype": "text/x-python",
   "name": "python",
   "nbconvert_exporter": "python",
   "pygments_lexer": "ipython3",
   "version": "3.11.4"
  },
  "orig_nbformat": 4
 },
 "nbformat": 4,
 "nbformat_minor": 2
}
