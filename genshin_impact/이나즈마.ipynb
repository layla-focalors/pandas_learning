{
 "cells": [
  {
   "cell_type": "markdown",
   "id": "adf452aa",
   "metadata": {},
   "source": [
    "### Desc for '이나즈마'\n",
    "\n",
    "원신의 이나즈마는 일본을 테마로 한 신규 지역입니다. 이나즈마에 가려면 모험등급 30 이상을 달성하고, 관련 퀘스트를 진행한 뒤 배를 타야 합니다³. \n",
    "\n",
    "이나즈마로 가는 방법은 다음과 같습니다¹:\n",
    "1. 리월항 먼 곳을 바라보며, 생각 정리하기\n",
    "2. 아츠코에게 이나즈마에 가는 방법 묻기\n",
    "3. '사조성' 호에 가서 북두 만나기\n",
    "4. 무술대회가 진행되는 곳으로 가기\n",
    "5. 참가자의 실력 알아보기\n",
    "6. 신청 담당인 주함과 대화하기\n",
    "7. 결승 상대의 정보 알아보기\n",
    "8. 카즈하를 따라 조용한 곳으로 가기\n",
    "9. 마물을 처치하고, 카즈하에게 원소의 힘 보여주기\n",
    "10. 경기장에 들어가 결승전 참가하기\n",
    "11. 신의 눈이 담긴 상자 조사하기\n",
    "12. 바람을 따라\n",
    "13. 보물 사냥단과 대화하기\n",
    "14. 출항의 날\n",
    "\n",
    "이나즈마는 리월항 남동쪽에 위치한 섬들을 의미하며, 처음에는 비경 하늘을 찌르는 땅 쪽에서 섬의 외곽이 흐릿하게나마 보이길래 이거 잘하면 신속의 바람 공명이랑 바람신의 잡채 먹어서 날아가볼까 생각이 들었거든⁴.\n",
    "\n",
    "이나즈마는 매력적인 캐릭터와 스토리를 즐길 수 있는 곳입니다. 퀘스트가 많지만, 스토리가 재밌어서 시간이 금방 갑니다¹."
   ]
  },
  {
   "cell_type": "code",
   "execution_count": 1,
   "id": "e74846a5",
   "metadata": {},
   "outputs": [],
   "source": [
    "import datetime"
   ]
  },
  {
   "cell_type": "code",
   "execution_count": 2,
   "id": "a42b650d",
   "metadata": {},
   "outputs": [],
   "source": [
    "now = datetime.datetime.now()"
   ]
  },
  {
   "cell_type": "code",
   "execution_count": 3,
   "id": "a99041e4",
   "metadata": {},
   "outputs": [
    {
     "name": "stdout",
     "output_type": "stream",
     "text": [
      "2023-12-17 18:26:34.013283\n"
     ]
    }
   ],
   "source": [
    "print(now)"
   ]
  },
  {
   "cell_type": "code",
   "execution_count": 4,
   "id": "f6686abf",
   "metadata": {},
   "outputs": [
    {
     "data": {
      "text/plain": [
       "'Sun'"
      ]
     },
     "execution_count": 4,
     "metadata": {},
     "output_type": "execute_result"
    }
   ],
   "source": [
    "now.strftime('%a')"
   ]
  },
  {
   "cell_type": "code",
   "execution_count": 5,
   "id": "6f93ef84",
   "metadata": {},
   "outputs": [
    {
     "data": {
      "text/plain": [
       "'Sunday'"
      ]
     },
     "execution_count": 5,
     "metadata": {},
     "output_type": "execute_result"
    }
   ],
   "source": [
    "now.strftime('%A')"
   ]
  },
  {
   "cell_type": "code",
   "execution_count": 6,
   "id": "b5536efb",
   "metadata": {},
   "outputs": [
    {
     "data": {
      "text/plain": [
       "'0'"
      ]
     },
     "execution_count": 6,
     "metadata": {},
     "output_type": "execute_result"
    }
   ],
   "source": [
    "now.strftime('%w')"
   ]
  },
  {
   "cell_type": "code",
   "execution_count": 7,
   "id": "8d5ad03f",
   "metadata": {},
   "outputs": [
    {
     "data": {
      "text/plain": [
       "'17'"
      ]
     },
     "execution_count": 7,
     "metadata": {},
     "output_type": "execute_result"
    }
   ],
   "source": [
    "now.strftime('%d')"
   ]
  },
  {
   "cell_type": "code",
   "execution_count": 8,
   "id": "19355a26",
   "metadata": {},
   "outputs": [
    {
     "data": {
      "text/plain": [
       "'Dec'"
      ]
     },
     "execution_count": 8,
     "metadata": {},
     "output_type": "execute_result"
    }
   ],
   "source": [
    "now.strftime('%b')"
   ]
  },
  {
   "cell_type": "code",
   "execution_count": 9,
   "id": "8168dac4",
   "metadata": {},
   "outputs": [
    {
     "data": {
      "text/plain": [
       "'December'"
      ]
     },
     "execution_count": 9,
     "metadata": {},
     "output_type": "execute_result"
    }
   ],
   "source": [
    "now.strftime('%B')"
   ]
  },
  {
   "cell_type": "code",
   "execution_count": 10,
   "id": "5758d6ef",
   "metadata": {},
   "outputs": [
    {
     "data": {
      "text/plain": [
       "'12'"
      ]
     },
     "execution_count": 10,
     "metadata": {},
     "output_type": "execute_result"
    }
   ],
   "source": [
    "now.strftime('%m')"
   ]
  },
  {
   "cell_type": "code",
   "execution_count": 11,
   "id": "8b7723b3",
   "metadata": {},
   "outputs": [
    {
     "data": {
      "text/plain": [
       "'23'"
      ]
     },
     "execution_count": 11,
     "metadata": {},
     "output_type": "execute_result"
    }
   ],
   "source": [
    "now.strftime('%y')"
   ]
  },
  {
   "cell_type": "code",
   "execution_count": 12,
   "id": "a7032039",
   "metadata": {},
   "outputs": [
    {
     "data": {
      "text/plain": [
       "'2023'"
      ]
     },
     "execution_count": 12,
     "metadata": {},
     "output_type": "execute_result"
    }
   ],
   "source": [
    "now.strftime('%Y')"
   ]
  },
  {
   "cell_type": "code",
   "execution_count": 13,
   "id": "9e4985e4",
   "metadata": {},
   "outputs": [
    {
     "data": {
      "text/plain": [
       "'18'"
      ]
     },
     "execution_count": 13,
     "metadata": {},
     "output_type": "execute_result"
    }
   ],
   "source": [
    "now.strftime('%H')"
   ]
  },
  {
   "cell_type": "code",
   "execution_count": 14,
   "id": "325297a0",
   "metadata": {},
   "outputs": [
    {
     "data": {
      "text/plain": [
       "'06'"
      ]
     },
     "execution_count": 14,
     "metadata": {},
     "output_type": "execute_result"
    }
   ],
   "source": [
    "now.strftime('%I')"
   ]
  },
  {
   "cell_type": "code",
   "execution_count": 15,
   "id": "1319a682",
   "metadata": {},
   "outputs": [
    {
     "data": {
      "text/plain": [
       "'PM'"
      ]
     },
     "execution_count": 15,
     "metadata": {},
     "output_type": "execute_result"
    }
   ],
   "source": [
    "now.strftime('%p')"
   ]
  },
  {
   "cell_type": "code",
   "execution_count": 16,
   "id": "495e45ac",
   "metadata": {},
   "outputs": [
    {
     "data": {
      "text/plain": [
       "'26'"
      ]
     },
     "execution_count": 16,
     "metadata": {},
     "output_type": "execute_result"
    }
   ],
   "source": [
    "now.strftime('%M')"
   ]
  },
  {
   "cell_type": "code",
   "execution_count": 17,
   "id": "c0ebba84",
   "metadata": {},
   "outputs": [
    {
     "data": {
      "text/plain": [
       "'34'"
      ]
     },
     "execution_count": 17,
     "metadata": {},
     "output_type": "execute_result"
    }
   ],
   "source": [
    "now.strftime('%S')"
   ]
  },
  {
   "cell_type": "code",
   "execution_count": 18,
   "id": "e585e8de",
   "metadata": {},
   "outputs": [
    {
     "data": {
      "text/plain": [
       "'013283'"
      ]
     },
     "execution_count": 18,
     "metadata": {},
     "output_type": "execute_result"
    }
   ],
   "source": [
    "now.strftime('%f')"
   ]
  },
  {
   "cell_type": "code",
   "execution_count": 19,
   "id": "e1a3e9bf",
   "metadata": {},
   "outputs": [
    {
     "data": {
      "text/plain": [
       "'351'"
      ]
     },
     "execution_count": 19,
     "metadata": {},
     "output_type": "execute_result"
    }
   ],
   "source": [
    "now.strftime('%j')"
   ]
  },
  {
   "cell_type": "code",
   "execution_count": 25,
   "id": "233a8a78",
   "metadata": {},
   "outputs": [
    {
     "data": {
      "text/plain": [
       "'51'"
      ]
     },
     "execution_count": 25,
     "metadata": {},
     "output_type": "execute_result"
    }
   ],
   "source": [
    "now.strftime('%U')"
   ]
  },
  {
   "cell_type": "code",
   "execution_count": 27,
   "id": "cea0c354",
   "metadata": {},
   "outputs": [
    {
     "data": {
      "text/plain": [
       "'Sun Dec 17 18:26:34 2023'"
      ]
     },
     "execution_count": 27,
     "metadata": {},
     "output_type": "execute_result"
    }
   ],
   "source": [
    "now.strftime('%c')"
   ]
  },
  {
   "cell_type": "code",
   "execution_count": 26,
   "id": "5f1a9274",
   "metadata": {},
   "outputs": [
    {
     "data": {
      "text/plain": [
       "'12/17/23'"
      ]
     },
     "execution_count": 26,
     "metadata": {},
     "output_type": "execute_result"
    }
   ],
   "source": [
    "now.strftime('%x')"
   ]
  },
  {
   "cell_type": "code",
   "execution_count": 28,
   "id": "f7f5a8be",
   "metadata": {},
   "outputs": [
    {
     "data": {
      "text/plain": [
       "'18:26:34'"
      ]
     },
     "execution_count": 28,
     "metadata": {},
     "output_type": "execute_result"
    }
   ],
   "source": [
    "now.strftime('%X')"
   ]
  },
  {
   "cell_type": "code",
   "execution_count": 30,
   "id": "7fdb7062",
   "metadata": {},
   "outputs": [
    {
     "data": {
      "text/plain": [
       "'2023'"
      ]
     },
     "execution_count": 30,
     "metadata": {},
     "output_type": "execute_result"
    }
   ],
   "source": [
    "now.strftime('%G')"
   ]
  },
  {
   "cell_type": "code",
   "execution_count": 31,
   "id": "f6c0ed3f",
   "metadata": {},
   "outputs": [
    {
     "data": {
      "text/plain": [
       "'7'"
      ]
     },
     "execution_count": 31,
     "metadata": {},
     "output_type": "execute_result"
    }
   ],
   "source": [
    "now.strftime('%u')"
   ]
  },
  {
   "cell_type": "code",
   "execution_count": 32,
   "id": "b3348e26",
   "metadata": {},
   "outputs": [
    {
     "data": {
      "text/plain": [
       "'50'"
      ]
     },
     "execution_count": 32,
     "metadata": {},
     "output_type": "execute_result"
    }
   ],
   "source": [
    "now.strftime('%V')"
   ]
  }
 ],
 "metadata": {
  "kernelspec": {
   "display_name": "Python 3 (ipykernel)",
   "language": "python",
   "name": "python3"
  },
  "language_info": {
   "codemirror_mode": {
    "name": "ipython",
    "version": 3
   },
   "file_extension": ".py",
   "mimetype": "text/x-python",
   "name": "python",
   "nbconvert_exporter": "python",
   "pygments_lexer": "ipython3",
   "version": "3.11.4"
  }
 },
 "nbformat": 4,
 "nbformat_minor": 5
}
