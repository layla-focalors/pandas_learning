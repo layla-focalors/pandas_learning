{
 "cells": [
  {
   "cell_type": "markdown",
   "id": "adf452aa",
   "metadata": {},
   "source": [
    "### Desc for '이나즈마'\n",
    "\n",
    "원신의 이나즈마는 일본을 테마로 한 신규 지역입니다. 이나즈마에 가려면 모험등급 30 이상을 달성하고, 관련 퀘스트를 진행한 뒤 배를 타야 합니다³. \n",
    "\n",
    "이나즈마로 가는 방법은 다음과 같습니다¹:\n",
    "1. 리월항 먼 곳을 바라보며, 생각 정리하기\n",
    "2. 아츠코에게 이나즈마에 가는 방법 묻기\n",
    "3. '사조성' 호에 가서 북두 만나기\n",
    "4. 무술대회가 진행되는 곳으로 가기\n",
    "5. 참가자의 실력 알아보기\n",
    "6. 신청 담당인 주함과 대화하기\n",
    "7. 결승 상대의 정보 알아보기\n",
    "8. 카즈하를 따라 조용한 곳으로 가기\n",
    "9. 마물을 처치하고, 카즈하에게 원소의 힘 보여주기\n",
    "10. 경기장에 들어가 결승전 참가하기\n",
    "11. 신의 눈이 담긴 상자 조사하기\n",
    "12. 바람을 따라\n",
    "13. 보물 사냥단과 대화하기\n",
    "14. 출항의 날\n",
    "\n",
    "이나즈마는 리월항 남동쪽에 위치한 섬들을 의미하며, 처음에는 비경 하늘을 찌르는 땅 쪽에서 섬의 외곽이 흐릿하게나마 보이길래 이거 잘하면 신속의 바람 공명이랑 바람신의 잡채 먹어서 날아가볼까 생각이 들었거든⁴.\n",
    "\n",
    "이나즈마는 매력적인 캐릭터와 스토리를 즐길 수 있는 곳입니다. 퀘스트가 많지만, 스토리가 재밌어서 시간이 금방 갑니다¹."
   ]
  },
  {
   "cell_type": "code",
   "execution_count": null,
   "id": "e74846a5",
   "metadata": {},
   "outputs": [],
   "source": []
  }
 ],
 "metadata": {
  "kernelspec": {
   "display_name": "Python 3 (ipykernel)",
   "language": "python",
   "name": "python3"
  },
  "language_info": {
   "codemirror_mode": {
    "name": "ipython",
    "version": 3
   },
   "file_extension": ".py",
   "mimetype": "text/x-python",
   "name": "python",
   "nbconvert_exporter": "python",
   "pygments_lexer": "ipython3",
   "version": "3.11.4"
  }
 },
 "nbformat": 4,
 "nbformat_minor": 5
}
