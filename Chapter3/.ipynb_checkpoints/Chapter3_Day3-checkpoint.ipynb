{
 "cells": [
  {
   "cell_type": "code",
   "execution_count": 4,
   "id": "51807259",
   "metadata": {},
   "outputs": [
    {
     "name": "stdout",
     "output_type": "stream",
     "text": [
      "fav    Banana\n",
      "age        42\n",
      "dtype: object\n"
     ]
    }
   ],
   "source": [
    "import pandas as pd\n",
    "s = pd.Series(['Banana', 42], index=['fav', 'age'])\n",
    "print(s)"
   ]
  },
  {
   "cell_type": "code",
   "execution_count": 7,
   "id": "d2f16bda",
   "metadata": {},
   "outputs": [
    {
     "name": "stdout",
     "output_type": "stream",
     "text": [
      "Player                wes Mckinney\n",
      "God of Pandas    Creater Of Pandas\n",
      "dtype: object\n"
     ]
    }
   ],
   "source": [
    "s = pd.Series(['wes Mckinney','Creater Of Pandas'], index=['Player', 'God of Pandas'])\n",
    "print(s)"
   ]
  },
  {
   "cell_type": "code",
   "execution_count": 8,
   "id": "7e3fa1c7",
   "metadata": {},
   "outputs": [
    {
     "name": "stdout",
     "output_type": "stream",
     "text": [
      "                Name     Occupation        Born        Died  Age\n",
      "0  Rosaline Franklin        Chemist  1920-07-25  1958-04-16   37\n",
      "1     William Gosset  Statisstician  1876-06-13  1937-10-16   61\n"
     ]
    }
   ],
   "source": [
    "# 데이터프레임에서는 DataFrame()을 사용한다!! - 즉 D,F 는 대문자!!\n",
    "df = pd.DataFrame({\n",
    "    \"Name\" : ['Rosaline Franklin', 'William Gosset'],\n",
    "    'Occupation' : ['Chemist', 'Statisstician'],\n",
    "    'Born' : ['1920-07-25', '1876-06-13'],\n",
    "    'Died' : ['1958-04-16', '1937-10-16'],\n",
    "    'Age' : [37, 61]\n",
    "})\n",
    "print(df)"
   ]
  },
  {
   "cell_type": "code",
   "execution_count": 10,
   "id": "45218739",
   "metadata": {},
   "outputs": [
    {
     "name": "stdout",
     "output_type": "stream",
     "text": [
      "                      Occupation        Born  Age        Died\n",
      "Rosaline Franklin        Chemist  1920-07-25   37  1958-04-16\n",
      "William Gosset     Statisstician  1876-06-13   61  1937-10-16\n"
     ]
    }
   ],
   "source": [
    "df = pd.DataFrame({\n",
    "    'Occupation' : ['Chemist', 'Statisstician'],\n",
    "    'Born' : ['1920-07-25', '1876-06-13'],\n",
    "    'Died' : ['1958-04-16', '1937-10-16'],\n",
    "    'Age' : [37, 61]\n",
    "}, index=['Rosaline Franklin', 'William Gosset'], columns=['Occupation','Born','Age','Died'])\n",
    "print(df)"
   ]
  }
 ],
 "metadata": {
  "kernelspec": {
   "display_name": "Python 3 (ipykernel)",
   "language": "python",
   "name": "python3"
  },
  "language_info": {
   "codemirror_mode": {
    "name": "ipython",
    "version": 3
   },
   "file_extension": ".py",
   "mimetype": "text/x-python",
   "name": "python",
   "nbconvert_exporter": "python",
   "pygments_lexer": "ipython3",
   "version": "3.11.4"
  }
 },
 "nbformat": 4,
 "nbformat_minor": 5
}
