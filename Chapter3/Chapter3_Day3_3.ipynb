{
 "cells": [
  {
   "cell_type": "code",
   "execution_count": 1,
   "metadata": {},
   "outputs": [],
   "source": [
    "# 과학자 데이터셋 불러오기\n",
    "import pandas as pd\n",
    "# csv이기에 따로 t 주석이 없고 데이터셋 파일에 접근하기 위해 ../\n",
    "df = pd.read_csv(\"../data/scientists.csv\")"
   ]
  },
  {
   "cell_type": "code",
   "execution_count": 2,
   "metadata": {},
   "outputs": [
    {
     "name": "stdout",
     "output_type": "stream",
     "text": [
      "90\n",
      "59.125\n"
     ]
    }
   ],
   "source": [
    "# 나이의 최대와 평균 구하기\n",
    "ages = df['Age']\n",
    "# 최대값 구하기\n",
    "print(ages.max())\n",
    "# 평균값 구하기\n",
    "print(ages.mean())"
   ]
  },
  {
   "cell_type": "code",
   "execution_count": 3,
   "metadata": {},
   "outputs": [
    {
     "name": "stdout",
     "output_type": "stream",
     "text": [
      "1    61\n",
      "2    90\n",
      "3    66\n",
      "7    77\n",
      "Name: Age, dtype: int64\n"
     ]
    }
   ],
   "source": [
    "# 평균보다 나이가 많은 사람 구하기\n",
    "print(ages[ages > ages.mean()])\n",
    "# [] 안에 if 식 같은 메소드 기록"
   ]
  },
  {
   "cell_type": "code",
   "execution_count": 5,
   "metadata": {},
   "outputs": [
    {
     "name": "stdout",
     "output_type": "stream",
     "text": [
      "0    37\n",
      "1    61\n",
      "3    66\n",
      "4    56\n",
      "5    45\n",
      "6    41\n",
      "7    77\n",
      "Name: Age, dtype: int64\n",
      "90\n"
     ]
    }
   ],
   "source": [
    "print(ages[ages < ages.max()])\n",
    "print(ages.max())"
   ]
  },
  {
   "cell_type": "code",
   "execution_count": 8,
   "metadata": {},
   "outputs": [
    {
     "name": "stdout",
     "output_type": "stream",
     "text": [
      "0    False\n",
      "1     True\n",
      "2     True\n",
      "3     True\n",
      "4    False\n",
      "5    False\n",
      "6    False\n",
      "7     True\n",
      "Name: Age, dtype: bool\n",
      "<class 'pandas.core.series.Series'>\n"
     ]
    }
   ],
   "source": [
    "print(ages > ages.mean())\n",
    "# 조건식을 만족하는 결과만 추출\n",
    "# @ 질문!! : 이 데이터가 하나의 시리즈로 존재하고 이 리스트와 df를 비교해서 데이터를 가져오는 건지 질문!!\n",
    "print(type(ages > ages.mean())) # 시리즈 구조"
   ]
  },
  {
   "cell_type": "code",
   "execution_count": 9,
   "metadata": {},
   "outputs": [
    {
     "name": "stdout",
     "output_type": "stream",
     "text": [
      "0    37\n",
      "1    61\n",
      "4    56\n",
      "5    45\n",
      "7    77\n",
      "Name: Age, dtype: int64\n"
     ]
    }
   ],
   "source": [
    "# 수동 값 할당\n",
    "manual = [True, True, False, False, True, True, False, True]\n",
    "print(ages[manual])\n",
    "# bool 리스트 탐색..?\n",
    "# 브로드캐스팅 -> 데이터프레임에 있는 모든 데이터를 한 번에 연산하는 것\n",
    "# 시리즈처럼 여러 개의 데이터를 가진 경우 -> 벡터\n",
    "# 데이터의 단순 크기를 나타내면 -> 스칼라"
   ]
  },
  {
   "cell_type": "code",
   "execution_count": 11,
   "metadata": {},
   "outputs": [
    {
     "name": "stdout",
     "output_type": "stream",
     "text": [
      "0    37\n",
      "1    61\n",
      "2    90\n",
      "3    66\n",
      "4    56\n",
      "5    45\n",
      "6    41\n",
      "7    77\n",
      "Name: Age, dtype: int64\n",
      "0     74\n",
      "1    122\n",
      "2    180\n",
      "3    132\n",
      "4    112\n",
      "5     90\n",
      "6     82\n",
      "7    154\n",
      "Name: Age, dtype: int64\n",
      "0    1369\n",
      "1    3721\n",
      "2    8100\n",
      "3    4356\n",
      "4    3136\n",
      "5    2025\n",
      "6    1681\n",
      "7    5929\n",
      "Name: Age, dtype: int64\n"
     ]
    }
   ],
   "source": [
    "print(ages)\n",
    "# 같은 길이의 벡터로 더하기 & 곱하기 연산\n",
    "print(ages + ages) # 37 + 37 ( n + n )\n",
    "# 여러개의 데이터를 가진 경우 : 벡터\n",
    "print(ages * ages) # 74x 74 ( n * n)"
   ]
  },
  {
   "cell_type": "code",
   "execution_count": 13,
   "metadata": {},
   "outputs": [
    {
     "name": "stdout",
     "output_type": "stream",
     "text": [
      "0    137\n",
      "1    161\n",
      "2    190\n",
      "3    166\n",
      "4    156\n",
      "5    145\n",
      "6    141\n",
      "7    177\n",
      "Name: Age, dtype: int64\n",
      "0     74\n",
      "1    122\n",
      "2    180\n",
      "3    132\n",
      "4    112\n",
      "5     90\n",
      "6     82\n",
      "7    154\n",
      "Name: Age, dtype: int64\n"
     ]
    }
   ],
   "source": [
    "# 벡터에 대한 스칼라 연산\n",
    "print(ages + 100) # n + 100 \n",
    "\n",
    "print(ages * 2) # n * 2"
   ]
  },
  {
   "cell_type": "code",
   "execution_count": 14,
   "metadata": {},
   "outputs": [
    {
     "name": "stdout",
     "output_type": "stream",
     "text": [
      "0     38.0\n",
      "1    161.0\n",
      "2      NaN\n",
      "3      NaN\n",
      "4      NaN\n",
      "5      NaN\n",
      "6      NaN\n",
      "7      NaN\n",
      "dtype: float64\n"
     ]
    }
   ],
   "source": [
    "# 시리즈와 시리즈는 같은 인덱스의 값만 연산한다\n",
    "# 즉 없는 값인 2~7은 NaN : 누락값 반환!!\n",
    "print(ages + pd.Series([1, 100]))"
   ]
  },
  {
   "cell_type": "code",
   "execution_count": 15,
   "metadata": {},
   "outputs": [
    {
     "name": "stdout",
     "output_type": "stream",
     "text": [
      "7    77\n",
      "6    41\n",
      "5    45\n",
      "4    56\n",
      "3    66\n",
      "2    90\n",
      "1    61\n",
      "0    37\n",
      "Name: Age, dtype: int64\n",
      "0    37\n",
      "1    61\n",
      "2    90\n",
      "3    66\n",
      "4    56\n",
      "5    45\n",
      "6    41\n",
      "7    77\n",
      "Name: Age, dtype: int64\n"
     ]
    }
   ],
   "source": [
    "SORT = ages.sort_index(ascending=False)\n",
    "print(SORT)\n",
    "print(ages)\n",
    "# 위로 정렬, 아래로 정렬!!"
   ]
  },
  {
   "cell_type": "code",
   "execution_count": 19,
   "metadata": {},
   "outputs": [
    {
     "name": "stdout",
     "output_type": "stream",
     "text": [
      "7    77\n",
      "6    41\n",
      "5    45\n",
      "4    56\n",
      "3    66\n",
      "2    90\n",
      "1    61\n",
      "0    37\n",
      "Name: Age, dtype: int64\n",
      "0    37\n",
      "1    61\n",
      "2    90\n",
      "3    66\n",
      "4    56\n",
      "5    45\n",
      "6    41\n",
      "7    77\n",
      "Name: Age, dtype: int64\n"
     ]
    }
   ],
   "source": [
    "rvc = ages.sort_index(ascending=False)\n",
    "print(rvc)\n",
    "print(ages)\n",
    "# print(ages.nunique)"
   ]
  },
  {
   "cell_type": "code",
   "execution_count": 21,
   "metadata": {},
   "outputs": [
    {
     "name": "stdout",
     "output_type": "stream",
     "text": [
      "0     74\n",
      "1    122\n",
      "2    180\n",
      "3    132\n",
      "4    112\n",
      "5     90\n",
      "6     82\n",
      "7    154\n",
      "Name: Age, dtype: int64\n",
      "0     74\n",
      "1    122\n",
      "2    180\n",
      "3    132\n",
      "4    112\n",
      "5     90\n",
      "6     82\n",
      "7    154\n",
      "Name: Age, dtype: int64\n",
      "0     74\n",
      "1    122\n",
      "2    180\n",
      "3    132\n",
      "4    112\n",
      "5     90\n",
      "6     82\n",
      "7    154\n",
      "Name: Age, dtype: int64\n"
     ]
    }
   ],
   "source": [
    "print(ages * 2)     # 2배이기에 같음\n",
    "print(ages + ages)  # 2배이기에 더한 것과 같음\n",
    "print(ages + rvc)   # 역순과 일반 인덱스는 인덱스 + 인덱스(벡터) 이기에 같음!!\n",
    "# 벡터이기에 인덱스의 값 끼리 계산하여 결과값이 같음!! "
   ]
  },
  {
   "cell_type": "code",
   "execution_count": 23,
   "metadata": {},
   "outputs": [
    {
     "name": "stdout",
     "output_type": "stream",
     "text": [
      "59.125\n",
      "                   Name        Born        Died  Age     Occupation\n",
      "1        William Gosset  1876-06-13  1937-10-16   61   Statistician\n",
      "2  Florence Nightingale  1820-05-12  1910-08-13   90          Nurse\n",
      "3           Marie Curie  1867-11-07  1934-07-04   66        Chemist\n",
      "7          Johann Gauss  1777-04-30  1855-02-23   77  Mathematician\n"
     ]
    }
   ],
   "source": [
    "# 데이터프레임의 boollean 추출하기\n",
    "# df의 age 행에서 age행의 평균보다 큰 값 출력\n",
    "print(df['Age'].mean())\n",
    "# 평균이 59.125 이기에 1~4 출력!!\n",
    "print(df[df['Age'] > df['Age'].mean()])"
   ]
  },
  {
   "cell_type": "code",
   "execution_count": 27,
   "metadata": {},
   "outputs": [
    {
     "name": "stdout",
     "output_type": "stream",
     "text": [
      "                   Name        Born        Died  Age          Occupation\n",
      "0     Rosaline Franklin  1920-07-25  1958-04-16   37             Chemist\n",
      "1        William Gosset  1876-06-13  1937-10-16   61        Statistician\n",
      "2  Florence Nightingale  1820-05-12  1910-08-13   90               Nurse\n",
      "3           Marie Curie  1867-11-07  1934-07-04   66             Chemist\n",
      "4         Rachel Carson  1907-05-27  1964-04-14   56           Biologist\n",
      "5             John Snow  1813-03-15  1858-06-16   45           Physician\n",
      "6           Alan Turing  1912-06-23  1954-06-07   41  Computer Scientist\n",
      "7          Johann Gauss  1777-04-30  1855-02-23   77       Mathematician\n"
     ]
    },
    {
     "ename": "IndexError",
     "evalue": "Boolean index has wrong length: 4 instead of 8",
     "output_type": "error",
     "traceback": [
      "\u001b[1;31m---------------------------------------------------------------------------\u001b[0m",
      "\u001b[1;31mIndexError\u001b[0m                                Traceback (most recent call last)",
      "\u001b[1;32mc:\\Users\\starl\\python_study\\Chapter3\\Chapter3_Day3_3.ipynb Cell 14\u001b[0m line \u001b[0;36m3\n\u001b[0;32m      <a href='vscode-notebook-cell:/c%3A/Users/starl/python_study/Chapter3/Chapter3_Day3_3.ipynb#X16sZmlsZQ%3D%3D?line=0'>1</a>\u001b[0m \u001b[39m# bool 벡터의 길이가 데이터프레임의 길이보다 짧으면 bool 벡터의 길이만큼 연산\u001b[39;00m\n\u001b[0;32m      <a href='vscode-notebook-cell:/c%3A/Users/starl/python_study/Chapter3/Chapter3_Day3_3.ipynb#X16sZmlsZQ%3D%3D?line=1'>2</a>\u001b[0m \u001b[39mprint\u001b[39m(df)\n\u001b[1;32m----> <a href='vscode-notebook-cell:/c%3A/Users/starl/python_study/Chapter3/Chapter3_Day3_3.ipynb#X16sZmlsZQ%3D%3D?line=2'>3</a>\u001b[0m \u001b[39mprint\u001b[39m(df\u001b[39m.\u001b[39;49mloc[[\u001b[39mTrue\u001b[39;49;00m, \u001b[39mTrue\u001b[39;49;00m, \u001b[39mFalse\u001b[39;49;00m, \u001b[39mTrue\u001b[39;49;00m]])\n",
      "File \u001b[1;32mc:\\Users\\starl\\AppData\\Local\\Programs\\Python\\Python311\\Lib\\site-packages\\pandas\\core\\indexing.py:1103\u001b[0m, in \u001b[0;36m_LocationIndexer.__getitem__\u001b[1;34m(self, key)\u001b[0m\n\u001b[0;32m   1100\u001b[0m axis \u001b[39m=\u001b[39m \u001b[39mself\u001b[39m\u001b[39m.\u001b[39maxis \u001b[39mor\u001b[39;00m \u001b[39m0\u001b[39m\n\u001b[0;32m   1102\u001b[0m maybe_callable \u001b[39m=\u001b[39m com\u001b[39m.\u001b[39mapply_if_callable(key, \u001b[39mself\u001b[39m\u001b[39m.\u001b[39mobj)\n\u001b[1;32m-> 1103\u001b[0m \u001b[39mreturn\u001b[39;00m \u001b[39mself\u001b[39;49m\u001b[39m.\u001b[39;49m_getitem_axis(maybe_callable, axis\u001b[39m=\u001b[39;49maxis)\n",
      "File \u001b[1;32mc:\\Users\\starl\\AppData\\Local\\Programs\\Python\\Python311\\Lib\\site-packages\\pandas\\core\\indexing.py:1325\u001b[0m, in \u001b[0;36m_LocIndexer._getitem_axis\u001b[1;34m(self, key, axis)\u001b[0m\n\u001b[0;32m   1323\u001b[0m     \u001b[39mreturn\u001b[39;00m \u001b[39mself\u001b[39m\u001b[39m.\u001b[39m_get_slice_axis(key, axis\u001b[39m=\u001b[39maxis)\n\u001b[0;32m   1324\u001b[0m \u001b[39melif\u001b[39;00m com\u001b[39m.\u001b[39mis_bool_indexer(key):\n\u001b[1;32m-> 1325\u001b[0m     \u001b[39mreturn\u001b[39;00m \u001b[39mself\u001b[39;49m\u001b[39m.\u001b[39;49m_getbool_axis(key, axis\u001b[39m=\u001b[39;49maxis)\n\u001b[0;32m   1326\u001b[0m \u001b[39melif\u001b[39;00m is_list_like_indexer(key):\n\u001b[0;32m   1327\u001b[0m     \u001b[39m# an iterable multi-selection\u001b[39;00m\n\u001b[0;32m   1328\u001b[0m     \u001b[39mif\u001b[39;00m \u001b[39mnot\u001b[39;00m (\u001b[39misinstance\u001b[39m(key, \u001b[39mtuple\u001b[39m) \u001b[39mand\u001b[39;00m \u001b[39misinstance\u001b[39m(labels, MultiIndex)):\n",
      "File \u001b[1;32mc:\\Users\\starl\\AppData\\Local\\Programs\\Python\\Python311\\Lib\\site-packages\\pandas\\core\\indexing.py:1121\u001b[0m, in \u001b[0;36m_LocationIndexer._getbool_axis\u001b[1;34m(self, key, axis)\u001b[0m\n\u001b[0;32m   1117\u001b[0m \u001b[39m@final\u001b[39m\n\u001b[0;32m   1118\u001b[0m \u001b[39mdef\u001b[39;00m \u001b[39m_getbool_axis\u001b[39m(\u001b[39mself\u001b[39m, key, axis: AxisInt):\n\u001b[0;32m   1119\u001b[0m     \u001b[39m# caller is responsible for ensuring non-None axis\u001b[39;00m\n\u001b[0;32m   1120\u001b[0m     labels \u001b[39m=\u001b[39m \u001b[39mself\u001b[39m\u001b[39m.\u001b[39mobj\u001b[39m.\u001b[39m_get_axis(axis)\n\u001b[1;32m-> 1121\u001b[0m     key \u001b[39m=\u001b[39m check_bool_indexer(labels, key)\n\u001b[0;32m   1122\u001b[0m     inds \u001b[39m=\u001b[39m key\u001b[39m.\u001b[39mnonzero()[\u001b[39m0\u001b[39m]\n\u001b[0;32m   1123\u001b[0m     \u001b[39mreturn\u001b[39;00m \u001b[39mself\u001b[39m\u001b[39m.\u001b[39mobj\u001b[39m.\u001b[39m_take_with_is_copy(inds, axis\u001b[39m=\u001b[39maxis)\n",
      "File \u001b[1;32mc:\\Users\\starl\\AppData\\Local\\Programs\\Python\\Python311\\Lib\\site-packages\\pandas\\core\\indexing.py:2525\u001b[0m, in \u001b[0;36mcheck_bool_indexer\u001b[1;34m(index, key)\u001b[0m\n\u001b[0;32m   2521\u001b[0m \u001b[39melif\u001b[39;00m \u001b[39mnot\u001b[39;00m is_array_like(result):\n\u001b[0;32m   2522\u001b[0m     \u001b[39m# GH 33924\u001b[39;00m\n\u001b[0;32m   2523\u001b[0m     \u001b[39m# key may contain nan elements, check_array_indexer needs bool array\u001b[39;00m\n\u001b[0;32m   2524\u001b[0m     result \u001b[39m=\u001b[39m pd_array(result, dtype\u001b[39m=\u001b[39m\u001b[39mbool\u001b[39m)\n\u001b[1;32m-> 2525\u001b[0m \u001b[39mreturn\u001b[39;00m check_array_indexer(index, result)\n",
      "File \u001b[1;32mc:\\Users\\starl\\AppData\\Local\\Programs\\Python\\Python311\\Lib\\site-packages\\pandas\\core\\indexers\\utils.py:541\u001b[0m, in \u001b[0;36mcheck_array_indexer\u001b[1;34m(array, indexer)\u001b[0m\n\u001b[0;32m    539\u001b[0m     \u001b[39m# GH26658\u001b[39;00m\n\u001b[0;32m    540\u001b[0m     \u001b[39mif\u001b[39;00m \u001b[39mlen\u001b[39m(indexer) \u001b[39m!=\u001b[39m \u001b[39mlen\u001b[39m(array):\n\u001b[1;32m--> 541\u001b[0m         \u001b[39mraise\u001b[39;00m \u001b[39mIndexError\u001b[39;00m(\n\u001b[0;32m    542\u001b[0m             \u001b[39mf\u001b[39m\u001b[39m\"\u001b[39m\u001b[39mBoolean index has wrong length: \u001b[39m\u001b[39m\"\u001b[39m\n\u001b[0;32m    543\u001b[0m             \u001b[39mf\u001b[39m\u001b[39m\"\u001b[39m\u001b[39m{\u001b[39;00m\u001b[39mlen\u001b[39m(indexer)\u001b[39m}\u001b[39;00m\u001b[39m instead of \u001b[39m\u001b[39m{\u001b[39;00m\u001b[39mlen\u001b[39m(array)\u001b[39m}\u001b[39;00m\u001b[39m\"\u001b[39m\n\u001b[0;32m    544\u001b[0m         )\n\u001b[0;32m    545\u001b[0m \u001b[39melif\u001b[39;00m is_integer_dtype(dtype):\n\u001b[0;32m    546\u001b[0m     \u001b[39mtry\u001b[39;00m:\n",
      "\u001b[1;31mIndexError\u001b[0m: Boolean index has wrong length: 4 instead of 8"
     ]
    }
   ],
   "source": [
    "# bool 벡터의 길이가 데이터프레임의 길이보다 짧으면 bool 벡터의 길이만큼 연산\n",
    "print(df)\n",
    "print(df.loc[[True, True, False, True]])"
   ]
  },
  {
   "cell_type": "code",
   "execution_count": 28,
   "metadata": {},
   "outputs": [
    {
     "name": "stdout",
     "output_type": "stream",
     "text": [
      "                                       Name                  Born  \\\n",
      "0        Rosaline FranklinRosaline Franklin  1920-07-251920-07-25   \n",
      "1              William GossetWilliam Gosset  1876-06-131876-06-13   \n",
      "2  Florence NightingaleFlorence Nightingale  1820-05-121820-05-12   \n",
      "3                    Marie CurieMarie Curie  1867-11-071867-11-07   \n",
      "4                Rachel CarsonRachel Carson  1907-05-271907-05-27   \n",
      "5                        John SnowJohn Snow  1813-03-151813-03-15   \n",
      "6                    Alan TuringAlan Turing  1912-06-231912-06-23   \n",
      "7                  Johann GaussJohann Gauss  1777-04-301777-04-30   \n",
      "\n",
      "                   Died  Age                            Occupation  \n",
      "0  1958-04-161958-04-16   74                        ChemistChemist  \n",
      "1  1937-10-161937-10-16  122              StatisticianStatistician  \n",
      "2  1910-08-131910-08-13  180                            NurseNurse  \n",
      "3  1934-07-041934-07-04  132                        ChemistChemist  \n",
      "4  1964-04-141964-04-14  112                    BiologistBiologist  \n",
      "5  1858-06-161858-06-16   90                    PhysicianPhysician  \n",
      "6  1954-06-071954-06-07   82  Computer ScientistComputer Scientist  \n",
      "7  1855-02-231855-02-23  154            MathematicianMathematician  \n"
     ]
    }
   ],
   "source": [
    "print(df * 2)\n",
    "# 정수는 2를 곱하고, 문자는 두배가 된다!!\n",
    "#  12 * 2(Scala) = 24\n",
    "# 'NOA' * 2(Scala) = 'NOANOA'"
   ]
  },
  {
   "cell_type": "code",
   "execution_count": 32,
   "metadata": {},
   "outputs": [
    {
     "name": "stdout",
     "output_type": "stream",
     "text": [
      "7    1855-02-23\n",
      "6    1954-06-07\n",
      "5    1858-06-16\n",
      "4    1964-04-14\n",
      "3    1934-07-04\n",
      "2    1910-08-13\n",
      "1    1937-10-16\n",
      "0    1958-04-16\n",
      "Name: Died, dtype: object\n",
      "0    1958-04-16\n",
      "1    1937-10-16\n",
      "2    1910-08-13\n",
      "3    1934-07-04\n",
      "4    1964-04-14\n",
      "5    1858-06-16\n",
      "6    1954-06-07\n",
      "7    1855-02-23\n",
      "Name: Died, dtype: object\n"
     ]
    }
   ],
   "source": [
    "# REVIEW , Reverse\n",
    "Dieds = df['Died']\n",
    "reverseds = Dieds.sort_index(ascending=False)\n",
    "print(reverseds)\n",
    "print(Dieds)"
   ]
  },
  {
   "cell_type": "code",
   "execution_count": 34,
   "metadata": {},
   "outputs": [
    {
     "name": "stdout",
     "output_type": "stream",
     "text": [
      "object\n",
      "object\n",
      "         Born        Died\n",
      "0  1920-07-25  1958-04-16\n",
      "1  1876-06-13  1937-10-16\n",
      "2  1820-05-12  1910-08-13\n",
      "3  1867-11-07  1934-07-04\n",
      "4  1907-05-27  1964-04-14\n",
      "5  1813-03-15  1858-06-16\n",
      "6  1912-06-23  1954-06-07\n",
      "7  1777-04-30  1855-02-23\n"
     ]
    }
   ],
   "source": [
    "# 데이터프레임의 Bord, Died 열의 데이터 타입 확인\n",
    "print(df['Born'].dtypes)\n",
    "print(df['Died'].dtypes)\n",
    "print(df[['Born','Died']])\n",
    "# 날자를 문자열로 인식"
   ]
  },
  {
   "cell_type": "code",
   "execution_count": 36,
   "metadata": {},
   "outputs": [
    {
     "name": "stdout",
     "output_type": "stream",
     "text": [
      "0   1920-07-25\n",
      "1   1876-06-13\n",
      "2   1820-05-12\n",
      "3   1867-11-07\n",
      "4   1907-05-27\n",
      "5   1813-03-15\n",
      "6   1912-06-23\n",
      "7   1777-04-30\n",
      "Name: Born, dtype: datetime64[ns]\n"
     ]
    }
   ],
   "source": [
    "born_datetime = pd.to_datetime(df['Born'], format='%Y-%m-%d')\n",
    "# born의 데이터 타입을 바꾸고 포멧 설정\n",
    "print(born_datetime)"
   ]
  },
  {
   "cell_type": "code",
   "execution_count": 37,
   "metadata": {},
   "outputs": [
    {
     "name": "stdout",
     "output_type": "stream",
     "text": [
      "0   1958-04-16\n",
      "1   1937-10-16\n",
      "2   1910-08-13\n",
      "3   1934-07-04\n",
      "4   1964-04-14\n",
      "5   1858-06-16\n",
      "6   1954-06-07\n",
      "7   1855-02-23\n",
      "Name: Died, dtype: datetime64[ns]\n"
     ]
    }
   ],
   "source": [
    "died_datetime = pd.to_datetime(df['Died'], format='%Y-%m-%d')\n",
    "print(died_datetime)"
   ]
  },
  {
   "cell_type": "code",
   "execution_count": 38,
   "metadata": {},
   "outputs": [
    {
     "name": "stdout",
     "output_type": "stream",
     "text": [
      "                   Name        Born        Died  Age          Occupation  \\\n",
      "0     Rosaline Franklin  1920-07-25  1958-04-16   37             Chemist   \n",
      "1        William Gosset  1876-06-13  1937-10-16   61        Statistician   \n",
      "2  Florence Nightingale  1820-05-12  1910-08-13   90               Nurse   \n",
      "3           Marie Curie  1867-11-07  1934-07-04   66             Chemist   \n",
      "4         Rachel Carson  1907-05-27  1964-04-14   56           Biologist   \n",
      "5             John Snow  1813-03-15  1858-06-16   45           Physician   \n",
      "6           Alan Turing  1912-06-23  1954-06-07   41  Computer Scientist   \n",
      "7          Johann Gauss  1777-04-30  1855-02-23   77       Mathematician   \n",
      "\n",
      "  Born_dtypes Died_dtypes  \n",
      "0  1920-07-25  1958-04-16  \n",
      "1  1876-06-13  1937-10-16  \n",
      "2  1820-05-12  1910-08-13  \n",
      "3  1867-11-07  1934-07-04  \n",
      "4  1907-05-27  1964-04-14  \n",
      "5  1813-03-15  1858-06-16  \n",
      "6  1912-06-23  1954-06-07  \n",
      "7  1777-04-30  1855-02-23  \n"
     ]
    }
   ],
   "source": [
    "df['Born_dtypes'], df['Died_dtypes'] = (born_datetime, died_datetime)\n",
    "print(df)\n",
    "# 여러 열과 행을 한번에 추가하기"
   ]
  },
  {
   "cell_type": "code",
   "execution_count": 39,
   "metadata": {},
   "outputs": [
    {
     "name": "stdout",
     "output_type": "stream",
     "text": [
      "                   Name        Born        Died  Age          Occupation  \\\n",
      "0     Rosaline Franklin  1920-07-25  1958-04-16   37             Chemist   \n",
      "1        William Gosset  1876-06-13  1937-10-16   61        Statistician   \n",
      "2  Florence Nightingale  1820-05-12  1910-08-13   90               Nurse   \n",
      "3           Marie Curie  1867-11-07  1934-07-04   66             Chemist   \n",
      "4         Rachel Carson  1907-05-27  1964-04-14   56           Biologist   \n",
      "5             John Snow  1813-03-15  1858-06-16   45           Physician   \n",
      "6           Alan Turing  1912-06-23  1954-06-07   41  Computer Scientist   \n",
      "7          Johann Gauss  1777-04-30  1855-02-23   77       Mathematician   \n",
      "\n",
      "  Born_dtypes Died_dtypes 2_Born_Datetime  \n",
      "0  1920-07-25  1958-04-16      1920-07-25  \n",
      "1  1876-06-13  1937-10-16      1876-06-13  \n",
      "2  1820-05-12  1910-08-13      1820-05-12  \n",
      "3  1867-11-07  1934-07-04      1867-11-07  \n",
      "4  1907-05-27  1964-04-14      1907-05-27  \n",
      "5  1813-03-15  1858-06-16      1813-03-15  \n",
      "6  1912-06-23  1954-06-07      1912-06-23  \n",
      "7  1777-04-30  1855-02-23      1777-04-30  \n"
     ]
    }
   ],
   "source": [
    "df['2_Born_Datetime'] = born_datetime\n",
    "print(df)"
   ]
  },
  {
   "cell_type": "code",
   "execution_count": 43,
   "metadata": {},
   "outputs": [
    {
     "name": "stdout",
     "output_type": "stream",
     "text": [
      "                   Name        Born        Died  Age          Occupation  \\\n",
      "0     Rosaline Franklin  1920-07-25  1958-04-16   37             Chemist   \n",
      "1        William Gosset  1876-06-13  1937-10-16   61        Statistician   \n",
      "2  Florence Nightingale  1820-05-12  1910-08-13   90               Nurse   \n",
      "3           Marie Curie  1867-11-07  1934-07-04   66             Chemist   \n",
      "4         Rachel Carson  1907-05-27  1964-04-14   56           Biologist   \n",
      "5             John Snow  1813-03-15  1858-06-16   45           Physician   \n",
      "6           Alan Turing  1912-06-23  1954-06-07   41  Computer Scientist   \n",
      "7          Johann Gauss  1777-04-30  1855-02-23   77       Mathematician   \n",
      "\n",
      "  Born_dtypes Died_dtypes 2_Born_Datetime   life_time life_time2  \n",
      "0  1920-07-25  1958-04-16      1920-07-25 -13779 days 13779 days  \n",
      "1  1876-06-13  1937-10-16      1876-06-13 -22404 days 22404 days  \n",
      "2  1820-05-12  1910-08-13      1820-05-12 -32964 days 32964 days  \n",
      "3  1867-11-07  1934-07-04      1867-11-07 -24345 days 24345 days  \n",
      "4  1907-05-27  1964-04-14      1907-05-27 -20777 days 20777 days  \n",
      "5  1813-03-15  1858-06-16      1813-03-15 -16529 days 16529 days  \n",
      "6  1912-06-23  1954-06-07      1912-06-23 -15324 days 15324 days  \n",
      "7  1777-04-30  1855-02-23      1777-04-30 -28422 days 28422 days  \n"
     ]
    }
   ],
   "source": [
    "# 연산식 포함 데이터프레임 추가하기\n",
    "df['life_time2'] = df['Died_dtypes'] - df['Born_dtypes']\n",
    "print(df)"
   ]
  },
  {
   "cell_type": "code",
   "execution_count": 47,
   "metadata": {},
   "outputs": [
    {
     "name": "stdout",
     "output_type": "stream",
     "text": [
      "None\n",
      "0    90\n",
      "1    56\n",
      "2    77\n",
      "3    61\n",
      "4    45\n",
      "5    66\n",
      "6    41\n",
      "7    37\n",
      "Name: Age, dtype: int64\n"
     ]
    },
    {
     "name": "stderr",
     "output_type": "stream",
     "text": [
      "c:\\Users\\starl\\AppData\\Local\\Programs\\Python\\Python311\\Lib\\random.py:383: SettingWithCopyWarning: \n",
      "A value is trying to be set on a copy of a slice from a DataFrame\n",
      "\n",
      "See the caveats in the documentation: https://pandas.pydata.org/pandas-docs/stable/user_guide/indexing.html#returning-a-view-versus-a-copy\n",
      "  x[i], x[j] = x[j], x[i]\n",
      "c:\\Users\\starl\\AppData\\Local\\Programs\\Python\\Python311\\Lib\\random.py:383: SettingWithCopyWarning: \n",
      "A value is trying to be set on a copy of a slice from a DataFrame\n",
      "\n",
      "See the caveats in the documentation: https://pandas.pydata.org/pandas-docs/stable/user_guide/indexing.html#returning-a-view-versus-a-copy\n",
      "  x[i], x[j] = x[j], x[i]\n",
      "c:\\Users\\starl\\AppData\\Local\\Programs\\Python\\Python311\\Lib\\random.py:383: SettingWithCopyWarning: \n",
      "A value is trying to be set on a copy of a slice from a DataFrame\n",
      "\n",
      "See the caveats in the documentation: https://pandas.pydata.org/pandas-docs/stable/user_guide/indexing.html#returning-a-view-versus-a-copy\n",
      "  x[i], x[j] = x[j], x[i]\n",
      "c:\\Users\\starl\\AppData\\Local\\Programs\\Python\\Python311\\Lib\\random.py:383: SettingWithCopyWarning: \n",
      "A value is trying to be set on a copy of a slice from a DataFrame\n",
      "\n",
      "See the caveats in the documentation: https://pandas.pydata.org/pandas-docs/stable/user_guide/indexing.html#returning-a-view-versus-a-copy\n",
      "  x[i], x[j] = x[j], x[i]\n",
      "c:\\Users\\starl\\AppData\\Local\\Programs\\Python\\Python311\\Lib\\random.py:383: SettingWithCopyWarning: \n",
      "A value is trying to be set on a copy of a slice from a DataFrame\n",
      "\n",
      "See the caveats in the documentation: https://pandas.pydata.org/pandas-docs/stable/user_guide/indexing.html#returning-a-view-versus-a-copy\n",
      "  x[i], x[j] = x[j], x[i]\n",
      "c:\\Users\\starl\\AppData\\Local\\Programs\\Python\\Python311\\Lib\\random.py:383: SettingWithCopyWarning: \n",
      "A value is trying to be set on a copy of a slice from a DataFrame\n",
      "\n",
      "See the caveats in the documentation: https://pandas.pydata.org/pandas-docs/stable/user_guide/indexing.html#returning-a-view-versus-a-copy\n",
      "  x[i], x[j] = x[j], x[i]\n",
      "c:\\Users\\starl\\AppData\\Local\\Programs\\Python\\Python311\\Lib\\random.py:383: SettingWithCopyWarning: \n",
      "A value is trying to be set on a copy of a slice from a DataFrame\n",
      "\n",
      "See the caveats in the documentation: https://pandas.pydata.org/pandas-docs/stable/user_guide/indexing.html#returning-a-view-versus-a-copy\n",
      "  x[i], x[j] = x[j], x[i]\n",
      "c:\\Users\\starl\\AppData\\Local\\Programs\\Python\\Python311\\Lib\\random.py:383: SettingWithCopyWarning: \n",
      "A value is trying to be set on a copy of a slice from a DataFrame\n",
      "\n",
      "See the caveats in the documentation: https://pandas.pydata.org/pandas-docs/stable/user_guide/indexing.html#returning-a-view-versus-a-copy\n",
      "  x[i], x[j] = x[j], x[i]\n",
      "c:\\Users\\starl\\AppData\\Local\\Programs\\Python\\Python311\\Lib\\random.py:383: SettingWithCopyWarning: \n",
      "A value is trying to be set on a copy of a slice from a DataFrame\n",
      "\n",
      "See the caveats in the documentation: https://pandas.pydata.org/pandas-docs/stable/user_guide/indexing.html#returning-a-view-versus-a-copy\n",
      "  x[i], x[j] = x[j], x[i]\n",
      "c:\\Users\\starl\\AppData\\Local\\Programs\\Python\\Python311\\Lib\\random.py:383: SettingWithCopyWarning: \n",
      "A value is trying to be set on a copy of a slice from a DataFrame\n",
      "\n",
      "See the caveats in the documentation: https://pandas.pydata.org/pandas-docs/stable/user_guide/indexing.html#returning-a-view-versus-a-copy\n",
      "  x[i], x[j] = x[j], x[i]\n",
      "c:\\Users\\starl\\AppData\\Local\\Programs\\Python\\Python311\\Lib\\random.py:383: SettingWithCopyWarning: \n",
      "A value is trying to be set on a copy of a slice from a DataFrame\n",
      "\n",
      "See the caveats in the documentation: https://pandas.pydata.org/pandas-docs/stable/user_guide/indexing.html#returning-a-view-versus-a-copy\n",
      "  x[i], x[j] = x[j], x[i]\n",
      "c:\\Users\\starl\\AppData\\Local\\Programs\\Python\\Python311\\Lib\\random.py:383: SettingWithCopyWarning: \n",
      "A value is trying to be set on a copy of a slice from a DataFrame\n",
      "\n",
      "See the caveats in the documentation: https://pandas.pydata.org/pandas-docs/stable/user_guide/indexing.html#returning-a-view-versus-a-copy\n",
      "  x[i], x[j] = x[j], x[i]\n",
      "c:\\Users\\starl\\AppData\\Local\\Programs\\Python\\Python311\\Lib\\random.py:383: SettingWithCopyWarning: \n",
      "A value is trying to be set on a copy of a slice from a DataFrame\n",
      "\n",
      "See the caveats in the documentation: https://pandas.pydata.org/pandas-docs/stable/user_guide/indexing.html#returning-a-view-versus-a-copy\n",
      "  x[i], x[j] = x[j], x[i]\n",
      "c:\\Users\\starl\\AppData\\Local\\Programs\\Python\\Python311\\Lib\\random.py:383: SettingWithCopyWarning: \n",
      "A value is trying to be set on a copy of a slice from a DataFrame\n",
      "\n",
      "See the caveats in the documentation: https://pandas.pydata.org/pandas-docs/stable/user_guide/indexing.html#returning-a-view-versus-a-copy\n",
      "  x[i], x[j] = x[j], x[i]\n"
     ]
    }
   ],
   "source": [
    "# 랜덤으로 데이터 섞기\n",
    "import random\n",
    "\n",
    "random.seed(42)\n",
    "# seed 메소드는 컴퓨터가 생성하는 난수의 기준값 정하기\n",
    "shuffled = random.shuffle(df['Age'])\n",
    "print(shuffled)\n",
    "print(df['Age'])"
   ]
  },
  {
   "cell_type": "code",
   "execution_count": 48,
   "metadata": {},
   "outputs": [
    {
     "name": "stdout",
     "output_type": "stream",
     "text": [
      "None\n",
      "0    90\n",
      "1    56\n",
      "2    77\n",
      "3    61\n",
      "4    45\n",
      "5    66\n",
      "6    41\n",
      "7    37\n",
      "Name: Age, dtype: int64\n"
     ]
    }
   ],
   "source": [
    "# copy db\n",
    "# 랜덤으로 데이터 섞기\n",
    "import random\n",
    "dfc = df['Age'].copy()\n",
    "random.seed(42)\n",
    "# seed 메소드는 컴퓨터가 생성하는 난수의 기준값 정하기\n",
    "shuffled = random.shuffle(dfc)\n",
    "print(shuffled)\n",
    "print(df['Age'])"
   ]
  },
  {
   "cell_type": "code",
   "execution_count": 53,
   "metadata": {},
   "outputs": [
    {
     "name": "stdout",
     "output_type": "stream",
     "text": [
      "Index(['Name', 'Born', 'Died', 'Age', 'Occupation', 'Born_dtypes',\n",
      "       'Died_dtypes', '2_Born_Datetime', 'life_time', 'life_time2',\n",
      "       'Shuffled_age'],\n",
      "      dtype='object')\n",
      "                   Name        Born        Died  Age          Occupation  \\\n",
      "0     Rosaline Franklin  1920-07-25  1958-04-16   90             Chemist   \n",
      "1        William Gosset  1876-06-13  1937-10-16   56        Statistician   \n",
      "2  Florence Nightingale  1820-05-12  1910-08-13   77               Nurse   \n",
      "3           Marie Curie  1867-11-07  1934-07-04   61             Chemist   \n",
      "4         Rachel Carson  1907-05-27  1964-04-14   45           Biologist   \n",
      "5             John Snow  1813-03-15  1858-06-16   66           Physician   \n",
      "6           Alan Turing  1912-06-23  1954-06-07   41  Computer Scientist   \n",
      "7          Johann Gauss  1777-04-30  1855-02-23   37       Mathematician   \n",
      "\n",
      "  Born_dtypes Died_dtypes 2_Born_Datetime life_time2 Shuffled_age  \n",
      "0  1920-07-25  1958-04-16      1920-07-25 13779 days         None  \n",
      "1  1876-06-13  1937-10-16      1876-06-13 22404 days         None  \n",
      "2  1820-05-12  1910-08-13      1820-05-12 32964 days         None  \n",
      "3  1867-11-07  1934-07-04      1867-11-07 24345 days         None  \n",
      "4  1907-05-27  1964-04-14      1907-05-27 20777 days         None  \n",
      "5  1813-03-15  1858-06-16      1813-03-15 16529 days         None  \n",
      "6  1912-06-23  1954-06-07      1912-06-23 15324 days         None  \n",
      "7  1777-04-30  1855-02-23      1777-04-30 28422 days         None  \n"
     ]
    }
   ],
   "source": [
    "# 데이터프레임의 열 삭제하기\n",
    "print(df.columns)\n",
    "\n",
    "dropped = df.drop(['life_time'], axis=1)\n",
    "print(dropped)"
   ]
  },
  {
   "cell_type": "code",
   "execution_count": 57,
   "metadata": {},
   "outputs": [],
   "source": [
    "# 데이터 저장하고 불러오기\n",
    "# 피클 : 데이터를 바이너리 형태로 직렬화된 오브젝트를 저장하는 기법\n",
    "xs = df['Age']\n",
    "xs.to_pickle('./pickple_save/series.pickle')"
   ]
  },
  {
   "cell_type": "code",
   "execution_count": 58,
   "metadata": {},
   "outputs": [],
   "source": [
    "# 데이터프레임 피클로 저장하기\n",
    "df.to_pickle('./pickple_save/dataframe.pickle')"
   ]
  },
  {
   "cell_type": "code",
   "execution_count": 59,
   "metadata": {},
   "outputs": [
    {
     "name": "stdout",
     "output_type": "stream",
     "text": [
      "0    90\n",
      "1    56\n",
      "2    77\n",
      "3    61\n",
      "4    45\n",
      "5    66\n",
      "6    41\n",
      "7    37\n",
      "Name: Age, dtype: int64\n",
      "                   Name        Born        Died  Age          Occupation  \\\n",
      "0     Rosaline Franklin  1920-07-25  1958-04-16   90             Chemist   \n",
      "1        William Gosset  1876-06-13  1937-10-16   56        Statistician   \n",
      "2  Florence Nightingale  1820-05-12  1910-08-13   77               Nurse   \n",
      "3           Marie Curie  1867-11-07  1934-07-04   61             Chemist   \n",
      "4         Rachel Carson  1907-05-27  1964-04-14   45           Biologist   \n",
      "5             John Snow  1813-03-15  1858-06-16   66           Physician   \n",
      "6           Alan Turing  1912-06-23  1954-06-07   41  Computer Scientist   \n",
      "7          Johann Gauss  1777-04-30  1855-02-23   37       Mathematician   \n",
      "\n",
      "  Born_dtypes Died_dtypes 2_Born_Datetime   life_time life_time2 Shuffled_age  \n",
      "0  1920-07-25  1958-04-16      1920-07-25 -13779 days 13779 days         None  \n",
      "1  1876-06-13  1937-10-16      1876-06-13 -22404 days 22404 days         None  \n",
      "2  1820-05-12  1910-08-13      1820-05-12 -32964 days 32964 days         None  \n",
      "3  1867-11-07  1934-07-04      1867-11-07 -24345 days 24345 days         None  \n",
      "4  1907-05-27  1964-04-14      1907-05-27 -20777 days 20777 days         None  \n",
      "5  1813-03-15  1858-06-16      1813-03-15 -16529 days 16529 days         None  \n",
      "6  1912-06-23  1954-06-07      1912-06-23 -15324 days 15324 days         None  \n",
      "7  1777-04-30  1855-02-23      1777-04-30 -28422 days 28422 days         None  \n"
     ]
    }
   ],
   "source": [
    "# 피클 읽기 # read_csv랑 비슷한데 뒤에가 피클일 뿐!!\n",
    "print(pd.read_pickle('./pickple_save/series.pickle'))\n",
    "print(pd.read_pickle('./pickple_save/dataframe.pickle'))"
   ]
  },
  {
   "cell_type": "code",
   "execution_count": 60,
   "metadata": {},
   "outputs": [],
   "source": [
    "# csv로 데이터 저장하기\n",
    "df.to_csv('./csv_save/dataframe.csv')"
   ]
  },
  {
   "cell_type": "code",
   "execution_count": 61,
   "metadata": {},
   "outputs": [],
   "source": [
    "# TSV 데이터 저장하기\n",
    "df.to_csv('./tsv_save/dataframe.tsv', sep='\\t')"
   ]
  },
  {
   "cell_type": "code",
   "execution_count": 62,
   "metadata": {},
   "outputs": [
    {
     "data": {
      "text/plain": [
       "0"
      ]
     },
     "execution_count": 62,
     "metadata": {},
     "output_type": "execute_result"
    }
   ],
   "source": [
    "# 패키지 설치\n",
    "import os\n",
    "os.system('pip install xlwt')\n",
    "os.system('pip install openpyxl')"
   ]
  },
  {
   "cell_type": "code",
   "execution_count": 67,
   "metadata": {},
   "outputs": [
    {
     "name": "stdout",
     "output_type": "stream",
     "text": [
      "<class 'pandas.core.series.Series'>\n",
      "<class 'pandas.core.frame.DataFrame'>\n"
     ]
    },
    {
     "ename": "ValueError",
     "evalue": "No engine for filetype: 'xls'",
     "output_type": "error",
     "traceback": [
      "\u001b[1;31m---------------------------------------------------------------------------\u001b[0m",
      "\u001b[1;31mOptionError\u001b[0m                               Traceback (most recent call last)",
      "File \u001b[1;32mc:\\Users\\starl\\AppData\\Local\\Programs\\Python\\Python311\\Lib\\site-packages\\pandas\\io\\excel\\_base.py:1111\u001b[0m, in \u001b[0;36mExcelWriter.__new__\u001b[1;34m(cls, path, engine, date_format, datetime_format, mode, storage_options, if_sheet_exists, engine_kwargs)\u001b[0m\n\u001b[0;32m   1110\u001b[0m \u001b[39mtry\u001b[39;00m:\n\u001b[1;32m-> 1111\u001b[0m     engine \u001b[39m=\u001b[39m config\u001b[39m.\u001b[39;49mget_option(\u001b[39mf\u001b[39;49m\u001b[39m\"\u001b[39;49m\u001b[39mio.excel.\u001b[39;49m\u001b[39m{\u001b[39;49;00mext\u001b[39m}\u001b[39;49;00m\u001b[39m.writer\u001b[39;49m\u001b[39m\"\u001b[39;49m, silent\u001b[39m=\u001b[39;49m\u001b[39mTrue\u001b[39;49;00m)\n\u001b[0;32m   1112\u001b[0m     \u001b[39mif\u001b[39;00m engine \u001b[39m==\u001b[39m \u001b[39m\"\u001b[39m\u001b[39mauto\u001b[39m\u001b[39m\"\u001b[39m:\n",
      "File \u001b[1;32mc:\\Users\\starl\\AppData\\Local\\Programs\\Python\\Python311\\Lib\\site-packages\\pandas\\_config\\config.py:261\u001b[0m, in \u001b[0;36mCallableDynamicDoc.__call__\u001b[1;34m(self, *args, **kwds)\u001b[0m\n\u001b[0;32m    260\u001b[0m \u001b[39mdef\u001b[39;00m \u001b[39m__call__\u001b[39m(\u001b[39mself\u001b[39m, \u001b[39m*\u001b[39margs, \u001b[39m*\u001b[39m\u001b[39m*\u001b[39mkwds) \u001b[39m-\u001b[39m\u001b[39m>\u001b[39m T:\n\u001b[1;32m--> 261\u001b[0m     \u001b[39mreturn\u001b[39;00m \u001b[39mself\u001b[39;49m\u001b[39m.\u001b[39;49m\u001b[39m__func__\u001b[39;49m(\u001b[39m*\u001b[39;49margs, \u001b[39m*\u001b[39;49m\u001b[39m*\u001b[39;49mkwds)\n",
      "File \u001b[1;32mc:\\Users\\starl\\AppData\\Local\\Programs\\Python\\Python311\\Lib\\site-packages\\pandas\\_config\\config.py:135\u001b[0m, in \u001b[0;36m_get_option\u001b[1;34m(pat, silent)\u001b[0m\n\u001b[0;32m    134\u001b[0m \u001b[39mdef\u001b[39;00m \u001b[39m_get_option\u001b[39m(pat: \u001b[39mstr\u001b[39m, silent: \u001b[39mbool\u001b[39m \u001b[39m=\u001b[39m \u001b[39mFalse\u001b[39;00m) \u001b[39m-\u001b[39m\u001b[39m>\u001b[39m Any:\n\u001b[1;32m--> 135\u001b[0m     key \u001b[39m=\u001b[39m _get_single_key(pat, silent)\n\u001b[0;32m    137\u001b[0m     \u001b[39m# walk the nested dict\u001b[39;00m\n",
      "File \u001b[1;32mc:\\Users\\starl\\AppData\\Local\\Programs\\Python\\Python311\\Lib\\site-packages\\pandas\\_config\\config.py:121\u001b[0m, in \u001b[0;36m_get_single_key\u001b[1;34m(pat, silent)\u001b[0m\n\u001b[0;32m    120\u001b[0m         _warn_if_deprecated(pat)\n\u001b[1;32m--> 121\u001b[0m     \u001b[39mraise\u001b[39;00m OptionError(\u001b[39mf\u001b[39m\u001b[39m\"\u001b[39m\u001b[39mNo such keys(s): \u001b[39m\u001b[39m{\u001b[39;00m\u001b[39mrepr\u001b[39m(pat)\u001b[39m}\u001b[39;00m\u001b[39m\"\u001b[39m)\n\u001b[0;32m    122\u001b[0m \u001b[39mif\u001b[39;00m \u001b[39mlen\u001b[39m(keys) \u001b[39m>\u001b[39m \u001b[39m1\u001b[39m:\n",
      "\u001b[1;31mOptionError\u001b[0m: No such keys(s): 'io.excel.xls.writer'",
      "\nThe above exception was the direct cause of the following exception:\n",
      "\u001b[1;31mValueError\u001b[0m                                Traceback (most recent call last)",
      "\u001b[1;32mc:\\Users\\starl\\python_study\\Chapter3\\Chapter3_Day3_3.ipynb Cell 32\u001b[0m line \u001b[0;36m1\n\u001b[0;32m      <a href='vscode-notebook-cell:/c%3A/Users/starl/python_study/Chapter3/Chapter3_Day3_3.ipynb#X42sZmlsZQ%3D%3D?line=8'>9</a>\u001b[0m \u001b[39mprint\u001b[39m(\u001b[39mtype\u001b[39m(df_names))\n\u001b[0;32m     <a href='vscode-notebook-cell:/c%3A/Users/starl/python_study/Chapter3/Chapter3_Day3_3.ipynb#X42sZmlsZQ%3D%3D?line=9'>10</a>\u001b[0m \u001b[39m# 시리즈 데이터프레임으로 변환\u001b[39;00m\n\u001b[1;32m---> <a href='vscode-notebook-cell:/c%3A/Users/starl/python_study/Chapter3/Chapter3_Day3_3.ipynb#X42sZmlsZQ%3D%3D?line=10'>11</a>\u001b[0m df_names\u001b[39m.\u001b[39;49mto_excel(\u001b[39m'\u001b[39;49m\u001b[39m./excel_save/dataframe.xls\u001b[39;49m\u001b[39m'\u001b[39;49m)\n\u001b[0;32m     <a href='vscode-notebook-cell:/c%3A/Users/starl/python_study/Chapter3/Chapter3_Day3_3.ipynb#X42sZmlsZQ%3D%3D?line=11'>12</a>\u001b[0m df_names\u001b[39m.\u001b[39mto_excel(\u001b[39m'\u001b[39m\u001b[39m./excel_save/dataframe.xlsx\u001b[39m\u001b[39m'\u001b[39m)\n",
      "File \u001b[1;32mc:\\Users\\starl\\AppData\\Local\\Programs\\Python\\Python311\\Lib\\site-packages\\pandas\\core\\generic.py:2252\u001b[0m, in \u001b[0;36mNDFrame.to_excel\u001b[1;34m(self, excel_writer, sheet_name, na_rep, float_format, columns, header, index, index_label, startrow, startcol, engine, merge_cells, inf_rep, freeze_panes, storage_options)\u001b[0m\n\u001b[0;32m   2239\u001b[0m \u001b[39mfrom\u001b[39;00m \u001b[39mpandas\u001b[39;00m\u001b[39m.\u001b[39;00m\u001b[39mio\u001b[39;00m\u001b[39m.\u001b[39;00m\u001b[39mformats\u001b[39;00m\u001b[39m.\u001b[39;00m\u001b[39mexcel\u001b[39;00m \u001b[39mimport\u001b[39;00m ExcelFormatter\n\u001b[0;32m   2241\u001b[0m formatter \u001b[39m=\u001b[39m ExcelFormatter(\n\u001b[0;32m   2242\u001b[0m     df,\n\u001b[0;32m   2243\u001b[0m     na_rep\u001b[39m=\u001b[39mna_rep,\n\u001b[1;32m   (...)\u001b[0m\n\u001b[0;32m   2250\u001b[0m     inf_rep\u001b[39m=\u001b[39minf_rep,\n\u001b[0;32m   2251\u001b[0m )\n\u001b[1;32m-> 2252\u001b[0m formatter\u001b[39m.\u001b[39;49mwrite(\n\u001b[0;32m   2253\u001b[0m     excel_writer,\n\u001b[0;32m   2254\u001b[0m     sheet_name\u001b[39m=\u001b[39;49msheet_name,\n\u001b[0;32m   2255\u001b[0m     startrow\u001b[39m=\u001b[39;49mstartrow,\n\u001b[0;32m   2256\u001b[0m     startcol\u001b[39m=\u001b[39;49mstartcol,\n\u001b[0;32m   2257\u001b[0m     freeze_panes\u001b[39m=\u001b[39;49mfreeze_panes,\n\u001b[0;32m   2258\u001b[0m     engine\u001b[39m=\u001b[39;49mengine,\n\u001b[0;32m   2259\u001b[0m     storage_options\u001b[39m=\u001b[39;49mstorage_options,\n\u001b[0;32m   2260\u001b[0m )\n",
      "File \u001b[1;32mc:\\Users\\starl\\AppData\\Local\\Programs\\Python\\Python311\\Lib\\site-packages\\pandas\\io\\formats\\excel.py:934\u001b[0m, in \u001b[0;36mExcelFormatter.write\u001b[1;34m(self, writer, sheet_name, startrow, startcol, freeze_panes, engine, storage_options)\u001b[0m\n\u001b[0;32m    930\u001b[0m     need_save \u001b[39m=\u001b[39m \u001b[39mFalse\u001b[39;00m\n\u001b[0;32m    931\u001b[0m \u001b[39melse\u001b[39;00m:\n\u001b[0;32m    932\u001b[0m     \u001b[39m# error: Cannot instantiate abstract class 'ExcelWriter' with abstract\u001b[39;00m\n\u001b[0;32m    933\u001b[0m     \u001b[39m# attributes 'engine', 'save', 'supported_extensions' and 'write_cells'\u001b[39;00m\n\u001b[1;32m--> 934\u001b[0m     writer \u001b[39m=\u001b[39m ExcelWriter(  \u001b[39m# type: ignore[abstract]\u001b[39;49;00m\n\u001b[0;32m    935\u001b[0m         writer, engine\u001b[39m=\u001b[39;49mengine, storage_options\u001b[39m=\u001b[39;49mstorage_options\n\u001b[0;32m    936\u001b[0m     )\n\u001b[0;32m    937\u001b[0m     need_save \u001b[39m=\u001b[39m \u001b[39mTrue\u001b[39;00m\n\u001b[0;32m    939\u001b[0m \u001b[39mtry\u001b[39;00m:\n",
      "File \u001b[1;32mc:\\Users\\starl\\AppData\\Local\\Programs\\Python\\Python311\\Lib\\site-packages\\pandas\\io\\excel\\_base.py:1115\u001b[0m, in \u001b[0;36mExcelWriter.__new__\u001b[1;34m(cls, path, engine, date_format, datetime_format, mode, storage_options, if_sheet_exists, engine_kwargs)\u001b[0m\n\u001b[0;32m   1113\u001b[0m             engine \u001b[39m=\u001b[39m get_default_engine(ext, mode\u001b[39m=\u001b[39m\u001b[39m\"\u001b[39m\u001b[39mwriter\u001b[39m\u001b[39m\"\u001b[39m)\n\u001b[0;32m   1114\u001b[0m     \u001b[39mexcept\u001b[39;00m \u001b[39mKeyError\u001b[39;00m \u001b[39mas\u001b[39;00m err:\n\u001b[1;32m-> 1115\u001b[0m         \u001b[39mraise\u001b[39;00m \u001b[39mValueError\u001b[39;00m(\u001b[39mf\u001b[39m\u001b[39m\"\u001b[39m\u001b[39mNo engine for filetype: \u001b[39m\u001b[39m'\u001b[39m\u001b[39m{\u001b[39;00mext\u001b[39m}\u001b[39;00m\u001b[39m'\u001b[39m\u001b[39m\"\u001b[39m) \u001b[39mfrom\u001b[39;00m \u001b[39merr\u001b[39;00m\n\u001b[0;32m   1117\u001b[0m \u001b[39m# for mypy\u001b[39;00m\n\u001b[0;32m   1118\u001b[0m \u001b[39massert\u001b[39;00m engine \u001b[39mis\u001b[39;00m \u001b[39mnot\u001b[39;00m \u001b[39mNone\u001b[39;00m\n",
      "\u001b[1;31mValueError\u001b[0m: No engine for filetype: 'xls'"
     ]
    }
   ],
   "source": [
    "# 엑셀로 데이터 저장하기\n",
    "import xlwt\n",
    "import openpyxl\n",
    "\n",
    "names = df['Name']\n",
    "# 네임 시리즈 추출하기\n",
    "print(type(names))\n",
    "df_names = names.to_frame()\n",
    "print(type(df_names))\n",
    "# 시리즈 데이터프레임으로 변환\n",
    "df_names.to_excel('./excel_save/dataframe.xls')\n",
    "df_names.to_excel('./excel_save/dataframe.xlsx')"
   ]
  }
 ],
 "metadata": {
  "kernelspec": {
   "display_name": "Python 3",
   "language": "python",
   "name": "python3"
  },
  "language_info": {
   "codemirror_mode": {
    "name": "ipython",
    "version": 3
   },
   "file_extension": ".py",
   "mimetype": "text/x-python",
   "name": "python",
   "nbconvert_exporter": "python",
   "pygments_lexer": "ipython3",
   "version": "3.11.4"
  },
  "orig_nbformat": 4
 },
 "nbformat": 4,
 "nbformat_minor": 2
}
