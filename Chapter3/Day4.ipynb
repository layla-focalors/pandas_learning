{
 "cells": [
  {
   "cell_type": "code",
   "execution_count": null,
   "id": "0e7c87d2",
   "metadata": {},
   "outputs": [],
   "source": [
    "# 정수와 오브젝트형이 있을 떄, 무조건 오브젝트형이 우선으로 노출됨\n",
    "# 하나라도 문자열일 경우 전부 문자열로 인식\n"
   ]
  }
 ],
 "metadata": {
  "kernelspec": {
   "display_name": "Python 3 (ipykernel)",
   "language": "python",
   "name": "python3"
  },
  "language_info": {
   "codemirror_mode": {
    "name": "ipython",
    "version": 3
   },
   "file_extension": ".py",
   "mimetype": "text/x-python",
   "name": "python",
   "nbconvert_exporter": "python",
   "pygments_lexer": "ipython3",
   "version": "3.11.4"
  }
 },
 "nbformat": 4,
 "nbformat_minor": 5
}
