{
 "cells": [
  {
   "cell_type": "code",
   "execution_count": 1,
   "id": "2fa4211d",
   "metadata": {},
   "outputs": [
    {
     "data": {
      "text/plain": [
       "'I remember 0.000103 or 0.010% of, the days'"
      ]
     },
     "execution_count": 1,
     "metadata": {},
     "output_type": "execute_result"
    }
   ],
   "source": [
    "'I remember {0:.3} or {0:.3%} of, the days'.format(7/67890)"
   ]
  },
  {
   "cell_type": "code",
   "execution_count": 6,
   "id": "a5a46c81",
   "metadata": {},
   "outputs": [
    {
     "data": {
      "text/plain": [
       "'My userID is 000012'"
      ]
     },
     "execution_count": 6,
     "metadata": {},
     "output_type": "execute_result"
    }
   ],
   "source": [
    "\"My userID is {0:06d}\".format(12)"
   ]
  },
  {
   "cell_type": "code",
   "execution_count": 8,
   "id": "d9924aa1",
   "metadata": {},
   "outputs": [
    {
     "data": {
      "text/plain": [
       "'My love number is 7'"
      ]
     },
     "execution_count": 8,
     "metadata": {},
     "output_type": "execute_result"
    }
   ],
   "source": [
    "\"My love number is %d\" % 7"
   ]
  },
  {
   "cell_type": "code",
   "execution_count": 9,
   "id": "862447a4",
   "metadata": {},
   "outputs": [
    {
     "data": {
      "text/plain": [
       "'layla is very cute, but her sleep time is 1.16'"
      ]
     },
     "execution_count": 9,
     "metadata": {},
     "output_type": "execute_result"
    }
   ],
   "source": [
    "'%(name)s is very cute, but her sleep time is %(time).2f' % {'name' : \"layla\", \"time\" : 1.1631212}"
   ]
  },
  {
   "cell_type": "code",
   "execution_count": 10,
   "id": "52d002ab",
   "metadata": {},
   "outputs": [
    {
     "data": {
      "text/plain": [
       "'layla! happy birth day! today is 12 / 19!'"
      ]
     },
     "execution_count": 10,
     "metadata": {},
     "output_type": "execute_result"
    }
   ],
   "source": [
    "name = 'layla'\n",
    "month = 12\n",
    "day = 19\n",
    "f'{name}! happy birth day! today is {month} / {day}!'"
   ]
  },
  {
   "cell_type": "code",
   "execution_count": 11,
   "id": "49a7a832",
   "metadata": {},
   "outputs": [],
   "source": [
    "import re"
   ]
  },
  {
   "cell_type": "code",
   "execution_count": 13,
   "id": "15201227",
   "metadata": {},
   "outputs": [
    {
     "data": {
      "text/plain": [
       "<re.Match object; span=(0, 10), match='1234567890'>"
      ]
     },
     "execution_count": 13,
     "metadata": {},
     "output_type": "execute_result"
    }
   ],
   "source": [
    "text = '1234567890'\n",
    "ax = re.match(pattern='\\d{10}' , string=text)\n",
    "ax"
   ]
  },
  {
   "cell_type": "code",
   "execution_count": 14,
   "id": "67b2d70a",
   "metadata": {},
   "outputs": [
    {
     "name": "stdout",
     "output_type": "stream",
     "text": [
      "match\n"
     ]
    }
   ],
   "source": [
    "if(bool(ax)):\n",
    "    print(\"match\")\n",
    "else:\n",
    "    print(\"unmatch\")"
   ]
  },
  {
   "cell_type": "code",
   "execution_count": 15,
   "id": "a6f5adef",
   "metadata": {},
   "outputs": [
    {
     "name": "stdout",
     "output_type": "stream",
     "text": [
      "0\n",
      "10\n",
      "(0, 10)\n",
      "1234567890\n"
     ]
    }
   ],
   "source": [
    "print(ax.start())\n",
    "print(ax.end())\n",
    "print(ax.span())\n",
    "print(ax.group())"
   ]
  },
  {
   "cell_type": "code",
   "execution_count": 20,
   "id": "148811b8",
   "metadata": {},
   "outputs": [],
   "source": [
    "string_a = '123 4567 8901'\n",
    "string_b = '(123) 456 7890'\n",
    "string_c = '+1 (123) 456-7890'"
   ]
  },
  {
   "cell_type": "code",
   "execution_count": 17,
   "id": "2b832473",
   "metadata": {},
   "outputs": [
    {
     "data": {
      "text/plain": [
       "<re.Match object; span=(0, 13), match='123 4567 8901'>"
      ]
     },
     "execution_count": 17,
     "metadata": {},
     "output_type": "execute_result"
    }
   ],
   "source": [
    "re.match(pattern='\\d{3}\\s\\d{4}\\s\\d{4}', string=string_a)"
   ]
  },
  {
   "cell_type": "code",
   "execution_count": 18,
   "id": "1b31ea89",
   "metadata": {},
   "outputs": [
    {
     "data": {
      "text/plain": [
       "<re.Match object; span=(0, 14), match='(123) 456 7890'>"
      ]
     },
     "execution_count": 18,
     "metadata": {},
     "output_type": "execute_result"
    }
   ],
   "source": [
    "re.match(pattern='\\(\\d{3}\\)\\s\\d{3}\\s\\d{4}', string=string_b)"
   ]
  },
  {
   "cell_type": "code",
   "execution_count": 21,
   "id": "91d2652f",
   "metadata": {},
   "outputs": [
    {
     "data": {
      "text/plain": [
       "<re.Match object; span=(0, 17), match='+1 (123) 456-7890'>"
      ]
     },
     "execution_count": 21,
     "metadata": {},
     "output_type": "execute_result"
    }
   ],
   "source": [
    "re.match(pattern='\\+\\d\\s\\(\\d{3}\\)\\s\\d{3}\\-\\d{4}', string=string_c)"
   ]
  },
  {
   "cell_type": "code",
   "execution_count": null,
   "id": "27aa5788",
   "metadata": {},
   "outputs": [],
   "source": []
  }
 ],
 "metadata": {
  "kernelspec": {
   "display_name": "Python 3 (ipykernel)",
   "language": "python",
   "name": "python3"
  },
  "language_info": {
   "codemirror_mode": {
    "name": "ipython",
    "version": 3
   },
   "file_extension": ".py",
   "mimetype": "text/x-python",
   "name": "python",
   "nbconvert_exporter": "python",
   "pygments_lexer": "ipython3",
   "version": "3.11.4"
  }
 },
 "nbformat": 4,
 "nbformat_minor": 5
}
