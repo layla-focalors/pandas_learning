{
 "cells": [
  {
   "cell_type": "code",
   "execution_count": 6,
   "metadata": {},
   "outputs": [],
   "source": [
    "import pandas as pd\n",
    "df = pd.read_csv('./data/telephone.csv')"
   ]
  },
  {
   "cell_type": "code",
   "execution_count": 8,
   "metadata": {},
   "outputs": [
    {
     "data": {
      "text/plain": [
       "['010-6256-3768',\n",
       " '010.4356.3456',\n",
       " '+82  (031) 539 1280',\n",
       " '02-1111-2222',\n",
       " '010 7657 3022',\n",
       " '+82  (02) 456-4444',\n",
       " '02 756 4566',\n",
       " '064 245 2345']"
      ]
     },
     "execution_count": 8,
     "metadata": {},
     "output_type": "execute_result"
    }
   ],
   "source": [
    "loa = list(df.telephone)\n",
    "loa"
   ]
  },
  {
   "cell_type": "code",
   "execution_count": null,
   "metadata": {},
   "outputs": [],
   "source": [
    "#### \\b : 단어 경계\n",
    "#### (?:\\+\\d{1,3}[-.\\s]?)? : 국제코드 \n",
    "#### \\(?\\d{1,4}\\)? : 괄호안에 있는 지역코드 \n",
    "#### [-.\\s]? : 마침표, 공백, - 등\n",
    "#### \\d{1,4}[-.\\s]? : 1-4자리 숫자 뒤에\" . - , 공백\"  \n",
    "#### \\d{1,4}[-.\\s]?\\d{4} : 마지막 4자리 숫자 "
   ]
  },
  {
   "cell_type": "code",
   "execution_count": 10,
   "metadata": {},
   "outputs": [],
   "source": [
    "import re"
   ]
  },
  {
   "cell_type": "code",
   "execution_count": 12,
   "metadata": {},
   "outputs": [
    {
     "data": {
      "text/plain": [
       "\"['010-6256-3768', '010.4356.3456', '+82  (031) 539 1280', '02-1111-2222', '010 7657 3022', '+82  (02) 456-4444', '02 756 4566', '064 245 2345']\""
      ]
     },
     "execution_count": 12,
     "metadata": {},
     "output_type": "execute_result"
    }
   ],
   "source": [
    "str(loa)"
   ]
  },
  {
   "cell_type": "code",
   "execution_count": 24,
   "metadata": {},
   "outputs": [
    {
     "data": {
      "text/plain": [
       "['010-6256-3768',\n",
       " '010.4356.3456',\n",
       " '031) 539 1280',\n",
       " '02-1111-2222',\n",
       " '010 7657 3022',\n",
       " '02) 456-4444',\n",
       " '02 756 4566',\n",
       " '064 245 2345']"
      ]
     },
     "execution_count": 24,
     "metadata": {},
     "output_type": "execute_result"
    }
   ],
   "source": [
    "def detector(loa):\n",
    "    pattern = r'\\b(?:\\+\\d{1,3}[-.\\s]?)?\\(?\\d{1,4}\\)?[-.\\s]?\\d{1,4}[-.\\s]?\\d{1,4}[-.\\s]?\\d{4}\\b'\n",
    "    return re.findall(pattern, str(loa))\n",
    "detector(loa)"
   ]
  },
  {
   "cell_type": "code",
   "execution_count": 32,
   "metadata": {},
   "outputs": [],
   "source": [
    "out = detector(loa)"
   ]
  },
  {
   "cell_type": "code",
   "execution_count": 36,
   "metadata": {},
   "outputs": [
    {
     "data": {
      "text/plain": [
       "['010-6256-3768',\n",
       " '010.4356.3456',\n",
       " '031) 539 1280',\n",
       " '02-1111-2222',\n",
       " '010 7657 3022',\n",
       " '02) 456-4444',\n",
       " '02 756 4566',\n",
       " '064 245 2345']"
      ]
     },
     "execution_count": 36,
     "metadata": {},
     "output_type": "execute_result"
    }
   ],
   "source": [
    "out"
   ]
  },
  {
   "cell_type": "code",
   "execution_count": 44,
   "metadata": {},
   "outputs": [
    {
     "data": {
      "text/plain": [
       "['010-6256-3768',\n",
       " '010-4356-3456',\n",
       " '031-539-1280',\n",
       " '02-1111-2222',\n",
       " '010-7657-3022',\n",
       " '02-456-4444',\n",
       " '02-756-4566',\n",
       " '064-245-2345']"
      ]
     },
     "execution_count": 44,
     "metadata": {},
     "output_type": "execute_result"
    }
   ],
   "source": [
    "def layla(loa):\n",
    "    pattern = r'\\b(?:\\+\\d{1,3}[-.\\s]?)?\\(?\\d{1,4}\\)?[-.\\s]?\\d{1,4}[-.\\s]?\\d{1,4}[-.\\s]?\\d{4}\\b'\n",
    "    temp = re.findall(pattern, str(loa))\n",
    "    temp_list = []\n",
    "    for i in temp:\n",
    "        i = i.replace(\".\", '-')\n",
    "        i = i.replace(' ', '-')\n",
    "        i = i.replace(')', '')\n",
    "        temp_list.append(i)\n",
    "    return temp_list\n",
    "layla(loa)"
   ]
  },
  {
   "cell_type": "code",
   "execution_count": 47,
   "metadata": {},
   "outputs": [
    {
     "data": {
      "text/plain": [
       "['+82 010-6256-3768',\n",
       " '+82 010-4356-3456',\n",
       " '+82 031-539-1280',\n",
       " '+82 02-1111-2222',\n",
       " '+82 010-7657-3022',\n",
       " '+82 02-456-4444',\n",
       " '+82 02-756-4566',\n",
       " '+82 064-245-2345']"
      ]
     },
     "execution_count": 47,
     "metadata": {},
     "output_type": "execute_result"
    }
   ],
   "source": [
    "def globals(loa):\n",
    "    pattern = r'\\b(?:\\+\\d{1,3}[-.\\s]?)?\\(?\\d{1,4}\\)?[-.\\s]?\\d{1,4}[-.\\s]?\\d{1,4}[-.\\s]?\\d{4}\\b'\n",
    "    temp = re.findall(pattern, str(loa))\n",
    "    temp_list = []\n",
    "    for i in temp:\n",
    "        i = i.replace(\".\", '-')\n",
    "        i = i.replace(' ', '-')\n",
    "        i = i.replace(')', '')\n",
    "        temp_list.append('+82 ' + i)\n",
    "    return temp_list\n",
    "globals(loa)"
   ]
  }
 ],
 "metadata": {
  "kernelspec": {
   "display_name": "Python 3 (ipykernel)",
   "language": "python",
   "name": "python3"
  },
  "language_info": {
   "codemirror_mode": {
    "name": "ipython",
    "version": 3
   },
   "file_extension": ".py",
   "mimetype": "text/x-python",
   "name": "python",
   "nbconvert_exporter": "python",
   "pygments_lexer": "ipython3",
   "version": "3.11.4"
  }
 },
 "nbformat": 4,
 "nbformat_minor": 2
}
