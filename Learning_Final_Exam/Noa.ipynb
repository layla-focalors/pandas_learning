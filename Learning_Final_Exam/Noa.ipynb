{
 "cells": [
  {
   "cell_type": "code",
   "execution_count": 2,
   "id": "7ef0ec46",
   "metadata": {},
   "outputs": [
    {
     "name": "stdout",
     "output_type": "stream",
     "text": [
      "L\n",
      "L\n"
     ]
    }
   ],
   "source": [
    "word = 'Layla'\n",
    "sent = 'Layla is cute'\n",
    "print(word[0])\n",
    "print(sent[0])"
   ]
  },
  {
   "cell_type": "code",
   "execution_count": 3,
   "id": "4222fb78",
   "metadata": {},
   "outputs": [
    {
     "data": {
      "text/plain": [
       "'Layla'"
      ]
     },
     "execution_count": 3,
     "metadata": {},
     "output_type": "execute_result"
    }
   ],
   "source": [
    "sent[0:5]"
   ]
  },
  {
   "cell_type": "code",
   "execution_count": 6,
   "id": "9038655b",
   "metadata": {},
   "outputs": [
    {
     "data": {
      "text/plain": [
       "'the layla is cute beacause she was cute'"
      ]
     },
     "execution_count": 6,
     "metadata": {},
     "output_type": "execute_result"
    }
   ],
   "source": [
    "text = 'the layla is cute beacause she was cute'\n",
    "text[:]"
   ]
  },
  {
   "cell_type": "code",
   "execution_count": 7,
   "id": "5f99ac96",
   "metadata": {},
   "outputs": [
    {
     "data": {
      "text/plain": [
       "'the layla is cute beacause she was cute'"
      ]
     },
     "execution_count": 7,
     "metadata": {},
     "output_type": "execute_result"
    }
   ],
   "source": [
    "text[0:]"
   ]
  },
  {
   "cell_type": "code",
   "execution_count": 8,
   "id": "391c9cd3",
   "metadata": {},
   "outputs": [
    {
     "data": {
      "text/plain": [
       "'the layla is cute beacause she was cute'"
      ]
     },
     "execution_count": 8,
     "metadata": {},
     "output_type": "execute_result"
    }
   ],
   "source": [
    "text"
   ]
  },
  {
   "cell_type": "code",
   "execution_count": 9,
   "id": "5cb29059",
   "metadata": {},
   "outputs": [
    {
     "data": {
      "text/plain": [
       "'the layla is cute beacause she was cute'"
      ]
     },
     "execution_count": 9,
     "metadata": {},
     "output_type": "execute_result"
    }
   ],
   "source": [
    "text[0:len(text)]"
   ]
  },
  {
   "cell_type": "code",
   "execution_count": 10,
   "id": "5c43be3c",
   "metadata": {},
   "outputs": [
    {
     "data": {
      "text/plain": [
       "'as c'"
      ]
     },
     "execution_count": 10,
     "metadata": {},
     "output_type": "execute_result"
    }
   ],
   "source": [
    "text[-7:-3]"
   ]
  },
  {
   "cell_type": "code",
   "execution_count": 17,
   "id": "5b40a49b",
   "metadata": {},
   "outputs": [
    {
     "data": {
      "text/plain": [
       "'cut'"
      ]
     },
     "execution_count": 17,
     "metadata": {},
     "output_type": "execute_result"
    }
   ],
   "source": [
    "text[-4:-1]"
   ]
  },
  {
   "cell_type": "code",
   "execution_count": 18,
   "id": "85c56487",
   "metadata": {},
   "outputs": [
    {
     "data": {
      "text/plain": [
       "'ute'"
      ]
     },
     "execution_count": 18,
     "metadata": {},
     "output_type": "execute_result"
    }
   ],
   "source": [
    "text[-3:]"
   ]
  },
  {
   "cell_type": "code",
   "execution_count": 19,
   "id": "2c097201",
   "metadata": {},
   "outputs": [
    {
     "data": {
      "text/plain": [
       "'the layla is cute beacause she was c'"
      ]
     },
     "execution_count": 19,
     "metadata": {},
     "output_type": "execute_result"
    }
   ],
   "source": [
    "text[:-3]"
   ]
  },
  {
   "cell_type": "code",
   "execution_count": 22,
   "id": "850ba128",
   "metadata": {},
   "outputs": [
    {
     "data": {
      "text/plain": [
       "'cut'"
      ]
     },
     "execution_count": 22,
     "metadata": {},
     "output_type": "execute_result"
    }
   ],
   "source": [
    "text[-4:-1]"
   ]
  },
  {
   "cell_type": "code",
   "execution_count": 23,
   "id": "4c6bbe54",
   "metadata": {},
   "outputs": [
    {
     "data": {
      "text/plain": [
       "'ute'"
      ]
     },
     "execution_count": 23,
     "metadata": {},
     "output_type": "execute_result"
    }
   ],
   "source": [
    "text[-3:]"
   ]
  },
  {
   "cell_type": "code",
   "execution_count": 24,
   "id": "3b45ebce",
   "metadata": {},
   "outputs": [
    {
     "data": {
      "text/plain": [
       "'Layla'"
      ]
     },
     "execution_count": 24,
     "metadata": {},
     "output_type": "execute_result"
    }
   ],
   "source": [
    "word"
   ]
  },
  {
   "cell_type": "code",
   "execution_count": 25,
   "id": "946c15d6",
   "metadata": {},
   "outputs": [
    {
     "data": {
      "text/plain": [
       "'Lay'"
      ]
     },
     "execution_count": 25,
     "metadata": {},
     "output_type": "execute_result"
    }
   ],
   "source": [
    "word[0:3]"
   ]
  },
  {
   "cell_type": "code",
   "execution_count": 27,
   "id": "f149ee8a",
   "metadata": {},
   "outputs": [
    {
     "data": {
      "text/plain": [
       "'Lay'"
      ]
     },
     "execution_count": 27,
     "metadata": {},
     "output_type": "execute_result"
    }
   ],
   "source": [
    "word[:3]"
   ]
  },
  {
   "cell_type": "code",
   "execution_count": 28,
   "id": "b7211589",
   "metadata": {},
   "outputs": [
    {
     "data": {
      "text/plain": [
       "'a is cute'"
      ]
     },
     "execution_count": 28,
     "metadata": {},
     "output_type": "execute_result"
    }
   ],
   "source": [
    "sent[4:]"
   ]
  },
  {
   "cell_type": "code",
   "execution_count": 29,
   "id": "b0f35170",
   "metadata": {},
   "outputs": [
    {
     "data": {
      "text/plain": [
       "'Layla is cute'"
      ]
     },
     "execution_count": 29,
     "metadata": {},
     "output_type": "execute_result"
    }
   ],
   "source": [
    "sent[:]"
   ]
  },
  {
   "cell_type": "code",
   "execution_count": 31,
   "id": "7dd87c28",
   "metadata": {},
   "outputs": [
    {
     "data": {
      "text/plain": [
       "'Lyai ue'"
      ]
     },
     "execution_count": 31,
     "metadata": {},
     "output_type": "execute_result"
    }
   ],
   "source": [
    "sent[::2]"
   ]
  },
  {
   "cell_type": "code",
   "execution_count": null,
   "id": "637cb789",
   "metadata": {},
   "outputs": [],
   "source": []
  }
 ],
 "metadata": {
  "kernelspec": {
   "display_name": "Python 3 (ipykernel)",
   "language": "python",
   "name": "python3"
  },
  "language_info": {
   "codemirror_mode": {
    "name": "ipython",
    "version": 3
   },
   "file_extension": ".py",
   "mimetype": "text/x-python",
   "name": "python",
   "nbconvert_exporter": "python",
   "pygments_lexer": "ipython3",
   "version": "3.11.4"
  }
 },
 "nbformat": 4,
 "nbformat_minor": 5
}
