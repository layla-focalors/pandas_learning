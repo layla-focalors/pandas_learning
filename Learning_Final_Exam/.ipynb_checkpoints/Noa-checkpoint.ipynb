{
 "cells": [
  {
   "cell_type": "code",
   "execution_count": 2,
   "id": "7ef0ec46",
   "metadata": {},
   "outputs": [
    {
     "name": "stdout",
     "output_type": "stream",
     "text": [
      "L\n",
      "L\n"
     ]
    }
   ],
   "source": [
    "word = 'Layla'\n",
    "sent = 'Layla is cute'\n",
    "print(word[0])\n",
    "print(sent[0])"
   ]
  },
  {
   "cell_type": "code",
   "execution_count": 3,
   "id": "4222fb78",
   "metadata": {},
   "outputs": [
    {
     "data": {
      "text/plain": [
       "'Layla'"
      ]
     },
     "execution_count": 3,
     "metadata": {},
     "output_type": "execute_result"
    }
   ],
   "source": [
    "sent[0:5]"
   ]
  },
  {
   "cell_type": "code",
   "execution_count": 6,
   "id": "9038655b",
   "metadata": {},
   "outputs": [
    {
     "data": {
      "text/plain": [
       "'the layla is cute beacause she was cute'"
      ]
     },
     "execution_count": 6,
     "metadata": {},
     "output_type": "execute_result"
    }
   ],
   "source": [
    "text = 'the layla is cute beacause she was cute'\n",
    "text[:]"
   ]
  },
  {
   "cell_type": "code",
   "execution_count": 7,
   "id": "5f99ac96",
   "metadata": {},
   "outputs": [
    {
     "data": {
      "text/plain": [
       "'the layla is cute beacause she was cute'"
      ]
     },
     "execution_count": 7,
     "metadata": {},
     "output_type": "execute_result"
    }
   ],
   "source": [
    "text[0:]"
   ]
  },
  {
   "cell_type": "code",
   "execution_count": 8,
   "id": "391c9cd3",
   "metadata": {},
   "outputs": [
    {
     "data": {
      "text/plain": [
       "'the layla is cute beacause she was cute'"
      ]
     },
     "execution_count": 8,
     "metadata": {},
     "output_type": "execute_result"
    }
   ],
   "source": [
    "text"
   ]
  },
  {
   "cell_type": "code",
   "execution_count": 9,
   "id": "5cb29059",
   "metadata": {},
   "outputs": [
    {
     "data": {
      "text/plain": [
       "'the layla is cute beacause she was cute'"
      ]
     },
     "execution_count": 9,
     "metadata": {},
     "output_type": "execute_result"
    }
   ],
   "source": [
    "text[0:len(text)]"
   ]
  },
  {
   "cell_type": "code",
   "execution_count": 10,
   "id": "5c43be3c",
   "metadata": {},
   "outputs": [
    {
     "data": {
      "text/plain": [
       "'as c'"
      ]
     },
     "execution_count": 10,
     "metadata": {},
     "output_type": "execute_result"
    }
   ],
   "source": [
    "text[-7:-3]"
   ]
  },
  {
   "cell_type": "code",
   "execution_count": 17,
   "id": "5b40a49b",
   "metadata": {},
   "outputs": [
    {
     "data": {
      "text/plain": [
       "'cut'"
      ]
     },
     "execution_count": 17,
     "metadata": {},
     "output_type": "execute_result"
    }
   ],
   "source": [
    "text[-4:-1]"
   ]
  },
  {
   "cell_type": "code",
   "execution_count": 18,
   "id": "85c56487",
   "metadata": {},
   "outputs": [
    {
     "data": {
      "text/plain": [
       "'ute'"
      ]
     },
     "execution_count": 18,
     "metadata": {},
     "output_type": "execute_result"
    }
   ],
   "source": [
    "text[-3:]"
   ]
  },
  {
   "cell_type": "code",
   "execution_count": 19,
   "id": "2c097201",
   "metadata": {},
   "outputs": [
    {
     "data": {
      "text/plain": [
       "'the layla is cute beacause she was c'"
      ]
     },
     "execution_count": 19,
     "metadata": {},
     "output_type": "execute_result"
    }
   ],
   "source": [
    "text[:-3]"
   ]
  },
  {
   "cell_type": "code",
   "execution_count": 22,
   "id": "850ba128",
   "metadata": {},
   "outputs": [
    {
     "data": {
      "text/plain": [
       "'cut'"
      ]
     },
     "execution_count": 22,
     "metadata": {},
     "output_type": "execute_result"
    }
   ],
   "source": [
    "text[-4:-1]"
   ]
  },
  {
   "cell_type": "code",
   "execution_count": 23,
   "id": "4c6bbe54",
   "metadata": {},
   "outputs": [
    {
     "data": {
      "text/plain": [
       "'ute'"
      ]
     },
     "execution_count": 23,
     "metadata": {},
     "output_type": "execute_result"
    }
   ],
   "source": [
    "text[-3:]"
   ]
  },
  {
   "cell_type": "code",
   "execution_count": 24,
   "id": "3b45ebce",
   "metadata": {},
   "outputs": [
    {
     "data": {
      "text/plain": [
       "'Layla'"
      ]
     },
     "execution_count": 24,
     "metadata": {},
     "output_type": "execute_result"
    }
   ],
   "source": [
    "word"
   ]
  },
  {
   "cell_type": "code",
   "execution_count": 25,
   "id": "946c15d6",
   "metadata": {},
   "outputs": [
    {
     "data": {
      "text/plain": [
       "'Lay'"
      ]
     },
     "execution_count": 25,
     "metadata": {},
     "output_type": "execute_result"
    }
   ],
   "source": [
    "word[0:3]"
   ]
  },
  {
   "cell_type": "code",
   "execution_count": 27,
   "id": "f149ee8a",
   "metadata": {},
   "outputs": [
    {
     "data": {
      "text/plain": [
       "'Lay'"
      ]
     },
     "execution_count": 27,
     "metadata": {},
     "output_type": "execute_result"
    }
   ],
   "source": [
    "word[:3]"
   ]
  },
  {
   "cell_type": "code",
   "execution_count": 28,
   "id": "b7211589",
   "metadata": {},
   "outputs": [
    {
     "data": {
      "text/plain": [
       "'a is cute'"
      ]
     },
     "execution_count": 28,
     "metadata": {},
     "output_type": "execute_result"
    }
   ],
   "source": [
    "sent[4:]"
   ]
  },
  {
   "cell_type": "code",
   "execution_count": 29,
   "id": "b0f35170",
   "metadata": {},
   "outputs": [
    {
     "data": {
      "text/plain": [
       "'Layla is cute'"
      ]
     },
     "execution_count": 29,
     "metadata": {},
     "output_type": "execute_result"
    }
   ],
   "source": [
    "sent[:]"
   ]
  },
  {
   "cell_type": "code",
   "execution_count": 31,
   "id": "7dd87c28",
   "metadata": {},
   "outputs": [
    {
     "data": {
      "text/plain": [
       "'Lyai ue'"
      ]
     },
     "execution_count": 31,
     "metadata": {},
     "output_type": "execute_result"
    }
   ],
   "source": [
    "sent[::2]"
   ]
  },
  {
   "cell_type": "code",
   "execution_count": 33,
   "id": "637cb789",
   "metadata": {},
   "outputs": [
    {
     "data": {
      "text/plain": [
       "'Name : layla StudentID : 20230000 Hobby : Study Comment : Cute'"
      ]
     },
     "execution_count": 33,
     "metadata": {},
     "output_type": "execute_result"
    }
   ],
   "source": [
    "a = 'Name : layla'\n",
    "b = 'StudentID : 20230000'\n",
    "c = 'Hobby : Study'\n",
    "d = 'Comment : Cute'\n",
    "\" \".join([a, b, c, d])"
   ]
  },
  {
   "cell_type": "code",
   "execution_count": 36,
   "id": "aad065eb",
   "metadata": {},
   "outputs": [
    {
     "name": "stdout",
     "output_type": "stream",
     "text": [
      "['Guard: What? Ridden en a horse?', \"Guard: You're using coconuts!\", \"Guard: You've Got ... coconuts[s] and you're banagin em together\"]\n"
     ]
    }
   ],
   "source": [
    "text = \"\"\"Guard: What? Ridden en a horse?\n",
    "Queen Raiden: Yes!\n",
    "Guard: You're using coconuts!\n",
    "Queen Raiden: What?\n",
    "Guard: You've Got ... coconuts[s] and you're banagin em together\n",
    "\"\"\"\n",
    "print(text.splitlines()[::2])"
   ]
  },
  {
   "cell_type": "code",
   "execution_count": 38,
   "id": "b5910a2f",
   "metadata": {},
   "outputs": [
    {
     "data": {
      "text/plain": [
       "'[\\'Yae Miko: What? Ridden en a horse?\\', \"Yae Miko: You\\'re using coconuts!\", \"Yae Miko: You\\'ve Got ... coconuts[s] and you\\'re banagin em together\"]'"
      ]
     },
     "execution_count": 38,
     "metadata": {},
     "output_type": "execute_result"
    }
   ],
   "source": [
    "str(text.splitlines()[::2]).replace('Guard', 'Yae Miko')"
   ]
  },
  {
   "cell_type": "code",
   "execution_count": 40,
   "id": "d3357e0f",
   "metadata": {},
   "outputs": [
    {
     "data": {
      "text/plain": [
       "'layla is cute!'"
      ]
     },
     "execution_count": 40,
     "metadata": {},
     "output_type": "execute_result"
    }
   ],
   "source": [
    "text = \"{} is cute!\".format(\"layla\")\n",
    "text"
   ]
  },
  {
   "cell_type": "code",
   "execution_count": 41,
   "id": "e411c72b",
   "metadata": {},
   "outputs": [
    {
     "data": {
      "text/plain": [
       "'\\n레일라은 매우매우 착하고 귀엽고 사랑스럽습니다.\\n이 사악한 나히다는 레일라을 괴롭히는 원인 중 하나입니다.\\n'"
      ]
     },
     "execution_count": 41,
     "metadata": {},
     "output_type": "execute_result"
    }
   ],
   "source": [
    "text = \"\"\"\n",
    "{name1}은 매우매우 착하고 귀엽고 사랑스럽습니다.\n",
    "이 사악한 {name2}는 {name1}을 괴롭히는 원인 중 하나입니다.\n",
    "\"\"\"\n",
    "text.format(name1=\"레일라\", name2=\"나히다\")"
   ]
  },
  {
   "cell_type": "code",
   "execution_count": 43,
   "id": "5b0695eb",
   "metadata": {},
   "outputs": [
    {
     "data": {
      "text/plain": [
       "'\\n레일라은 매우매우 착하고 귀엽고 사랑스럽습니다.\\n이 사악한 나히다는 레일라을 괴롭히는 원인 중 하나입니다.\\n'"
      ]
     },
     "execution_count": 43,
     "metadata": {},
     "output_type": "execute_result"
    }
   ],
   "source": [
    "text = \"\"\"\n",
    "{0}은 매우매우 착하고 귀엽고 사랑스럽습니다.\n",
    "이 사악한 {1}는 {0}을 괴롭히는 원인 중 하나입니다.\n",
    "\"\"\"\n",
    "text.format(\"레일라\", \"나히다\")"
   ]
  },
  {
   "cell_type": "code",
   "execution_count": 45,
   "id": "88370df5",
   "metadata": {},
   "outputs": [
    {
     "data": {
      "text/plain": [
       "'나히다는 500살 이상이다.'"
      ]
     },
     "execution_count": 45,
     "metadata": {},
     "output_type": "execute_result"
    }
   ],
   "source": [
    "\"나히다는 {a}살 이상이다.\".format(a=500)"
   ]
  },
  {
   "cell_type": "code",
   "execution_count": 46,
   "id": "c4b3aa61",
   "metadata": {},
   "outputs": [
    {
     "data": {
      "text/plain": [
       "'나는 IPAT 자격시험에서 1등을 하고 싶다.'"
      ]
     },
     "execution_count": 46,
     "metadata": {},
     "output_type": "execute_result"
    }
   ],
   "source": [
    "\"나는 IPAT 자격시험에서 {:,}등을 하고 싶다.\".format(1)"
   ]
  },
  {
   "cell_type": "code",
   "execution_count": 48,
   "id": "118a3322",
   "metadata": {},
   "outputs": [
    {
     "data": {
      "text/plain": [
       "'나는, 나의 통장 잔고가 999,999,999,999,999원이 되면 좋겠다'"
      ]
     },
     "execution_count": 48,
     "metadata": {},
     "output_type": "execute_result"
    }
   ],
   "source": [
    "\"나는, 나의 통장 잔고가 {:,}원이 되면 좋겠다\".format(999999999999999)"
   ]
  },
  {
   "cell_type": "code",
   "execution_count": 53,
   "id": "06eea916",
   "metadata": {},
   "outputs": [
    {
     "data": {
      "text/plain": [
       "'i remember0.000103 or 0.010% of thease days'"
      ]
     },
     "execution_count": 53,
     "metadata": {},
     "output_type": "execute_result"
    }
   ],
   "source": [
    "\"i remember{0:.3} or {0:.3%} of thease days\".format(7/67890)\n",
    "# 주의~ 여기에는 0이 필수로 들어가야 해요~"
   ]
  },
  {
   "cell_type": "code",
   "execution_count": null,
   "id": "1f5eef91",
   "metadata": {},
   "outputs": [],
   "source": []
  }
 ],
 "metadata": {
  "kernelspec": {
   "display_name": "Python 3 (ipykernel)",
   "language": "python",
   "name": "python3"
  },
  "language_info": {
   "codemirror_mode": {
    "name": "ipython",
    "version": 3
   },
   "file_extension": ".py",
   "mimetype": "text/x-python",
   "name": "python",
   "nbconvert_exporter": "python",
   "pygments_lexer": "ipython3",
   "version": "3.11.4"
  }
 },
 "nbformat": 4,
 "nbformat_minor": 5
}
