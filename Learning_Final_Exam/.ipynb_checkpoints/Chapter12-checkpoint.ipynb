{
 "cells": [
  {
   "cell_type": "markdown",
   "metadata": {},
   "source": [
    "# Chapter 12 시계열 데이터 \n",
    "## 12.1 datetime 오브젝트 사용하기(p 241)"
   ]
  },
  {
   "cell_type": "code",
   "execution_count": 2,
   "metadata": {},
   "outputs": [],
   "source": [
    "#datetime lib : handling of the day, time, etc,.  \n",
    "from datetime import datetime"
   ]
  },
  {
   "cell_type": "code",
   "execution_count": 3,
   "metadata": {},
   "outputs": [
    {
     "name": "stdout",
     "output_type": "stream",
     "text": [
      "2023-11-28 21:25:57.188131\n"
     ]
    }
   ],
   "source": [
    "now1 = datetime.now() \n",
    "print(now1)"
   ]
  },
  {
   "cell_type": "code",
   "execution_count": 4,
   "metadata": {},
   "outputs": [
    {
     "name": "stdout",
     "output_type": "stream",
     "text": [
      "2023-11-28 21:25:59.456325\n"
     ]
    }
   ],
   "source": [
    "now2 = datetime.today()\n",
    "print(now2) "
   ]
  },
  {
   "cell_type": "code",
   "execution_count": 5,
   "metadata": {},
   "outputs": [
    {
     "name": "stdout",
     "output_type": "stream",
     "text": [
      "2023-11-28 21:26:00.238320\n",
      "1970-01-01 00:00:00\n",
      "1970-12-12 13:24:34\n"
     ]
    }
   ],
   "source": [
    "t1 = datetime.now() \n",
    "t2 = datetime(1970, 1, 1)\n",
    "t3 = datetime(1970, 12, 12, 13, 24, 34)\n",
    "\n",
    "print(t1)\n",
    "print(t2)\n",
    "print(t3)"
   ]
  },
  {
   "cell_type": "code",
   "execution_count": 6,
   "metadata": {},
   "outputs": [
    {
     "name": "stdout",
     "output_type": "stream",
     "text": [
      "19689 days, 21:26:00.238320\n",
      "<class 'datetime.timedelta'>\n"
     ]
    }
   ],
   "source": [
    "diff1 = t1 - t2\n",
    "\n",
    "print(diff1)\n",
    "print(type(diff1))"
   ]
  },
  {
   "cell_type": "code",
   "execution_count": 7,
   "metadata": {},
   "outputs": [
    {
     "name": "stdout",
     "output_type": "stream",
     "text": [
      "-19690 days, 2:33:59.761680\n",
      "<class 'datetime.timedelta'>\n"
     ]
    }
   ],
   "source": [
    "diff2 = t2 - t1\n",
    "\n",
    "print(diff2)\n",
    "print(type(diff2))"
   ]
  },
  {
   "cell_type": "markdown",
   "metadata": {},
   "source": [
    "## 문자열을 datetime 오브젝트로 변환하기(p. 243)"
   ]
  },
  {
   "cell_type": "code",
   "execution_count": 8,
   "metadata": {},
   "outputs": [],
   "source": [
    "import pandas as pd \n",
    "import os  #Operating system  Ex. os.getcwd(), os.path.join, os.remove...\n",
    "ebola = pd.read_csv('../data/country_timeseries.csv')"
   ]
  },
  {
   "cell_type": "code",
   "execution_count": 9,
   "metadata": {},
   "outputs": [
    {
     "name": "stdout",
     "output_type": "stream",
     "text": [
      "<class 'pandas.core.frame.DataFrame'>\n",
      "RangeIndex: 122 entries, 0 to 121\n",
      "Data columns (total 18 columns):\n",
      " #   Column               Non-Null Count  Dtype  \n",
      "---  ------               --------------  -----  \n",
      " 0   Date                 122 non-null    object \n",
      " 1   Day                  122 non-null    int64  \n",
      " 2   Cases_Guinea         93 non-null     float64\n",
      " 3   Cases_Liberia        83 non-null     float64\n",
      " 4   Cases_SierraLeone    87 non-null     float64\n",
      " 5   Cases_Nigeria        38 non-null     float64\n",
      " 6   Cases_Senegal        25 non-null     float64\n",
      " 7   Cases_UnitedStates   18 non-null     float64\n",
      " 8   Cases_Spain          16 non-null     float64\n",
      " 9   Cases_Mali           12 non-null     float64\n",
      " 10  Deaths_Guinea        92 non-null     float64\n",
      " 11  Deaths_Liberia       81 non-null     float64\n",
      " 12  Deaths_SierraLeone   87 non-null     float64\n",
      " 13  Deaths_Nigeria       38 non-null     float64\n",
      " 14  Deaths_Senegal       22 non-null     float64\n",
      " 15  Deaths_UnitedStates  18 non-null     float64\n",
      " 16  Deaths_Spain         16 non-null     float64\n",
      " 17  Deaths_Mali          12 non-null     float64\n",
      "dtypes: float64(16), int64(1), object(1)\n",
      "memory usage: 17.3+ KB\n",
      "None\n"
     ]
    }
   ],
   "source": [
    "print(ebola.info())"
   ]
  },
  {
   "cell_type": "markdown",
   "metadata": {},
   "source": [
    "###  to_datetime() : change of 'obect' to 'datetime' type"
   ]
  },
  {
   "cell_type": "code",
   "execution_count": 10,
   "metadata": {},
   "outputs": [
    {
     "name": "stdout",
     "output_type": "stream",
     "text": [
      "<class 'pandas.core.frame.DataFrame'>\n",
      "RangeIndex: 122 entries, 0 to 121\n",
      "Data columns (total 19 columns):\n",
      " #   Column               Non-Null Count  Dtype         \n",
      "---  ------               --------------  -----         \n",
      " 0   Date                 122 non-null    object        \n",
      " 1   Day                  122 non-null    int64         \n",
      " 2   Cases_Guinea         93 non-null     float64       \n",
      " 3   Cases_Liberia        83 non-null     float64       \n",
      " 4   Cases_SierraLeone    87 non-null     float64       \n",
      " 5   Cases_Nigeria        38 non-null     float64       \n",
      " 6   Cases_Senegal        25 non-null     float64       \n",
      " 7   Cases_UnitedStates   18 non-null     float64       \n",
      " 8   Cases_Spain          16 non-null     float64       \n",
      " 9   Cases_Mali           12 non-null     float64       \n",
      " 10  Deaths_Guinea        92 non-null     float64       \n",
      " 11  Deaths_Liberia       81 non-null     float64       \n",
      " 12  Deaths_SierraLeone   87 non-null     float64       \n",
      " 13  Deaths_Nigeria       38 non-null     float64       \n",
      " 14  Deaths_Senegal       22 non-null     float64       \n",
      " 15  Deaths_UnitedStates  18 non-null     float64       \n",
      " 16  Deaths_Spain         16 non-null     float64       \n",
      " 17  Deaths_Mali          12 non-null     float64       \n",
      " 18  date_dt              122 non-null    datetime64[ns]\n",
      "dtypes: datetime64[ns](1), float64(16), int64(1), object(1)\n",
      "memory usage: 18.2+ KB\n",
      "None\n"
     ]
    }
   ],
   "source": [
    "ebola['date_dt'] = pd.to_datetime(ebola['Date'])  \n",
    "print(ebola.info())"
   ]
  },
  {
   "cell_type": "markdown",
   "metadata": {},
   "source": [
    "### format=' ' "
   ]
  },
  {
   "cell_type": "code",
   "execution_count": 11,
   "metadata": {},
   "outputs": [
    {
     "name": "stdout",
     "output_type": "stream",
     "text": [
      "  order_day   date_dt1   date_dt2   date_dt3\n",
      "0  01/01/15 2015-01-01 2015-01-01 2001-01-15\n",
      "1  02/01/15 2015-01-02 2015-02-01 2002-01-15\n",
      "2  03/01/15 2015-01-03 2015-03-01 2003-01-15\n"
     ]
    }
   ],
   "source": [
    "test_df1 = pd.DataFrame({'order_day':['01/01/15', '02/01/15', '03/01/15']})\n",
    "\n",
    "test_df1['date_dt1'] = pd.to_datetime(test_df1['order_day'], format='%d/%m/%y')\n",
    "test_df1['date_dt2'] = pd.to_datetime(test_df1['order_day'], format='%m/%d/%y')\n",
    "test_df1['date_dt3'] = pd.to_datetime(test_df1['order_day'], format='%y/%m/%d')\n",
    "\n",
    "print(test_df1)"
   ]
  },
  {
   "cell_type": "code",
   "execution_count": 12,
   "metadata": {},
   "outputs": [
    {
     "name": "stdout",
     "output_type": "stream",
     "text": [
      "  order_day    date_dt\n",
      "0  01-01-15 2015-01-01\n",
      "1  02-01-15 2015-01-02\n",
      "2  03-01-15 2015-01-03\n"
     ]
    }
   ],
   "source": [
    "test_df2 = pd.DataFrame({'order_day':['01-01-15', '02-01-15', '03-01-15']})\n",
    "test_df2['date_dt'] = pd.to_datetime(test_df2['order_day'], format='%d-%m-%y')\n",
    "\n",
    "print(test_df2)"
   ]
  },
  {
   "cell_type": "markdown",
   "metadata": {},
   "source": [
    "## 시간 형식 지정자 p. 245 참고 "
   ]
  },
  {
   "cell_type": "markdown",
   "metadata": {},
   "source": [
    "\n",
    "## 시계열 데이터를 구분해서 추출하고 싶어요(p.246)"
   ]
  },
  {
   "cell_type": "code",
   "execution_count": 13,
   "metadata": {},
   "outputs": [
    {
     "name": "stdout",
     "output_type": "stream",
     "text": [
      "2023-11-28 21:26:23.578494\n"
     ]
    }
   ],
   "source": [
    "now = datetime.now()\n",
    "print(now)"
   ]
  },
  {
   "cell_type": "code",
   "execution_count": 14,
   "metadata": {},
   "outputs": [
    {
     "name": "stdout",
     "output_type": "stream",
     "text": [
      "2023-28-11\n"
     ]
    }
   ],
   "source": [
    "nowDate = now.strftime('%Y-%d-%m')   #now(현재)시간을  strftime()사용하여 변경, 시간 무시\n",
    "print(nowDate)"
   ]
  },
  {
   "cell_type": "code",
   "execution_count": 15,
   "metadata": {},
   "outputs": [
    {
     "name": "stdout",
     "output_type": "stream",
     "text": [
      "21:26:23\n"
     ]
    }
   ],
   "source": [
    "nowTime = now.strftime('%H:%M:%S')\n",
    "print(nowTime) "
   ]
  },
  {
   "cell_type": "code",
   "execution_count": 16,
   "metadata": {},
   "outputs": [
    {
     "name": "stdout",
     "output_type": "stream",
     "text": [
      "2023-11-28 21:26:23\n"
     ]
    }
   ],
   "source": [
    "nowDatetime = now.strftime('%Y-%m-%d %H:%M:%S')\n",
    "print(nowDatetime) "
   ]
  },
  {
   "cell_type": "markdown",
   "metadata": {},
   "source": [
    "## datetime 오브젝트로 변환하기 \n",
    "### 변환하려는 열을 지정하여 데이터 집합 불러오기(p.247)"
   ]
  },
  {
   "cell_type": "code",
   "execution_count": 17,
   "metadata": {},
   "outputs": [
    {
     "name": "stdout",
     "output_type": "stream",
     "text": [
      "<class 'pandas.core.frame.DataFrame'>\n",
      "RangeIndex: 122 entries, 0 to 121\n",
      "Data columns (total 18 columns):\n",
      " #   Column               Non-Null Count  Dtype         \n",
      "---  ------               --------------  -----         \n",
      " 0   Date                 122 non-null    datetime64[ns]\n",
      " 1   Day                  122 non-null    int64         \n",
      " 2   Cases_Guinea         93 non-null     float64       \n",
      " 3   Cases_Liberia        83 non-null     float64       \n",
      " 4   Cases_SierraLeone    87 non-null     float64       \n",
      " 5   Cases_Nigeria        38 non-null     float64       \n",
      " 6   Cases_Senegal        25 non-null     float64       \n",
      " 7   Cases_UnitedStates   18 non-null     float64       \n",
      " 8   Cases_Spain          16 non-null     float64       \n",
      " 9   Cases_Mali           12 non-null     float64       \n",
      " 10  Deaths_Guinea        92 non-null     float64       \n",
      " 11  Deaths_Liberia       81 non-null     float64       \n",
      " 12  Deaths_SierraLeone   87 non-null     float64       \n",
      " 13  Deaths_Nigeria       38 non-null     float64       \n",
      " 14  Deaths_Senegal       22 non-null     float64       \n",
      " 15  Deaths_UnitedStates  18 non-null     float64       \n",
      " 16  Deaths_Spain         16 non-null     float64       \n",
      " 17  Deaths_Mali          12 non-null     float64       \n",
      "dtypes: datetime64[ns](1), float64(16), int64(1)\n",
      "memory usage: 17.3 KB\n",
      "None\n"
     ]
    }
   ],
   "source": [
    "ebola1 = pd.read_csv('../data/country_timeseries.csv', parse_dates=['Date']) \n",
    "print(ebola1.info())"
   ]
  },
  {
   "cell_type": "markdown",
   "metadata": {},
   "source": [
    "## datetime 오브젝트에서 날짜 정보 추출하기(p.247)"
   ]
  },
  {
   "cell_type": "code",
   "execution_count": 18,
   "metadata": {},
   "outputs": [
    {
     "name": "stdout",
     "output_type": "stream",
     "text": [
      "0   2018-05-16\n",
      "1   2018-05-17\n",
      "2   2018-05-18\n",
      "dtype: datetime64[ns]\n"
     ]
    }
   ],
   "source": [
    "date_series = pd.Series(['2018-05-16', '2018-05-17', '2018-05-18'])\n",
    "#d=pd.DataFrame(date_series)\n",
    "d1 = pd.to_datetime(date_series) \n",
    "print(d1)"
   ]
  },
  {
   "cell_type": "code",
   "execution_count": 19,
   "metadata": {},
   "outputs": [
    {
     "name": "stdout",
     "output_type": "stream",
     "text": [
      "2018\n"
     ]
    }
   ],
   "source": [
    "print(d1[0].year)"
   ]
  },
  {
   "cell_type": "code",
   "execution_count": 20,
   "metadata": {},
   "outputs": [
    {
     "name": "stdout",
     "output_type": "stream",
     "text": [
      "5\n"
     ]
    }
   ],
   "source": [
    "print(d1[0].month)"
   ]
  },
  {
   "cell_type": "code",
   "execution_count": 21,
   "metadata": {},
   "outputs": [
    {
     "name": "stdout",
     "output_type": "stream",
     "text": [
      "16\n"
     ]
    }
   ],
   "source": [
    "print(d1[0].day)"
   ]
  },
  {
   "cell_type": "markdown",
   "metadata": {},
   "source": [
    "## dt 접근자 사용하기 \n",
    "### dt접근자로 시계열 데이터 정리하기(p.248)"
   ]
  },
  {
   "cell_type": "code",
   "execution_count": 22,
   "metadata": {},
   "outputs": [],
   "source": [
    "ebola = pd.read_csv('../data/country_timeseries.csv')\n",
    "ebola['date_dt'] = pd.to_datetime(ebola['Date'])"
   ]
  },
  {
   "cell_type": "code",
   "execution_count": 23,
   "metadata": {},
   "outputs": [
    {
     "name": "stdout",
     "output_type": "stream",
     "text": [
      "         Date    date_dt\n",
      "0    1/5/2015 2015-01-05\n",
      "1    1/4/2015 2015-01-04\n",
      "2    1/3/2015 2015-01-03\n",
      "3    1/2/2015 2015-01-02\n",
      "4  12/31/2014 2014-12-31\n"
     ]
    }
   ],
   "source": [
    "print(ebola[['Date', 'date_dt']].head())"
   ]
  },
  {
   "cell_type": "code",
   "execution_count": 24,
   "metadata": {},
   "outputs": [
    {
     "name": "stdout",
     "output_type": "stream",
     "text": [
      "2015\n"
     ]
    }
   ],
   "source": [
    "print(ebola['date_dt'][1].year)"
   ]
  },
  {
   "cell_type": "code",
   "execution_count": 25,
   "metadata": {},
   "outputs": [
    {
     "name": "stdout",
     "output_type": "stream",
     "text": [
      "1\n"
     ]
    }
   ],
   "source": [
    "print(ebola['date_dt'][3].month)"
   ]
  },
  {
   "cell_type": "code",
   "execution_count": 26,
   "metadata": {},
   "outputs": [
    {
     "name": "stdout",
     "output_type": "stream",
     "text": [
      "31\n"
     ]
    }
   ],
   "source": [
    "print(ebola['date_dt'][4].day)"
   ]
  },
  {
   "cell_type": "markdown",
   "metadata": {},
   "source": [
    "### dt. "
   ]
  },
  {
   "cell_type": "code",
   "execution_count": 29,
   "metadata": {},
   "outputs": [
    {
     "name": "stdout",
     "output_type": "stream",
     "text": [
      "         Date    date_dt  year\n",
      "0    1/5/2015 2015-01-05  2015\n",
      "1    1/4/2015 2015-01-04  2015\n",
      "2    1/3/2015 2015-01-03  2015\n",
      "3    1/2/2015 2015-01-02  2015\n",
      "4  12/31/2014 2014-12-31  2014\n"
     ]
    }
   ],
   "source": [
    "ebola['year'] = ebola['date_dt'].dt.year\n",
    "print(ebola[['Date', 'date_dt', 'year']].head())"
   ]
  },
  {
   "cell_type": "code",
   "execution_count": 30,
   "metadata": {},
   "outputs": [
    {
     "name": "stdout",
     "output_type": "stream",
     "text": [
      "         Date    date_dt  year  month  day\n",
      "0    1/5/2015 2015-01-05  2015      1    5\n",
      "1    1/4/2015 2015-01-04  2015      1    4\n",
      "2    1/3/2015 2015-01-03  2015      1    3\n",
      "3    1/2/2015 2015-01-02  2015      1    2\n",
      "4  12/31/2014 2014-12-31  2014     12   31\n"
     ]
    }
   ],
   "source": [
    "ebola['month'], ebola['day'] = (ebola['date_dt'].dt.month, ebola['date_dt'].dt.day)\n",
    "\n",
    "print(ebola[['Date', 'date_dt', 'year', 'month', 'day']].head())"
   ]
  },
  {
   "cell_type": "code",
   "execution_count": 31,
   "metadata": {},
   "outputs": [
    {
     "name": "stdout",
     "output_type": "stream",
     "text": [
      "<class 'pandas.core.frame.DataFrame'>\n",
      "RangeIndex: 122 entries, 0 to 121\n",
      "Data columns (total 22 columns):\n",
      " #   Column               Non-Null Count  Dtype         \n",
      "---  ------               --------------  -----         \n",
      " 0   Date                 122 non-null    object        \n",
      " 1   Day                  122 non-null    int64         \n",
      " 2   Cases_Guinea         93 non-null     float64       \n",
      " 3   Cases_Liberia        83 non-null     float64       \n",
      " 4   Cases_SierraLeone    87 non-null     float64       \n",
      " 5   Cases_Nigeria        38 non-null     float64       \n",
      " 6   Cases_Senegal        25 non-null     float64       \n",
      " 7   Cases_UnitedStates   18 non-null     float64       \n",
      " 8   Cases_Spain          16 non-null     float64       \n",
      " 9   Cases_Mali           12 non-null     float64       \n",
      " 10  Deaths_Guinea        92 non-null     float64       \n",
      " 11  Deaths_Liberia       81 non-null     float64       \n",
      " 12  Deaths_SierraLeone   87 non-null     float64       \n",
      " 13  Deaths_Nigeria       38 non-null     float64       \n",
      " 14  Deaths_Senegal       22 non-null     float64       \n",
      " 15  Deaths_UnitedStates  18 non-null     float64       \n",
      " 16  Deaths_Spain         16 non-null     float64       \n",
      " 17  Deaths_Mali          12 non-null     float64       \n",
      " 18  date_dt              122 non-null    datetime64[ns]\n",
      " 19  year                 122 non-null    int64         \n",
      " 20  month                122 non-null    int64         \n",
      " 21  day                  122 non-null    int64         \n",
      "dtypes: datetime64[ns](1), float64(16), int64(4), object(1)\n",
      "memory usage: 21.1+ KB\n",
      "None\n"
     ]
    }
   ],
   "source": [
    "print(ebola.info())"
   ]
  },
  {
   "cell_type": "markdown",
   "metadata": {},
   "source": [
    "## 12.2 사례별 시계열 데이터 계산하기 \n",
    "### 에볼라 최초 발병일 계산하기(p.251)"
   ]
  },
  {
   "cell_type": "code",
   "execution_count": 32,
   "metadata": {},
   "outputs": [
    {
     "name": "stdout",
     "output_type": "stream",
     "text": [
      "          Date  Day  Cases_Guinea  Cases_Liberia  Cases_SierraLeone\n",
      "117  3/27/2014    5         103.0            8.0                6.0\n",
      "118  3/26/2014    4          86.0            NaN                NaN\n",
      "119  3/25/2014    3          86.0            NaN                NaN\n",
      "120  3/24/2014    2          86.0            NaN                NaN\n",
      "121  3/22/2014    0          49.0            NaN                NaN\n"
     ]
    }
   ],
   "source": [
    "print(ebola.iloc[-5:, :5])  #뒤에서부터 5개의 행, 뒤에서부터 5개의 열 "
   ]
  },
  {
   "cell_type": "code",
   "execution_count": 34,
   "metadata": {},
   "outputs": [
    {
     "name": "stdout",
     "output_type": "stream",
     "text": [
      "2014-03-22 00:00:00\n",
      "<class 'pandas._libs.tslibs.timestamps.Timestamp'>\n"
     ]
    }
   ],
   "source": [
    "print(ebola['date_dt'].min())\n",
    "print(type(ebola['date_dt'].min()))"
   ]
  },
  {
   "cell_type": "markdown",
   "metadata": {},
   "source": [
    "### 발병기간 계산 "
   ]
  },
  {
   "cell_type": "code",
   "execution_count": 37,
   "metadata": {},
   "outputs": [
    {
     "name": "stdout",
     "output_type": "stream",
     "text": [
      "         Date  Day  Cases_Guinea  Cases_Liberia  Cases_SierraLeone  \\\n",
      "0    1/5/2015  289        2776.0            NaN            10030.0   \n",
      "1    1/4/2015  288        2775.0            NaN             9780.0   \n",
      "2    1/3/2015  287        2769.0         8166.0             9722.0   \n",
      "3    1/2/2015  286           NaN         8157.0                NaN   \n",
      "4  12/31/2014  284        2730.0         8115.0             9633.0   \n",
      "\n",
      "   Cases_Nigeria  Cases_Senegal  Cases_UnitedStates  Cases_Spain  Cases_Mali  \\\n",
      "0            NaN            NaN                 NaN          NaN         NaN   \n",
      "1            NaN            NaN                 NaN          NaN         NaN   \n",
      "2            NaN            NaN                 NaN          NaN         NaN   \n",
      "3            NaN            NaN                 NaN          NaN         NaN   \n",
      "4            NaN            NaN                 NaN          NaN         NaN   \n",
      "\n",
      "   ...  Deaths_Nigeria  Deaths_Senegal  Deaths_UnitedStates  Deaths_Spain  \\\n",
      "0  ...             NaN             NaN                  NaN           NaN   \n",
      "1  ...             NaN             NaN                  NaN           NaN   \n",
      "2  ...             NaN             NaN                  NaN           NaN   \n",
      "3  ...             NaN             NaN                  NaN           NaN   \n",
      "4  ...             NaN             NaN                  NaN           NaN   \n",
      "\n",
      "   Deaths_Mali    date_dt  year  month day  outbreak_d  \n",
      "0          NaN 2015-01-05  2015      1   5    289 days  \n",
      "1          NaN 2015-01-04  2015      1   4    288 days  \n",
      "2          NaN 2015-01-03  2015      1   3    287 days  \n",
      "3          NaN 2015-01-02  2015      1   2    286 days  \n",
      "4          NaN 2014-12-31  2014     12  31    284 days  \n",
      "\n",
      "[5 rows x 23 columns]\n"
     ]
    }
   ],
   "source": [
    "print(ebola.head())"
   ]
  },
  {
   "cell_type": "code",
   "execution_count": 35,
   "metadata": {},
   "outputs": [
    {
     "name": "stdout",
     "output_type": "stream",
     "text": [
      "         Date  Day outbreak_d\n",
      "0    1/5/2015  289   289 days\n",
      "1    1/4/2015  288   288 days\n",
      "2    1/3/2015  287   287 days\n",
      "3    1/2/2015  286   286 days\n",
      "4  12/31/2014  284   284 days\n"
     ]
    }
   ],
   "source": [
    "ebola['outbreak_d'] = ebola['date_dt'] - ebola['date_dt'].min()\n",
    "\n",
    "print(ebola[['Date', 'Day', 'outbreak_d']].head())"
   ]
  },
  {
   "cell_type": "markdown",
   "metadata": {},
   "source": [
    "## 파산한 은행의 개수 계산하기(p.252)"
   ]
  },
  {
   "cell_type": "code",
   "execution_count": 39,
   "metadata": {},
   "outputs": [
    {
     "name": "stdout",
     "output_type": "stream",
     "text": [
      "                                           Bank Name         City  ST   CERT  \\\n",
      "0                Washington Federal Bank for Savings      Chicago  IL  30570   \n",
      "1    The Farmers and Merchants State Bank of Argonia      Argonia  KS  17719   \n",
      "2                                Fayette County Bank   Saint Elmo  IL   1802   \n",
      "3  Guaranty Bank, (d/b/a BestBank in Georgia & Mi...    Milwaukee  WI  30003   \n",
      "4                                     First NBC Bank  New Orleans  LA  58302   \n",
      "\n",
      "                 Acquiring Institution Closing Date Updated Date  \n",
      "0                   Royal Savings Bank    15-Dec-17    20-Dec-17  \n",
      "1                          Conway Bank    13-Oct-17    20-Oct-17  \n",
      "2            United Fidelity Bank, fsb    26-May-17    26-Jul-17  \n",
      "3  First-Citizens Bank & Trust Company     5-May-17    26-Jul-17  \n",
      "4                         Whitney Bank    28-Apr-17     5-Dec-17  \n",
      "<class 'pandas.core.frame.DataFrame'>\n",
      "RangeIndex: 555 entries, 0 to 554\n",
      "Data columns (total 7 columns):\n",
      " #   Column                 Non-Null Count  Dtype \n",
      "---  ------                 --------------  ----- \n",
      " 0   Bank Name              555 non-null    object\n",
      " 1   City                   555 non-null    object\n",
      " 2   ST                     555 non-null    object\n",
      " 3   CERT                   555 non-null    int64 \n",
      " 4   Acquiring Institution  555 non-null    object\n",
      " 5   Closing Date           555 non-null    object\n",
      " 6   Updated Date           555 non-null    object\n",
      "dtypes: int64(1), object(6)\n",
      "memory usage: 30.5+ KB\n",
      "None\n"
     ]
    }
   ],
   "source": [
    "banks = pd.read_csv('../data/banklist.csv') \n",
    "print(banks.head())\n",
    "print(banks.info())"
   ]
  },
  {
   "cell_type": "code",
   "execution_count": 41,
   "metadata": {},
   "outputs": [
    {
     "name": "stdout",
     "output_type": "stream",
     "text": [
      "<class 'pandas.core.frame.DataFrame'>\n",
      "RangeIndex: 555 entries, 0 to 554\n",
      "Data columns (total 7 columns):\n",
      " #   Column                 Non-Null Count  Dtype         \n",
      "---  ------                 --------------  -----         \n",
      " 0   Bank Name              555 non-null    object        \n",
      " 1   City                   555 non-null    object        \n",
      " 2   ST                     555 non-null    object        \n",
      " 3   CERT                   555 non-null    int64         \n",
      " 4   Acquiring Institution  555 non-null    object        \n",
      " 5   Closing Date           555 non-null    datetime64[ns]\n",
      " 6   Updated Date           555 non-null    datetime64[ns]\n",
      "dtypes: datetime64[ns](2), int64(1), object(4)\n",
      "memory usage: 30.5+ KB\n",
      "None\n"
     ]
    }
   ],
   "source": [
    "banks = pd.read_csv('../data/banklist.csv', parse_dates=[5, 6]) \n",
    "print(banks.info())"
   ]
  },
  {
   "cell_type": "markdown",
   "metadata": {},
   "source": [
    "### dt.quarter  : 월별 데이터를 quarter 로 환산  "
   ]
  },
  {
   "cell_type": "code",
   "execution_count": 42,
   "metadata": {},
   "outputs": [
    {
     "name": "stdout",
     "output_type": "stream",
     "text": [
      "                                           Bank Name         City  ST   CERT  \\\n",
      "0                Washington Federal Bank for Savings      Chicago  IL  30570   \n",
      "1    The Farmers and Merchants State Bank of Argonia      Argonia  KS  17719   \n",
      "2                                Fayette County Bank   Saint Elmo  IL   1802   \n",
      "3  Guaranty Bank, (d/b/a BestBank in Georgia & Mi...    Milwaukee  WI  30003   \n",
      "4                                     First NBC Bank  New Orleans  LA  58302   \n",
      "\n",
      "                 Acquiring Institution Closing Date Updated Date  \\\n",
      "0                   Royal Savings Bank   2017-12-15   2017-12-20   \n",
      "1                          Conway Bank   2017-10-13   2017-10-20   \n",
      "2            United Fidelity Bank, fsb   2017-05-26   2017-07-26   \n",
      "3  First-Citizens Bank & Trust Company   2017-05-05   2017-07-26   \n",
      "4                         Whitney Bank   2017-04-28   2017-12-05   \n",
      "\n",
      "   closing_quarter  closing_year  \n",
      "0                4          2017  \n",
      "1                4          2017  \n",
      "2                2          2017  \n",
      "3                2          2017  \n",
      "4                2          2017  \n"
     ]
    }
   ],
   "source": [
    "banks['closing_quarter'], banks['closing_year'] = (banks['Closing Date'].dt.quarter, banks['Closing Date'].dt.year)\n",
    "\n",
    "print(banks.head())"
   ]
  },
  {
   "cell_type": "code",
   "execution_count": 43,
   "metadata": {},
   "outputs": [
    {
     "name": "stdout",
     "output_type": "stream",
     "text": [
      "closing_year\n",
      "2000      2\n",
      "2001      4\n",
      "2002     11\n",
      "2003      3\n",
      "2004      4\n",
      "2007      3\n",
      "2008     25\n",
      "2009    140\n",
      "2010    157\n",
      "2011     92\n",
      "2012     51\n",
      "2013     24\n",
      "2014     18\n",
      "2015      8\n",
      "2016      5\n",
      "2017      8\n",
      "dtype: int64\n"
     ]
    }
   ],
   "source": [
    "closing_year = banks.groupby(['closing_year']).size()\n",
    "\n",
    "print(closing_year)"
   ]
  },
  {
   "cell_type": "markdown",
   "metadata": {},
   "source": [
    "#### bankrupt 년/분기 파악"
   ]
  },
  {
   "cell_type": "code",
   "execution_count": 44,
   "metadata": {
    "scrolled": true
   },
   "outputs": [
    {
     "name": "stdout",
     "output_type": "stream",
     "text": [
      "closing_year  closing_quarter\n",
      "2000          4                   2\n",
      "2001          1                   1\n",
      "              2                   1\n",
      "              3                   2\n",
      "2002          1                   6\n",
      "              2                   2\n",
      "              3                   1\n",
      "              4                   2\n",
      "2003          1                   1\n",
      "              2                   1\n",
      "              4                   1\n",
      "2004          1                   3\n",
      "              2                   1\n",
      "2007          1                   1\n",
      "              3                   1\n",
      "              4                   1\n",
      "2008          1                   2\n",
      "              2                   2\n",
      "              3                   9\n",
      "              4                  12\n",
      "2009          1                  21\n",
      "              2                  24\n",
      "              3                  50\n",
      "              4                  45\n",
      "2010          1                  41\n",
      "              2                  45\n",
      "              3                  41\n",
      "              4                  30\n",
      "2011          1                  26\n",
      "              2                  22\n",
      "              3                  26\n",
      "              4                  18\n",
      "2012          1                  16\n",
      "              2                  15\n",
      "              3                  12\n",
      "              4                   8\n",
      "2013          1                   4\n",
      "              2                  12\n",
      "              3                   6\n",
      "              4                   2\n",
      "2014          1                   5\n",
      "              2                   7\n",
      "              3                   2\n",
      "              4                   4\n",
      "2015          1                   4\n",
      "              2                   1\n",
      "              3                   1\n",
      "              4                   2\n",
      "2016          1                   1\n",
      "              2                   2\n",
      "              3                   2\n",
      "2017          1                   3\n",
      "              2                   3\n",
      "              4                   2\n",
      "dtype: int64\n"
     ]
    }
   ],
   "source": [
    "closing_year_q = banks.groupby(['closing_year', 'closing_quarter']).size()\n",
    "\n",
    "print(closing_year_q)"
   ]
  },
  {
   "cell_type": "code",
   "execution_count": 45,
   "metadata": {},
   "outputs": [
    {
     "data": {
      "image/png": "[encoded data removed]",
      "text/plain": [
       "<Figure size 432x288 with 1 Axes>"
      ]
     },
     "metadata": {
      "needs_background": "light"
     },
     "output_type": "display_data"
    },
    {
     "data": {
      "image/png": "[encoded data removed]",
      "text/plain": [
       "<Figure size 432x288 with 1 Axes>"
      ]
     },
     "metadata": {
      "needs_background": "light"
     },
     "output_type": "display_data"
    }
   ],
   "source": [
    "import matplotlib.pyplot as plt\n",
    "\n",
    "fig, ax = plt.subplots()\n",
    "\n",
    "ax = closing_year.plot() \n",
    "plt.show()\n",
    "\n",
    "fig, ax = plt.subplots() \n",
    "ax = closing_year_q.plot() \n",
    "plt.show()"
   ]
  },
  {
   "cell_type": "markdown",
   "metadata": {},
   "source": [
    "## 테슬라 주식 데이터로 시간 계산하기(p.256)"
   ]
  },
  {
   "cell_type": "code",
   "execution_count": 1,
   "metadata": {},
   "outputs": [
    {
     "name": "stdout",
     "output_type": "stream",
     "text": [
      "Requirement already satisfied: pandas_datareader in /Users/shs/opt/anaconda3/lib/python3.8/site-packages (0.10.0)\n",
      "Requirement already satisfied: requests>=2.19.0 in /Users/shs/opt/anaconda3/lib/python3.8/site-packages (from pandas_datareader) (2.28.1)\n",
      "Requirement already satisfied: lxml in /Users/shs/opt/anaconda3/lib/python3.8/site-packages (from pandas_datareader) (4.6.3)\n",
      "Requirement already satisfied: pandas>=0.23 in /Users/shs/opt/anaconda3/lib/python3.8/site-packages (from pandas_datareader) (1.2.4)\n",
      "Requirement already satisfied: python-dateutil>=2.7.3 in /Users/shs/opt/anaconda3/lib/python3.8/site-packages (from pandas>=0.23->pandas_datareader) (2.8.1)\n",
      "Requirement already satisfied: pytz>=2017.3 in /Users/shs/opt/anaconda3/lib/python3.8/site-packages (from pandas>=0.23->pandas_datareader) (2021.1)\n",
      "Requirement already satisfied: numpy>=1.16.5 in /Users/shs/opt/anaconda3/lib/python3.8/site-packages (from pandas>=0.23->pandas_datareader) (1.23.0)\n",
      "Requirement already satisfied: six>=1.5 in /Users/shs/opt/anaconda3/lib/python3.8/site-packages (from python-dateutil>=2.7.3->pandas>=0.23->pandas_datareader) (1.16.0)\n",
      "Requirement already satisfied: urllib3<1.27,>=1.21.1 in /Users/shs/opt/anaconda3/lib/python3.8/site-packages (from requests>=2.19.0->pandas_datareader) (1.26.9)\n",
      "Requirement already satisfied: idna<4,>=2.5 in /Users/shs/opt/anaconda3/lib/python3.8/site-packages (from requests>=2.19.0->pandas_datareader) (3.3)\n",
      "Requirement already satisfied: certifi>=2017.4.17 in /Users/shs/opt/anaconda3/lib/python3.8/site-packages (from requests>=2.19.0->pandas_datareader) (2022.6.15)\n",
      "Requirement already satisfied: charset-normalizer<3,>=2 in /Users/shs/opt/anaconda3/lib/python3.8/site-packages (from requests>=2.19.0->pandas_datareader) (2.1.0)\n",
      "Collecting yfinance\n",
      "  Downloading yfinance-0.2.32-py2.py3-none-any.whl (68 kB)\n",
      "\u001b[K     |████████████████████████████████| 68 kB 9.0 MB/s  eta 0:00:01\n",
      "\u001b[?25hCollecting beautifulsoup4>=4.11.1\n",
      "  Downloading beautifulsoup4-4.12.2-py3-none-any.whl (142 kB)\n",
      "\u001b[K     |████████████████████████████████| 142 kB 24.3 MB/s eta 0:00:01\n",
      "\u001b[?25hCollecting pandas>=1.3.0\n",
      "  Downloading pandas-2.0.3-cp38-cp38-macosx_10_9_x86_64.whl (11.7 MB)\n",
      "\u001b[K     |████████████████████████████████| 11.7 MB 17.8 MB/s eta 0:00:01\n",
      "\u001b[?25hCollecting requests>=2.31\n",
      "  Downloading requests-2.31.0-py3-none-any.whl (62 kB)\n",
      "\u001b[K     |████████████████████████████████| 62 kB 6.6 MB/s  eta 0:00:01\n",
      "\u001b[?25hCollecting pytz>=2022.5\n",
      "  Downloading pytz-2023.3.post1-py2.py3-none-any.whl (502 kB)\n",
      "\u001b[K     |████████████████████████████████| 502 kB 33.7 MB/s eta 0:00:01\n",
      "\u001b[?25hCollecting frozendict>=2.3.4\n",
      "  Downloading frozendict-2.3.10-cp38-cp38-macosx_10_9_x86_64.whl (36 kB)\n",
      "Collecting lxml>=4.9.1\n",
      "  Downloading lxml-4.9.3.tar.gz (3.6 MB)\n",
      "\u001b[K     |████████████████████████████████| 3.6 MB 17.6 MB/s eta 0:00:01\n",
      "\u001b[?25hCollecting peewee>=3.16.2\n",
      "  Downloading peewee-3.17.0.tar.gz (2.9 MB)\n",
      "\u001b[K     |████████████████████████████████| 2.9 MB 18.8 MB/s eta 0:00:01\n",
      "\u001b[?25h  Installing build dependencies ... \u001b[?25ldone\n",
      "\u001b[?25h  Getting requirements to build wheel ... \u001b[?25ldone\n",
      "\u001b[?25h    Preparing wheel metadata ... \u001b[?25ldone\n",
      "\u001b[?25hRequirement already satisfied: numpy>=1.16.5 in /Users/shs/opt/anaconda3/lib/python3.8/site-packages (from yfinance) (1.23.0)\n",
      "Collecting multitasking>=0.0.7\n",
      "  Downloading multitasking-0.0.11-py3-none-any.whl (8.5 kB)\n",
      "Requirement already satisfied: appdirs>=1.4.4 in /Users/shs/opt/anaconda3/lib/python3.8/site-packages (from yfinance) (1.4.4)\n",
      "Requirement already satisfied: html5lib>=1.1 in /Users/shs/opt/anaconda3/lib/python3.8/site-packages (from yfinance) (1.1)\n",
      "Requirement already satisfied: soupsieve>1.2 in /Users/shs/opt/anaconda3/lib/python3.8/site-packages (from beautifulsoup4>=4.11.1->yfinance) (2.2.1)\n",
      "Requirement already satisfied: webencodings in /Users/shs/opt/anaconda3/lib/python3.8/site-packages (from html5lib>=1.1->yfinance) (0.5.1)\n",
      "Requirement already satisfied: six>=1.9 in /Users/shs/opt/anaconda3/lib/python3.8/site-packages (from html5lib>=1.1->yfinance) (1.16.0)\n",
      "Collecting python-dateutil>=2.8.2\n",
      "  Using cached python_dateutil-2.8.2-py2.py3-none-any.whl (247 kB)\n",
      "Collecting tzdata>=2022.1\n",
      "  Downloading tzdata-2023.3-py2.py3-none-any.whl (341 kB)\n",
      "\u001b[K     |████████████████████████████████| 341 kB 18.7 MB/s eta 0:00:01\n",
      "\u001b[?25hRequirement already satisfied: charset-normalizer<4,>=2 in /Users/shs/opt/anaconda3/lib/python3.8/site-packages (from requests>=2.31->yfinance) (2.1.0)\n",
      "Requirement already satisfied: certifi>=2017.4.17 in /Users/shs/opt/anaconda3/lib/python3.8/site-packages (from requests>=2.31->yfinance) (2022.6.15)\n",
      "Requirement already satisfied: urllib3<3,>=1.21.1 in /Users/shs/opt/anaconda3/lib/python3.8/site-packages (from requests>=2.31->yfinance) (1.26.9)\n",
      "Requirement already satisfied: idna<4,>=2.5 in /Users/shs/opt/anaconda3/lib/python3.8/site-packages (from requests>=2.31->yfinance) (3.3)\n",
      "Building wheels for collected packages: lxml, peewee\n",
      "  Building wheel for lxml (setup.py) ... \u001b[?25ldone\n",
      "\u001b[?25h  Created wheel for lxml: filename=lxml-4.9.3-cp38-cp38-macosx_10_9_x86_64.whl size=1860872 sha256=70ee38b844b455d536b02279f59ca3a1cc199c1d97e7094269eb95157a77ee67\n",
      "  Stored in directory: /Users/shs/Library/Caches/pip/wheels/70/25/e4/422c8f9cd5b754007088081b24e9bb2a96d85d66c3bb67d413\n",
      "  Building wheel for peewee (PEP 517) ... \u001b[?25ldone\n",
      "\u001b[?25h  Created wheel for peewee: filename=peewee-3.17.0-cp38-cp38-macosx_10_9_x86_64.whl size=264368 sha256=0de2b8963490fbd46bb32a2f848ec1d9a696f703c7e9030c5d9983b1ba348d35\n",
      "  Stored in directory: /Users/shs/Library/Caches/pip/wheels/8a/2c/db/72c95212e78c98614b5f89978fc5d68a67e39ea7701fc8c504\n",
      "Successfully built lxml peewee\n",
      "Installing collected packages: tzdata, pytz, python-dateutil, requests, peewee, pandas, multitasking, lxml, frozendict, beautifulsoup4, yfinance\n",
      "  Attempting uninstall: pytz\n",
      "    Found existing installation: pytz 2021.1\n",
      "    Uninstalling pytz-2021.1:\n",
      "      Successfully uninstalled pytz-2021.1\n",
      "  Attempting uninstall: python-dateutil\n",
      "    Found existing installation: python-dateutil 2.8.1\n",
      "    Uninstalling python-dateutil-2.8.1:\n",
      "      Successfully uninstalled python-dateutil-2.8.1\n",
      "  Attempting uninstall: requests\n",
      "    Found existing installation: requests 2.28.1\n",
      "    Uninstalling requests-2.28.1:\n",
      "      Successfully uninstalled requests-2.28.1\n",
      "  Attempting uninstall: pandas\n",
      "    Found existing installation: pandas 1.2.4\n",
      "    Uninstalling pandas-1.2.4:\n",
      "      Successfully uninstalled pandas-1.2.4\n",
      "  Attempting uninstall: lxml\n",
      "    Found existing installation: lxml 4.6.3\n",
      "    Uninstalling lxml-4.6.3:\n",
      "      Successfully uninstalled lxml-4.6.3\n",
      "  Attempting uninstall: beautifulsoup4\n",
      "    Found existing installation: beautifulsoup4 4.6.0\n",
      "    Uninstalling beautifulsoup4-4.6.0:\n",
      "      Successfully uninstalled beautifulsoup4-4.6.0\n",
      "\u001b[31mERROR: pip's dependency resolver does not currently take into account all the packages that are installed. This behaviour is the source of the following dependency conflicts.\n",
      "conda-repo-cli 1.0.4 requires pathlib, which is not installed.\n",
      "anaconda-project 0.9.1 requires ruamel-yaml, which is not installed.\n",
      "konlpy 0.5.2 requires beautifulsoup4==4.6.0, but you have beautifulsoup4 4.12.2 which is incompatible.\u001b[0m\n",
      "Successfully installed beautifulsoup4-4.12.2 frozendict-2.3.10 lxml-4.9.3 multitasking-0.0.11 pandas-2.0.3 peewee-3.17.0 python-dateutil-2.8.2 pytz-2023.3.post1 requests-2.31.0 tzdata-2023.3 yfinance-0.2.32\n"
     ]
    }
   ],
   "source": [
    "!pip install pandas_datareader \n",
    "!pip install yfinance"
   ]
  },
  {
   "cell_type": "code",
   "execution_count": 189,
   "metadata": {},
   "outputs": [],
   "source": [
    "import pandas_datareader as pdr   \n",
    "import yfinance as yf"
   ]
  },
  {
   "cell_type": "code",
   "execution_count": 190,
   "metadata": {},
   "outputs": [
    {
     "name": "stdout",
     "output_type": "stream",
     "text": [
      "[*********************100%%**********************]  1 of 1 completed\n"
     ]
    }
   ],
   "source": [
    "# tesla에는 데이터프레임이 저장\n",
    "tesla = yf.download('TSLA', start='2010-06-29', end='2018-03-27')\n",
    "\n",
    "# tesla에 저장된 데이터프레임을 파일로 저장\n",
    "tesla.to_csv('../data/tesla_stock_quandl.csv')"
   ]
  },
  {
   "cell_type": "code",
   "execution_count": 191,
   "metadata": {
    "scrolled": true
   },
   "outputs": [
    {
     "name": "stdout",
     "output_type": "stream",
     "text": [
      "                Open      High       Low     Close  Adj Close     Volume\n",
      "Date                                                                    \n",
      "2010-06-29  1.266667  1.666667  1.169333  1.592667   1.592667  281494500\n",
      "2010-06-30  1.719333  2.028000  1.553333  1.588667   1.588667  257806500\n",
      "2010-07-01  1.666667  1.728000  1.351333  1.464000   1.464000  123282000\n",
      "2010-07-02  1.533333  1.540000  1.247333  1.280000   1.280000   77097000\n",
      "2010-07-06  1.333333  1.333333  1.055333  1.074000   1.074000  103003500\n"
     ]
    }
   ],
   "source": [
    "print(tesla.head())"
   ]
  },
  {
   "cell_type": "code",
   "execution_count": 192,
   "metadata": {},
   "outputs": [
    {
     "name": "stdout",
     "output_type": "stream",
     "text": [
      "<class 'pandas.core.frame.DataFrame'>\n",
      "RangeIndex: 1949 entries, 0 to 1948\n",
      "Data columns (total 7 columns):\n",
      " #   Column     Non-Null Count  Dtype         \n",
      "---  ------     --------------  -----         \n",
      " 0   Date       1949 non-null   datetime64[ns]\n",
      " 1   Open       1949 non-null   float64       \n",
      " 2   High       1949 non-null   float64       \n",
      " 3   Low        1949 non-null   float64       \n",
      " 4   Close      1949 non-null   float64       \n",
      " 5   Adj Close  1949 non-null   float64       \n",
      " 6   Volume     1949 non-null   int64         \n",
      "dtypes: datetime64[ns](1), float64(5), int64(1)\n",
      "memory usage: 106.7 KB\n",
      "None\n"
     ]
    }
   ],
   "source": [
    "import pandas as pd\n",
    "tesla = pd.read_csv('../data/tesla_stock_quandl.csv', parse_dates=[0])\n",
    "print(tesla.info())"
   ]
  },
  {
   "cell_type": "code",
   "execution_count": 193,
   "metadata": {},
   "outputs": [
    {
     "name": "stdout",
     "output_type": "stream",
     "text": [
      "        Date      Open      High       Low     Close  Adj Close     Volume\n",
      "0 2010-06-29  1.266667  1.666667  1.169333  1.592667   1.592667  281494500\n",
      "1 2010-06-30  1.719333  2.028000  1.553333  1.588667   1.588667  257806500\n"
     ]
    }
   ],
   "source": [
    "print(tesla.loc[(tesla.Date.dt.year == 2010) & (tesla.Date.dt.month == 6)])"
   ]
  },
  {
   "cell_type": "markdown",
   "metadata": {},
   "source": [
    "## datetime 오브젝트를 데이터 프레임의 인덱스로 설정하여 데이터 추출하기(p258)"
   ]
  },
  {
   "cell_type": "code",
   "execution_count": 194,
   "metadata": {},
   "outputs": [
    {
     "name": "stdout",
     "output_type": "stream",
     "text": [
      "DatetimeIndex(['2010-06-29', '2010-06-30', '2010-07-01', '2010-07-02',\n",
      "               '2010-07-06', '2010-07-07', '2010-07-08', '2010-07-09',\n",
      "               '2010-07-12', '2010-07-13',\n",
      "               ...\n",
      "               '2018-03-13', '2018-03-14', '2018-03-15', '2018-03-16',\n",
      "               '2018-03-19', '2018-03-20', '2018-03-21', '2018-03-22',\n",
      "               '2018-03-23', '2018-03-26'],\n",
      "              dtype='datetime64[ns]', name='Date', length=1949, freq=None)\n"
     ]
    }
   ],
   "source": [
    "tesla.index = tesla['Date']  # Date : datetime64  \n",
    "print(tesla.index)"
   ]
  },
  {
   "cell_type": "code",
   "execution_count": 195,
   "metadata": {},
   "outputs": [
    {
     "name": "stdout",
     "output_type": "stream",
     "text": [
      "                 Date      Open      High       Low     Close\n",
      "Date                                                         \n",
      "2010-06-29 2010-06-29  1.266667  1.666667  1.169333  1.592667\n",
      "2010-06-30 2010-06-30  1.719333  2.028000  1.553333  1.588667\n",
      "2010-07-01 2010-07-01  1.666667  1.728000  1.351333  1.464000\n",
      "2010-07-02 2010-07-02  1.533333  1.540000  1.247333  1.280000\n",
      "2010-07-06 2010-07-06  1.333333  1.333333  1.055333  1.074000\n"
     ]
    }
   ],
   "source": [
    "print(tesla.iloc[:5, :5])"
   ]
  },
  {
   "cell_type": "code",
   "execution_count": 196,
   "metadata": {},
   "outputs": [
    {
     "name": "stdout",
     "output_type": "stream",
     "text": [
      "                 Date       Open       High        Low      Close\n",
      "Date                                                             \n",
      "2015-01-02 2015-01-02  14.858000  14.883333  14.217333  14.620667\n",
      "2015-01-05 2015-01-05  14.303333  14.433333  13.810667  14.006000\n",
      "2015-01-06 2015-01-06  14.004000  14.280000  13.614000  14.085333\n",
      "2015-01-07 2015-01-07  14.223333  14.318667  13.985333  14.063333\n",
      "2015-01-08 2015-01-08  14.187333  14.253333  14.000667  14.041333\n"
     ]
    }
   ],
   "source": [
    "print(tesla['2015':].iloc[:5, :5])"
   ]
  },
  {
   "cell_type": "code",
   "execution_count": 197,
   "metadata": {},
   "outputs": [
    {
     "name": "stdout",
     "output_type": "stream",
     "text": [
      "                 Date       Open       High        Low      Close\n",
      "Date                                                             \n",
      "2015-03-02 2015-03-02  13.513333  13.556000  13.055333  13.155333\n",
      "2015-03-03 2015-03-03  13.120667  13.349333  13.021333  13.304000\n",
      "2015-03-04 2015-03-04  13.283333  13.501333  13.147333  13.496000\n",
      "2015-03-05 2015-03-05  13.523333  13.746000  13.343333  13.375333\n",
      "2015-03-06 2015-03-06  13.280667  13.383333  12.810000  12.925333\n"
     ]
    }
   ],
   "source": [
    "print(tesla['2015-03':].iloc[:5, :5])"
   ]
  },
  {
   "cell_type": "markdown",
   "metadata": {},
   "source": [
    "## 시간 간격을 인덱스로 설정하여 데이터 추출하기(p259)"
   ]
  },
  {
   "cell_type": "code",
   "execution_count": 73,
   "metadata": {},
   "outputs": [
    {
     "name": "stdout",
     "output_type": "stream",
     "text": [
      "                 Date      Open      High       Low     Close  Adj Close  \\\n",
      "Date                                                                       \n",
      "2010-06-29 2010-06-29  1.266667  1.666667  1.169333  1.592667   1.592667   \n",
      "2010-06-30 2010-06-30  1.719333  2.028000  1.553333  1.588667   1.588667   \n",
      "2010-07-01 2010-07-01  1.666667  1.728000  1.351333  1.464000   1.464000   \n",
      "2010-07-02 2010-07-02  1.533333  1.540000  1.247333  1.280000   1.280000   \n",
      "2010-07-06 2010-07-06  1.333333  1.333333  1.055333  1.074000   1.074000   \n",
      "\n",
      "               Volume ref_date  \n",
      "Date                            \n",
      "2010-06-29  281494500   0 days  \n",
      "2010-06-30  257806500   1 days  \n",
      "2010-07-01  123282000   2 days  \n",
      "2010-07-02   77097000   3 days  \n",
      "2010-07-06  103003500   7 days  \n"
     ]
    }
   ],
   "source": [
    "tesla['ref_date'] = tesla['Date'] - tesla['Date'].min()\n",
    "\n",
    "print(tesla.head())"
   ]
  },
  {
   "cell_type": "code",
   "execution_count": 75,
   "metadata": {},
   "outputs": [
    {
     "name": "stdout",
     "output_type": "stream",
     "text": [
      "               Date      Open      High       Low     Close\n",
      "ref_date                                                   \n",
      "0 days   2010-06-29  1.266667  1.666667  1.169333  1.592667\n",
      "1 days   2010-06-30  1.719333  2.028000  1.553333  1.588667\n",
      "2 days   2010-07-01  1.666667  1.728000  1.351333  1.464000\n",
      "3 days   2010-07-02  1.533333  1.540000  1.247333  1.280000\n",
      "7 days   2010-07-06  1.333333  1.333333  1.055333  1.074000\n"
     ]
    }
   ],
   "source": [
    "tesla.index = tesla['ref_date']\n",
    "\n",
    "print(tesla.iloc[:5, :5])"
   ]
  },
  {
   "cell_type": "code",
   "execution_count": 77,
   "metadata": {},
   "outputs": [
    {
     "name": "stdout",
     "output_type": "stream",
     "text": [
      "               Date      Open      High       Low     Close\n",
      "ref_date                                                   \n",
      "7 days   2010-07-06  1.333333  1.333333  1.055333  1.074000\n",
      "8 days   2010-07-07  1.093333  1.108667  0.998667  1.053333\n",
      "9 days   2010-07-08  1.076000  1.168000  1.038000  1.164000\n",
      "10 days  2010-07-09  1.172000  1.193333  1.103333  1.160000\n",
      "13 days  2010-07-12  1.196667  1.204667  1.133333  1.136667\n"
     ]
    }
   ],
   "source": [
    "print(tesla['5 days':].iloc[:5, :5])  # 최초 5일간의 데이터 "
   ]
  },
  {
   "cell_type": "markdown",
   "metadata": {},
   "source": [
    "## 시간 범위와 인덱스 \n",
    "### 시간 범위 생성하여 새로운 인덱스로 지정하기(p.261)"
   ]
  },
  {
   "cell_type": "code",
   "execution_count": 144,
   "metadata": {},
   "outputs": [
    {
     "name": "stdout",
     "output_type": "stream",
     "text": [
      "        Date  Day  Cases_Guinea  Cases_Liberia  Cases_SierraLeone\n",
      "0 2015-01-05  289        2776.0            NaN            10030.0\n",
      "1 2015-01-04  288        2775.0            NaN             9780.0\n",
      "2 2015-01-03  287        2769.0         8166.0             9722.0\n",
      "3 2015-01-02  286           NaN         8157.0                NaN\n",
      "4 2014-12-31  284        2730.0         8115.0             9633.0\n"
     ]
    }
   ],
   "source": [
    "ebola = pd.read_csv('../data/country_timeseries.csv', parse_dates=[0]) \n",
    "print(ebola.iloc[:5, :5])"
   ]
  },
  {
   "cell_type": "code",
   "execution_count": 145,
   "metadata": {},
   "outputs": [
    {
     "name": "stdout",
     "output_type": "stream",
     "text": [
      "          Date  Day  Cases_Guinea  Cases_Liberia  Cases_SierraLeone\n",
      "117 2014-03-27    5         103.0            8.0                6.0\n",
      "118 2014-03-26    4          86.0            NaN                NaN\n",
      "119 2014-03-25    3          86.0            NaN                NaN\n",
      "120 2014-03-24    2          86.0            NaN                NaN\n",
      "121 2014-03-22    0          49.0            NaN                NaN\n"
     ]
    }
   ],
   "source": [
    "print(ebola.iloc[-5:, :5])"
   ]
  },
  {
   "cell_type": "code",
   "execution_count": 146,
   "metadata": {},
   "outputs": [
    {
     "name": "stdout",
     "output_type": "stream",
     "text": [
      "DatetimeIndex(['2014-12-31', '2015-01-01', '2015-01-02', '2015-01-03',\n",
      "               '2015-01-04', '2015-01-05'],\n",
      "              dtype='datetime64[ns]', freq='D')\n"
     ]
    }
   ],
   "source": [
    "#시간의 범위를 생성하여 인덱스로 저장 \n",
    "head_range = pd.date_range(start='2014-12-31', end='2015-01-05') \n",
    "print(head_range)"
   ]
  },
  {
   "cell_type": "code",
   "execution_count": 151,
   "metadata": {},
   "outputs": [
    {
     "name": "stdout",
     "output_type": "stream",
     "text": [
      "        Date  Day  Cases_Guinea  Cases_Liberia  Cases_SierraLeone  \\\n",
      "0 2015-01-05  289        2776.0            NaN            10030.0   \n",
      "1 2015-01-04  288        2775.0            NaN             9780.0   \n",
      "2 2015-01-03  287        2769.0         8166.0             9722.0   \n",
      "3 2015-01-02  286           NaN         8157.0                NaN   \n",
      "4 2014-12-31  284        2730.0         8115.0             9633.0   \n",
      "\n",
      "   Cases_Nigeria  Cases_Senegal  Cases_UnitedStates  Cases_Spain  Cases_Mali  \\\n",
      "0            NaN            NaN                 NaN          NaN         NaN   \n",
      "1            NaN            NaN                 NaN          NaN         NaN   \n",
      "2            NaN            NaN                 NaN          NaN         NaN   \n",
      "3            NaN            NaN                 NaN          NaN         NaN   \n",
      "4            NaN            NaN                 NaN          NaN         NaN   \n",
      "\n",
      "   Deaths_Guinea  Deaths_Liberia  Deaths_SierraLeone  Deaths_Nigeria  \\\n",
      "0         1786.0             NaN              2977.0             NaN   \n",
      "1         1781.0             NaN              2943.0             NaN   \n",
      "2         1767.0          3496.0              2915.0             NaN   \n",
      "3            NaN          3496.0                 NaN             NaN   \n",
      "4         1739.0          3471.0              2827.0             NaN   \n",
      "\n",
      "   Deaths_Senegal  Deaths_UnitedStates  Deaths_Spain  Deaths_Mali  \n",
      "0             NaN                  NaN           NaN          NaN  \n",
      "1             NaN                  NaN           NaN          NaN  \n",
      "2             NaN                  NaN           NaN          NaN  \n",
      "3             NaN                  NaN           NaN          NaN  \n",
      "4             NaN                  NaN           NaN          NaN  \n"
     ]
    }
   ],
   "source": [
    "ebola_5 = ebola.head()\n",
    "print(ebola_5)"
   ]
  },
  {
   "cell_type": "code",
   "execution_count": 152,
   "metadata": {},
   "outputs": [
    {
     "name": "stdout",
     "output_type": "stream",
     "text": [
      "                 Date  Day  Cases_Guinea  Cases_Liberia  Cases_SierraLeone  \\\n",
      "Date                                                                         \n",
      "2015-01-05 2015-01-05  289        2776.0            NaN            10030.0   \n",
      "2015-01-04 2015-01-04  288        2775.0            NaN             9780.0   \n",
      "2015-01-03 2015-01-03  287        2769.0         8166.0             9722.0   \n",
      "2015-01-02 2015-01-02  286           NaN         8157.0                NaN   \n",
      "2014-12-31 2014-12-31  284        2730.0         8115.0             9633.0   \n",
      "\n",
      "            Cases_Nigeria  Cases_Senegal  Cases_UnitedStates  Cases_Spain  \\\n",
      "Date                                                                        \n",
      "2015-01-05            NaN            NaN                 NaN          NaN   \n",
      "2015-01-04            NaN            NaN                 NaN          NaN   \n",
      "2015-01-03            NaN            NaN                 NaN          NaN   \n",
      "2015-01-02            NaN            NaN                 NaN          NaN   \n",
      "2014-12-31            NaN            NaN                 NaN          NaN   \n",
      "\n",
      "            Cases_Mali  Deaths_Guinea  Deaths_Liberia  Deaths_SierraLeone  \\\n",
      "Date                                                                        \n",
      "2015-01-05         NaN         1786.0             NaN              2977.0   \n",
      "2015-01-04         NaN         1781.0             NaN              2943.0   \n",
      "2015-01-03         NaN         1767.0          3496.0              2915.0   \n",
      "2015-01-02         NaN            NaN          3496.0                 NaN   \n",
      "2014-12-31         NaN         1739.0          3471.0              2827.0   \n",
      "\n",
      "            Deaths_Nigeria  Deaths_Senegal  Deaths_UnitedStates  Deaths_Spain  \\\n",
      "Date                                                                            \n",
      "2015-01-05             NaN             NaN                  NaN           NaN   \n",
      "2015-01-04             NaN             NaN                  NaN           NaN   \n",
      "2015-01-03             NaN             NaN                  NaN           NaN   \n",
      "2015-01-02             NaN             NaN                  NaN           NaN   \n",
      "2014-12-31             NaN             NaN                  NaN           NaN   \n",
      "\n",
      "            Deaths_Mali  \n",
      "Date                     \n",
      "2015-01-05          NaN  \n",
      "2015-01-04          NaN  \n",
      "2015-01-03          NaN  \n",
      "2015-01-02          NaN  \n",
      "2014-12-31          NaN  \n"
     ]
    }
   ],
   "source": [
    "ebola_5.index = ebola_5['Date']\n",
    "print(ebola_5)\n"
   ]
  },
  {
   "cell_type": "markdown",
   "metadata": {},
   "source": [
    "#### 생성한 시간의 범위를 새로운 인덱스로 대체하기  "
   ]
  },
  {
   "cell_type": "code",
   "execution_count": 154,
   "metadata": {},
   "outputs": [
    {
     "name": "stdout",
     "output_type": "stream",
     "text": [
      "                 Date  Day  Cases_Guinea  Cases_Liberia  Cases_SierraLeone\n",
      "Date                                                                      \n",
      "2015-01-05 2015-01-05  289        2776.0            NaN            10030.0\n",
      "2015-01-04 2015-01-04  288        2775.0            NaN             9780.0\n",
      "2015-01-03 2015-01-03  287        2769.0         8166.0             9722.0\n",
      "2015-01-02 2015-01-02  286           NaN         8157.0                NaN\n",
      "2014-12-31 2014-12-31  284        2730.0         8115.0             9633.0\n"
     ]
    }
   ],
   "source": [
    "ebola_5.reindex(head_range)\n",
    "print(ebola_5.iloc[:5, :5])"
   ]
  },
  {
   "cell_type": "markdown",
   "metadata": {},
   "source": [
    "## 시간 범위의 주기 설정하기(p.263)"
   ]
  },
  {
   "cell_type": "code",
   "execution_count": 100,
   "metadata": {},
   "outputs": [
    {
     "name": "stdout",
     "output_type": "stream",
     "text": [
      "DatetimeIndex(['2017-01-02', '2017-01-03', '2017-01-04', '2017-01-05',\n",
      "               '2017-01-06'],\n",
      "              dtype='datetime64[ns]', freq='B')\n"
     ]
    }
   ],
   "source": [
    "print(pd.date_range('2017-01-01', '2017-01-07', freq='B'))  # freq='B' : 평일만 포함 , 세부 속성은 교재 확인 "
   ]
  },
  {
   "cell_type": "markdown",
   "metadata": {},
   "source": [
    "## 에볼라의 확산 속도 비교하기(p264)\n",
    "### 1. 날짜별 사망자 수 그래프 그리기 "
   ]
  },
  {
   "cell_type": "code",
   "execution_count": 156,
   "metadata": {},
   "outputs": [
    {
     "data": {
      "image/png": "[encoded data removed]",
      "text/plain": [
       "<Figure size 432x288 with 1 Axes>"
      ]
     },
     "metadata": {
      "needs_background": "light"
     },
     "output_type": "display_data"
    }
   ],
   "source": [
    "import matplotlib.pyplot as plt\n",
    "\n",
    "ebola.index = ebola['Date']\n",
    "fig, ax = plt.subplots() \n",
    "ax = ebola.iloc[0:, 1:].plot(ax=ax)\n",
    "ax.legend(fontsize=7, loc=2, borderaxespad=1.)  # 범례의 글꼴 크기, 범례위치, 축과의 여백 지정 \n",
    "plt.show()"
   ]
  },
  {
   "cell_type": "markdown",
   "metadata": {},
   "source": [
    "### 2. 앞의 plot은 각 나라별  ebola의 발생일이 달라 그래프의 그려지는 시점이 다름 \n",
    "### 발병기간을 비교하려면 동일 선성에 두고 플롯을 그려보야야 비교 가능!    \n",
    "### 각 나라별 발병일을 맨처음 발생한  Guinea와 동일한 위치로 이동 "
   ]
  },
  {
   "cell_type": "code",
   "execution_count": 158,
   "metadata": {},
   "outputs": [
    {
     "name": "stdout",
     "output_type": "stream",
     "text": [
      "                 Date  Day  Cases_Guinea  Cases_Liberia  Cases_SierraLeone  \\\n",
      "Date                                                                         \n",
      "2014-03-27 2014-03-27    5         103.0            8.0                6.0   \n",
      "2014-03-26 2014-03-26    4          86.0            NaN                NaN   \n",
      "2014-03-25 2014-03-25    3          86.0            NaN                NaN   \n",
      "2014-03-24 2014-03-24    2          86.0            NaN                NaN   \n",
      "2014-03-22 2014-03-22    0          49.0            NaN                NaN   \n",
      "\n",
      "            Cases_Nigeria  Cases_Senegal  Cases_UnitedStates  Cases_Spain  \\\n",
      "Date                                                                        \n",
      "2014-03-27            NaN            NaN                 NaN          NaN   \n",
      "2014-03-26            NaN            NaN                 NaN          NaN   \n",
      "2014-03-25            NaN            NaN                 NaN          NaN   \n",
      "2014-03-24            NaN            NaN                 NaN          NaN   \n",
      "2014-03-22            NaN            NaN                 NaN          NaN   \n",
      "\n",
      "            Cases_Mali  Deaths_Guinea  Deaths_Liberia  Deaths_SierraLeone  \\\n",
      "Date                                                                        \n",
      "2014-03-27         NaN           66.0             6.0                 5.0   \n",
      "2014-03-26         NaN           62.0             NaN                 NaN   \n",
      "2014-03-25         NaN           60.0             NaN                 NaN   \n",
      "2014-03-24         NaN           59.0             NaN                 NaN   \n",
      "2014-03-22         NaN           29.0             NaN                 NaN   \n",
      "\n",
      "            Deaths_Nigeria  Deaths_Senegal  Deaths_UnitedStates  Deaths_Spain  \\\n",
      "Date                                                                            \n",
      "2014-03-27             NaN             NaN                  NaN           NaN   \n",
      "2014-03-26             NaN             NaN                  NaN           NaN   \n",
      "2014-03-25             NaN             NaN                  NaN           NaN   \n",
      "2014-03-24             NaN             NaN                  NaN           NaN   \n",
      "2014-03-22             NaN             NaN                  NaN           NaN   \n",
      "\n",
      "            Deaths_Mali  \n",
      "Date                     \n",
      "2014-03-27          NaN  \n",
      "2014-03-26          NaN  \n",
      "2014-03-25          NaN  \n",
      "2014-03-24          NaN  \n",
      "2014-03-22          NaN  \n"
     ]
    }
   ],
   "source": [
    "print(ebola.tail())"
   ]
  },
  {
   "cell_type": "markdown",
   "metadata": {},
   "source": [
    "### 3. 그래프를 그리기 위한 데이터프레임 준비하기"
   ]
  },
  {
   "cell_type": "code",
   "execution_count": 171,
   "metadata": {},
   "outputs": [
    {
     "name": "stdout",
     "output_type": "stream",
     "text": [
      "        Date  Day  Cases_Guinea  Cases_Liberia  Cases_SierraLeone\n",
      "0 2015-01-05  289        2776.0            NaN            10030.0\n",
      "1 2015-01-04  288        2775.0            NaN             9780.0\n",
      "2 2015-01-03  287        2769.0         8166.0             9722.0\n",
      "3 2015-01-02  286           NaN         8157.0                NaN\n",
      "4 2014-12-31  284        2730.0         8115.0             9633.0\n",
      "5 2014-12-28  281        2706.0         8018.0             9446.0\n",
      "6 2014-12-27  280        2695.0            NaN             9409.0\n",
      "7 2014-12-24  277        2630.0         7977.0             9203.0\n",
      "8 2014-12-21  273        2597.0            NaN             9004.0\n",
      "9 2014-12-20  272        2571.0         7862.0             8939.0\n",
      "          Date  Day  Cases_Guinea  Cases_Liberia  Cases_SierraLeone\n",
      "112 2014-04-04   13         143.0           18.0                2.0\n",
      "113 2014-04-01   10         127.0            8.0                2.0\n",
      "114 2014-03-31    9         122.0            8.0                2.0\n",
      "115 2014-03-29    7         112.0            7.0                NaN\n",
      "116 2014-03-28    6         112.0            3.0                2.0\n",
      "117 2014-03-27    5         103.0            8.0                6.0\n",
      "118 2014-03-26    4          86.0            NaN                NaN\n",
      "119 2014-03-25    3          86.0            NaN                NaN\n",
      "120 2014-03-24    2          86.0            NaN                NaN\n",
      "121 2014-03-22    0          49.0            NaN                NaN\n"
     ]
    }
   ],
   "source": [
    "# Date가 중간에 없는 날짜가 존재 - 모든 날짜를 다 생성해 주어야 정확한 날짜 비교 가능  \n",
    "ebola = pd.read_csv('../data/country_timeseries.csv',  parse_dates=['Date'])\n",
    "print(ebola.head(10).iloc[:, :5])\n",
    "print(ebola.tail(10).iloc[:, :5])"
   ]
  },
  {
   "cell_type": "markdown",
   "metadata": {},
   "source": [
    "### 4. 기간의 최대값과 최소값 범위를 생성하여 새로운 인덱스로 만들면 중간에 없던 날짜들이 모두 생성됨  "
   ]
  },
  {
   "cell_type": "code",
   "execution_count": 172,
   "metadata": {},
   "outputs": [],
   "source": [
    "ebola.index = ebola['Date']\n",
    "\n",
    "new_idx = pd.date_range(ebola.index.min(), ebola.index.max())"
   ]
  },
  {
   "cell_type": "code",
   "execution_count": 173,
   "metadata": {},
   "outputs": [
    {
     "name": "stdout",
     "output_type": "stream",
     "text": [
      "DatetimeIndex(['2014-03-22', '2014-03-23', '2014-03-24', '2014-03-25',\n",
      "               '2014-03-26', '2014-03-27', '2014-03-28', '2014-03-29',\n",
      "               '2014-03-30', '2014-03-31',\n",
      "               ...\n",
      "               '2014-12-27', '2014-12-28', '2014-12-29', '2014-12-30',\n",
      "               '2014-12-31', '2015-01-01', '2015-01-02', '2015-01-03',\n",
      "               '2015-01-04', '2015-01-05'],\n",
      "              dtype='datetime64[ns]', length=290, freq='D')\n"
     ]
    }
   ],
   "source": [
    "print(new_idx)"
   ]
  },
  {
   "cell_type": "markdown",
   "metadata": {},
   "source": [
    "### 5. 새로 생성된 new_idx 날짜가 에볼라 데이터에 있는 시간 순서와 반대로 생성되어 있으므로 시간 순서를 맞추기 위해 reversed "
   ]
  },
  {
   "cell_type": "code",
   "execution_count": 174,
   "metadata": {},
   "outputs": [],
   "source": [
    "new_idx = reversed(new_idx)"
   ]
  },
  {
   "cell_type": "markdown",
   "metadata": {},
   "source": [
    "### 6. reindex() 이용하여 생성한 인덱스를 새로운 인덱스로 지정 "
   ]
  },
  {
   "cell_type": "code",
   "execution_count": 175,
   "metadata": {},
   "outputs": [],
   "source": [
    "ebola = ebola.reindex(new_idx)"
   ]
  },
  {
   "cell_type": "code",
   "execution_count": 176,
   "metadata": {},
   "outputs": [
    {
     "name": "stdout",
     "output_type": "stream",
     "text": [
      "                 Date    Day  Cases_Guinea  Cases_Liberia  Cases_SierraLeone\n",
      "Date                                                                        \n",
      "2015-01-05 2015-01-05  289.0        2776.0            NaN            10030.0\n",
      "2015-01-04 2015-01-04  288.0        2775.0            NaN             9780.0\n",
      "2015-01-03 2015-01-03  287.0        2769.0         8166.0             9722.0\n",
      "2015-01-02 2015-01-02  286.0           NaN         8157.0                NaN\n",
      "2015-01-01        NaT    NaN           NaN            NaN                NaN\n"
     ]
    }
   ],
   "source": [
    "print(ebola.head().iloc[:, :5])"
   ]
  },
  {
   "cell_type": "code",
   "execution_count": 177,
   "metadata": {
    "scrolled": true
   },
   "outputs": [
    {
     "name": "stdout",
     "output_type": "stream",
     "text": [
      "                 Date  Day  Cases_Guinea  Cases_Liberia  Cases_SierraLeone\n",
      "Date                                                                      \n",
      "2014-03-26 2014-03-26  4.0          86.0            NaN                NaN\n",
      "2014-03-25 2014-03-25  3.0          86.0            NaN                NaN\n",
      "2014-03-24 2014-03-24  2.0          86.0            NaN                NaN\n",
      "2014-03-23        NaT  NaN           NaN            NaN                NaN\n",
      "2014-03-22 2014-03-22  0.0          49.0            NaN                NaN\n"
     ]
    }
   ],
   "source": [
    "print(ebola.tail().iloc[:, :5])"
   ]
  },
  {
   "cell_type": "markdown",
   "metadata": {},
   "source": [
    "### 7. 각 나라의 에볼라 발병일 옮기기\n",
    "### last_valid_index(가장 오래된 데이터)  , first_valid_index(가장 최근 데이터)"
   ]
  },
  {
   "cell_type": "code",
   "execution_count": 134,
   "metadata": {
    "scrolled": true
   },
   "outputs": [
    {
     "name": "stdout",
     "output_type": "stream",
     "text": [
      "Date                  2014-03-22\n",
      "Day                   2014-03-22\n",
      "Cases_Guinea          2014-03-22\n",
      "Cases_Liberia         2014-03-27\n",
      "Cases_SierraLeone     2014-03-27\n",
      "Cases_Nigeria         2014-07-23\n",
      "Cases_Senegal         2014-08-31\n",
      "Cases_UnitedStates    2014-10-01\n",
      "Cases_Spain           2014-10-08\n",
      "Cases_Mali            2014-10-22\n",
      "Deaths_Guinea         2014-03-22\n",
      "Deaths_Liberia        2014-03-27\n",
      "Deaths_SierraLeone    2014-03-27\n",
      "Deaths_Nigeria        2014-07-23\n",
      "Deaths_Senegal        2014-09-07\n",
      "Deaths_UnitedStates   2014-10-01\n",
      "Deaths_Spain          2014-10-08\n",
      "Deaths_Mali           2014-10-22\n",
      "dtype: datetime64[ns]\n"
     ]
    }
   ],
   "source": [
    "last_valid = ebola.apply(pd.Series.last_valid_index)   # 각 나라별 최초 발병일 \n",
    "print(last_valid)"
   ]
  },
  {
   "cell_type": "code",
   "execution_count": 176,
   "metadata": {},
   "outputs": [
    {
     "name": "stdout",
     "output_type": "stream",
     "text": [
      "Date                  2015-01-05\n",
      "Day                   2015-01-05\n",
      "Cases_Guinea          2015-01-05\n",
      "Cases_Liberia         2015-01-03\n",
      "Cases_SierraLeone     2015-01-05\n",
      "Cases_Nigeria         2014-12-07\n",
      "Cases_Senegal         2014-12-07\n",
      "Cases_UnitedStates    2014-12-07\n",
      "Cases_Spain           2014-12-07\n",
      "Cases_Mali            2014-12-07\n",
      "Deaths_Guinea         2015-01-05\n",
      "Deaths_Liberia        2015-01-03\n",
      "Deaths_SierraLeone    2015-01-05\n",
      "Deaths_Nigeria        2014-12-07\n",
      "Deaths_Senegal        2014-12-07\n",
      "Deaths_UnitedStates   2014-12-07\n",
      "Deaths_Spain          2014-12-07\n",
      "Deaths_Mali           2014-12-07\n",
      "dtype: datetime64[ns]\n"
     ]
    }
   ],
   "source": [
    "first_valid = ebola.apply(pd.Series.first_valid_index) # 각 나라별 최후의 발병일\n",
    "print(first_valid)"
   ]
  },
  {
   "cell_type": "markdown",
   "metadata": {},
   "source": [
    "### 8.  에볼라 맨처음 발병일에서 각 나라별 최초 발병일을 빼줌"
   ]
  },
  {
   "cell_type": "code",
   "execution_count": 181,
   "metadata": {},
   "outputs": [
    {
     "name": "stdout",
     "output_type": "stream",
     "text": [
      "2014-03-22 00:00:00\n"
     ]
    }
   ],
   "source": [
    "earliest_date = ebola.index.min() \n",
    "print(earliest_date)"
   ]
  },
  {
   "cell_type": "code",
   "execution_count": 182,
   "metadata": {},
   "outputs": [
    {
     "name": "stdout",
     "output_type": "stream",
     "text": [
      "Date                    0 days\n",
      "Day                     0 days\n",
      "Cases_Guinea            0 days\n",
      "Cases_Liberia           5 days\n",
      "Cases_SierraLeone       5 days\n",
      "Cases_Nigeria         123 days\n",
      "Cases_Senegal         162 days\n",
      "Cases_UnitedStates    193 days\n",
      "Cases_Spain           200 days\n",
      "Cases_Mali            214 days\n",
      "Deaths_Guinea           0 days\n",
      "Deaths_Liberia          5 days\n",
      "Deaths_SierraLeone      5 days\n",
      "Deaths_Nigeria        123 days\n",
      "Deaths_Senegal        169 days\n",
      "Deaths_UnitedStates   193 days\n",
      "Deaths_Spain          200 days\n",
      "Deaths_Mali           214 days\n",
      "dtype: timedelta64[ns]\n"
     ]
    }
   ],
   "source": [
    "shift_values = last_valid - earliest_date \n",
    "print(shift_values)"
   ]
  },
  {
   "cell_type": "markdown",
   "metadata": {},
   "source": [
    "### 9. 에볼라 발병일을 동일선상으로 맞추기 shift() : 지정한 일 수 만큼 이동 "
   ]
  },
  {
   "cell_type": "code",
   "execution_count": 183,
   "metadata": {},
   "outputs": [],
   "source": [
    "# shift method : 지정된 일 수 만큼 이동(shift)시킨 후 딕셔너리에 저장  \n",
    "ebola_dict = {} \n",
    "for idx, col in enumerate(ebola):\n",
    "    d = shift_values[idx].days   #  일(days)로 변환한 값을 d에 저장 \n",
    "    shifted = ebola[col].shift(d)  # 현재 열을  d만큼 이동 \n",
    "    ebola_dict[col] = shifted"
   ]
  },
  {
   "cell_type": "markdown",
   "metadata": {},
   "source": [
    "### 10. dataframe으로 만들기 "
   ]
  },
  {
   "cell_type": "code",
   "execution_count": 184,
   "metadata": {},
   "outputs": [],
   "source": [
    "ebola_shift = pd.DataFrame(ebola_dict)"
   ]
  },
  {
   "cell_type": "markdown",
   "metadata": {},
   "source": [
    "### 11. 최초 발병일(2024-02-22)를 기준으로 모든 나라별 데이터가 이동 "
   ]
  },
  {
   "cell_type": "code",
   "execution_count": 187,
   "metadata": {},
   "outputs": [
    {
     "name": "stdout",
     "output_type": "stream",
     "text": [
      "                 Date  Day  Cases_Guinea  Cases_Liberia  Cases_SierraLeone  \\\n",
      "Date                                                                         \n",
      "2014-03-26 2014-03-26  4.0          86.0            8.0                2.0   \n",
      "2014-03-25 2014-03-25  3.0          86.0            NaN                NaN   \n",
      "2014-03-24 2014-03-24  2.0          86.0            7.0                NaN   \n",
      "2014-03-23        NaT  NaN           NaN            3.0                2.0   \n",
      "2014-03-22 2014-03-22  0.0          49.0            8.0                6.0   \n",
      "\n",
      "            Cases_Nigeria  Cases_Senegal  Cases_UnitedStates  Cases_Spain  \\\n",
      "Date                                                                        \n",
      "2014-03-26            1.0            NaN                 1.0          1.0   \n",
      "2014-03-25            NaN            NaN                 NaN          NaN   \n",
      "2014-03-24            NaN            NaN                 NaN          NaN   \n",
      "2014-03-23            NaN            NaN                 NaN          NaN   \n",
      "2014-03-22            0.0            1.0                 1.0          1.0   \n",
      "\n",
      "            Cases_Mali  Deaths_Guinea  Deaths_Liberia  Deaths_SierraLeone  \\\n",
      "Date                                                                        \n",
      "2014-03-26         NaN           62.0             4.0                 2.0   \n",
      "2014-03-25         NaN           60.0             NaN                 NaN   \n",
      "2014-03-24         NaN           59.0             2.0                 NaN   \n",
      "2014-03-23         NaN            NaN             3.0                 2.0   \n",
      "2014-03-22         1.0           29.0             6.0                 5.0   \n",
      "\n",
      "            Deaths_Nigeria  Deaths_Senegal  Deaths_UnitedStates  Deaths_Spain  \\\n",
      "Date                                                                            \n",
      "2014-03-26             1.0             NaN                  0.0           1.0   \n",
      "2014-03-25             NaN             NaN                  NaN           NaN   \n",
      "2014-03-24             NaN             NaN                  NaN           NaN   \n",
      "2014-03-23             NaN             NaN                  NaN           NaN   \n",
      "2014-03-22             0.0             0.0                  0.0           1.0   \n",
      "\n",
      "            Deaths_Mali  \n",
      "Date                     \n",
      "2014-03-26          NaN  \n",
      "2014-03-25          NaN  \n",
      "2014-03-24          NaN  \n",
      "2014-03-23          NaN  \n",
      "2014-03-22          1.0  \n",
      "                 Date  Day  Cases_Guinea  Cases_Liberia  Cases_SierraLeone  \\\n",
      "Date                                                                         \n",
      "2014-03-26 2014-03-26  4.0          86.0            NaN                NaN   \n",
      "2014-03-25 2014-03-25  3.0          86.0            NaN                NaN   \n",
      "2014-03-24 2014-03-24  2.0          86.0            NaN                NaN   \n",
      "2014-03-23        NaT  NaN           NaN            NaN                NaN   \n",
      "2014-03-22 2014-03-22  0.0          49.0            NaN                NaN   \n",
      "\n",
      "            Cases_Nigeria  Cases_Senegal  Cases_UnitedStates  Cases_Spain  \\\n",
      "Date                                                                        \n",
      "2014-03-26            NaN            NaN                 NaN          NaN   \n",
      "2014-03-25            NaN            NaN                 NaN          NaN   \n",
      "2014-03-24            NaN            NaN                 NaN          NaN   \n",
      "2014-03-23            NaN            NaN                 NaN          NaN   \n",
      "2014-03-22            NaN            NaN                 NaN          NaN   \n",
      "\n",
      "            Cases_Mali  Deaths_Guinea  Deaths_Liberia  Deaths_SierraLeone  \\\n",
      "Date                                                                        \n",
      "2014-03-26         NaN           62.0             NaN                 NaN   \n",
      "2014-03-25         NaN           60.0             NaN                 NaN   \n",
      "2014-03-24         NaN           59.0             NaN                 NaN   \n",
      "2014-03-23         NaN            NaN             NaN                 NaN   \n",
      "2014-03-22         NaN           29.0             NaN                 NaN   \n",
      "\n",
      "            Deaths_Nigeria  Deaths_Senegal  Deaths_UnitedStates  Deaths_Spain  \\\n",
      "Date                                                                            \n",
      "2014-03-26             NaN             NaN                  NaN           NaN   \n",
      "2014-03-25             NaN             NaN                  NaN           NaN   \n",
      "2014-03-24             NaN             NaN                  NaN           NaN   \n",
      "2014-03-23             NaN             NaN                  NaN           NaN   \n",
      "2014-03-22             NaN             NaN                  NaN           NaN   \n",
      "\n",
      "            Deaths_Mali  \n",
      "Date                     \n",
      "2014-03-26          NaN  \n",
      "2014-03-25          NaN  \n",
      "2014-03-24          NaN  \n",
      "2014-03-23          NaN  \n",
      "2014-03-22          NaN  \n"
     ]
    }
   ],
   "source": [
    "print(ebola_shift.tail())\n",
    "print(ebola.tail())\n"
   ]
  },
  {
   "cell_type": "markdown",
   "metadata": {},
   "source": [
    "### 12. 인덱스를 Day열로 지정하고 불필요한 Date, Day열 삭제"
   ]
  },
  {
   "cell_type": "code",
   "execution_count": 141,
   "metadata": {},
   "outputs": [
    {
     "name": "stdout",
     "output_type": "stream",
     "text": [
      "     Cases_Guinea  Cases_Liberia  Cases_SierraLeone  Cases_Nigeria  \\\n",
      "Day                                                                  \n",
      "4.0          86.0            8.0                2.0            1.0   \n",
      "3.0          86.0            NaN                NaN            NaN   \n",
      "2.0          86.0            7.0                NaN            NaN   \n",
      "NaN           NaN            3.0                2.0            NaN   \n",
      "0.0          49.0            8.0                6.0            0.0   \n",
      "\n",
      "     Cases_Senegal  Cases_UnitedStates  Cases_Spain  Cases_Mali  \\\n",
      "Day                                                               \n",
      "4.0            NaN                 1.0          1.0         NaN   \n",
      "3.0            NaN                 NaN          NaN         NaN   \n",
      "2.0            NaN                 NaN          NaN         NaN   \n",
      "NaN            NaN                 NaN          NaN         NaN   \n",
      "0.0            1.0                 1.0          1.0         1.0   \n",
      "\n",
      "     Deaths_Guinea  Deaths_Liberia  Deaths_SierraLeone  Deaths_Nigeria  \\\n",
      "Day                                                                      \n",
      "4.0           62.0             4.0                 2.0             1.0   \n",
      "3.0           60.0             NaN                 NaN             NaN   \n",
      "2.0           59.0             2.0                 NaN             NaN   \n",
      "NaN            NaN             3.0                 2.0             NaN   \n",
      "0.0           29.0             6.0                 5.0             0.0   \n",
      "\n",
      "     Deaths_Senegal  Deaths_UnitedStates  Deaths_Spain  Deaths_Mali  \n",
      "Day                                                                  \n",
      "4.0             NaN                  0.0           1.0          NaN  \n",
      "3.0             NaN                  NaN           NaN          NaN  \n",
      "2.0             NaN                  NaN           NaN          NaN  \n",
      "NaN             NaN                  NaN           NaN          NaN  \n",
      "0.0             0.0                  0.0           1.0          1.0  \n",
      "                 Date  Day  Cases_Guinea  Cases_Liberia  Cases_SierraLeone  \\\n",
      "Date                                                                         \n",
      "2014-03-26 2014-03-26  4.0          86.0            NaN                NaN   \n",
      "2014-03-25 2014-03-25  3.0          86.0            NaN                NaN   \n",
      "2014-03-24 2014-03-24  2.0          86.0            NaN                NaN   \n",
      "2014-03-23        NaT  NaN           NaN            NaN                NaN   \n",
      "2014-03-22 2014-03-22  0.0          49.0            NaN                NaN   \n",
      "\n",
      "            Cases_Nigeria  Cases_Senegal  Cases_UnitedStates  Cases_Spain  \\\n",
      "Date                                                                        \n",
      "2014-03-26            NaN            NaN                 NaN          NaN   \n",
      "2014-03-25            NaN            NaN                 NaN          NaN   \n",
      "2014-03-24            NaN            NaN                 NaN          NaN   \n",
      "2014-03-23            NaN            NaN                 NaN          NaN   \n",
      "2014-03-22            NaN            NaN                 NaN          NaN   \n",
      "\n",
      "            Cases_Mali  Deaths_Guinea  Deaths_Liberia  Deaths_SierraLeone  \\\n",
      "Date                                                                        \n",
      "2014-03-26         NaN           62.0             NaN                 NaN   \n",
      "2014-03-25         NaN           60.0             NaN                 NaN   \n",
      "2014-03-24         NaN           59.0             NaN                 NaN   \n",
      "2014-03-23         NaN            NaN             NaN                 NaN   \n",
      "2014-03-22         NaN           29.0             NaN                 NaN   \n",
      "\n",
      "            Deaths_Nigeria  Deaths_Senegal  Deaths_UnitedStates  Deaths_Spain  \\\n",
      "Date                                                                            \n",
      "2014-03-26             NaN             NaN                  NaN           NaN   \n",
      "2014-03-25             NaN             NaN                  NaN           NaN   \n",
      "2014-03-24             NaN             NaN                  NaN           NaN   \n",
      "2014-03-23             NaN             NaN                  NaN           NaN   \n",
      "2014-03-22             NaN             NaN                  NaN           NaN   \n",
      "\n",
      "            Deaths_Mali  \n",
      "Date                     \n",
      "2014-03-26          NaN  \n",
      "2014-03-25          NaN  \n",
      "2014-03-24          NaN  \n",
      "2014-03-23          NaN  \n",
      "2014-03-22          NaN  \n"
     ]
    }
   ],
   "source": [
    "ebola_shift.index = ebola_shift['Day'] \n",
    "ebola_shift = ebola_shift.drop(['Date', 'Day'], axis=1)\n",
    "\n",
    "print(ebola_shift.tail())\n",
    "print(ebola.tail())\n"
   ]
  },
  {
   "cell_type": "markdown",
   "metadata": {},
   "source": [
    "### 13.  동일기준선상에서 플롯팅 "
   ]
  },
  {
   "cell_type": "code",
   "execution_count": 188,
   "metadata": {},
   "outputs": [
    {
     "data": {
      "image/png": "[encoded data removed]",
      "text/plain": [
       "<Figure size 432x288 with 1 Axes>"
      ]
     },
     "metadata": {
      "needs_background": "light"
     },
     "output_type": "display_data"
    }
   ],
   "source": [
    "fig, ax = plt.subplots() \n",
    "ax = ebola_shift.iloc[:, :].plot(ax=ax)\n",
    "ax.legend(fontsize=7, loc=2, borderaxespad=0.) \n",
    "plt.show()"
   ]
  },
  {
   "cell_type": "markdown",
   "metadata": {},
   "source": [
    "# The End"
   ]
  }
 ],
 "metadata": {
  "kernelspec": {
   "display_name": "Python 3",
   "language": "python",
   "name": "python3"
  },
  "language_info": {
   "codemirror_mode": {
    "name": "ipython",
    "version": 3
   },
   "file_extension": ".py",
   "mimetype": "text/x-python",
   "name": "python",
   "nbconvert_exporter": "python",
   "pygments_lexer": "ipython3",
   "version": "3.8.8"
  }
 },
 "nbformat": 4,
 "nbformat_minor": 1
}
