{
 "cells": [
  {
   "cell_type": "code",
   "execution_count": 1,
   "id": "173a2419",
   "metadata": {},
   "outputs": [],
   "source": [
    "import pandas as pd\n",
    "import re"
   ]
  },
  {
   "cell_type": "code",
   "execution_count": 2,
   "id": "a73041ec",
   "metadata": {},
   "outputs": [],
   "source": [
    "df = pd.read_csv('../data/telephone.csv')"
   ]
  },
  {
   "cell_type": "code",
   "execution_count": 3,
   "id": "e913b886",
   "metadata": {},
   "outputs": [
    {
     "data": {
      "text/html": [
       "<div>\n",
       "<style scoped>\n",
       "    .dataframe tbody tr th:only-of-type {\n",
       "        vertical-align: middle;\n",
       "    }\n",
       "\n",
       "    .dataframe tbody tr th {\n",
       "        vertical-align: top;\n",
       "    }\n",
       "\n",
       "    .dataframe thead th {\n",
       "        text-align: right;\n",
       "    }\n",
       "</style>\n",
       "<table border=\"1\" class=\"dataframe\">\n",
       "  <thead>\n",
       "    <tr style=\"text-align: right;\">\n",
       "      <th></th>\n",
       "      <th>010-6256-3768</th>\n",
       "    </tr>\n",
       "  </thead>\n",
       "  <tbody>\n",
       "    <tr>\n",
       "      <th>0</th>\n",
       "      <td>010.4356.3456</td>\n",
       "    </tr>\n",
       "    <tr>\n",
       "      <th>1</th>\n",
       "      <td>+82  (031) 539 1280</td>\n",
       "    </tr>\n",
       "    <tr>\n",
       "      <th>2</th>\n",
       "      <td>02-1111-2222</td>\n",
       "    </tr>\n",
       "    <tr>\n",
       "      <th>3</th>\n",
       "      <td>010 7657 3022</td>\n",
       "    </tr>\n",
       "    <tr>\n",
       "      <th>4</th>\n",
       "      <td>+82  (02) 456-4444</td>\n",
       "    </tr>\n",
       "    <tr>\n",
       "      <th>5</th>\n",
       "      <td>02 756 4566</td>\n",
       "    </tr>\n",
       "    <tr>\n",
       "      <th>6</th>\n",
       "      <td>064 245 2345</td>\n",
       "    </tr>\n",
       "  </tbody>\n",
       "</table>\n",
       "</div>"
      ],
      "text/plain": [
       "         010-6256-3768\n",
       "0        010.4356.3456\n",
       "1  +82  (031) 539 1280\n",
       "2         02-1111-2222\n",
       "3        010 7657 3022\n",
       "4   +82  (02) 456-4444\n",
       "5          02 756 4566\n",
       "6         064 245 2345"
      ]
     },
     "execution_count": 3,
     "metadata": {},
     "output_type": "execute_result"
    }
   ],
   "source": [
    "df"
   ]
  },
  {
   "cell_type": "code",
   "execution_count": 6,
   "id": "7913eee1",
   "metadata": {},
   "outputs": [],
   "source": [
    "df.columns = ['phone']"
   ]
  },
  {
   "cell_type": "code",
   "execution_count": 7,
   "id": "481a6a02",
   "metadata": {},
   "outputs": [
    {
     "data": {
      "text/html": [
       "<div>\n",
       "<style scoped>\n",
       "    .dataframe tbody tr th:only-of-type {\n",
       "        vertical-align: middle;\n",
       "    }\n",
       "\n",
       "    .dataframe tbody tr th {\n",
       "        vertical-align: top;\n",
       "    }\n",
       "\n",
       "    .dataframe thead th {\n",
       "        text-align: right;\n",
       "    }\n",
       "</style>\n",
       "<table border=\"1\" class=\"dataframe\">\n",
       "  <thead>\n",
       "    <tr style=\"text-align: right;\">\n",
       "      <th></th>\n",
       "      <th>phone</th>\n",
       "    </tr>\n",
       "  </thead>\n",
       "  <tbody>\n",
       "    <tr>\n",
       "      <th>0</th>\n",
       "      <td>010.4356.3456</td>\n",
       "    </tr>\n",
       "    <tr>\n",
       "      <th>1</th>\n",
       "      <td>+82  (031) 539 1280</td>\n",
       "    </tr>\n",
       "    <tr>\n",
       "      <th>2</th>\n",
       "      <td>02-1111-2222</td>\n",
       "    </tr>\n",
       "    <tr>\n",
       "      <th>3</th>\n",
       "      <td>010 7657 3022</td>\n",
       "    </tr>\n",
       "    <tr>\n",
       "      <th>4</th>\n",
       "      <td>+82  (02) 456-4444</td>\n",
       "    </tr>\n",
       "    <tr>\n",
       "      <th>5</th>\n",
       "      <td>02 756 4566</td>\n",
       "    </tr>\n",
       "    <tr>\n",
       "      <th>6</th>\n",
       "      <td>064 245 2345</td>\n",
       "    </tr>\n",
       "  </tbody>\n",
       "</table>\n",
       "</div>"
      ],
      "text/plain": [
       "                 phone\n",
       "0        010.4356.3456\n",
       "1  +82  (031) 539 1280\n",
       "2         02-1111-2222\n",
       "3        010 7657 3022\n",
       "4   +82  (02) 456-4444\n",
       "5          02 756 4566\n",
       "6         064 245 2345"
      ]
     },
     "execution_count": 7,
     "metadata": {},
     "output_type": "execute_result"
    }
   ],
   "source": [
    "df"
   ]
  },
  {
   "cell_type": "code",
   "execution_count": null,
   "id": "e57bd756",
   "metadata": {},
   "outputs": [],
   "source": [
    "df"
   ]
  },
  {
   "cell_type": "code",
   "execution_count": 4,
   "id": "0acce867",
   "metadata": {},
   "outputs": [],
   "source": [
    "star = list(df)"
   ]
  },
  {
   "cell_type": "code",
   "execution_count": 5,
   "id": "88024fbe",
   "metadata": {},
   "outputs": [
    {
     "data": {
      "text/plain": [
       "['010-6256-3768']"
      ]
     },
     "execution_count": 5,
     "metadata": {},
     "output_type": "execute_result"
    }
   ],
   "source": [
    "star"
   ]
  },
  {
   "cell_type": "code",
   "execution_count": 8,
   "id": "37663ca2",
   "metadata": {},
   "outputs": [],
   "source": [
    "df = pd.read_csv('../data/phone.csv')"
   ]
  },
  {
   "cell_type": "code",
   "execution_count": 9,
   "id": "50f65e61",
   "metadata": {},
   "outputs": [
    {
     "data": {
      "text/html": [
       "<div>\n",
       "<style scoped>\n",
       "    .dataframe tbody tr th:only-of-type {\n",
       "        vertical-align: middle;\n",
       "    }\n",
       "\n",
       "    .dataframe tbody tr th {\n",
       "        vertical-align: top;\n",
       "    }\n",
       "\n",
       "    .dataframe thead th {\n",
       "        text-align: right;\n",
       "    }\n",
       "</style>\n",
       "<table border=\"1\" class=\"dataframe\">\n",
       "  <thead>\n",
       "    <tr style=\"text-align: right;\">\n",
       "      <th></th>\n",
       "      <th>Phone</th>\n",
       "    </tr>\n",
       "  </thead>\n",
       "  <tbody>\n",
       "    <tr>\n",
       "      <th>0</th>\n",
       "      <td>010-6256-3768</td>\n",
       "    </tr>\n",
       "    <tr>\n",
       "      <th>1</th>\n",
       "      <td>010.4356.3456</td>\n",
       "    </tr>\n",
       "    <tr>\n",
       "      <th>2</th>\n",
       "      <td>+82  (031) 539 1280</td>\n",
       "    </tr>\n",
       "    <tr>\n",
       "      <th>3</th>\n",
       "      <td>02-1111-2222</td>\n",
       "    </tr>\n",
       "    <tr>\n",
       "      <th>4</th>\n",
       "      <td>010 7657 3022</td>\n",
       "    </tr>\n",
       "    <tr>\n",
       "      <th>5</th>\n",
       "      <td>+82  (02) 456-4444</td>\n",
       "    </tr>\n",
       "    <tr>\n",
       "      <th>6</th>\n",
       "      <td>02 756 4566</td>\n",
       "    </tr>\n",
       "    <tr>\n",
       "      <th>7</th>\n",
       "      <td>064 245 2345</td>\n",
       "    </tr>\n",
       "  </tbody>\n",
       "</table>\n",
       "</div>"
      ],
      "text/plain": [
       "                 Phone\n",
       "0        010-6256-3768\n",
       "1        010.4356.3456\n",
       "2  +82  (031) 539 1280\n",
       "3         02-1111-2222\n",
       "4        010 7657 3022\n",
       "5   +82  (02) 456-4444\n",
       "6          02 756 4566\n",
       "7         064 245 2345"
      ]
     },
     "execution_count": 9,
     "metadata": {},
     "output_type": "execute_result"
    }
   ],
   "source": [
    "df"
   ]
  },
  {
   "cell_type": "code",
   "execution_count": 124,
   "id": "34f3cd7e",
   "metadata": {},
   "outputs": [],
   "source": [
    "star = list(df['Phone'])"
   ]
  },
  {
   "cell_type": "code",
   "execution_count": 11,
   "id": "d9cfa043",
   "metadata": {},
   "outputs": [
    {
     "data": {
      "text/plain": [
       "['010-6256-3768',\n",
       " '010.4356.3456',\n",
       " '+82  (031) 539 1280',\n",
       " '02-1111-2222',\n",
       " '010 7657 3022',\n",
       " '+82  (02) 456-4444',\n",
       " '02 756 4566',\n",
       " '064 245 2345']"
      ]
     },
     "execution_count": 11,
     "metadata": {},
     "output_type": "execute_result"
    }
   ],
   "source": [
    "star"
   ]
  },
  {
   "cell_type": "code",
   "execution_count": 31,
   "id": "ba7968db",
   "metadata": {},
   "outputs": [],
   "source": [
    "text = '01'"
   ]
  },
  {
   "cell_type": "code",
   "execution_count": 32,
   "id": "6c2a777a",
   "metadata": {},
   "outputs": [
    {
     "data": {
      "text/plain": [
       "<re.Match object; span=(0, 2), match='01'>"
      ]
     },
     "execution_count": 32,
     "metadata": {},
     "output_type": "execute_result"
    }
   ],
   "source": [
    "re.match(pattern='([-.\\s])?\\d{2}', string=text)"
   ]
  },
  {
   "cell_type": "code",
   "execution_count": 89,
   "id": "0db6664d",
   "metadata": {},
   "outputs": [],
   "source": [
    "re.match(pattern='(\\+)?\\d{1,3}[-.\\s](\\s)?(\\()?\\d{3,4}[-.\\s\\)][-.\\s]?\\d{3,4}[-.\\s]\\d{3,4}', string='010.4356.3456')"
   ]
  },
  {
   "cell_type": "code",
   "execution_count": 87,
   "id": "09b44eda",
   "metadata": {},
   "outputs": [
    {
     "data": {
      "text/plain": [
       "<re.Match object; span=(0, 13), match='010.4356.3456'>"
      ]
     },
     "execution_count": 87,
     "metadata": {},
     "output_type": "execute_result"
    }
   ],
   "source": [
    "re.match(pattern='\\d{3}[-.\\s]\\d{3,4}[-.\\s]\\d{3,4}', string='010.4356.3456')"
   ]
  },
  {
   "cell_type": "code",
   "execution_count": 85,
   "id": "5d8b26cc",
   "metadata": {},
   "outputs": [],
   "source": [
    "re.match(pattern='(\\+)?\\d{1,3}[-.\\s](\\s)?(\\()?\\d{3,4}[-.\\s\\)][-.\\s]?\\d{3,4}[-.\\s]\\d{3,4}', string='010.4356.3456')"
   ]
  },
  {
   "cell_type": "code",
   "execution_count": 76,
   "id": "5f0cc217",
   "metadata": {},
   "outputs": [],
   "source": [
    "re.match(pattern='(\\+)?\\d{1,3}[-.\\s](\\s)?(\\()?\\d{2,4}[-.\\s\\)][-.\\s]?\\d{3,4}[-.\\s]\\d{3,4}', string='010.4356.3456')"
   ]
  },
  {
   "cell_type": "code",
   "execution_count": 92,
   "id": "ea005721",
   "metadata": {},
   "outputs": [
    {
     "data": {
      "text/plain": [
       "['010-6256-3768',\n",
       " '010.4356.3456',\n",
       " '+82  (031) 539 1280',\n",
       " '02-1111-2222',\n",
       " '010 7657 3022',\n",
       " '+82  (02) 456-4444',\n",
       " '02 756 4566',\n",
       " '064 245 2345']"
      ]
     },
     "execution_count": 92,
     "metadata": {},
     "output_type": "execute_result"
    }
   ],
   "source": [
    "star"
   ]
  },
  {
   "cell_type": "code",
   "execution_count": 122,
   "id": "0b5f2b1b",
   "metadata": {},
   "outputs": [],
   "source": [
    "u = re.compile(pattern='(\\+)?\\d{2,3}[-.\\s](\\s\\(\\d{2,3}\\)\\s)?\\d{3,4}[-.\\s]\\d{3,4}')"
   ]
  },
  {
   "cell_type": "code",
   "execution_count": 115,
   "id": "805dcdcc",
   "metadata": {},
   "outputs": [],
   "source": [
    "star.append('+23  523 1234')"
   ]
  },
  {
   "cell_type": "code",
   "execution_count": 123,
   "id": "a9cbef00",
   "metadata": {},
   "outputs": [
    {
     "name": "stdout",
     "output_type": "stream",
     "text": [
      "010-6256-3768\n",
      "010.4356.3456\n",
      "+82  (031) 539 1280\n",
      "02-1111-2222\n",
      "010 7657 3022\n",
      "+82  (02) 456-4444\n",
      "02 756 4566\n",
      "064 245 2345\n",
      "+23 123 1234\n",
      "+23 123 1234\n",
      "+23 123 1234\n",
      "false\n",
      "false\n"
     ]
    }
   ],
   "source": [
    "for i in star:\n",
    "    ivy = bool(re.match(pattern=u, string=str(i)))\n",
    "    print(i) if ivy else print(\"false\")"
   ]
  },
  {
   "cell_type": "code",
   "execution_count": 90,
   "id": "9f896eb3",
   "metadata": {},
   "outputs": [],
   "source": [
    "u = re.compile(pattern='(\\+)?\\d{2,3}[-.\\s](\\s\\(\\d{2,3}\\)\\s)?\\d{3,4}[-.\\s]\\d{3,4}')"
   ]
  },
  {
   "cell_type": "code",
   "execution_count": 126,
   "id": "43a7a97b",
   "metadata": {},
   "outputs": [
    {
     "name": "stdout",
     "output_type": "stream",
     "text": [
      "010-6256-3768\n",
      "010.4356.3456\n",
      "+82  (031) 539 1280\n",
      "02-1111-2222\n",
      "010 7657 3022\n",
      "+82  (02) 456-4444\n",
      "02 756 4566\n",
      "064 245 2345\n"
     ]
    }
   ],
   "source": [
    "for i in star:\n",
    "    ivy = bool(re.match(pattern=u, string=str(i)))\n",
    "    print(i) if ivy else print(\"false\")"
   ]
  },
  {
   "cell_type": "code",
   "execution_count": null,
   "id": "7f659d56",
   "metadata": {},
   "outputs": [],
   "source": [
    "re.match(pattern=m, string[])"
   ]
  }
 ],
 "metadata": {
  "kernelspec": {
   "display_name": "Python 3 (ipykernel)",
   "language": "python",
   "name": "python3"
  },
  "language_info": {
   "codemirror_mode": {
    "name": "ipython",
    "version": 3
   },
   "file_extension": ".py",
   "mimetype": "text/x-python",
   "name": "python",
   "nbconvert_exporter": "python",
   "pygments_lexer": "ipython3",
   "version": "3.11.4"
  }
 },
 "nbformat": 4,
 "nbformat_minor": 5
}
