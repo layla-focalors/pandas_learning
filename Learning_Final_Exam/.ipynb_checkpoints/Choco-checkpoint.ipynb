{
 "cells": [
  {
   "cell_type": "code",
   "execution_count": 3,
   "id": "f32ed19c",
   "metadata": {},
   "outputs": [],
   "source": [
    "word = 'Layla'\n",
    "sent = 'Layla is cute'"
   ]
  },
  {
   "cell_type": "code",
   "execution_count": 4,
   "id": "6590ce3d",
   "metadata": {},
   "outputs": [
    {
     "name": "stdout",
     "output_type": "stream",
     "text": [
      "L\n",
      "L\n"
     ]
    }
   ],
   "source": [
    "print(word[0])\n",
    "print(sent[0])"
   ]
  },
  {
   "cell_type": "code",
   "execution_count": 5,
   "id": "582bd1d7",
   "metadata": {},
   "outputs": [
    {
     "data": {
      "text/plain": [
       "'Layla'"
      ]
     },
     "execution_count": 5,
     "metadata": {},
     "output_type": "execute_result"
    }
   ],
   "source": [
    "sent[0:5]"
   ]
  },
  {
   "cell_type": "code",
   "execution_count": 6,
   "id": "031ecde2",
   "metadata": {},
   "outputs": [
    {
     "data": {
      "text/plain": [
       "'the layla is cute because she was cute'"
      ]
     },
     "execution_count": 6,
     "metadata": {},
     "output_type": "execute_result"
    }
   ],
   "source": [
    "'the layla is cute because she was cute'[0:]"
   ]
  },
  {
   "cell_type": "code",
   "execution_count": 7,
   "id": "5b07389a",
   "metadata": {},
   "outputs": [
    {
     "data": {
      "text/plain": [
       "'is c'"
      ]
     },
     "execution_count": 7,
     "metadata": {},
     "output_type": "execute_result"
    }
   ],
   "source": [
    "sent[-7:-3]"
   ]
  },
  {
   "cell_type": "code",
   "execution_count": 9,
   "id": "a1aa1c5e",
   "metadata": {},
   "outputs": [
    {
     "data": {
      "text/plain": [
       "'ute'"
      ]
     },
     "execution_count": 9,
     "metadata": {},
     "output_type": "execute_result"
    }
   ],
   "source": [
    "sent[-3:]"
   ]
  },
  {
   "cell_type": "code",
   "execution_count": 10,
   "id": "7e6aa45a",
   "metadata": {},
   "outputs": [
    {
     "data": {
      "text/plain": [
       "'Lay'"
      ]
     },
     "execution_count": 10,
     "metadata": {},
     "output_type": "execute_result"
    }
   ],
   "source": [
    "word[:3]"
   ]
  },
  {
   "cell_type": "code",
   "execution_count": 11,
   "id": "47753e78",
   "metadata": {},
   "outputs": [
    {
     "data": {
      "text/plain": [
       "'a is cute'"
      ]
     },
     "execution_count": 11,
     "metadata": {},
     "output_type": "execute_result"
    }
   ],
   "source": [
    "sent[4:]"
   ]
  },
  {
   "cell_type": "code",
   "execution_count": 12,
   "id": "94b91784",
   "metadata": {},
   "outputs": [
    {
     "data": {
      "text/plain": [
       "'Layla is cute'"
      ]
     },
     "execution_count": 12,
     "metadata": {},
     "output_type": "execute_result"
    }
   ],
   "source": [
    "sent[ : ]"
   ]
  },
  {
   "cell_type": "code",
   "execution_count": 13,
   "id": "543b030d",
   "metadata": {},
   "outputs": [
    {
     "data": {
      "text/plain": [
       "'Lyai ue'"
      ]
     },
     "execution_count": 13,
     "metadata": {},
     "output_type": "execute_result"
    }
   ],
   "source": [
    "sent[ : : 2]"
   ]
  },
  {
   "cell_type": "code",
   "execution_count": 14,
   "id": "ac1eb987",
   "metadata": {},
   "outputs": [
    {
     "data": {
      "text/plain": [
       "'Lyai ue'"
      ]
     },
     "execution_count": 14,
     "metadata": {},
     "output_type": "execute_result"
    }
   ],
   "source": [
    "sent[::2]"
   ]
  },
  {
   "cell_type": "code",
   "execution_count": 15,
   "id": "a5694957",
   "metadata": {},
   "outputs": [],
   "source": [
    "a = 'Name : Layla'\n",
    "b = 'StudentID : 20231331'\n",
    "c = 'Hobby : Study'\n",
    "d = 'Comment : cute'"
   ]
  },
  {
   "cell_type": "code",
   "execution_count": 16,
   "id": "f0267909",
   "metadata": {},
   "outputs": [
    {
     "data": {
      "text/plain": [
       "'Name : Layla StudentID : 20231331 Hobby : Study Comment : cute'"
      ]
     },
     "execution_count": 16,
     "metadata": {},
     "output_type": "execute_result"
    }
   ],
   "source": [
    "\" \".join([a, b, c, d])"
   ]
  },
  {
   "cell_type": "code",
   "execution_count": 17,
   "id": "2977caa7",
   "metadata": {},
   "outputs": [],
   "source": [
    "text = \"\"\"Guard: What? Ridden en a horse?\n",
    "Queen Raiden: Yes!\n",
    "Guard: You're using coconuts!\n",
    "Queen Raiden: What?\n",
    "Guard: You've Got...coconuts[s] and you're banangun' em together\n",
    "\"\"\""
   ]
  },
  {
   "cell_type": "code",
   "execution_count": 18,
   "id": "dba9ab6e",
   "metadata": {},
   "outputs": [
    {
     "data": {
      "text/plain": [
       "['Guard: What? Ridden en a horse?',\n",
       " \"Guard: You're using coconuts!\",\n",
       " \"Guard: You've Got...coconuts[s] and you're banangun' em together\"]"
      ]
     },
     "execution_count": 18,
     "metadata": {},
     "output_type": "execute_result"
    }
   ],
   "source": [
    "text.splitlines()[::2]"
   ]
  },
  {
   "cell_type": "code",
   "execution_count": 21,
   "id": "8809a3ed",
   "metadata": {},
   "outputs": [
    {
     "name": "stdout",
     "output_type": "stream",
     "text": [
      "['Yae Miko: What? Ridden en a horse?', \"Yae Miko: You're using coconuts!\", \"Yae Miko: You've Got...coconuts[s] and you're banangun' em together\"]\n"
     ]
    }
   ],
   "source": [
    "print(str(text.splitlines()[::2]).replace(\"Guard\", \"Yae Miko\"))"
   ]
  },
  {
   "cell_type": "code",
   "execution_count": 22,
   "id": "4f4331ce",
   "metadata": {},
   "outputs": [
    {
     "data": {
      "text/plain": [
       "'layla is cute!'"
      ]
     },
     "execution_count": 22,
     "metadata": {},
     "output_type": "execute_result"
    }
   ],
   "source": [
    "'{} is cute!'.format('layla')"
   ]
  },
  {
   "cell_type": "code",
   "execution_count": 23,
   "id": "b0f12cbf",
   "metadata": {},
   "outputs": [],
   "source": [
    "text = \"\"\"\n",
    "{0}은 매우 매우 착하고 귀엽고 사랑스럽습니다.\n",
    "이 사악한 {1}은 {0}을 괴롭히는 원인 중 하나입니다.\"\"\".format(\"레일라\", \"나히다\")"
   ]
  },
  {
   "cell_type": "code",
   "execution_count": 24,
   "id": "0e63f3b9",
   "metadata": {},
   "outputs": [
    {
     "data": {
      "text/plain": [
       "'\\n레일라은 매우 매우 착하고 귀엽고 사랑스럽습니다.\\n이 사악한 나히다은 레일라을 괴롭히는 원인 중 하나입니다.'"
      ]
     },
     "execution_count": 24,
     "metadata": {},
     "output_type": "execute_result"
    }
   ],
   "source": [
    "text"
   ]
  },
  {
   "cell_type": "code",
   "execution_count": 25,
   "id": "52682e41",
   "metadata": {},
   "outputs": [
    {
     "data": {
      "text/plain": [
       "'나히다는 500살 이상이다.'"
      ]
     },
     "execution_count": 25,
     "metadata": {},
     "output_type": "execute_result"
    }
   ],
   "source": [
    "\"나히다는 {age}살 이상이다.\".format(age=500)"
   ]
  },
  {
   "cell_type": "code",
   "execution_count": 26,
   "id": "aab463a1",
   "metadata": {},
   "outputs": [
    {
     "data": {
      "text/plain": [
       "'나는 나의 통장 잔고가 9,999,999,999,999,999,999이면 좋겠다'"
      ]
     },
     "execution_count": 26,
     "metadata": {},
     "output_type": "execute_result"
    }
   ],
   "source": [
    "\"나는 나의 통장 잔고가 {:,}이면 좋겠다\".format(9999999999999999999)"
   ]
  },
  {
   "cell_type": "code",
   "execution_count": 28,
   "id": "3564c67f",
   "metadata": {},
   "outputs": [
    {
     "data": {
      "text/plain": [
       "'i Remember 0.000383, 0.038% is days'"
      ]
     },
     "execution_count": 28,
     "metadata": {},
     "output_type": "execute_result"
    }
   ],
   "source": [
    "\"i Remember {0:.3}, {0:.3%} is days\".format(7/18281)"
   ]
  },
  {
   "cell_type": "code",
   "execution_count": 29,
   "id": "c89cc732",
   "metadata": {},
   "outputs": [
    {
     "data": {
      "text/plain": [
       "'i know 0.040% 0.000395'"
      ]
     },
     "execution_count": 29,
     "metadata": {},
     "output_type": "execute_result"
    }
   ],
   "source": [
    "'i know {0:.3%} {0:.3}'.format(7/17721)"
   ]
  },
  {
   "cell_type": "code",
   "execution_count": 41,
   "id": "5cf774a5",
   "metadata": {},
   "outputs": [
    {
     "data": {
      "text/plain": [
       "'i know 0.040% 0.00'"
      ]
     },
     "execution_count": 41,
     "metadata": {},
     "output_type": "execute_result"
    }
   ],
   "source": [
    "'i know {0:.3%} {0:.2f}'.format(7/17721)"
   ]
  },
  {
   "cell_type": "code",
   "execution_count": 30,
   "id": "a8103ad9",
   "metadata": {},
   "outputs": [
    {
     "data": {
      "text/plain": [
       "'My nick ID is 000012'"
      ]
     },
     "execution_count": 30,
     "metadata": {},
     "output_type": "execute_result"
    }
   ],
   "source": [
    "'My nick ID is {0:06d}'.format(12)"
   ]
  },
  {
   "cell_type": "code",
   "execution_count": 31,
   "id": "5acbdb66",
   "metadata": {},
   "outputs": [
    {
     "data": {
      "text/plain": [
       "'My love number is 7'"
      ]
     },
     "execution_count": 31,
     "metadata": {},
     "output_type": "execute_result"
    }
   ],
   "source": [
    "'My love number is %d' % 7"
   ]
  },
  {
   "cell_type": "code",
   "execution_count": 35,
   "id": "b9d09992",
   "metadata": {},
   "outputs": [
    {
     "data": {
      "text/plain": [
       "'Layla is very cute, but her sleep time is 1.16'"
      ]
     },
     "execution_count": 35,
     "metadata": {},
     "output_type": "execute_result"
    }
   ],
   "source": [
    "'%(name)s is very cute, but her sleep time is %(time).2f' % {'name':'Layla', 'time' : 1.16321212}"
   ]
  },
  {
   "cell_type": "code",
   "execution_count": 37,
   "id": "c6ddd9a5",
   "metadata": {},
   "outputs": [
    {
     "data": {
      "text/plain": [
       "'생일 축하해 layla!!'"
      ]
     },
     "execution_count": 37,
     "metadata": {},
     "output_type": "execute_result"
    }
   ],
   "source": [
    "f\"생일 축하해 {'layla'}!!\""
   ]
  },
  {
   "cell_type": "code",
   "execution_count": 38,
   "id": "94f35a3d",
   "metadata": {},
   "outputs": [],
   "source": [
    "import re"
   ]
  },
  {
   "cell_type": "code",
   "execution_count": 43,
   "id": "e1986432",
   "metadata": {},
   "outputs": [
    {
     "data": {
      "text/plain": [
       "<re.Match object; span=(0, 10), match='1234567890'>"
      ]
     },
     "execution_count": 43,
     "metadata": {},
     "output_type": "execute_result"
    }
   ],
   "source": [
    "xc = re.match(pattern='\\d{10}', string='1234567890')\n",
    "xc"
   ]
  },
  {
   "cell_type": "code",
   "execution_count": 46,
   "id": "dfd42cd0",
   "metadata": {},
   "outputs": [
    {
     "data": {
      "text/plain": [
       "<function Match.groups(default=None)>"
      ]
     },
     "execution_count": 46,
     "metadata": {},
     "output_type": "execute_result"
    }
   ],
   "source": [
    "xc.groups"
   ]
  },
  {
   "cell_type": "code",
   "execution_count": 47,
   "id": "6e6e20dc",
   "metadata": {},
   "outputs": [
    {
     "name": "stdout",
     "output_type": "stream",
     "text": [
      "match\n"
     ]
    }
   ],
   "source": [
    "if(bool(xc)):\n",
    "    print(\"match\")\n",
    "else:\n",
    "    print(\"un match\")"
   ]
  },
  {
   "cell_type": "code",
   "execution_count": 48,
   "id": "7232dd72",
   "metadata": {},
   "outputs": [
    {
     "data": {
      "text/plain": [
       "0"
      ]
     },
     "execution_count": 48,
     "metadata": {},
     "output_type": "execute_result"
    }
   ],
   "source": [
    "xc.start()"
   ]
  },
  {
   "cell_type": "code",
   "execution_count": 49,
   "id": "a472bc00",
   "metadata": {},
   "outputs": [
    {
     "data": {
      "text/plain": [
       "10"
      ]
     },
     "execution_count": 49,
     "metadata": {},
     "output_type": "execute_result"
    }
   ],
   "source": [
    "xc.end()"
   ]
  },
  {
   "cell_type": "code",
   "execution_count": 50,
   "id": "3e469afb",
   "metadata": {},
   "outputs": [
    {
     "data": {
      "text/plain": [
       "(0, 10)"
      ]
     },
     "execution_count": 50,
     "metadata": {},
     "output_type": "execute_result"
    }
   ],
   "source": [
    "xc.span()"
   ]
  },
  {
   "cell_type": "code",
   "execution_count": 51,
   "id": "7d54653c",
   "metadata": {},
   "outputs": [
    {
     "data": {
      "text/plain": [
       "<function Match.groups(default=None)>"
      ]
     },
     "execution_count": 51,
     "metadata": {},
     "output_type": "execute_result"
    }
   ],
   "source": [
    "xc.groups"
   ]
  },
  {
   "cell_type": "code",
   "execution_count": 53,
   "id": "5052a774",
   "metadata": {},
   "outputs": [
    {
     "data": {
      "text/plain": [
       "'1234567890'"
      ]
     },
     "execution_count": 53,
     "metadata": {},
     "output_type": "execute_result"
    }
   ],
   "source": [
    "xc.group()"
   ]
  },
  {
   "cell_type": "code",
   "execution_count": 54,
   "id": "6222248a",
   "metadata": {},
   "outputs": [],
   "source": [
    "a = re.match(pattern='\\d{3}\\s\\d{4}\\s\\d{4}', string='123 4567 8901')"
   ]
  },
  {
   "cell_type": "code",
   "execution_count": 55,
   "id": "1d187105",
   "metadata": {},
   "outputs": [
    {
     "data": {
      "text/plain": [
       "<re.Match object; span=(0, 13), match='123 4567 8901'>"
      ]
     },
     "execution_count": 55,
     "metadata": {},
     "output_type": "execute_result"
    }
   ],
   "source": [
    "a"
   ]
  },
  {
   "cell_type": "code",
   "execution_count": 56,
   "id": "5d3a57e0",
   "metadata": {},
   "outputs": [
    {
     "data": {
      "text/plain": [
       "<re.Match object; span=(0, 14), match='(123) 456-7890'>"
      ]
     },
     "execution_count": 56,
     "metadata": {},
     "output_type": "execute_result"
    }
   ],
   "source": [
    "re.match(pattern='\\(\\d{3}\\)\\s\\d{3}\\-\\d{4}', string='(123) 456-7890')"
   ]
  },
  {
   "cell_type": "code",
   "execution_count": 57,
   "id": "171e86bd",
   "metadata": {},
   "outputs": [
    {
     "data": {
      "text/plain": [
       "<re.Match object; span=(0, 17), match='+1 (123) 456-7890'>"
      ]
     },
     "execution_count": 57,
     "metadata": {},
     "output_type": "execute_result"
    }
   ],
   "source": [
    "re.match(pattern='\\+\\d\\s\\(\\d{3}\\)\\s\\d{3}\\-\\d{4}', string='+1 (123) 456-7890')"
   ]
  },
  {
   "cell_type": "code",
   "execution_count": 59,
   "id": "32381c60",
   "metadata": {},
   "outputs": [
    {
     "data": {
      "text/plain": [
       "<re.Match object; span=(0, 14), match='localhost:8888'>"
      ]
     },
     "execution_count": 59,
     "metadata": {},
     "output_type": "execute_result"
    }
   ],
   "source": [
    "re.match(pattern='\\D{9}\\:\\d{4}', string='localhost:8888')"
   ]
  },
  {
   "cell_type": "code",
   "execution_count": 60,
   "id": "88f7eb39",
   "metadata": {},
   "outputs": [],
   "source": [
    "def my_exp(x):\n",
    "    return x ** 2\n",
    "\n",
    "def my_exp_c(x, n):\n",
    "    return x ** n"
   ]
  },
  {
   "cell_type": "code",
   "execution_count": 63,
   "id": "61e7c12c",
   "metadata": {},
   "outputs": [],
   "source": [
    "import pandas as pd"
   ]
  },
  {
   "cell_type": "code",
   "execution_count": 64,
   "id": "561360bd",
   "metadata": {},
   "outputs": [],
   "source": [
    "df = pd.DataFrame({\n",
    "    'a' : [10, 20, 30],\n",
    "    'b' : [20, 30, 40]\n",
    "})"
   ]
  },
  {
   "cell_type": "code",
   "execution_count": 65,
   "id": "fe4faa77",
   "metadata": {},
   "outputs": [
    {
     "data": {
      "text/html": [
       "<div>\n",
       "<style scoped>\n",
       "    .dataframe tbody tr th:only-of-type {\n",
       "        vertical-align: middle;\n",
       "    }\n",
       "\n",
       "    .dataframe tbody tr th {\n",
       "        vertical-align: top;\n",
       "    }\n",
       "\n",
       "    .dataframe thead th {\n",
       "        text-align: right;\n",
       "    }\n",
       "</style>\n",
       "<table border=\"1\" class=\"dataframe\">\n",
       "  <thead>\n",
       "    <tr style=\"text-align: right;\">\n",
       "      <th></th>\n",
       "      <th>a</th>\n",
       "      <th>b</th>\n",
       "    </tr>\n",
       "  </thead>\n",
       "  <tbody>\n",
       "    <tr>\n",
       "      <th>0</th>\n",
       "      <td>10</td>\n",
       "      <td>20</td>\n",
       "    </tr>\n",
       "    <tr>\n",
       "      <th>1</th>\n",
       "      <td>20</td>\n",
       "      <td>30</td>\n",
       "    </tr>\n",
       "    <tr>\n",
       "      <th>2</th>\n",
       "      <td>30</td>\n",
       "      <td>40</td>\n",
       "    </tr>\n",
       "  </tbody>\n",
       "</table>\n",
       "</div>"
      ],
      "text/plain": [
       "    a   b\n",
       "0  10  20\n",
       "1  20  30\n",
       "2  30  40"
      ]
     },
     "execution_count": 65,
     "metadata": {},
     "output_type": "execute_result"
    }
   ],
   "source": [
    "df"
   ]
  },
  {
   "cell_type": "code",
   "execution_count": 66,
   "id": "14c9e574",
   "metadata": {},
   "outputs": [
    {
     "data": {
      "text/plain": [
       "0    100\n",
       "1    400\n",
       "2    900\n",
       "Name: a, dtype: int64"
      ]
     },
     "execution_count": 66,
     "metadata": {},
     "output_type": "execute_result"
    }
   ],
   "source": [
    "df['a'] ** 2"
   ]
  },
  {
   "cell_type": "code",
   "execution_count": 67,
   "id": "454b8048",
   "metadata": {},
   "outputs": [
    {
     "data": {
      "text/plain": [
       "0    100\n",
       "1    400\n",
       "2    900\n",
       "Name: a, dtype: int64"
      ]
     },
     "execution_count": 67,
     "metadata": {},
     "output_type": "execute_result"
    }
   ],
   "source": [
    "df['a'].apply(my_exp)"
   ]
  },
  {
   "cell_type": "code",
   "execution_count": 69,
   "id": "5dcff088",
   "metadata": {},
   "outputs": [
    {
     "data": {
      "text/plain": [
       "0        10000000000\n",
       "1     10240000000000\n",
       "2    590490000000000\n",
       "Name: a, dtype: int64"
      ]
     },
     "execution_count": 69,
     "metadata": {},
     "output_type": "execute_result"
    }
   ],
   "source": [
    "df['a'].apply(my_exp_c, n= 10)"
   ]
  },
  {
   "cell_type": "code",
   "execution_count": 70,
   "id": "fae909d9",
   "metadata": {},
   "outputs": [],
   "source": [
    "printme = lambda x : print(x)"
   ]
  },
  {
   "cell_type": "code",
   "execution_count": 71,
   "id": "eeaab538",
   "metadata": {},
   "outputs": [
    {
     "name": "stdout",
     "output_type": "stream",
     "text": [
      "0    10\n",
      "1    20\n",
      "2    30\n",
      "Name: a, dtype: int64\n",
      "0    20\n",
      "1    30\n",
      "2    40\n",
      "Name: b, dtype: int64\n"
     ]
    },
    {
     "data": {
      "text/plain": [
       "a    None\n",
       "b    None\n",
       "dtype: object"
      ]
     },
     "execution_count": 71,
     "metadata": {},
     "output_type": "execute_result"
    }
   ],
   "source": [
    "df.apply(printme)"
   ]
  },
  {
   "cell_type": "code",
   "execution_count": 72,
   "id": "aa8c69e0",
   "metadata": {},
   "outputs": [
    {
     "data": {
      "text/html": [
       "<div>\n",
       "<style scoped>\n",
       "    .dataframe tbody tr th:only-of-type {\n",
       "        vertical-align: middle;\n",
       "    }\n",
       "\n",
       "    .dataframe tbody tr th {\n",
       "        vertical-align: top;\n",
       "    }\n",
       "\n",
       "    .dataframe thead th {\n",
       "        text-align: right;\n",
       "    }\n",
       "</style>\n",
       "<table border=\"1\" class=\"dataframe\">\n",
       "  <thead>\n",
       "    <tr style=\"text-align: right;\">\n",
       "      <th></th>\n",
       "      <th>a</th>\n",
       "      <th>b</th>\n",
       "    </tr>\n",
       "  </thead>\n",
       "  <tbody>\n",
       "    <tr>\n",
       "      <th>0</th>\n",
       "      <td>10</td>\n",
       "      <td>20</td>\n",
       "    </tr>\n",
       "    <tr>\n",
       "      <th>1</th>\n",
       "      <td>20</td>\n",
       "      <td>30</td>\n",
       "    </tr>\n",
       "    <tr>\n",
       "      <th>2</th>\n",
       "      <td>30</td>\n",
       "      <td>40</td>\n",
       "    </tr>\n",
       "  </tbody>\n",
       "</table>\n",
       "</div>"
      ],
      "text/plain": [
       "    a   b\n",
       "0  10  20\n",
       "1  20  30\n",
       "2  30  40"
      ]
     },
     "execution_count": 72,
     "metadata": {},
     "output_type": "execute_result"
    }
   ],
   "source": [
    "df"
   ]
  },
  {
   "cell_type": "code",
   "execution_count": 75,
   "id": "0d634716",
   "metadata": {},
   "outputs": [
    {
     "name": "stdout",
     "output_type": "stream",
     "text": [
      "a    10\n",
      "b    20\n",
      "Name: 0, dtype: int64\n",
      "a    20\n",
      "b    30\n",
      "Name: 1, dtype: int64\n",
      "a    30\n",
      "b    40\n",
      "Name: 2, dtype: int64\n"
     ]
    },
    {
     "data": {
      "text/plain": [
       "0    None\n",
       "1    None\n",
       "2    None\n",
       "dtype: object"
      ]
     },
     "execution_count": 75,
     "metadata": {},
     "output_type": "execute_result"
    }
   ],
   "source": [
    "df.apply(printme, axis=1)"
   ]
  },
  {
   "cell_type": "code",
   "execution_count": 76,
   "id": "d6bb6e4f",
   "metadata": {},
   "outputs": [],
   "source": [
    "def meani(data, conf):\n",
    "    sum = 0\n",
    "    for i in data:\n",
    "        sum += i\n",
    "    if(conf == 0):\n",
    "        return sum / df.shape[0]\n",
    "    else:\n",
    "        return sum / df.shape[1]"
   ]
  },
  {
   "cell_type": "code",
   "execution_count": 77,
   "id": "a7fd9d02",
   "metadata": {},
   "outputs": [
    {
     "data": {
      "text/plain": [
       "a    20.0\n",
       "b    30.0\n",
       "dtype: float64"
      ]
     },
     "execution_count": 77,
     "metadata": {},
     "output_type": "execute_result"
    }
   ],
   "source": [
    "df.apply(meani, conf=0)"
   ]
  },
  {
   "cell_type": "code",
   "execution_count": 78,
   "id": "b66c7395",
   "metadata": {},
   "outputs": [
    {
     "data": {
      "text/plain": [
       "0    15.0\n",
       "1    25.0\n",
       "2    35.0\n",
       "dtype: float64"
      ]
     },
     "execution_count": 78,
     "metadata": {},
     "output_type": "execute_result"
    }
   ],
   "source": [
    "df.apply(meani, conf=1, axis=1)"
   ]
  },
  {
   "cell_type": "code",
   "execution_count": 80,
   "id": "7195dbac",
   "metadata": {},
   "outputs": [],
   "source": [
    "import numpy as np"
   ]
  },
  {
   "cell_type": "code",
   "execution_count": 81,
   "id": "cf7e8dc9",
   "metadata": {},
   "outputs": [
    {
     "data": {
      "text/plain": [
       "0    15.0\n",
       "1    25.0\n",
       "2    35.0\n",
       "dtype: float64"
      ]
     },
     "execution_count": 81,
     "metadata": {},
     "output_type": "execute_result"
    }
   ],
   "source": [
    "df.agg(np.mean, axis=1)"
   ]
  },
  {
   "cell_type": "code",
   "execution_count": 82,
   "id": "e10beb24",
   "metadata": {},
   "outputs": [
    {
     "data": {
      "text/plain": [
       "a    20.0\n",
       "b    30.0\n",
       "dtype: float64"
      ]
     },
     "execution_count": 82,
     "metadata": {},
     "output_type": "execute_result"
    }
   ],
   "source": [
    "df.agg(np.mean, axis=0)"
   ]
  },
  {
   "cell_type": "code",
   "execution_count": null,
   "id": "fd994be2",
   "metadata": {},
   "outputs": [],
   "source": []
  }
 ],
 "metadata": {
  "kernelspec": {
   "display_name": "Python 3 (ipykernel)",
   "language": "python",
   "name": "python3"
  },
  "language_info": {
   "codemirror_mode": {
    "name": "ipython",
    "version": 3
   },
   "file_extension": ".py",
   "mimetype": "text/x-python",
   "name": "python",
   "nbconvert_exporter": "python",
   "pygments_lexer": "ipython3",
   "version": "3.11.4"
  }
 },
 "nbformat": 4,
 "nbformat_minor": 5
}
