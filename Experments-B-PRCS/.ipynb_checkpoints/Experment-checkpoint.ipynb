{
 "cells": [
  {
   "cell_type": "markdown",
   "id": "8eb9b9eb",
   "metadata": {},
   "source": [
    "### 가설 설정\n",
    "가설 : 데이터의 표준편차와 평균이 같다면, 데이터의 분포가 일치할 것인가?"
   ]
  },
  {
   "cell_type": "code",
   "execution_count": null,
   "id": "8ae4837d",
   "metadata": {},
   "outputs": [],
   "source": [
    "# 각 데이터별 표준편차와 평균 구하기"
   ]
  }
 ],
 "metadata": {
  "kernelspec": {
   "display_name": "Python 3 (ipykernel)",
   "language": "python",
   "name": "python3"
  },
  "language_info": {
   "codemirror_mode": {
    "name": "ipython",
    "version": 3
   },
   "file_extension": ".py",
   "mimetype": "text/x-python",
   "name": "python",
   "nbconvert_exporter": "python",
   "pygments_lexer": "ipython3",
   "version": "3.11.4"
  }
 },
 "nbformat": 4,
 "nbformat_minor": 5
}
