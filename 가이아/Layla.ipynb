{
 "cells": [
  {
   "cell_type": "code",
   "execution_count": 1,
   "id": "473987ae",
   "metadata": {},
   "outputs": [],
   "source": [
    "word = 'grail'\n",
    "sent = 'a scratch'"
   ]
  },
  {
   "cell_type": "code",
   "execution_count": 2,
   "id": "6368ca53",
   "metadata": {},
   "outputs": [
    {
     "data": {
      "text/plain": [
       "'g'"
      ]
     },
     "execution_count": 2,
     "metadata": {},
     "output_type": "execute_result"
    }
   ],
   "source": [
    "word[0]"
   ]
  },
  {
   "cell_type": "code",
   "execution_count": 3,
   "id": "e3f2e67c",
   "metadata": {},
   "outputs": [
    {
     "data": {
      "text/plain": [
       "'a'"
      ]
     },
     "execution_count": 3,
     "metadata": {},
     "output_type": "execute_result"
    }
   ],
   "source": [
    "sent[0]"
   ]
  },
  {
   "cell_type": "code",
   "execution_count": 4,
   "id": "ccc7566e",
   "metadata": {},
   "outputs": [
    {
     "data": {
      "text/plain": [
       "'h'"
      ]
     },
     "execution_count": 4,
     "metadata": {},
     "output_type": "execute_result"
    }
   ],
   "source": [
    "sent[-1]"
   ]
  },
  {
   "cell_type": "code",
   "execution_count": 6,
   "id": "872b9eeb",
   "metadata": {},
   "outputs": [
    {
     "data": {
      "text/plain": [
       "'a'"
      ]
     },
     "execution_count": 6,
     "metadata": {},
     "output_type": "execute_result"
    }
   ],
   "source": [
    "sent[0:-8]"
   ]
  },
  {
   "cell_type": "code",
   "execution_count": 7,
   "id": "ed216276",
   "metadata": {},
   "outputs": [
    {
     "data": {
      "text/plain": [
       "'a'"
      ]
     },
     "execution_count": 7,
     "metadata": {},
     "output_type": "execute_result"
    }
   ],
   "source": [
    "sent[-9:-8]"
   ]
  },
  {
   "cell_type": "code",
   "execution_count": 8,
   "id": "221d3015",
   "metadata": {},
   "outputs": [
    {
     "data": {
      "text/plain": [
       "'gra'"
      ]
     },
     "execution_count": 8,
     "metadata": {},
     "output_type": "execute_result"
    }
   ],
   "source": [
    "word[0:3]"
   ]
  },
  {
   "cell_type": "code",
   "execution_count": 9,
   "id": "9242ae20",
   "metadata": {},
   "outputs": [],
   "source": [
    "# 전체 문자열을 출력할 때는 음수 인덱싱을 사용하면 안 된다!"
   ]
  },
  {
   "cell_type": "code",
   "execution_count": 11,
   "id": "1041d05e",
   "metadata": {},
   "outputs": [
    {
     "data": {
      "text/plain": [
       "'scratc'"
      ]
     },
     "execution_count": 11,
     "metadata": {},
     "output_type": "execute_result"
    }
   ],
   "source": [
    "sent[2:-1]"
   ]
  },
  {
   "cell_type": "code",
   "execution_count": 12,
   "id": "8e9ea352",
   "metadata": {},
   "outputs": [
    {
     "data": {
      "text/plain": [
       "'scratc'"
      ]
     },
     "execution_count": 12,
     "metadata": {},
     "output_type": "execute_result"
    }
   ],
   "source": [
    "sent[-7:-1]"
   ]
  },
  {
   "cell_type": "code",
   "execution_count": 13,
   "id": "ea22b555",
   "metadata": {},
   "outputs": [],
   "source": [
    "s_len = len(sent)"
   ]
  },
  {
   "cell_type": "code",
   "execution_count": 14,
   "id": "99e11a07",
   "metadata": {},
   "outputs": [
    {
     "data": {
      "text/plain": [
       "9"
      ]
     },
     "execution_count": 14,
     "metadata": {},
     "output_type": "execute_result"
    }
   ],
   "source": [
    "s_len"
   ]
  },
  {
   "cell_type": "code",
   "execution_count": 15,
   "id": "2944ae34",
   "metadata": {},
   "outputs": [
    {
     "data": {
      "text/plain": [
       "'scratch'"
      ]
     },
     "execution_count": 15,
     "metadata": {},
     "output_type": "execute_result"
    }
   ],
   "source": [
    "sent[2:s_len]"
   ]
  },
  {
   "cell_type": "code",
   "execution_count": 16,
   "id": "2340631d",
   "metadata": {},
   "outputs": [
    {
     "data": {
      "text/plain": [
       "'a scratch'"
      ]
     },
     "execution_count": 16,
     "metadata": {},
     "output_type": "execute_result"
    }
   ],
   "source": [
    "sent"
   ]
  },
  {
   "cell_type": "code",
   "execution_count": 17,
   "id": "8b1b4fe2",
   "metadata": {},
   "outputs": [
    {
     "data": {
      "text/plain": [
       "'gra'"
      ]
     },
     "execution_count": 17,
     "metadata": {},
     "output_type": "execute_result"
    }
   ],
   "source": [
    "word[0:3]"
   ]
  },
  {
   "cell_type": "code",
   "execution_count": 18,
   "id": "3abd0d2f",
   "metadata": {},
   "outputs": [
    {
     "data": {
      "text/plain": [
       "'gra'"
      ]
     },
     "execution_count": 18,
     "metadata": {},
     "output_type": "execute_result"
    }
   ],
   "source": [
    "word[:3]"
   ]
  },
  {
   "cell_type": "code",
   "execution_count": 19,
   "id": "70e68b05",
   "metadata": {},
   "outputs": [
    {
     "data": {
      "text/plain": [
       "'scratch'"
      ]
     },
     "execution_count": 19,
     "metadata": {},
     "output_type": "execute_result"
    }
   ],
   "source": [
    "sent[2:]"
   ]
  },
  {
   "cell_type": "code",
   "execution_count": 20,
   "id": "1c35702a",
   "metadata": {},
   "outputs": [
    {
     "data": {
      "text/plain": [
       "'scratch'"
      ]
     },
     "execution_count": 20,
     "metadata": {},
     "output_type": "execute_result"
    }
   ],
   "source": [
    "sent[2:len(sent)]"
   ]
  },
  {
   "cell_type": "code",
   "execution_count": 21,
   "id": "e9b2503c",
   "metadata": {},
   "outputs": [
    {
     "data": {
      "text/plain": [
       "'a scratch'"
      ]
     },
     "execution_count": 21,
     "metadata": {},
     "output_type": "execute_result"
    }
   ],
   "source": [
    "sent[:]"
   ]
  },
  {
   "cell_type": "code",
   "execution_count": 22,
   "id": "b6965f2c",
   "metadata": {},
   "outputs": [
    {
     "data": {
      "text/plain": [
       "'asrth'"
      ]
     },
     "execution_count": 22,
     "metadata": {},
     "output_type": "execute_result"
    }
   ],
   "source": [
    "sent[::2]"
   ]
  },
  {
   "cell_type": "code",
   "execution_count": 23,
   "id": "f1d5f87b",
   "metadata": {},
   "outputs": [
    {
     "data": {
      "text/plain": [
       "'act'"
      ]
     },
     "execution_count": 23,
     "metadata": {},
     "output_type": "execute_result"
    }
   ],
   "source": [
    "sent[::3]"
   ]
  },
  {
   "cell_type": "code",
   "execution_count": 24,
   "id": "746f3033",
   "metadata": {},
   "outputs": [
    {
     "data": {
      "text/plain": [
       "'arh'"
      ]
     },
     "execution_count": 24,
     "metadata": {},
     "output_type": "execute_result"
    }
   ],
   "source": [
    "sent[::4\n",
    "    ]"
   ]
  },
  {
   "cell_type": "code",
   "execution_count": 25,
   "id": "27a2d775",
   "metadata": {},
   "outputs": [
    {
     "data": {
      "text/plain": [
       "'Layla is very cute'"
      ]
     },
     "execution_count": 25,
     "metadata": {},
     "output_type": "execute_result"
    }
   ],
   "source": [
    "text = \"layla is very cute\"\n",
    "text.capitalize()"
   ]
  },
  {
   "cell_type": "code",
   "execution_count": 26,
   "id": "061f70c4",
   "metadata": {},
   "outputs": [
    {
     "data": {
      "text/plain": [
       "2"
      ]
     },
     "execution_count": 26,
     "metadata": {},
     "output_type": "execute_result"
    }
   ],
   "source": [
    "text = \"레일라나히다유라레일라레나이다\"\n",
    "text.count(\"레일라\")"
   ]
  },
  {
   "cell_type": "code",
   "execution_count": 29,
   "id": "73b4868d",
   "metadata": {},
   "outputs": [
    {
     "data": {
      "text/plain": [
       "True"
      ]
     },
     "execution_count": 29,
     "metadata": {},
     "output_type": "execute_result"
    }
   ],
   "source": [
    "text = '유라야! 반가워!'\n",
    "text.startswith(\"유라\")"
   ]
  },
  {
   "cell_type": "code",
   "execution_count": 31,
   "id": "33bc9d38",
   "metadata": {},
   "outputs": [
    {
     "data": {
      "text/plain": [
       "True"
      ]
     },
     "execution_count": 31,
     "metadata": {},
     "output_type": "execute_result"
    }
   ],
   "source": [
    "text = \"레일라는 닐루가 좋은 거 같아, 왜냐하면 닐루는 닐루\"\n",
    "text.endswith(\"닐루\")"
   ]
  },
  {
   "cell_type": "code",
   "execution_count": 32,
   "id": "279a2284",
   "metadata": {},
   "outputs": [
    {
     "data": {
      "text/plain": [
       "4"
      ]
     },
     "execution_count": 32,
     "metadata": {},
     "output_type": "execute_result"
    }
   ],
   "source": [
    "text = \"노아랑 레일라, 그리고 우타하\"\n",
    "text.find(\"레\")"
   ]
  },
  {
   "cell_type": "code",
   "execution_count": 33,
   "id": "f5e67733",
   "metadata": {},
   "outputs": [
    {
     "data": {
      "text/plain": [
       "4"
      ]
     },
     "execution_count": 33,
     "metadata": {},
     "output_type": "execute_result"
    }
   ],
   "source": [
    "text = \"노아랑 레일라, 그리고 우타하\"\n",
    "text.index(\"레\")"
   ]
  },
  {
   "cell_type": "code",
   "execution_count": 34,
   "id": "80e82530",
   "metadata": {},
   "outputs": [
    {
     "data": {
      "text/plain": [
       "False"
      ]
     },
     "execution_count": 34,
     "metadata": {},
     "output_type": "execute_result"
    }
   ],
   "source": [
    "text = 'Layla is my god'\n",
    "text.isalpha()"
   ]
  },
  {
   "cell_type": "code",
   "execution_count": 35,
   "id": "1d537650",
   "metadata": {},
   "outputs": [
    {
     "data": {
      "text/plain": [
       "True"
      ]
     },
     "execution_count": 35,
     "metadata": {},
     "output_type": "execute_result"
    }
   ],
   "source": [
    "text = '1219'\n",
    "text.isdecimal()"
   ]
  },
  {
   "cell_type": "code",
   "execution_count": 37,
   "id": "780dfb11",
   "metadata": {},
   "outputs": [
    {
     "data": {
      "text/plain": [
       "True"
      ]
     },
     "execution_count": 37,
     "metadata": {},
     "output_type": "execute_result"
    }
   ],
   "source": [
    "text = 'LaylaBirth1219'\n",
    "text.isalnum()"
   ]
  },
  {
   "cell_type": "code",
   "execution_count": 38,
   "id": "aed4660b",
   "metadata": {},
   "outputs": [
    {
     "data": {
      "text/plain": [
       "'the layla is a very cute girl'"
      ]
     },
     "execution_count": 38,
     "metadata": {},
     "output_type": "execute_result"
    }
   ],
   "source": [
    "text = \"The Layla is a Very Cute Girl\"\n",
    "text.lower()"
   ]
  },
  {
   "cell_type": "code",
   "execution_count": 39,
   "id": "f5f99a35",
   "metadata": {},
   "outputs": [
    {
     "data": {
      "text/plain": [
       "'THE LAYLA IS A VERY CUTE GIRL'"
      ]
     },
     "execution_count": 39,
     "metadata": {},
     "output_type": "execute_result"
    }
   ],
   "source": [
    "text = \"The Layla is a Very Cute Girl\"\n",
    "text.upper()"
   ]
  },
  {
   "cell_type": "code",
   "execution_count": 40,
   "id": "d8c64aac",
   "metadata": {},
   "outputs": [
    {
     "data": {
      "text/plain": [
       "'라이덴의 친구 Yae Miko는 라이덴을 보좌하지만, 동시에 그녀의 친구입니다.'"
      ]
     },
     "execution_count": 40,
     "metadata": {},
     "output_type": "execute_result"
    }
   ],
   "source": [
    "text = \"라이덴의 친구 Guard는 라이덴을 보좌하지만, 동시에 그녀의 친구입니다.\"\n",
    "text.replace(\"Guard\", \"Yae Miko\")"
   ]
  },
  {
   "cell_type": "code",
   "execution_count": 41,
   "id": "c68c6c12",
   "metadata": {},
   "outputs": [
    {
     "data": {
      "text/plain": [
       "'레일라 귀여워'"
      ]
     },
     "execution_count": 41,
     "metadata": {},
     "output_type": "execute_result"
    }
   ],
   "source": [
    "text = \" 레일라 귀여워 \"\n",
    "text.strip()"
   ]
  },
  {
   "cell_type": "code",
   "execution_count": 42,
   "id": "3e8288d5",
   "metadata": {},
   "outputs": [
    {
     "data": {
      "text/plain": [
       "['레일라', '나히다', '루미네', '유라', '연비']"
      ]
     },
     "execution_count": 42,
     "metadata": {},
     "output_type": "execute_result"
    }
   ],
   "source": [
    "text = \"레일라 나히다 루미네 유라 연비\"\n",
    "text.split(' ')"
   ]
  },
  {
   "cell_type": "code",
   "execution_count": 44,
   "id": "4b8d4892",
   "metadata": {},
   "outputs": [
    {
     "name": "stdout",
     "output_type": "stream",
     "text": [
      "('레일라', ',', '연비,유라,나히다')\n"
     ]
    }
   ],
   "source": [
    "text = \"레일라,연비,유라,나히다\"\n",
    "print(text.partition(','))"
   ]
  },
  {
   "cell_type": "code",
   "execution_count": 45,
   "id": "4a5aaf8f",
   "metadata": {},
   "outputs": [
    {
     "data": {
      "text/plain": [
       "'       Layla        '"
      ]
     },
     "execution_count": 45,
     "metadata": {},
     "output_type": "execute_result"
    }
   ],
   "source": [
    "text = \"Layla\"\n",
    "text.center(20)"
   ]
  },
  {
   "cell_type": "code",
   "execution_count": 48,
   "id": "d3f3a504",
   "metadata": {},
   "outputs": [
    {
     "data": {
      "text/plain": [
       "'00Layla'"
      ]
     },
     "execution_count": 48,
     "metadata": {},
     "output_type": "execute_result"
    }
   ],
   "source": [
    "text = 'Layla'\n",
    "text.zfill(7)"
   ]
  },
  {
   "cell_type": "code",
   "execution_count": 49,
   "id": "9e4aaca0",
   "metadata": {},
   "outputs": [
    {
     "data": {
      "text/plain": [
       "'Layla is very cute'"
      ]
     },
     "execution_count": 49,
     "metadata": {},
     "output_type": "execute_result"
    }
   ],
   "source": [
    "'layla is very cute'.capitalize()"
   ]
  },
  {
   "cell_type": "code",
   "execution_count": 50,
   "id": "c8888741",
   "metadata": {},
   "outputs": [
    {
     "data": {
      "text/plain": [
       "2"
      ]
     },
     "execution_count": 50,
     "metadata": {},
     "output_type": "execute_result"
    }
   ],
   "source": [
    "'레일라나히다유라레일라레나이다'.count(\"레일라\")"
   ]
  },
  {
   "cell_type": "code",
   "execution_count": 51,
   "id": "d6338036",
   "metadata": {},
   "outputs": [
    {
     "data": {
      "text/plain": [
       "True"
      ]
     },
     "execution_count": 51,
     "metadata": {},
     "output_type": "execute_result"
    }
   ],
   "source": [
    "\"유라야! 반가워!\".startswith(\"유라\")"
   ]
  },
  {
   "cell_type": "code",
   "execution_count": 52,
   "id": "4dadcb70",
   "metadata": {},
   "outputs": [
    {
     "data": {
      "text/plain": [
       "True"
      ]
     },
     "execution_count": 52,
     "metadata": {},
     "output_type": "execute_result"
    }
   ],
   "source": [
    "\"레일라는 닐루가 좋은 거 같아! 왜냐하면 닐루는 닐루\".endswith(\"닐루\")"
   ]
  },
  {
   "cell_type": "code",
   "execution_count": 54,
   "id": "cc75107b",
   "metadata": {},
   "outputs": [
    {
     "data": {
      "text/plain": [
       "4"
      ]
     },
     "execution_count": 54,
     "metadata": {},
     "output_type": "execute_result"
    }
   ],
   "source": [
    "\"노아랑 레일라, 그리고 우타하\".find(\"레\")"
   ]
  },
  {
   "cell_type": "code",
   "execution_count": 55,
   "id": "53e379f5",
   "metadata": {},
   "outputs": [
    {
     "data": {
      "text/plain": [
       "4"
      ]
     },
     "execution_count": 55,
     "metadata": {},
     "output_type": "execute_result"
    }
   ],
   "source": [
    "\"노아랑 레일라, 그리고 우타하\".index(\"레\")"
   ]
  },
  {
   "cell_type": "code",
   "execution_count": 57,
   "id": "6d4bd20c",
   "metadata": {},
   "outputs": [
    {
     "data": {
      "text/plain": [
       "False"
      ]
     },
     "execution_count": 57,
     "metadata": {},
     "output_type": "execute_result"
    }
   ],
   "source": [
    "\"Layla is my god\".isalpha()"
   ]
  },
  {
   "cell_type": "code",
   "execution_count": 58,
   "id": "6390b110",
   "metadata": {},
   "outputs": [
    {
     "data": {
      "text/plain": [
       "True"
      ]
     },
     "execution_count": 58,
     "metadata": {},
     "output_type": "execute_result"
    }
   ],
   "source": [
    "'1219'.isnumeric()"
   ]
  },
  {
   "cell_type": "code",
   "execution_count": 60,
   "id": "2068c137",
   "metadata": {},
   "outputs": [
    {
     "data": {
      "text/plain": [
       "True"
      ]
     },
     "execution_count": 60,
     "metadata": {},
     "output_type": "execute_result"
    }
   ],
   "source": [
    "'1219'.isdecimal()"
   ]
  },
  {
   "cell_type": "code",
   "execution_count": 61,
   "id": "df02db1e",
   "metadata": {},
   "outputs": [
    {
     "data": {
      "text/plain": [
       "True"
      ]
     },
     "execution_count": 61,
     "metadata": {},
     "output_type": "execute_result"
    }
   ],
   "source": [
    "'1219'.isdecimal()"
   ]
  },
  {
   "cell_type": "code",
   "execution_count": 62,
   "id": "893d5bcf",
   "metadata": {},
   "outputs": [
    {
     "data": {
      "text/plain": [
       "True"
      ]
     },
     "execution_count": 62,
     "metadata": {},
     "output_type": "execute_result"
    }
   ],
   "source": [
    "'Laylabirth1219'.isalnum()"
   ]
  },
  {
   "cell_type": "code",
   "execution_count": 63,
   "id": "37110b1f",
   "metadata": {},
   "outputs": [
    {
     "data": {
      "text/plain": [
       "'the layla is very cute girl'"
      ]
     },
     "execution_count": 63,
     "metadata": {},
     "output_type": "execute_result"
    }
   ],
   "source": [
    "'The layla is Very Cute Girl'.lower()"
   ]
  },
  {
   "cell_type": "code",
   "execution_count": 64,
   "id": "de1a1d56",
   "metadata": {},
   "outputs": [
    {
     "data": {
      "text/plain": [
       "'THE LAYLA IS VERY CUTE GIRL'"
      ]
     },
     "execution_count": 64,
     "metadata": {},
     "output_type": "execute_result"
    }
   ],
   "source": [
    "'The layla is Very Cute Girl'.upper()"
   ]
  },
  {
   "cell_type": "code",
   "execution_count": 65,
   "id": "00c8157c",
   "metadata": {},
   "outputs": [
    {
     "data": {
      "text/plain": [
       "'라이덴의 친구 Yae Miko는 라이덴을 보좌하지만, 동시의 그녀의 친구입니다'"
      ]
     },
     "execution_count": 65,
     "metadata": {},
     "output_type": "execute_result"
    }
   ],
   "source": [
    "\"라이덴의 친구 Guard는 라이덴을 보좌하지만, 동시의 그녀의 친구입니다\".replace(\"Guard\", 'Yae Miko')"
   ]
  },
  {
   "cell_type": "code",
   "execution_count": 66,
   "id": "bd7b201d",
   "metadata": {},
   "outputs": [
    {
     "data": {
      "text/plain": [
       "'레일라! 귀여워!'"
      ]
     },
     "execution_count": 66,
     "metadata": {},
     "output_type": "execute_result"
    }
   ],
   "source": [
    "\" 레일라! 귀여워! \".strip()"
   ]
  },
  {
   "cell_type": "code",
   "execution_count": 68,
   "id": "ca211251",
   "metadata": {},
   "outputs": [
    {
     "data": {
      "text/plain": [
       "['레일라', '나히다', '루미네', '유라', '연비']"
      ]
     },
     "execution_count": 68,
     "metadata": {},
     "output_type": "execute_result"
    }
   ],
   "source": [
    "\"레일라 나히다 루미네 유라 연비\".split(' ')"
   ]
  },
  {
   "cell_type": "code",
   "execution_count": 70,
   "id": "1d2f140d",
   "metadata": {},
   "outputs": [
    {
     "data": {
      "text/plain": [
       "('레일라', ',', '연비,유라,나히다')"
      ]
     },
     "execution_count": 70,
     "metadata": {},
     "output_type": "execute_result"
    }
   ],
   "source": [
    "\"레일라,연비,유라,나히다\".partition(',')"
   ]
  },
  {
   "cell_type": "code",
   "execution_count": 71,
   "id": "81ebdb2c",
   "metadata": {},
   "outputs": [
    {
     "data": {
      "text/plain": [
       "'       Layla        '"
      ]
     },
     "execution_count": 71,
     "metadata": {},
     "output_type": "execute_result"
    }
   ],
   "source": [
    "'Layla'.center(20)"
   ]
  },
  {
   "cell_type": "code",
   "execution_count": 72,
   "id": "3b4db46a",
   "metadata": {},
   "outputs": [
    {
     "data": {
      "text/plain": [
       "'00Layla'"
      ]
     },
     "execution_count": 72,
     "metadata": {},
     "output_type": "execute_result"
    }
   ],
   "source": [
    "'Layla'.zfill(7)"
   ]
  }
 ],
 "metadata": {
  "kernelspec": {
   "display_name": "Python 3 (ipykernel)",
   "language": "python",
   "name": "python3"
  },
  "language_info": {
   "codemirror_mode": {
    "name": "ipython",
    "version": 3
   },
   "file_extension": ".py",
   "mimetype": "text/x-python",
   "name": "python",
   "nbconvert_exporter": "python",
   "pygments_lexer": "ipython3",
   "version": "3.11.4"
  }
 },
 "nbformat": 4,
 "nbformat_minor": 5
}
