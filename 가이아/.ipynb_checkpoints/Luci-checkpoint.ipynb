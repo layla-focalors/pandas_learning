{
 "cells": [
  {
   "cell_type": "code",
   "execution_count": 1,
   "id": "2b8299e8",
   "metadata": {},
   "outputs": [],
   "source": [
    "d1 = '40c'\n",
    "m1 = \"46'\"\n",
    "s1 = '52.837\"'\n",
    "u1 = 'N'\n",
    "\n",
    "d2 = '73c'\n",
    "m2 = \"58'\"\n",
    "s2 = '26.302\"'\n",
    "u2 = 'W'\n",
    "\n",
    "coords = ' '.join([d1, m1, s1, u1, d2, m2, s2, u2])"
   ]
  },
  {
   "cell_type": "code",
   "execution_count": 3,
   "id": "bfe8542f",
   "metadata": {},
   "outputs": [
    {
     "data": {
      "text/plain": [
       "'40c 46\\' 52.837\" N 73c 58\\' 26.302\" W'"
      ]
     },
     "execution_count": 3,
     "metadata": {},
     "output_type": "execute_result"
    }
   ],
   "source": [
    "coords"
   ]
  },
  {
   "cell_type": "code",
   "execution_count": 4,
   "id": "b9362a72",
   "metadata": {},
   "outputs": [],
   "source": [
    "mutli_strs = \"\"\"Guard: What? Ridden en a hourse?\n",
    "King Authur: Yes!\n",
    "Guard: You're using coconuts!\n",
    "King Authur: What?\n",
    "Guard: You've got ... coconuts[s] and you're banagin' 'em together\n",
    "'\"\"\""
   ]
  },
  {
   "cell_type": "code",
   "execution_count": 6,
   "id": "c6299b26",
   "metadata": {},
   "outputs": [
    {
     "data": {
      "text/plain": [
       "\"Guard: What? Ridden en a hourse?\\nKing Authur: Yes!\\nGuard: You're using coconuts!\\nKing Authur: What?\\nGuard: You've got ... coconuts[s] and you're banagin' 'em together\\n'\""
      ]
     },
     "execution_count": 6,
     "metadata": {},
     "output_type": "execute_result"
    }
   ],
   "source": [
    "mutli_strs"
   ]
  },
  {
   "cell_type": "code",
   "execution_count": 8,
   "id": "7fa0312a",
   "metadata": {},
   "outputs": [
    {
     "name": "stdout",
     "output_type": "stream",
     "text": [
      "['Guard: What? Ridden en a hourse?', 'King Authur: Yes!', \"Guard: You're using coconuts!\", 'King Authur: What?', \"Guard: You've got ... coconuts[s] and you're banagin' 'em together\", \"'\"]\n"
     ]
    }
   ],
   "source": [
    "print(mutli_strs.splitlines())"
   ]
  },
  {
   "cell_type": "code",
   "execution_count": 9,
   "id": "94331d62",
   "metadata": {},
   "outputs": [],
   "source": [
    "strs = mutli_strs"
   ]
  },
  {
   "cell_type": "code",
   "execution_count": 10,
   "id": "30c5c35a",
   "metadata": {},
   "outputs": [],
   "source": [
    "guard = strs.splitlines()[::2]"
   ]
  },
  {
   "cell_type": "code",
   "execution_count": 11,
   "id": "9abd3bdc",
   "metadata": {},
   "outputs": [
    {
     "data": {
      "text/plain": [
       "['Guard: What? Ridden en a hourse?',\n",
       " \"Guard: You're using coconuts!\",\n",
       " \"Guard: You've got ... coconuts[s] and you're banagin' 'em together\"]"
      ]
     },
     "execution_count": 11,
     "metadata": {},
     "output_type": "execute_result"
    }
   ],
   "source": [
    "guard"
   ]
  },
  {
   "cell_type": "code",
   "execution_count": 14,
   "id": "98a683d4",
   "metadata": {},
   "outputs": [
    {
     "data": {
      "text/plain": [
       "[' : What? Ridden en a hourse?',\n",
       " \" : You're using coconuts!\",\n",
       " \" : You've got ... coconuts[s] and you're banagin' 'em together\"]"
      ]
     },
     "execution_count": 14,
     "metadata": {},
     "output_type": "execute_result"
    }
   ],
   "source": [
    "strs.replace('Guard', ' ').splitlines()[::2]"
   ]
  },
  {
   "cell_type": "code",
   "execution_count": 18,
   "id": "b04e52a1",
   "metadata": {},
   "outputs": [
    {
     "data": {
      "text/plain": [
       "'It\"s just a  flesh would!'"
      ]
     },
     "execution_count": 18,
     "metadata": {},
     "output_type": "execute_result"
    }
   ],
   "source": [
    "var = 'flesh would'\n",
    "s = 'It\"s just a  {}!'\n",
    "s.format(var)"
   ]
  },
  {
   "cell_type": "code",
   "execution_count": 16,
   "id": "4002ca57",
   "metadata": {},
   "outputs": [
    {
     "data": {
      "text/plain": [
       "'It\"s just a  flesh would!'"
      ]
     },
     "execution_count": 16,
     "metadata": {},
     "output_type": "execute_result"
    }
   ],
   "source": [
    "s"
   ]
  },
  {
   "cell_type": "code",
   "execution_count": 19,
   "id": "8dfb854e",
   "metadata": {},
   "outputs": [
    {
     "data": {
      "text/plain": [
       "'It\"s just a  scratch!'"
      ]
     },
     "execution_count": 19,
     "metadata": {},
     "output_type": "execute_result"
    }
   ],
   "source": [
    "s.format('scratch')"
   ]
  },
  {
   "cell_type": "code",
   "execution_count": 21,
   "id": "5bc470ca",
   "metadata": {},
   "outputs": [],
   "source": [
    "s = \"\"\"Black Knight: 'Ths but a {0}.\n",
    "King Authur: A {0}? Your arm's off!\n",
    "\"\"\""
   ]
  },
  {
   "cell_type": "code",
   "execution_count": 23,
   "id": "f462c255",
   "metadata": {},
   "outputs": [
    {
     "name": "stdout",
     "output_type": "stream",
     "text": [
      "Black Knight: 'Ths but a scratch.\n",
      "King Authur: A scratch? Your arm's off!\n",
      "\n"
     ]
    }
   ],
   "source": [
    "print(s.format(\"scratch\"))"
   ]
  },
  {
   "cell_type": "code",
   "execution_count": 25,
   "id": "d09258e6",
   "metadata": {},
   "outputs": [
    {
     "data": {
      "text/plain": [
       "'Hayden Planetarium Coordinates: 40.7815cN, 73.9733cW'"
      ]
     },
     "execution_count": 25,
     "metadata": {},
     "output_type": "execute_result"
    }
   ],
   "source": [
    "'Hayden Planetarium Coordinates: {lat}, {lon}'.format(lat = '40.7815cN', lon= '73.9733cW')"
   ]
  },
  {
   "cell_type": "code",
   "execution_count": 26,
   "id": "2050a870",
   "metadata": {},
   "outputs": [
    {
     "data": {
      "text/plain": [
       "'Some digits of pi : 3.14159265359'"
      ]
     },
     "execution_count": 26,
     "metadata": {},
     "output_type": "execute_result"
    }
   ],
   "source": [
    "'Some digits of pi : {}'.format(3.14159265359)"
   ]
  },
  {
   "cell_type": "code",
   "execution_count": 27,
   "id": "3db0f9c6",
   "metadata": {},
   "outputs": [
    {
     "data": {
      "text/plain": [
       "'나의 통장 잔고는 999,999,999,999,999,999 원이면 좋겠다'"
      ]
     },
     "execution_count": 27,
     "metadata": {},
     "output_type": "execute_result"
    }
   ],
   "source": [
    "'나의 통장 잔고는 {:,} 원이면 좋겠다'.format(999999999999999999)"
   ]
  },
  {
   "cell_type": "code",
   "execution_count": 29,
   "id": "6780d12d",
   "metadata": {},
   "outputs": [
    {
     "data": {
      "text/plain": [
       "'I remember 0.0001031 or 0.0103% of what Lu Chao recited'"
      ]
     },
     "execution_count": 29,
     "metadata": {},
     "output_type": "execute_result"
    }
   ],
   "source": [
    "'I remember {0:.4} or {0:.4%} of what Lu Chao recited'.format(7/67890)"
   ]
  },
  {
   "cell_type": "code",
   "execution_count": 30,
   "id": "54473413",
   "metadata": {},
   "outputs": [
    {
     "data": {
      "text/plain": [
       "'My id number is 000012'"
      ]
     },
     "execution_count": 30,
     "metadata": {},
     "output_type": "execute_result"
    }
   ],
   "source": [
    "'My id number is {0:06d}'.format(12)"
   ]
  },
  {
   "cell_type": "code",
   "execution_count": 31,
   "id": "55ff7beb",
   "metadata": {},
   "outputs": [
    {
     "data": {
      "text/plain": [
       "'I only know 10 digits of pi'"
      ]
     },
     "execution_count": 31,
     "metadata": {},
     "output_type": "execute_result"
    }
   ],
   "source": [
    "'I only know %d digits of pi' % 10"
   ]
  },
  {
   "cell_type": "code",
   "execution_count": 32,
   "id": "d35f54d5",
   "metadata": {},
   "outputs": [
    {
     "data": {
      "text/plain": [
       "'Some digits of Layla:2.18'"
      ]
     },
     "execution_count": 32,
     "metadata": {},
     "output_type": "execute_result"
    }
   ],
   "source": [
    "'Some digits of %(cont)s:%(value).2f' % ({'cont':'Layla', 'value':2.1817})"
   ]
  },
  {
   "cell_type": "code",
   "execution_count": 33,
   "id": "028457ab",
   "metadata": {},
   "outputs": [],
   "source": [
    "var = 'flash wood'"
   ]
  },
  {
   "cell_type": "code",
   "execution_count": 34,
   "id": "36f740a1",
   "metadata": {},
   "outputs": [
    {
     "data": {
      "text/plain": [
       "\"it's just a flash wood\""
      ]
     },
     "execution_count": 34,
     "metadata": {},
     "output_type": "execute_result"
    }
   ],
   "source": [
    "f\"it's just a {var}\""
   ]
  },
  {
   "cell_type": "code",
   "execution_count": 35,
   "id": "15e70971",
   "metadata": {},
   "outputs": [],
   "source": [
    "lat = '40.7815cN'\n",
    "lon = '73.9733cN'"
   ]
  },
  {
   "cell_type": "code",
   "execution_count": 36,
   "id": "02fc0897",
   "metadata": {},
   "outputs": [
    {
     "data": {
      "text/plain": [
       "'Haydren Planetarium Coordinates: 40.7815cN, 73.9733cN'"
      ]
     },
     "execution_count": 36,
     "metadata": {},
     "output_type": "execute_result"
    }
   ],
   "source": [
    "f\"Haydren Planetarium Coordinates: {lat}, {lon}\""
   ]
  },
  {
   "cell_type": "code",
   "execution_count": null,
   "id": "f92b11a9",
   "metadata": {},
   "outputs": [],
   "source": []
  }
 ],
 "metadata": {
  "kernelspec": {
   "display_name": "Python 3 (ipykernel)",
   "language": "python",
   "name": "python3"
  },
  "language_info": {
   "codemirror_mode": {
    "name": "ipython",
    "version": 3
   },
   "file_extension": ".py",
   "mimetype": "text/x-python",
   "name": "python",
   "nbconvert_exporter": "python",
   "pygments_lexer": "ipython3",
   "version": "3.11.4"
  }
 },
 "nbformat": 4,
 "nbformat_minor": 5
}
