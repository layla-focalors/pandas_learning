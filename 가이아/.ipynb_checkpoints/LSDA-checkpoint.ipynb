{
 "cells": [
  {
   "cell_type": "code",
   "execution_count": 1,
   "id": "6465078c",
   "metadata": {},
   "outputs": [],
   "source": [
    "import re"
   ]
  },
  {
   "cell_type": "code",
   "execution_count": 2,
   "id": "341818ec",
   "metadata": {},
   "outputs": [
    {
     "data": {
      "text/plain": [
       "<re.Match object; span=(0, 3), match='레일라'>"
      ]
     },
     "execution_count": 2,
     "metadata": {},
     "output_type": "execute_result"
    }
   ],
   "source": [
    "re.match(pattern='\\D{3}', string = '레일라')"
   ]
  },
  {
   "cell_type": "code",
   "execution_count": 3,
   "id": "aa8f9537",
   "metadata": {},
   "outputs": [
    {
     "data": {
      "text/plain": [
       "<re.Match object; span=(0, 13), match='Layla is Cute'>"
      ]
     },
     "execution_count": 3,
     "metadata": {},
     "output_type": "execute_result"
    }
   ],
   "source": [
    "re.search(pattern='\\D{5}\\s\\D{2}\\s\\D{4}', string = 'Layla is Cute')"
   ]
  },
  {
   "cell_type": "code",
   "execution_count": 4,
   "id": "66153f88",
   "metadata": {},
   "outputs": [
    {
     "data": {
      "text/plain": [
       "<re.Match object; span=(0, 13), match='Layla is Cute'>"
      ]
     },
     "execution_count": 4,
     "metadata": {},
     "output_type": "execute_result"
    }
   ],
   "source": [
    "re.match(pattern='\\D{5}\\s\\D{2}\\s\\D{4}', string = 'Layla is Cute')"
   ]
  },
  {
   "cell_type": "code",
   "execution_count": 5,
   "id": "fa58e84b",
   "metadata": {},
   "outputs": [
    {
     "data": {
      "text/plain": [
       "<re.Match object; span=(0, 13), match='Layla is Cute'>"
      ]
     },
     "execution_count": 5,
     "metadata": {},
     "output_type": "execute_result"
    }
   ],
   "source": [
    "re.fullmatch(pattern='\\D{5}\\s\\D{2}\\s\\D{4}', string = 'Layla is Cute')"
   ]
  },
  {
   "cell_type": "code",
   "execution_count": 6,
   "id": "75bed3c0",
   "metadata": {},
   "outputs": [
    {
     "data": {
      "text/plain": [
       "['Layla is Cute']"
      ]
     },
     "execution_count": 6,
     "metadata": {},
     "output_type": "execute_result"
    }
   ],
   "source": [
    "re.findall(pattern='\\D{5}\\s\\D{2}\\s\\D{4}', string = 'Layla is Cute')"
   ]
  },
  {
   "cell_type": "code",
   "execution_count": 7,
   "id": "3bb5ce24",
   "metadata": {},
   "outputs": [
    {
     "data": {
      "text/plain": [
       "['', '']"
      ]
     },
     "execution_count": 7,
     "metadata": {},
     "output_type": "execute_result"
    }
   ],
   "source": [
    "re.split(pattern='\\D{5}\\s\\D{2}\\s\\D{4}', string = 'Layla is Cute')"
   ]
  },
  {
   "cell_type": "code",
   "execution_count": 8,
   "id": "6aa067ac",
   "metadata": {},
   "outputs": [
    {
     "data": {
      "text/plain": [
       "<callable_iterator at 0x1b29df37940>"
      ]
     },
     "execution_count": 8,
     "metadata": {},
     "output_type": "execute_result"
    }
   ],
   "source": [
    "re.finditer(pattern='\\D{5}\\s\\D{2}\\s\\D{4}', string = 'Layla is Cute')"
   ]
  },
  {
   "cell_type": "code",
   "execution_count": 10,
   "id": "2a4bbf93",
   "metadata": {},
   "outputs": [
    {
     "data": {
      "text/plain": [
       "'-'"
      ]
     },
     "execution_count": 10,
     "metadata": {},
     "output_type": "execute_result"
    }
   ],
   "source": [
    "re.sub('\\D{5}\\s\\D{2}\\s\\D{4}', '-', string = 'Layla is Cute')"
   ]
  },
  {
   "cell_type": "code",
   "execution_count": null,
   "id": "85cfc34f",
   "metadata": {},
   "outputs": [],
   "source": []
  }
 ],
 "metadata": {
  "kernelspec": {
   "display_name": "Python 3 (ipykernel)",
   "language": "python",
   "name": "python3"
  },
  "language_info": {
   "codemirror_mode": {
    "name": "ipython",
    "version": 3
   },
   "file_extension": ".py",
   "mimetype": "text/x-python",
   "name": "python",
   "nbconvert_exporter": "python",
   "pygments_lexer": "ipython3",
   "version": "3.11.4"
  }
 },
 "nbformat": 4,
 "nbformat_minor": 5
}
