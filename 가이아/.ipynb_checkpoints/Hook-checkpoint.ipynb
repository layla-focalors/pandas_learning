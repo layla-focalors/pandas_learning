{
 "cells": [
  {
   "cell_type": "code",
   "execution_count": 1,
   "id": "f4c34e38",
   "metadata": {},
   "outputs": [],
   "source": [
    "import re"
   ]
  },
  {
   "cell_type": "code",
   "execution_count": 2,
   "id": "de71d66c",
   "metadata": {},
   "outputs": [
    {
     "data": {
      "text/plain": [
       "<re.Match object; span=(0, 3), match='레일라'>"
      ]
     },
     "execution_count": 2,
     "metadata": {},
     "output_type": "execute_result"
    }
   ],
   "source": [
    "re.match(pattern='\\D{3}', string = '레일라')"
   ]
  },
  {
   "cell_type": "code",
   "execution_count": 4,
   "id": "98f24989",
   "metadata": {},
   "outputs": [
    {
     "data": {
      "text/plain": [
       "<re.Match object; span=(0, 13), match='Layla is Cute'>"
      ]
     },
     "execution_count": 4,
     "metadata": {},
     "output_type": "execute_result"
    }
   ],
   "source": [
    "re.search(pattern='\\D{5}\\s\\D{2}\\s\\D{4}', string = 'Layla is Cute')"
   ]
  },
  {
   "cell_type": "code",
   "execution_count": 6,
   "id": "ea40b521",
   "metadata": {},
   "outputs": [
    {
     "data": {
      "text/plain": [
       "'레일라'"
      ]
     },
     "execution_count": 6,
     "metadata": {},
     "output_type": "execute_result"
    }
   ],
   "source": [
    "m = re.match(pattern='\\D{3}', string = '레일라')\n",
    "m.group()"
   ]
  },
  {
   "cell_type": "code",
   "execution_count": 7,
   "id": "068df631",
   "metadata": {},
   "outputs": [
    {
     "data": {
      "text/plain": [
       "['레일라']"
      ]
     },
     "execution_count": 7,
     "metadata": {},
     "output_type": "execute_result"
    }
   ],
   "source": [
    "re.findall(pattern='\\D{3}', string = '레일라')"
   ]
  },
  {
   "cell_type": "code",
   "execution_count": 10,
   "id": "38095bc0",
   "metadata": {},
   "outputs": [
    {
     "data": {
      "text/plain": [
       "<re.Match object; span=(0, 3), match='레일라'>"
      ]
     },
     "execution_count": 10,
     "metadata": {},
     "output_type": "execute_result"
    }
   ],
   "source": [
    "re.fullmatch(pattern='\\D{3}', string = '레일라')"
   ]
  },
  {
   "cell_type": "code",
   "execution_count": 9,
   "id": "a9f29df3",
   "metadata": {},
   "outputs": [
    {
     "data": {
      "text/plain": [
       "['레일라']"
      ]
     },
     "execution_count": 9,
     "metadata": {},
     "output_type": "execute_result"
    }
   ],
   "source": [
    "re.findall(pattern='\\D{3}', string = '레일라')"
   ]
  },
  {
   "cell_type": "code",
   "execution_count": 8,
   "id": "caeb9063",
   "metadata": {},
   "outputs": [
    {
     "data": {
      "text/plain": [
       "['', '']"
      ]
     },
     "execution_count": 8,
     "metadata": {},
     "output_type": "execute_result"
    }
   ],
   "source": [
    "re.split(pattern='\\D{3}', string = '레일라')"
   ]
  },
  {
   "cell_type": "code",
   "execution_count": 11,
   "id": "e16e8b03",
   "metadata": {},
   "outputs": [
    {
     "data": {
      "text/plain": [
       "<callable_iterator at 0x230c0499120>"
      ]
     },
     "execution_count": 11,
     "metadata": {},
     "output_type": "execute_result"
    }
   ],
   "source": [
    "re.finditer(pattern='\\D{3}', string = '레일라')"
   ]
  },
  {
   "cell_type": "code",
   "execution_count": 12,
   "id": "e2c3108f",
   "metadata": {},
   "outputs": [
    {
     "data": {
      "text/plain": [
       "'-'"
      ]
     },
     "execution_count": 12,
     "metadata": {},
     "output_type": "execute_result"
    }
   ],
   "source": [
    "re.sub('\\D{3}', '-',string = '레일라')"
   ]
  }
 ],
 "metadata": {
  "kernelspec": {
   "display_name": "Python 3 (ipykernel)",
   "language": "python",
   "name": "python3"
  },
  "language_info": {
   "codemirror_mode": {
    "name": "ipython",
    "version": 3
   },
   "file_extension": ".py",
   "mimetype": "text/x-python",
   "name": "python",
   "nbconvert_exporter": "python",
   "pygments_lexer": "ipython3",
   "version": "3.11.4"
  }
 },
 "nbformat": 4,
 "nbformat_minor": 5
}
