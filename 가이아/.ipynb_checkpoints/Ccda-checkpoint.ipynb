{
 "cells": [
  {
   "cell_type": "code",
   "execution_count": 1,
   "id": "f31c43aa",
   "metadata": {},
   "outputs": [],
   "source": [
    "import re"
   ]
  },
  {
   "cell_type": "code",
   "execution_count": 4,
   "id": "678cfe77",
   "metadata": {},
   "outputs": [
    {
     "data": {
      "text/plain": [
       "<re.Match object; span=(0, 3), match='레일라'>"
      ]
     },
     "execution_count": 4,
     "metadata": {},
     "output_type": "execute_result"
    }
   ],
   "source": [
    "re.match(pattern='\\D{3}', string = '레일라')"
   ]
  },
  {
   "cell_type": "code",
   "execution_count": 5,
   "id": "bccc3c97",
   "metadata": {},
   "outputs": [
    {
     "data": {
      "text/plain": [
       "<re.Match object; span=(0, 3), match='레일라'>"
      ]
     },
     "execution_count": 5,
     "metadata": {},
     "output_type": "execute_result"
    }
   ],
   "source": [
    "re.match(pattern='\\w{3}', string = '레일라')"
   ]
  },
  {
   "cell_type": "code",
   "execution_count": 6,
   "id": "b28fd253",
   "metadata": {},
   "outputs": [],
   "source": [
    "re.match(pattern='\\W{3}', string = '레일라')"
   ]
  },
  {
   "cell_type": "code",
   "execution_count": 7,
   "id": "3c22bbe6",
   "metadata": {},
   "outputs": [],
   "source": [
    "re.match(pattern=r'\\W{3}', string='레일라')\n"
   ]
  },
  {
   "cell_type": "code",
   "execution_count": 12,
   "id": "cd8777ac",
   "metadata": {},
   "outputs": [
    {
     "data": {
      "text/plain": [
       "'Layla is cute'"
      ]
     },
     "execution_count": 12,
     "metadata": {},
     "output_type": "execute_result"
    }
   ],
   "source": [
    "m = re.search(pattern='\\D{5}\\s\\D{2}\\s\\D{4}', string = 'Layla is cute')\n",
    "m.group()"
   ]
  },
  {
   "cell_type": "code",
   "execution_count": 14,
   "id": "a9b2ac65",
   "metadata": {},
   "outputs": [
    {
     "data": {
      "text/plain": [
       "<re.Match object; span=(0, 13), match='Layla is cute'>"
      ]
     },
     "execution_count": 14,
     "metadata": {},
     "output_type": "execute_result"
    }
   ],
   "source": [
    "m = re.match(pattern='\\D{5}\\s\\D{2}\\s\\D{4}', string = 'Layla is cute')\n",
    "m"
   ]
  },
  {
   "cell_type": "code",
   "execution_count": 15,
   "id": "69b0dce0",
   "metadata": {},
   "outputs": [
    {
     "data": {
      "text/plain": [
       "True"
      ]
     },
     "execution_count": 15,
     "metadata": {},
     "output_type": "execute_result"
    }
   ],
   "source": [
    "m = re.fullmatch(pattern='\\D{5}\\s\\D{2}\\s\\D{4}', string = 'Layla is cute')\n",
    "bool(m)"
   ]
  },
  {
   "cell_type": "code",
   "execution_count": 18,
   "id": "17d45f70",
   "metadata": {},
   "outputs": [
    {
     "data": {
      "text/plain": [
       "['', '']"
      ]
     },
     "execution_count": 18,
     "metadata": {},
     "output_type": "execute_result"
    }
   ],
   "source": [
    "m = re.split(pattern='\\D{5}\\s\\D{2}\\s\\D{4}', string = 'Layla is cute')\n",
    "m"
   ]
  },
  {
   "cell_type": "code",
   "execution_count": 17,
   "id": "0440b907",
   "metadata": {},
   "outputs": [
    {
     "data": {
      "text/plain": [
       "['Layla is cute']"
      ]
     },
     "execution_count": 17,
     "metadata": {},
     "output_type": "execute_result"
    }
   ],
   "source": [
    "m = re.findall(pattern='\\D{5}\\s\\D{2}\\s\\D{4}', string = 'Layla is cute')\n",
    "m"
   ]
  },
  {
   "cell_type": "code",
   "execution_count": 20,
   "id": "c4fc05f5",
   "metadata": {},
   "outputs": [
    {
     "name": "stdout",
     "output_type": "stream",
     "text": [
      "<re.Match object; span=(0, 13), match='Layla is cute'>\n"
     ]
    }
   ],
   "source": [
    "m = re.finditer(pattern='\\D{5}\\s\\D{2}\\s\\D{4}', string = 'Layla is cute')\n",
    "for i in m:\n",
    "    print(i)"
   ]
  },
  {
   "cell_type": "code",
   "execution_count": 23,
   "id": "79c78dcd",
   "metadata": {},
   "outputs": [
    {
     "data": {
      "text/plain": [
       "'-'"
      ]
     },
     "execution_count": 23,
     "metadata": {},
     "output_type": "execute_result"
    }
   ],
   "source": [
    "m = re.sub('\\D{5}\\s\\D{2}\\s\\D{4}', '-', string = 'Layla is cute')\n",
    "m"
   ]
  }
 ],
 "metadata": {
  "kernelspec": {
   "display_name": "Python 3 (ipykernel)",
   "language": "python",
   "name": "python3"
  },
  "language_info": {
   "codemirror_mode": {
    "name": "ipython",
    "version": 3
   },
   "file_extension": ".py",
   "mimetype": "text/x-python",
   "name": "python",
   "nbconvert_exporter": "python",
   "pygments_lexer": "ipython3",
   "version": "3.11.4"
  }
 },
 "nbformat": 4,
 "nbformat_minor": 5
}
