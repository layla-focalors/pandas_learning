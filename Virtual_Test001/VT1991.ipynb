{
 "cells": [
  {
   "cell_type": "code",
   "execution_count": 1,
   "id": "e1c5c3d1",
   "metadata": {},
   "outputs": [],
   "source": [
    "import pandas as pd\n",
    "import seaborn as sns\n",
    "%matplotlib inline"
   ]
  },
  {
   "cell_type": "code",
   "execution_count": 3,
   "id": "53521931",
   "metadata": {},
   "outputs": [
    {
     "data": {
      "text/html": [
       "<div>\n",
       "<style scoped>\n",
       "    .dataframe tbody tr th:only-of-type {\n",
       "        vertical-align: middle;\n",
       "    }\n",
       "\n",
       "    .dataframe tbody tr th {\n",
       "        vertical-align: top;\n",
       "    }\n",
       "\n",
       "    .dataframe thead th {\n",
       "        text-align: right;\n",
       "    }\n",
       "</style>\n",
       "<table border=\"1\" class=\"dataframe\">\n",
       "  <thead>\n",
       "    <tr style=\"text-align: right;\">\n",
       "      <th></th>\n",
       "      <th>Name</th>\n",
       "      <th>Born</th>\n",
       "      <th>Hobby</th>\n",
       "      <th>Height</th>\n",
       "    </tr>\n",
       "  </thead>\n",
       "  <tbody>\n",
       "    <tr>\n",
       "      <th>0</th>\n",
       "      <td>RM</td>\n",
       "      <td>1992-02-03</td>\n",
       "      <td>music</td>\n",
       "      <td>175</td>\n",
       "    </tr>\n",
       "    <tr>\n",
       "      <th>1</th>\n",
       "      <td>Jin</td>\n",
       "      <td>1991-06-21</td>\n",
       "      <td>movie</td>\n",
       "      <td>180</td>\n",
       "    </tr>\n",
       "    <tr>\n",
       "      <th>2</th>\n",
       "      <td>Jhop</td>\n",
       "      <td>1992-09-11</td>\n",
       "      <td>baseball</td>\n",
       "      <td>176</td>\n",
       "    </tr>\n",
       "    <tr>\n",
       "      <th>3</th>\n",
       "      <td>Sugar</td>\n",
       "      <td>1993-10-02</td>\n",
       "      <td>Gitar</td>\n",
       "      <td>173</td>\n",
       "    </tr>\n",
       "    <tr>\n",
       "      <th>4</th>\n",
       "      <td>Jilmin</td>\n",
       "      <td>1994-12-20</td>\n",
       "      <td>tenniss</td>\n",
       "      <td>170</td>\n",
       "    </tr>\n",
       "    <tr>\n",
       "      <th>5</th>\n",
       "      <td>View</td>\n",
       "      <td>1994-05-28</td>\n",
       "      <td>dance</td>\n",
       "      <td>171</td>\n",
       "    </tr>\n",
       "    <tr>\n",
       "      <th>6</th>\n",
       "      <td>Junguk</td>\n",
       "      <td>1996-07-14</td>\n",
       "      <td>Reading</td>\n",
       "      <td>173</td>\n",
       "    </tr>\n",
       "  </tbody>\n",
       "</table>\n",
       "</div>"
      ],
      "text/plain": [
       "     Name        Born     Hobby  Height\n",
       "0      RM  1992-02-03     music     175\n",
       "1     Jin  1991-06-21     movie     180\n",
       "2    Jhop  1992-09-11  baseball     176\n",
       "3   Sugar  1993-10-02     Gitar     173\n",
       "4  Jilmin  1994-12-20   tenniss     170\n",
       "5    View  1994-05-28     dance     171\n",
       "6  Junguk  1996-07-14   Reading     173"
      ]
     },
     "execution_count": 3,
     "metadata": {},
     "output_type": "execute_result"
    }
   ],
   "source": [
    "df = pd.DataFrame({\n",
    "    'Name' : ['RM','Jin','Jhop','Sugar','Jilmin','View','Junguk'],\n",
    "    'Born' : ['1992-02-03','1991-06-21','1992-09-11','1993-10-02','1994-12-20','1994-05-28','1996-07-14'],\n",
    "    'Hobby' : ['music','movie','baseball','Gitar','tenniss','dance','Reading'],\n",
    "    'Height' : [175, 180, 176, 173, 170, 171, 173]\n",
    "})\n",
    "df"
   ]
  },
  {
   "cell_type": "code",
   "execution_count": 4,
   "id": "54d98392",
   "metadata": {},
   "outputs": [
    {
     "data": {
      "text/html": [
       "<div>\n",
       "<style scoped>\n",
       "    .dataframe tbody tr th:only-of-type {\n",
       "        vertical-align: middle;\n",
       "    }\n",
       "\n",
       "    .dataframe tbody tr th {\n",
       "        vertical-align: top;\n",
       "    }\n",
       "\n",
       "    .dataframe thead th {\n",
       "        text-align: right;\n",
       "    }\n",
       "</style>\n",
       "<table border=\"1\" class=\"dataframe\">\n",
       "  <thead>\n",
       "    <tr style=\"text-align: right;\">\n",
       "      <th></th>\n",
       "      <th>Height</th>\n",
       "    </tr>\n",
       "  </thead>\n",
       "  <tbody>\n",
       "    <tr>\n",
       "      <th>count</th>\n",
       "      <td>7.000000</td>\n",
       "    </tr>\n",
       "    <tr>\n",
       "      <th>mean</th>\n",
       "      <td>174.000000</td>\n",
       "    </tr>\n",
       "    <tr>\n",
       "      <th>std</th>\n",
       "      <td>3.366502</td>\n",
       "    </tr>\n",
       "    <tr>\n",
       "      <th>min</th>\n",
       "      <td>170.000000</td>\n",
       "    </tr>\n",
       "    <tr>\n",
       "      <th>25%</th>\n",
       "      <td>172.000000</td>\n",
       "    </tr>\n",
       "    <tr>\n",
       "      <th>50%</th>\n",
       "      <td>173.000000</td>\n",
       "    </tr>\n",
       "    <tr>\n",
       "      <th>75%</th>\n",
       "      <td>175.500000</td>\n",
       "    </tr>\n",
       "    <tr>\n",
       "      <th>max</th>\n",
       "      <td>180.000000</td>\n",
       "    </tr>\n",
       "  </tbody>\n",
       "</table>\n",
       "</div>"
      ],
      "text/plain": [
       "           Height\n",
       "count    7.000000\n",
       "mean   174.000000\n",
       "std      3.366502\n",
       "min    170.000000\n",
       "25%    172.000000\n",
       "50%    173.000000\n",
       "75%    175.500000\n",
       "max    180.000000"
      ]
     },
     "execution_count": 4,
     "metadata": {},
     "output_type": "execute_result"
    }
   ],
   "source": [
    "df.describe()"
   ]
  },
  {
   "cell_type": "code",
   "execution_count": 5,
   "id": "2e47ba5a",
   "metadata": {},
   "outputs": [
    {
     "name": "stderr",
     "output_type": "stream",
     "text": [
      "C:\\Users\\starl\\AppData\\Local\\Temp\\ipykernel_23708\\3698961737.py:1: FutureWarning: The default value of numeric_only in DataFrame.mean is deprecated. In a future version, it will default to False. In addition, specifying 'numeric_only=None' is deprecated. Select only valid columns or specify the value of numeric_only to silence this warning.\n",
      "  df.mean()\n"
     ]
    },
    {
     "data": {
      "text/plain": [
       "Height    174.0\n",
       "dtype: float64"
      ]
     },
     "execution_count": 5,
     "metadata": {},
     "output_type": "execute_result"
    }
   ],
   "source": [
    "df.mean()"
   ]
  },
  {
   "cell_type": "code",
   "execution_count": 6,
   "id": "356bc7da",
   "metadata": {},
   "outputs": [
    {
     "data": {
      "text/plain": [
       "Name            View\n",
       "Born      1996-07-14\n",
       "Hobby        tenniss\n",
       "Height           180\n",
       "dtype: object"
      ]
     },
     "execution_count": 6,
     "metadata": {},
     "output_type": "execute_result"
    }
   ],
   "source": [
    "df.max()"
   ]
  },
  {
   "cell_type": "code",
   "execution_count": 7,
   "id": "dd2022ef",
   "metadata": {},
   "outputs": [
    {
     "data": {
      "text/plain": [
       "Name            Jhop\n",
       "Born      1991-06-21\n",
       "Hobby          Gitar\n",
       "Height           170\n",
       "dtype: object"
      ]
     },
     "execution_count": 7,
     "metadata": {},
     "output_type": "execute_result"
    }
   ],
   "source": [
    "df.min()"
   ]
  },
  {
   "cell_type": "code",
   "execution_count": 11,
   "id": "baeefe83",
   "metadata": {},
   "outputs": [],
   "source": [
    "df['total_life'] = pd.to_datetime(df['Born'], format='%Y-%m-%d')\n",
    "df['today'] = pd.to_datetime(\"2022-10-24\", format='%Y-%m-%d')"
   ]
  },
  {
   "cell_type": "code",
   "execution_count": 12,
   "id": "17f40c33",
   "metadata": {},
   "outputs": [
    {
     "data": {
      "text/html": [
       "<div>\n",
       "<style scoped>\n",
       "    .dataframe tbody tr th:only-of-type {\n",
       "        vertical-align: middle;\n",
       "    }\n",
       "\n",
       "    .dataframe tbody tr th {\n",
       "        vertical-align: top;\n",
       "    }\n",
       "\n",
       "    .dataframe thead th {\n",
       "        text-align: right;\n",
       "    }\n",
       "</style>\n",
       "<table border=\"1\" class=\"dataframe\">\n",
       "  <thead>\n",
       "    <tr style=\"text-align: right;\">\n",
       "      <th></th>\n",
       "      <th>Name</th>\n",
       "      <th>Born</th>\n",
       "      <th>Hobby</th>\n",
       "      <th>Height</th>\n",
       "      <th>total_life</th>\n",
       "      <th>today</th>\n",
       "    </tr>\n",
       "  </thead>\n",
       "  <tbody>\n",
       "    <tr>\n",
       "      <th>0</th>\n",
       "      <td>RM</td>\n",
       "      <td>1992-02-03</td>\n",
       "      <td>music</td>\n",
       "      <td>175</td>\n",
       "      <td>1992-02-03</td>\n",
       "      <td>2022-10-24</td>\n",
       "    </tr>\n",
       "    <tr>\n",
       "      <th>1</th>\n",
       "      <td>Jin</td>\n",
       "      <td>1991-06-21</td>\n",
       "      <td>movie</td>\n",
       "      <td>180</td>\n",
       "      <td>1991-06-21</td>\n",
       "      <td>2022-10-24</td>\n",
       "    </tr>\n",
       "    <tr>\n",
       "      <th>2</th>\n",
       "      <td>Jhop</td>\n",
       "      <td>1992-09-11</td>\n",
       "      <td>baseball</td>\n",
       "      <td>176</td>\n",
       "      <td>1992-09-11</td>\n",
       "      <td>2022-10-24</td>\n",
       "    </tr>\n",
       "    <tr>\n",
       "      <th>3</th>\n",
       "      <td>Sugar</td>\n",
       "      <td>1993-10-02</td>\n",
       "      <td>Gitar</td>\n",
       "      <td>173</td>\n",
       "      <td>1993-10-02</td>\n",
       "      <td>2022-10-24</td>\n",
       "    </tr>\n",
       "    <tr>\n",
       "      <th>4</th>\n",
       "      <td>Jilmin</td>\n",
       "      <td>1994-12-20</td>\n",
       "      <td>tenniss</td>\n",
       "      <td>170</td>\n",
       "      <td>1994-12-20</td>\n",
       "      <td>2022-10-24</td>\n",
       "    </tr>\n",
       "    <tr>\n",
       "      <th>5</th>\n",
       "      <td>View</td>\n",
       "      <td>1994-05-28</td>\n",
       "      <td>dance</td>\n",
       "      <td>171</td>\n",
       "      <td>1994-05-28</td>\n",
       "      <td>2022-10-24</td>\n",
       "    </tr>\n",
       "    <tr>\n",
       "      <th>6</th>\n",
       "      <td>Junguk</td>\n",
       "      <td>1996-07-14</td>\n",
       "      <td>Reading</td>\n",
       "      <td>173</td>\n",
       "      <td>1996-07-14</td>\n",
       "      <td>2022-10-24</td>\n",
       "    </tr>\n",
       "  </tbody>\n",
       "</table>\n",
       "</div>"
      ],
      "text/plain": [
       "     Name        Born     Hobby  Height total_life      today\n",
       "0      RM  1992-02-03     music     175 1992-02-03 2022-10-24\n",
       "1     Jin  1991-06-21     movie     180 1991-06-21 2022-10-24\n",
       "2    Jhop  1992-09-11  baseball     176 1992-09-11 2022-10-24\n",
       "3   Sugar  1993-10-02     Gitar     173 1993-10-02 2022-10-24\n",
       "4  Jilmin  1994-12-20   tenniss     170 1994-12-20 2022-10-24\n",
       "5    View  1994-05-28     dance     171 1994-05-28 2022-10-24\n",
       "6  Junguk  1996-07-14   Reading     173 1996-07-14 2022-10-24"
      ]
     },
     "execution_count": 12,
     "metadata": {},
     "output_type": "execute_result"
    }
   ],
   "source": [
    "df"
   ]
  },
  {
   "cell_type": "code",
   "execution_count": 13,
   "id": "981afc04",
   "metadata": {},
   "outputs": [
    {
     "name": "stdout",
     "output_type": "stream",
     "text": [
      "<class 'pandas.core.frame.DataFrame'>\n",
      "RangeIndex: 7 entries, 0 to 6\n",
      "Data columns (total 6 columns):\n",
      " #   Column      Non-Null Count  Dtype         \n",
      "---  ------      --------------  -----         \n",
      " 0   Name        7 non-null      object        \n",
      " 1   Born        7 non-null      object        \n",
      " 2   Hobby       7 non-null      object        \n",
      " 3   Height      7 non-null      int64         \n",
      " 4   total_life  7 non-null      datetime64[ns]\n",
      " 5   today       7 non-null      datetime64[ns]\n",
      "dtypes: datetime64[ns](2), int64(1), object(3)\n",
      "memory usage: 468.0+ bytes\n"
     ]
    }
   ],
   "source": [
    "df.info()"
   ]
  },
  {
   "cell_type": "code",
   "execution_count": 14,
   "id": "9f9eb79b",
   "metadata": {},
   "outputs": [],
   "source": [
    "df['lifeNX'] = df['today'] - df['total_life']"
   ]
  },
  {
   "cell_type": "code",
   "execution_count": 15,
   "id": "bf96ab7d",
   "metadata": {},
   "outputs": [
    {
     "data": {
      "text/html": [
       "<div>\n",
       "<style scoped>\n",
       "    .dataframe tbody tr th:only-of-type {\n",
       "        vertical-align: middle;\n",
       "    }\n",
       "\n",
       "    .dataframe tbody tr th {\n",
       "        vertical-align: top;\n",
       "    }\n",
       "\n",
       "    .dataframe thead th {\n",
       "        text-align: right;\n",
       "    }\n",
       "</style>\n",
       "<table border=\"1\" class=\"dataframe\">\n",
       "  <thead>\n",
       "    <tr style=\"text-align: right;\">\n",
       "      <th></th>\n",
       "      <th>Name</th>\n",
       "      <th>Born</th>\n",
       "      <th>Hobby</th>\n",
       "      <th>Height</th>\n",
       "      <th>total_life</th>\n",
       "      <th>today</th>\n",
       "      <th>lifeNX</th>\n",
       "    </tr>\n",
       "  </thead>\n",
       "  <tbody>\n",
       "    <tr>\n",
       "      <th>0</th>\n",
       "      <td>RM</td>\n",
       "      <td>1992-02-03</td>\n",
       "      <td>music</td>\n",
       "      <td>175</td>\n",
       "      <td>1992-02-03</td>\n",
       "      <td>2022-10-24</td>\n",
       "      <td>11221 days</td>\n",
       "    </tr>\n",
       "    <tr>\n",
       "      <th>1</th>\n",
       "      <td>Jin</td>\n",
       "      <td>1991-06-21</td>\n",
       "      <td>movie</td>\n",
       "      <td>180</td>\n",
       "      <td>1991-06-21</td>\n",
       "      <td>2022-10-24</td>\n",
       "      <td>11448 days</td>\n",
       "    </tr>\n",
       "    <tr>\n",
       "      <th>2</th>\n",
       "      <td>Jhop</td>\n",
       "      <td>1992-09-11</td>\n",
       "      <td>baseball</td>\n",
       "      <td>176</td>\n",
       "      <td>1992-09-11</td>\n",
       "      <td>2022-10-24</td>\n",
       "      <td>11000 days</td>\n",
       "    </tr>\n",
       "    <tr>\n",
       "      <th>3</th>\n",
       "      <td>Sugar</td>\n",
       "      <td>1993-10-02</td>\n",
       "      <td>Gitar</td>\n",
       "      <td>173</td>\n",
       "      <td>1993-10-02</td>\n",
       "      <td>2022-10-24</td>\n",
       "      <td>10614 days</td>\n",
       "    </tr>\n",
       "    <tr>\n",
       "      <th>4</th>\n",
       "      <td>Jilmin</td>\n",
       "      <td>1994-12-20</td>\n",
       "      <td>tenniss</td>\n",
       "      <td>170</td>\n",
       "      <td>1994-12-20</td>\n",
       "      <td>2022-10-24</td>\n",
       "      <td>10170 days</td>\n",
       "    </tr>\n",
       "    <tr>\n",
       "      <th>5</th>\n",
       "      <td>View</td>\n",
       "      <td>1994-05-28</td>\n",
       "      <td>dance</td>\n",
       "      <td>171</td>\n",
       "      <td>1994-05-28</td>\n",
       "      <td>2022-10-24</td>\n",
       "      <td>10376 days</td>\n",
       "    </tr>\n",
       "    <tr>\n",
       "      <th>6</th>\n",
       "      <td>Junguk</td>\n",
       "      <td>1996-07-14</td>\n",
       "      <td>Reading</td>\n",
       "      <td>173</td>\n",
       "      <td>1996-07-14</td>\n",
       "      <td>2022-10-24</td>\n",
       "      <td>9598 days</td>\n",
       "    </tr>\n",
       "  </tbody>\n",
       "</table>\n",
       "</div>"
      ],
      "text/plain": [
       "     Name        Born     Hobby  Height total_life      today     lifeNX\n",
       "0      RM  1992-02-03     music     175 1992-02-03 2022-10-24 11221 days\n",
       "1     Jin  1991-06-21     movie     180 1991-06-21 2022-10-24 11448 days\n",
       "2    Jhop  1992-09-11  baseball     176 1992-09-11 2022-10-24 11000 days\n",
       "3   Sugar  1993-10-02     Gitar     173 1993-10-02 2022-10-24 10614 days\n",
       "4  Jilmin  1994-12-20   tenniss     170 1994-12-20 2022-10-24 10170 days\n",
       "5    View  1994-05-28     dance     171 1994-05-28 2022-10-24 10376 days\n",
       "6  Junguk  1996-07-14   Reading     173 1996-07-14 2022-10-24  9598 days"
      ]
     },
     "execution_count": 15,
     "metadata": {},
     "output_type": "execute_result"
    }
   ],
   "source": [
    "df"
   ]
  },
  {
   "cell_type": "code",
   "execution_count": 18,
   "id": "b43caecd",
   "metadata": {},
   "outputs": [
    {
     "data": {
      "text/plain": [
       "['.ipynb_checkpoints', 'df.pickle', 'VT1991.ipynb']"
      ]
     },
     "execution_count": 18,
     "metadata": {},
     "output_type": "execute_result"
    }
   ],
   "source": [
    "import os\n",
    "os.listdir('./')"
   ]
  },
  {
   "cell_type": "code",
   "execution_count": 17,
   "id": "0f69a199",
   "metadata": {},
   "outputs": [],
   "source": [
    "df.to_pickle('./df.pickle')"
   ]
  },
  {
   "cell_type": "code",
   "execution_count": 19,
   "id": "a791fecd",
   "metadata": {},
   "outputs": [
    {
     "data": {
      "text/html": [
       "<div>\n",
       "<style scoped>\n",
       "    .dataframe tbody tr th:only-of-type {\n",
       "        vertical-align: middle;\n",
       "    }\n",
       "\n",
       "    .dataframe tbody tr th {\n",
       "        vertical-align: top;\n",
       "    }\n",
       "\n",
       "    .dataframe thead th {\n",
       "        text-align: right;\n",
       "    }\n",
       "</style>\n",
       "<table border=\"1\" class=\"dataframe\">\n",
       "  <thead>\n",
       "    <tr style=\"text-align: right;\">\n",
       "      <th></th>\n",
       "      <th>Name</th>\n",
       "      <th>Born</th>\n",
       "      <th>Hobby</th>\n",
       "      <th>Height</th>\n",
       "      <th>total_life</th>\n",
       "      <th>today</th>\n",
       "      <th>lifeNX</th>\n",
       "    </tr>\n",
       "  </thead>\n",
       "  <tbody>\n",
       "    <tr>\n",
       "      <th>0</th>\n",
       "      <td>RM</td>\n",
       "      <td>1992-02-03</td>\n",
       "      <td>music</td>\n",
       "      <td>175</td>\n",
       "      <td>1992-02-03</td>\n",
       "      <td>2022-10-24</td>\n",
       "      <td>11221 days</td>\n",
       "    </tr>\n",
       "    <tr>\n",
       "      <th>1</th>\n",
       "      <td>Jin</td>\n",
       "      <td>1991-06-21</td>\n",
       "      <td>movie</td>\n",
       "      <td>180</td>\n",
       "      <td>1991-06-21</td>\n",
       "      <td>2022-10-24</td>\n",
       "      <td>11448 days</td>\n",
       "    </tr>\n",
       "    <tr>\n",
       "      <th>2</th>\n",
       "      <td>Jhop</td>\n",
       "      <td>1992-09-11</td>\n",
       "      <td>baseball</td>\n",
       "      <td>176</td>\n",
       "      <td>1992-09-11</td>\n",
       "      <td>2022-10-24</td>\n",
       "      <td>11000 days</td>\n",
       "    </tr>\n",
       "    <tr>\n",
       "      <th>3</th>\n",
       "      <td>Sugar</td>\n",
       "      <td>1993-10-02</td>\n",
       "      <td>Gitar</td>\n",
       "      <td>173</td>\n",
       "      <td>1993-10-02</td>\n",
       "      <td>2022-10-24</td>\n",
       "      <td>10614 days</td>\n",
       "    </tr>\n",
       "    <tr>\n",
       "      <th>4</th>\n",
       "      <td>Jilmin</td>\n",
       "      <td>1994-12-20</td>\n",
       "      <td>tenniss</td>\n",
       "      <td>170</td>\n",
       "      <td>1994-12-20</td>\n",
       "      <td>2022-10-24</td>\n",
       "      <td>10170 days</td>\n",
       "    </tr>\n",
       "    <tr>\n",
       "      <th>5</th>\n",
       "      <td>View</td>\n",
       "      <td>1994-05-28</td>\n",
       "      <td>dance</td>\n",
       "      <td>171</td>\n",
       "      <td>1994-05-28</td>\n",
       "      <td>2022-10-24</td>\n",
       "      <td>10376 days</td>\n",
       "    </tr>\n",
       "    <tr>\n",
       "      <th>6</th>\n",
       "      <td>Junguk</td>\n",
       "      <td>1996-07-14</td>\n",
       "      <td>Reading</td>\n",
       "      <td>173</td>\n",
       "      <td>1996-07-14</td>\n",
       "      <td>2022-10-24</td>\n",
       "      <td>9598 days</td>\n",
       "    </tr>\n",
       "  </tbody>\n",
       "</table>\n",
       "</div>"
      ],
      "text/plain": [
       "     Name        Born     Hobby  Height total_life      today     lifeNX\n",
       "0      RM  1992-02-03     music     175 1992-02-03 2022-10-24 11221 days\n",
       "1     Jin  1991-06-21     movie     180 1991-06-21 2022-10-24 11448 days\n",
       "2    Jhop  1992-09-11  baseball     176 1992-09-11 2022-10-24 11000 days\n",
       "3   Sugar  1993-10-02     Gitar     173 1993-10-02 2022-10-24 10614 days\n",
       "4  Jilmin  1994-12-20   tenniss     170 1994-12-20 2022-10-24 10170 days\n",
       "5    View  1994-05-28     dance     171 1994-05-28 2022-10-24 10376 days\n",
       "6  Junguk  1996-07-14   Reading     173 1996-07-14 2022-10-24  9598 days"
      ]
     },
     "execution_count": 19,
     "metadata": {},
     "output_type": "execute_result"
    }
   ],
   "source": [
    "df = pd.read_pickle('./df.pickle')\n",
    "df"
   ]
  },
  {
   "cell_type": "code",
   "execution_count": 20,
   "id": "c09b32fe",
   "metadata": {},
   "outputs": [
    {
     "data": {
      "text/html": [
       "<div>\n",
       "<style scoped>\n",
       "    .dataframe tbody tr th:only-of-type {\n",
       "        vertical-align: middle;\n",
       "    }\n",
       "\n",
       "    .dataframe tbody tr th {\n",
       "        vertical-align: top;\n",
       "    }\n",
       "\n",
       "    .dataframe thead th {\n",
       "        text-align: right;\n",
       "    }\n",
       "</style>\n",
       "<table border=\"1\" class=\"dataframe\">\n",
       "  <thead>\n",
       "    <tr style=\"text-align: right;\">\n",
       "      <th></th>\n",
       "      <th>country</th>\n",
       "      <th>continent</th>\n",
       "      <th>year</th>\n",
       "      <th>lifeExp</th>\n",
       "      <th>pop</th>\n",
       "      <th>gdpPercap</th>\n",
       "    </tr>\n",
       "  </thead>\n",
       "  <tbody>\n",
       "    <tr>\n",
       "      <th>0</th>\n",
       "      <td>Afghanistan</td>\n",
       "      <td>Asia</td>\n",
       "      <td>1952</td>\n",
       "      <td>28.801</td>\n",
       "      <td>8425333</td>\n",
       "      <td>779.445314</td>\n",
       "    </tr>\n",
       "    <tr>\n",
       "      <th>1</th>\n",
       "      <td>Afghanistan</td>\n",
       "      <td>Asia</td>\n",
       "      <td>1957</td>\n",
       "      <td>30.332</td>\n",
       "      <td>9240934</td>\n",
       "      <td>820.853030</td>\n",
       "    </tr>\n",
       "    <tr>\n",
       "      <th>2</th>\n",
       "      <td>Afghanistan</td>\n",
       "      <td>Asia</td>\n",
       "      <td>1962</td>\n",
       "      <td>31.997</td>\n",
       "      <td>10267083</td>\n",
       "      <td>853.100710</td>\n",
       "    </tr>\n",
       "    <tr>\n",
       "      <th>3</th>\n",
       "      <td>Afghanistan</td>\n",
       "      <td>Asia</td>\n",
       "      <td>1967</td>\n",
       "      <td>34.020</td>\n",
       "      <td>11537966</td>\n",
       "      <td>836.197138</td>\n",
       "    </tr>\n",
       "    <tr>\n",
       "      <th>4</th>\n",
       "      <td>Afghanistan</td>\n",
       "      <td>Asia</td>\n",
       "      <td>1972</td>\n",
       "      <td>36.088</td>\n",
       "      <td>13079460</td>\n",
       "      <td>739.981106</td>\n",
       "    </tr>\n",
       "    <tr>\n",
       "      <th>...</th>\n",
       "      <td>...</td>\n",
       "      <td>...</td>\n",
       "      <td>...</td>\n",
       "      <td>...</td>\n",
       "      <td>...</td>\n",
       "      <td>...</td>\n",
       "    </tr>\n",
       "    <tr>\n",
       "      <th>1699</th>\n",
       "      <td>Zimbabwe</td>\n",
       "      <td>Africa</td>\n",
       "      <td>1987</td>\n",
       "      <td>62.351</td>\n",
       "      <td>9216418</td>\n",
       "      <td>706.157306</td>\n",
       "    </tr>\n",
       "    <tr>\n",
       "      <th>1700</th>\n",
       "      <td>Zimbabwe</td>\n",
       "      <td>Africa</td>\n",
       "      <td>1992</td>\n",
       "      <td>60.377</td>\n",
       "      <td>10704340</td>\n",
       "      <td>693.420786</td>\n",
       "    </tr>\n",
       "    <tr>\n",
       "      <th>1701</th>\n",
       "      <td>Zimbabwe</td>\n",
       "      <td>Africa</td>\n",
       "      <td>1997</td>\n",
       "      <td>46.809</td>\n",
       "      <td>11404948</td>\n",
       "      <td>792.449960</td>\n",
       "    </tr>\n",
       "    <tr>\n",
       "      <th>1702</th>\n",
       "      <td>Zimbabwe</td>\n",
       "      <td>Africa</td>\n",
       "      <td>2002</td>\n",
       "      <td>39.989</td>\n",
       "      <td>11926563</td>\n",
       "      <td>672.038623</td>\n",
       "    </tr>\n",
       "    <tr>\n",
       "      <th>1703</th>\n",
       "      <td>Zimbabwe</td>\n",
       "      <td>Africa</td>\n",
       "      <td>2007</td>\n",
       "      <td>43.487</td>\n",
       "      <td>12311143</td>\n",
       "      <td>469.709298</td>\n",
       "    </tr>\n",
       "  </tbody>\n",
       "</table>\n",
       "<p>1704 rows × 6 columns</p>\n",
       "</div>"
      ],
      "text/plain": [
       "          country continent  year  lifeExp       pop   gdpPercap\n",
       "0     Afghanistan      Asia  1952   28.801   8425333  779.445314\n",
       "1     Afghanistan      Asia  1957   30.332   9240934  820.853030\n",
       "2     Afghanistan      Asia  1962   31.997  10267083  853.100710\n",
       "3     Afghanistan      Asia  1967   34.020  11537966  836.197138\n",
       "4     Afghanistan      Asia  1972   36.088  13079460  739.981106\n",
       "...           ...       ...   ...      ...       ...         ...\n",
       "1699     Zimbabwe    Africa  1987   62.351   9216418  706.157306\n",
       "1700     Zimbabwe    Africa  1992   60.377  10704340  693.420786\n",
       "1701     Zimbabwe    Africa  1997   46.809  11404948  792.449960\n",
       "1702     Zimbabwe    Africa  2002   39.989  11926563  672.038623\n",
       "1703     Zimbabwe    Africa  2007   43.487  12311143  469.709298\n",
       "\n",
       "[1704 rows x 6 columns]"
      ]
     },
     "execution_count": 20,
     "metadata": {},
     "output_type": "execute_result"
    }
   ],
   "source": [
    "df = pd.read_csv('../data/gapminder.tsv', sep='\\t')\n",
    "df"
   ]
  },
  {
   "cell_type": "code",
   "execution_count": 22,
   "id": "1e4597d1",
   "metadata": {},
   "outputs": [
    {
     "data": {
      "text/plain": [
       "Text(0.5, 1.0, 'Contient and mean lifeExp')"
      ]
     },
     "execution_count": 22,
     "metadata": {},
     "output_type": "execute_result"
    },
    {
     "data": {
      "image/png": "[encoded data removed]",
      "text/plain": [
       "<Figure size 640x480 with 1 Axes>"
      ]
     },
     "metadata": {},
     "output_type": "display_data"
    }
   ],
   "source": [
    "import seaborn as sns\n",
    "tx = sns.boxplot(x='continent', y='lifeExp', data=df)\n",
    "tx.set_title(\"Contient and mean lifeExp\")"
   ]
  },
  {
   "cell_type": "code",
   "execution_count": 27,
   "id": "4f1c664c",
   "metadata": {},
   "outputs": [
    {
     "data": {
      "text/plain": [
       "Text(0.5, 1.0, 'LifeExp & gdpPercap')"
      ]
     },
     "execution_count": 27,
     "metadata": {},
     "output_type": "execute_result"
    },
    {
     "data": {
      "image/png": "[encoded data removed]",
      "text/plain": [
       "<Figure size 640x480 with 1 Axes>"
      ]
     },
     "metadata": {},
     "output_type": "display_data"
    }
   ],
   "source": [
    "ux = sns.regplot(x='lifeExp', y='gdpPercap', data=df)\n",
    "ux.set_title(\"LifeExp & gdpPercap\")"
   ]
  },
  {
   "cell_type": "code",
   "execution_count": 26,
   "id": "12e1b302",
   "metadata": {},
   "outputs": [
    {
     "ename": "AttributeError",
     "evalue": "'FacetGrid' object has no attribute 'add_title'",
     "output_type": "error",
     "traceback": [
      "\u001b[1;31m---------------------------------------------------------------------------\u001b[0m",
      "\u001b[1;31mAttributeError\u001b[0m                            Traceback (most recent call last)",
      "Cell \u001b[1;32mIn[26], line 2\u001b[0m\n\u001b[0;32m      1\u001b[0m cv \u001b[38;5;241m=\u001b[39m sns\u001b[38;5;241m.\u001b[39mlmplot(x\u001b[38;5;241m=\u001b[39m\u001b[38;5;124m'\u001b[39m\u001b[38;5;124mlifeExp\u001b[39m\u001b[38;5;124m'\u001b[39m, y\u001b[38;5;241m=\u001b[39m\u001b[38;5;124m'\u001b[39m\u001b[38;5;124mgdpPercap\u001b[39m\u001b[38;5;124m'\u001b[39m, data\u001b[38;5;241m=\u001b[39mdf)\n\u001b[1;32m----> 2\u001b[0m \u001b[43mcv\u001b[49m\u001b[38;5;241;43m.\u001b[39;49m\u001b[43madd_title\u001b[49m(\u001b[38;5;124m\"\u001b[39m\u001b[38;5;124mlifeExp & GdpPercap\u001b[39m\u001b[38;5;124m\"\u001b[39m)\n",
      "\u001b[1;31mAttributeError\u001b[0m: 'FacetGrid' object has no attribute 'add_title'"
     ]
    },
    {
     "data": {
      "image/png": "[encoded data removed]",
      "text/plain": [
       "<Figure size 500x500 with 1 Axes>"
      ]
     },
     "metadata": {},
     "output_type": "display_data"
    }
   ],
   "source": [
    "cv = sns.lmplot(x='lifeExp', y='gdpPercap', data=df)\n",
    "cv.add_title(\"lifeExp & GdpPercap\")"
   ]
  },
  {
   "cell_type": "code",
   "execution_count": 30,
   "id": "bb9b2ec0",
   "metadata": {},
   "outputs": [
    {
     "data": {
      "text/plain": [
       "Text(0.5, 1.0, 'kdeplot for lifeExp & GDPpERCAP')"
      ]
     },
     "execution_count": 30,
     "metadata": {},
     "output_type": "execute_result"
    },
    {
     "data": {
      "image/png": "[encoded data removed]",
      "text/plain": [
       "<Figure size 640x480 with 1 Axes>"
      ]
     },
     "metadata": {},
     "output_type": "display_data"
    }
   ],
   "source": [
    "yn = sns.kdeplot(x='lifeExp', y='gdpPercap', data=df, fill=True)\n",
    "yn.set_title(\"kdeplot for lifeExp & GDPpERCAP\")"
   ]
  }
 ],
 "metadata": {
  "kernelspec": {
   "display_name": "Python 3 (ipykernel)",
   "language": "python",
   "name": "python3"
  },
  "language_info": {
   "codemirror_mode": {
    "name": "ipython",
    "version": 3
   },
   "file_extension": ".py",
   "mimetype": "text/x-python",
   "name": "python",
   "nbconvert_exporter": "python",
   "pygments_lexer": "ipython3",
   "version": "3.11.4"
  }
 },
 "nbformat": 4,
 "nbformat_minor": 5
}
