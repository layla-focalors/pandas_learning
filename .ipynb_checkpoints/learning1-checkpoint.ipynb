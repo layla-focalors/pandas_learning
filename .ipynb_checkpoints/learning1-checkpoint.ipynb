{
 "cells": [
  {
   "cell_type": "markdown",
   "id": "a7572ff8",
   "metadata": {},
   "source": [
    "### 안녕하세요\n",
    "마크다운을 테스트하는 옵션입니다 "
   ]
  },
  {
   "cell_type": "markdown",
   "id": "41ac533c",
   "metadata": {},
   "source": [
    "i = 9  \n",
    "rv = 9 * i"
   ]
  },
  {
   "cell_type": "markdown",
   "id": "d16b011c",
   "metadata": {},
   "source": [
    "### Chapter 1. 판다스 실습 환경 준비하기\n",
    "1-1   \n",
    "1-1-1  "
   ]
  },
  {
   "cell_type": "code",
   "execution_count": null,
   "id": "89e2f390",
   "metadata": {},
   "outputs": [],
   "source": []
  },
  {
   "cell_type": "markdown",
   "id": "bbb39f02",
   "metadata": {},
   "source": [
    "### hello"
   ]
  },
  {
   "cell_type": "code",
   "execution_count": 4,
   "id": "2c3ffb34",
   "metadata": {},
   "outputs": [
    {
     "data": {
      "text/plain": [
       "729"
      ]
     },
     "execution_count": 4,
     "metadata": {},
     "output_type": "execute_result"
    }
   ],
   "source": []
  }
 ],
 "metadata": {
  "kernelspec": {
   "display_name": "Python 3 (ipykernel)",
   "language": "python",
   "name": "python3"
  },
  "language_info": {
   "codemirror_mode": {
    "name": "ipython",
    "version": 3
   },
   "file_extension": ".py",
   "mimetype": "text/x-python",
   "name": "python",
   "nbconvert_exporter": "python",
   "pygments_lexer": "ipython3",
   "version": "3.11.4"
  }
 },
 "nbformat": 4,
 "nbformat_minor": 5
}
