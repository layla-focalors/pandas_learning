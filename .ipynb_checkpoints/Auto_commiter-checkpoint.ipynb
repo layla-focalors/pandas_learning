{
 "cells": [
  {
   "cell_type": "code",
   "execution_count": 3,
   "id": "937dc7c9",
   "metadata": {},
   "outputs": [
    {
     "data": {
      "text/plain": [
       "['.git',\n",
       " '.gitignore',\n",
       " '.ipynb_checkpoints',\n",
       " '01 Anscombe test',\n",
       " 'Auto_commiter.ipynb',\n",
       " 'ChaperEX',\n",
       " 'Chapter1',\n",
       " 'Chapter2',\n",
       " 'Chapter3',\n",
       " 'Chapter4',\n",
       " 'Chapter5',\n",
       " 'Chapter6 - Preprocessing',\n",
       " 'Chapter7',\n",
       " 'ChapterADDPES - 예상문제 query',\n",
       " 'data',\n",
       " 'Experments-B-PRCS',\n",
       " 'html_store',\n",
       " 'MD_store',\n",
       " 'Mx_study',\n",
       " 'pdf_store',\n",
       " 'Ptest-1N19',\n",
       " 'Ptest-A',\n",
       " 'readme.md',\n",
       " 'Review',\n",
       " 'untitled.txt']"
      ]
     },
     "execution_count": 3,
     "metadata": {},
     "output_type": "execute_result"
    }
   ],
   "source": [
    "import os\n",
    "os.chdir('./')\n",
    "os.listdir()"
   ]
  },
  {
   "cell_type": "code",
   "execution_count": null,
   "id": "73b185cd",
   "metadata": {},
   "outputs": [
    {
     "name": "stdout",
     "output_type": "stream",
     "text": [
      "git commit -m \"commit-11392\"\n",
      "git commit -m \"commit-11392\"\n",
      "git commit -m \"commit-11392\"\n"
     ]
    }
   ],
   "source": [
    "import os\n",
    "import datetime\n",
    "import time\n",
    "os.chdir('./')\n",
    "dt = str(datetime.datetime.now())\n",
    "# print(dt[21:27])\n",
    "\n",
    "for i in range(1, 10000, 1):\n",
    "    time.sleep(10)\n",
    "    commit = 'git commit -m \"commit-timeline\"'\n",
    "    commit = commit.replace(\"timeline\", dt[21:27])\n",
    "    print(commit)\n",
    "    # os.getcwd()\n",
    "    os.chdir(os.getcwd())\n",
    "    os.system('git add .')\n",
    "    os.system(commit)\n",
    "    os.system('git push -u origin main')"
   ]
  }
 ],
 "metadata": {
  "kernelspec": {
   "display_name": "Python 3 (ipykernel)",
   "language": "python",
   "name": "python3"
  },
  "language_info": {
   "codemirror_mode": {
    "name": "ipython",
    "version": 3
   },
   "file_extension": ".py",
   "mimetype": "text/x-python",
   "name": "python",
   "nbconvert_exporter": "python",
   "pygments_lexer": "ipython3",
   "version": "3.11.4"
  }
 },
 "nbformat": 4,
 "nbformat_minor": 5
}
