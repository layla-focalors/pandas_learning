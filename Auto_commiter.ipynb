{
 "cells": [
  {
   "cell_type": "code",
   "execution_count": 3,
   "id": "aa9a9fde",
   "metadata": {},
   "outputs": [
    {
     "data": {
      "text/plain": [
       "['.git',\n",
       " '.gitignore',\n",
       " '.ipynb_checkpoints',\n",
       " '01 Anscombe test',\n",
       " 'Auto_commiter.ipynb',\n",
       " 'ChaperEX',\n",
       " 'Chapter1',\n",
       " 'Chapter2',\n",
       " 'Chapter3',\n",
       " 'Chapter4',\n",
       " 'Chapter5',\n",
       " 'Chapter6 - Preprocessing',\n",
       " 'Chapter7',\n",
       " 'ChapterADDPES - 예상문제 query',\n",
       " 'data',\n",
       " 'Experments-B-PRCS',\n",
       " 'html_store',\n",
       " 'MD_store',\n",
       " 'Mx_study',\n",
       " 'pdf_store',\n",
       " 'Ptest-1N19',\n",
       " 'Ptest-A',\n",
       " 'readme.md',\n",
       " 'Review',\n",
       " 'untitled.txt']"
      ]
     },
     "execution_count": 3,
     "metadata": {},
     "output_type": "execute_result"
    }
   ],
   "source": [
    "import os\n",
    "os.chdir('./')\n",
    "os.listdir()"
   ]
  },
  {
   "cell_type": "code",
   "execution_count": 4,
   "id": "72c9a551",
   "metadata": {},
   "outputs": [
    {
     "name": "stdout",
     "output_type": "stream",
     "text": [
      "git commit -m \"commit-11392\"\n",
      "git commit -m \"commit-11392\"\n",
      "git commit -m \"commit-11392\"\n"
     ]
    },
    {
     "ename": "KeyboardInterrupt",
     "evalue": "",
     "output_type": "error",
     "traceback": [
      "\u001b[1;31m---------------------------------------------------------------------------\u001b[0m",
      "\u001b[1;31mKeyboardInterrupt\u001b[0m                         Traceback (most recent call last)",
      "Cell \u001b[1;32mIn[4], line 9\u001b[0m\n\u001b[0;32m      6\u001b[0m \u001b[38;5;66;03m# print(dt[21:27])\u001b[39;00m\n\u001b[0;32m      8\u001b[0m \u001b[38;5;28;01mfor\u001b[39;00m i \u001b[38;5;129;01min\u001b[39;00m \u001b[38;5;28mrange\u001b[39m(\u001b[38;5;241m1\u001b[39m, \u001b[38;5;241m10000\u001b[39m, \u001b[38;5;241m1\u001b[39m):\n\u001b[1;32m----> 9\u001b[0m     \u001b[43mtime\u001b[49m\u001b[38;5;241;43m.\u001b[39;49m\u001b[43msleep\u001b[49m\u001b[43m(\u001b[49m\u001b[38;5;241;43m10\u001b[39;49m\u001b[43m)\u001b[49m\n\u001b[0;32m     10\u001b[0m     commit \u001b[38;5;241m=\u001b[39m \u001b[38;5;124m'\u001b[39m\u001b[38;5;124mgit commit -m \u001b[39m\u001b[38;5;124m\"\u001b[39m\u001b[38;5;124mcommit-timeline\u001b[39m\u001b[38;5;124m\"\u001b[39m\u001b[38;5;124m'\u001b[39m\n\u001b[0;32m     11\u001b[0m     commit \u001b[38;5;241m=\u001b[39m commit\u001b[38;5;241m.\u001b[39mreplace(\u001b[38;5;124m\"\u001b[39m\u001b[38;5;124mtimeline\u001b[39m\u001b[38;5;124m\"\u001b[39m, dt[\u001b[38;5;241m21\u001b[39m:\u001b[38;5;241m27\u001b[39m])\n",
      "\u001b[1;31mKeyboardInterrupt\u001b[0m: "
     ]
    }
   ],
   "source": [
    "import os\n",
    "import datetime\n",
    "import time\n",
    "os.chdir('./')\n",
    "dt = str(datetime.datetime.now())\n",
    "# print(dt[21:27])\n",
    "\n",
    "for i in range(1, 10000, 1):\n",
    "    time.sleep(10)\n",
    "    commit = 'git commit -m \"commit-timeline\"'\n",
    "    commit = commit.replace(\"timeline\", dt[21:27])\n",
    "    print(commit)\n",
    "    # os.getcwd()\n",
    "    os.chdir(os.getcwd())\n",
    "    os.system('git add .')\n",
    "    os.system(commit)\n",
    "    os.system('git push -u origin main')"
   ]
  }
 ],
 "metadata": {
  "kernelspec": {
   "display_name": "Python 3 (ipykernel)",
   "language": "python",
   "name": "python3"
  },
  "language_info": {
   "codemirror_mode": {
    "name": "ipython",
    "version": 3
   },
   "file_extension": ".py",
   "mimetype": "text/x-python",
   "name": "python",
   "nbconvert_exporter": "python",
   "pygments_lexer": "ipython3",
   "version": "3.11.4"
  }
 },
 "nbformat": 4,
 "nbformat_minor": 5
}
